{
 "cells": [
  {
   "cell_type": "markdown",
   "metadata": {
    "toc": true
   },
   "source": [
    "<h1>Содержание<span class=\"tocSkip\"></span></h1>\n",
    "<div class=\"toc\"><ul class=\"toc-item\"><li><span><a href=\"#Подготовка-данных\" data-toc-modified-id=\"Подготовка-данных-1\"><span class=\"toc-item-num\">1&nbsp;&nbsp;</span>Подготовка данных</a></span><ul class=\"toc-item\"><li><span><a href=\"#Откройте-файлы-и-изучите-их\" data-toc-modified-id=\"Откройте-файлы-и-изучите-их-1.1\"><span class=\"toc-item-num\">1.1&nbsp;&nbsp;</span>Откройте файлы и изучите их</a></span></li><li><span><a href=\"#Проверьте,-что-эффективность-обогащения-рассчитана-правильно\" data-toc-modified-id=\"Проверьте,-что-эффективность-обогащения-рассчитана-правильно-1.2\"><span class=\"toc-item-num\">1.2&nbsp;&nbsp;</span>Проверьте, что эффективность обогащения рассчитана правильно</a></span></li><li><span><a href=\"#Проанализируйте-признаки,-недоступные-в-тестовой-выборке\" data-toc-modified-id=\"Проанализируйте-признаки,-недоступные-в-тестовой-выборке-1.3\"><span class=\"toc-item-num\">1.3&nbsp;&nbsp;</span>Проанализируйте признаки, недоступные в тестовой выборке</a></span></li><li><span><a href=\"#Проведите-предобработку-данных.\" data-toc-modified-id=\"Проведите-предобработку-данных.-1.4\"><span class=\"toc-item-num\">1.4&nbsp;&nbsp;</span>Проведите предобработку данных.</a></span></li></ul></li><li><span><a href=\"#Анализ-данных\" data-toc-modified-id=\"Анализ-данных-2\"><span class=\"toc-item-num\">2&nbsp;&nbsp;</span>Анализ данных</a></span><ul class=\"toc-item\"><li><span><a href=\"#Посмотрите,-как-меняется-концентрация-металлов-(Au,-Ag,-Pb)-на-различных-этапах\" data-toc-modified-id=\"Посмотрите,-как-меняется-концентрация-металлов-(Au,-Ag,-Pb)-на-различных-этапах-2.1\"><span class=\"toc-item-num\">2.1&nbsp;&nbsp;</span>Посмотрите, как меняется концентрация металлов (Au, Ag, Pb) на различных этапах</a></span></li><li><span><a href=\"#Сравните-распределения-размеров-гранул-исходного-сырья-на-обучающей-и-тестовой-выборках\" data-toc-modified-id=\"Сравните-распределения-размеров-гранул-исходного-сырья-на-обучающей-и-тестовой-выборках-2.2\"><span class=\"toc-item-num\">2.2&nbsp;&nbsp;</span>Сравните распределения размеров гранул исходного сырья на обучающей и тестовой выборках</a></span></li><li><span><a href=\"#Исследуйте-суммарную-концентрацию-металлов-на-разных-стадиях\" data-toc-modified-id=\"Исследуйте-суммарную-концентрацию-металлов-на-разных-стадиях-2.3\"><span class=\"toc-item-num\">2.3&nbsp;&nbsp;</span>Исследуйте суммарную концентрацию металлов на разных стадиях</a></span></li></ul></li><li><span><a href=\"#Модель\" data-toc-modified-id=\"Модель-3\"><span class=\"toc-item-num\">3&nbsp;&nbsp;</span>Модель</a></span><ul class=\"toc-item\"><li><span><a href=\"#Напишите-функцию-для-вычисления-итоговой-sMAPE\" data-toc-modified-id=\"Напишите-функцию-для-вычисления-итоговой-sMAPE-3.1\"><span class=\"toc-item-num\">3.1&nbsp;&nbsp;</span>Напишите функцию для вычисления итоговой sMAPE</a></span></li><li><span><a href=\"#Обучите-разные-модели-и-оцените-их-качество-кросс-валидацией.-Выберите-лучшую-модель-и-проверьте-её-на-тестовой-выборке.\" data-toc-modified-id=\"Обучите-разные-модели-и-оцените-их-качество-кросс-валидацией.-Выберите-лучшую-модель-и-проверьте-её-на-тестовой-выборке.-3.2\"><span class=\"toc-item-num\">3.2&nbsp;&nbsp;</span>Обучите разные модели и оцените их качество кросс-валидацией. Выберите лучшую модель и проверьте её на тестовой выборке.</a></span></li><li><span><a href=\"#Финальная-шибка-на-тестовой-выборке\" data-toc-modified-id=\"Финальная-шибка-на-тестовой-выборке-3.3\"><span class=\"toc-item-num\">3.3&nbsp;&nbsp;</span>Финальная шибка на тестовой выборке</a></span></li><li><span><a href=\"#Сравнение-с-константной-моделью-на-тестовой-выборке\" data-toc-modified-id=\"Сравнение-с-константной-моделью-на-тестовой-выборке-3.4\"><span class=\"toc-item-num\">3.4&nbsp;&nbsp;</span>Сравнение с константной моделью на тестовой выборке</a></span></li></ul></li><li><span><a href=\"#Вывод\" data-toc-modified-id=\"Вывод-4\"><span class=\"toc-item-num\">4&nbsp;&nbsp;</span>Вывод</a></span></li></ul></div>"
   ]
  },
  {
   "cell_type": "markdown",
   "metadata": {},
   "source": [
    "# Восстановление золота из руды"
   ]
  },
  {
   "cell_type": "markdown",
   "metadata": {},
   "source": [
    "Подготовьте прототип модели машинного обучения для «Цифры». Компания разрабатывает решения для эффективной работы промышленных предприятий.\n",
    "\n",
    "Модель должна предсказать коэффициент восстановления золота из золотосодержащей руды. Используйте данные с параметрами добычи и очистки. \n",
    "\n",
    "Модель поможет оптимизировать производство, чтобы не запускать предприятие с убыточными характеристиками.\n",
    "\n",
    "Вам нужно:\n",
    "\n",
    "1. Подготовить данные;\n",
    "2. Провести исследовательский анализ данных;\n",
    "3. Построить и обучить модель.\n",
    "\n",
    "Чтобы выполнить проект, обращайтесь к библиотекам *pandas*, *matplotlib* и *sklearn.* Вам поможет их документация.\n",
    "\n",
    "Технологический процесс\n",
    "\n",
    "Rougher feed — исходное сырье\n",
    "\n",
    "Rougher additions (или reagent additions) — флотационные реагенты: Xanthate, Sulphate, Depressant\n",
    "\n",
    "Xanthate — ксантогенат (промотер, или активатор флотации);\n",
    "\n",
    "Sulphate — сульфат (на данном производстве сульфид натрия);\n",
    "\n",
    "Depressant — депрессант (силикат натрия).\n",
    "\n",
    "Rougher process (англ. «грубый процесс») — флотация\n",
    "\n",
    "Rougher tails — отвальные хвосты\n",
    "\n",
    "Float banks — флотационная установка\n",
    "\n",
    "Cleaner process — очистка\n",
    "\n",
    "Rougher Au — черновой концентрат золота\n",
    "\n",
    "Final Au — финальный концентрат золота\n",
    "\n",
    "Параметры этапов\n",
    "\n",
    "air amount — объём воздуха\n",
    "\n",
    "fluid levels — уровень жидкости\n",
    "\n",
    "feed size — размер гранул сырья\n",
    "\n",
    "feed rate — скорость подачи\n",
    "\n",
    "Наименование признаков\n",
    "\n",
    "Наименование признаков должно быть такое:\n",
    "\n",
    "[этап].[тип_параметра].[название_параметра]\n",
    "\n",
    "Пример: rougher.input.feed_ag\n",
    "\n",
    "Возможные значения для блока [этап]:\n",
    "\n",
    "rougher — флотация\n",
    "\n",
    "primary_cleaner — первичная очистка\n",
    "\n",
    "secondary_cleaner — вторичная очистка\n",
    "\n",
    "final — финальные характеристики\n",
    "\n",
    "Возможные значения для блока [тип_параметра]:\n",
    "\n",
    "input — параметры сырья\n",
    "\n",
    "output — параметры продукта\n",
    "\n",
    "state — параметры, характеризующие текущее состояние этапа\n",
    "\n",
    "calculation — расчётные характеристики"
   ]
  },
  {
   "cell_type": "markdown",
   "metadata": {},
   "source": [
    "## Подготовка данных"
   ]
  },
  {
   "cell_type": "code",
   "execution_count": 1,
   "metadata": {},
   "outputs": [],
   "source": [
    "import pandas as pd\n",
    "import matplotlib.pyplot as plt\n",
    "import seaborn as sns\n",
    "import scipy.stats as stats\n",
    "from sklearn.pipeline import Pipeline\n",
    "from sklearn.preprocessing import MinMaxScaler\n",
    "from sklearn.ensemble import RandomForestRegressor\n",
    "from sklearn.tree import DecisionTreeRegressor\n",
    "from sklearn.linear_model import Lasso, ElasticNet\n",
    "from sklearn.model_selection import GridSearchCV\n",
    "from sklearn.metrics import make_scorer\n",
    "from sklearn.preprocessing import StandardScaler\n",
    "import numpy as np\n",
    "from sklearn.dummy import DummyRegressor"
   ]
  },
  {
   "cell_type": "markdown",
   "metadata": {},
   "source": [
    "### Откройте файлы и изучите их"
   ]
  },
  {
   "cell_type": "code",
   "execution_count": 2,
   "metadata": {},
   "outputs": [],
   "source": [
    "train_data = pd.read_csv('/datasets/gold_industry_train.csv')\n",
    "test_data = pd.read_csv('/datasets/gold_industry_test.csv')\n",
    "full_data = pd.read_csv('/datasets/gold_industry_full.csv')"
   ]
  },
  {
   "cell_type": "code",
   "execution_count": 3,
   "metadata": {
    "scrolled": true
   },
   "outputs": [
    {
     "name": "stdout",
     "output_type": "stream",
     "text": [
      "<class 'pandas.core.frame.DataFrame'>\n",
      "RangeIndex: 14579 entries, 0 to 14578\n",
      "Data columns (total 87 columns):\n",
      " #   Column                                              Non-Null Count  Dtype  \n",
      "---  ------                                              --------------  -----  \n",
      " 0   date                                                14579 non-null  object \n",
      " 1   rougher.input.feed_au                               14579 non-null  float64\n",
      " 2   rougher.input.feed_ag                               14579 non-null  float64\n",
      " 3   rougher.input.feed_pb                               14507 non-null  float64\n",
      " 4   rougher.input.feed_sol                              14502 non-null  float64\n",
      " 5   rougher.input.feed_rate                             14572 non-null  float64\n",
      " 6   rougher.input.feed_size                             14478 non-null  float64\n",
      " 7   rougher.input.floatbank10_sulfate                   14548 non-null  float64\n",
      " 8   rougher.input.floatbank10_xanthate                  14572 non-null  float64\n",
      " 9   rougher.state.floatbank10_a_air                     14579 non-null  float64\n",
      " 10  rougher.state.floatbank10_a_level                   14579 non-null  float64\n",
      " 11  rougher.state.floatbank10_b_air                     14579 non-null  float64\n",
      " 12  rougher.state.floatbank10_b_level                   14579 non-null  float64\n",
      " 13  rougher.state.floatbank10_c_air                     14579 non-null  float64\n",
      " 14  rougher.state.floatbank10_c_level                   14579 non-null  float64\n",
      " 15  rougher.state.floatbank10_d_air                     14579 non-null  float64\n",
      " 16  rougher.state.floatbank10_d_level                   14579 non-null  float64\n",
      " 17  rougher.state.floatbank10_e_air                     14150 non-null  float64\n",
      " 18  rougher.state.floatbank10_e_level                   14579 non-null  float64\n",
      " 19  rougher.state.floatbank10_f_air                     14579 non-null  float64\n",
      " 20  rougher.state.floatbank10_f_level                   14579 non-null  float64\n",
      " 21  rougher.input.floatbank11_sulfate                   14543 non-null  float64\n",
      " 22  rougher.input.floatbank11_xanthate                  14172 non-null  float64\n",
      " 23  rougher.calculation.sulfate_to_au_concentrate       14578 non-null  float64\n",
      " 24  rougher.calculation.floatbank10_sulfate_to_au_feed  14578 non-null  float64\n",
      " 25  rougher.calculation.floatbank11_sulfate_to_au_feed  14578 non-null  float64\n",
      " 26  rougher.calculation.au_pb_ratio                     14579 non-null  float64\n",
      " 27  rougher.output.concentrate_au                       14579 non-null  float64\n",
      " 28  rougher.output.concentrate_ag                       14579 non-null  float64\n",
      " 29  rougher.output.concentrate_pb                       14579 non-null  float64\n",
      " 30  rougher.output.concentrate_sol                      14561 non-null  float64\n",
      " 31  rougher.output.recovery                             14579 non-null  float64\n",
      " 32  rougher.output.tail_au                              14579 non-null  float64\n",
      " 33  rougher.output.tail_ag                              14578 non-null  float64\n",
      " 34  rougher.output.tail_pb                              14579 non-null  float64\n",
      " 35  rougher.output.tail_sol                             14579 non-null  float64\n",
      " 36  primary_cleaner.input.sulfate                       14556 non-null  float64\n",
      " 37  primary_cleaner.input.depressant                    14551 non-null  float64\n",
      " 38  primary_cleaner.input.feed_size                     14579 non-null  float64\n",
      " 39  primary_cleaner.input.xanthate                      14518 non-null  float64\n",
      " 40  primary_cleaner.state.floatbank8_a_air              14576 non-null  float64\n",
      " 41  primary_cleaner.state.floatbank8_a_level            14579 non-null  float64\n",
      " 42  primary_cleaner.state.floatbank8_b_air              14576 non-null  float64\n",
      " 43  primary_cleaner.state.floatbank8_b_level            14579 non-null  float64\n",
      " 44  primary_cleaner.state.floatbank8_c_air              14579 non-null  float64\n",
      " 45  primary_cleaner.state.floatbank8_c_level            14579 non-null  float64\n",
      " 46  primary_cleaner.state.floatbank8_d_air              14578 non-null  float64\n",
      " 47  primary_cleaner.state.floatbank8_d_level            14579 non-null  float64\n",
      " 48  primary_cleaner.output.concentrate_au               14579 non-null  float64\n",
      " 49  primary_cleaner.output.concentrate_ag               14579 non-null  float64\n",
      " 50  primary_cleaner.output.concentrate_pb               14491 non-null  float64\n",
      " 51  primary_cleaner.output.concentrate_sol              14314 non-null  float64\n",
      " 52  primary_cleaner.output.tail_au                      14579 non-null  float64\n",
      " 53  primary_cleaner.output.tail_ag                      14575 non-null  float64\n",
      " 54  primary_cleaner.output.tail_pb                      14573 non-null  float64\n",
      " 55  primary_cleaner.output.tail_sol                     14534 non-null  float64\n",
      " 56  secondary_cleaner.state.floatbank2_a_air            14485 non-null  float64\n",
      " 57  secondary_cleaner.state.floatbank2_a_level          14579 non-null  float64\n",
      " 58  secondary_cleaner.state.floatbank2_b_air            14557 non-null  float64\n",
      " 59  secondary_cleaner.state.floatbank2_b_level          14579 non-null  float64\n",
      " 60  secondary_cleaner.state.floatbank3_a_air            14567 non-null  float64\n",
      " 61  secondary_cleaner.state.floatbank3_a_level          14579 non-null  float64\n",
      " 62  secondary_cleaner.state.floatbank3_b_air            14579 non-null  float64\n",
      " 63  secondary_cleaner.state.floatbank3_b_level          14579 non-null  float64\n",
      " 64  secondary_cleaner.state.floatbank4_a_air            14574 non-null  float64\n",
      " 65  secondary_cleaner.state.floatbank4_a_level          14579 non-null  float64\n",
      " 66  secondary_cleaner.state.floatbank4_b_air            14579 non-null  float64\n",
      " 67  secondary_cleaner.state.floatbank4_b_level          14579 non-null  float64\n",
      " 68  secondary_cleaner.state.floatbank5_a_air            14579 non-null  float64\n",
      " 69  secondary_cleaner.state.floatbank5_a_level          14579 non-null  float64\n",
      " 70  secondary_cleaner.state.floatbank5_b_air            14579 non-null  float64\n",
      " 71  secondary_cleaner.state.floatbank5_b_level          14579 non-null  float64\n",
      " 72  secondary_cleaner.state.floatbank6_a_air            14578 non-null  float64\n",
      " 73  secondary_cleaner.state.floatbank6_a_level          14579 non-null  float64\n",
      " 74  secondary_cleaner.output.tail_au                    14579 non-null  float64\n",
      " 75  secondary_cleaner.output.tail_ag                    14578 non-null  float64\n",
      " 76  secondary_cleaner.output.tail_pb                    14575 non-null  float64\n",
      " 77  secondary_cleaner.output.tail_sol                   13659 non-null  float64\n",
      " 78  final.output.concentrate_au                         14579 non-null  float64\n",
      " 79  final.output.concentrate_ag                         14578 non-null  float64\n",
      " 80  final.output.concentrate_pb                         14578 non-null  float64\n",
      " 81  final.output.concentrate_sol                        14387 non-null  float64\n",
      " 82  final.output.recovery                               14579 non-null  float64\n",
      " 83  final.output.tail_au                                14579 non-null  float64\n",
      " 84  final.output.tail_ag                                14578 non-null  float64\n",
      " 85  final.output.tail_pb                                14504 non-null  float64\n",
      " 86  final.output.tail_sol                               14574 non-null  float64\n",
      "dtypes: float64(86), object(1)\n",
      "memory usage: 9.7+ MB\n",
      "None\n"
     ]
    }
   ],
   "source": [
    "print(train_data.info())"
   ]
  },
  {
   "cell_type": "code",
   "execution_count": 4,
   "metadata": {},
   "outputs": [
    {
     "name": "stdout",
     "output_type": "stream",
     "text": [
      "<class 'pandas.core.frame.DataFrame'>\n",
      "RangeIndex: 4860 entries, 0 to 4859\n",
      "Data columns (total 53 columns):\n",
      " #   Column                                      Non-Null Count  Dtype  \n",
      "---  ------                                      --------------  -----  \n",
      " 0   date                                        4860 non-null   object \n",
      " 1   rougher.input.feed_au                       4860 non-null   float64\n",
      " 2   rougher.input.feed_ag                       4860 non-null   float64\n",
      " 3   rougher.input.feed_pb                       4832 non-null   float64\n",
      " 4   rougher.input.feed_sol                      4838 non-null   float64\n",
      " 5   rougher.input.feed_rate                     4856 non-null   float64\n",
      " 6   rougher.input.feed_size                     4816 non-null   float64\n",
      " 7   rougher.input.floatbank10_sulfate           4857 non-null   float64\n",
      " 8   rougher.input.floatbank10_xanthate          4859 non-null   float64\n",
      " 9   rougher.state.floatbank10_a_air             4859 non-null   float64\n",
      " 10  rougher.state.floatbank10_a_level           4859 non-null   float64\n",
      " 11  rougher.state.floatbank10_b_air             4859 non-null   float64\n",
      " 12  rougher.state.floatbank10_b_level           4859 non-null   float64\n",
      " 13  rougher.state.floatbank10_c_air             4859 non-null   float64\n",
      " 14  rougher.state.floatbank10_c_level           4859 non-null   float64\n",
      " 15  rougher.state.floatbank10_d_air             4860 non-null   float64\n",
      " 16  rougher.state.floatbank10_d_level           4860 non-null   float64\n",
      " 17  rougher.state.floatbank10_e_air             4853 non-null   float64\n",
      " 18  rougher.state.floatbank10_e_level           4860 non-null   float64\n",
      " 19  rougher.state.floatbank10_f_air             4860 non-null   float64\n",
      " 20  rougher.state.floatbank10_f_level           4860 non-null   float64\n",
      " 21  rougher.input.floatbank11_sulfate           4852 non-null   float64\n",
      " 22  rougher.input.floatbank11_xanthate          4814 non-null   float64\n",
      " 23  primary_cleaner.input.sulfate               4859 non-null   float64\n",
      " 24  primary_cleaner.input.depressant            4851 non-null   float64\n",
      " 25  primary_cleaner.input.feed_size             4860 non-null   float64\n",
      " 26  primary_cleaner.input.xanthate              4817 non-null   float64\n",
      " 27  primary_cleaner.state.floatbank8_a_air      4859 non-null   float64\n",
      " 28  primary_cleaner.state.floatbank8_a_level    4859 non-null   float64\n",
      " 29  primary_cleaner.state.floatbank8_b_air      4859 non-null   float64\n",
      " 30  primary_cleaner.state.floatbank8_b_level    4859 non-null   float64\n",
      " 31  primary_cleaner.state.floatbank8_c_air      4858 non-null   float64\n",
      " 32  primary_cleaner.state.floatbank8_c_level    4859 non-null   float64\n",
      " 33  primary_cleaner.state.floatbank8_d_air      4858 non-null   float64\n",
      " 34  primary_cleaner.state.floatbank8_d_level    4859 non-null   float64\n",
      " 35  secondary_cleaner.state.floatbank2_a_air    4734 non-null   float64\n",
      " 36  secondary_cleaner.state.floatbank2_a_level  4859 non-null   float64\n",
      " 37  secondary_cleaner.state.floatbank2_b_air    4859 non-null   float64\n",
      " 38  secondary_cleaner.state.floatbank2_b_level  4859 non-null   float64\n",
      " 39  secondary_cleaner.state.floatbank3_a_air    4859 non-null   float64\n",
      " 40  secondary_cleaner.state.floatbank3_a_level  4859 non-null   float64\n",
      " 41  secondary_cleaner.state.floatbank3_b_air    4859 non-null   float64\n",
      " 42  secondary_cleaner.state.floatbank3_b_level  4859 non-null   float64\n",
      " 43  secondary_cleaner.state.floatbank4_a_air    4859 non-null   float64\n",
      " 44  secondary_cleaner.state.floatbank4_a_level  4859 non-null   float64\n",
      " 45  secondary_cleaner.state.floatbank4_b_air    4859 non-null   float64\n",
      " 46  secondary_cleaner.state.floatbank4_b_level  4859 non-null   float64\n",
      " 47  secondary_cleaner.state.floatbank5_a_air    4859 non-null   float64\n",
      " 48  secondary_cleaner.state.floatbank5_a_level  4859 non-null   float64\n",
      " 49  secondary_cleaner.state.floatbank5_b_air    4859 non-null   float64\n",
      " 50  secondary_cleaner.state.floatbank5_b_level  4859 non-null   float64\n",
      " 51  secondary_cleaner.state.floatbank6_a_air    4859 non-null   float64\n",
      " 52  secondary_cleaner.state.floatbank6_a_level  4859 non-null   float64\n",
      "dtypes: float64(52), object(1)\n",
      "memory usage: 2.0+ MB\n",
      "None\n"
     ]
    }
   ],
   "source": [
    "print(test_data.info())"
   ]
  },
  {
   "cell_type": "code",
   "execution_count": 5,
   "metadata": {
    "scrolled": true
   },
   "outputs": [
    {
     "name": "stdout",
     "output_type": "stream",
     "text": [
      "<class 'pandas.core.frame.DataFrame'>\n",
      "RangeIndex: 19439 entries, 0 to 19438\n",
      "Data columns (total 87 columns):\n",
      " #   Column                                              Non-Null Count  Dtype  \n",
      "---  ------                                              --------------  -----  \n",
      " 0   date                                                19439 non-null  object \n",
      " 1   rougher.input.feed_au                               19439 non-null  float64\n",
      " 2   rougher.input.feed_ag                               19439 non-null  float64\n",
      " 3   rougher.input.feed_pb                               19339 non-null  float64\n",
      " 4   rougher.input.feed_sol                              19340 non-null  float64\n",
      " 5   rougher.input.feed_rate                             19428 non-null  float64\n",
      " 6   rougher.input.feed_size                             19294 non-null  float64\n",
      " 7   rougher.input.floatbank10_sulfate                   19405 non-null  float64\n",
      " 8   rougher.input.floatbank10_xanthate                  19431 non-null  float64\n",
      " 9   rougher.state.floatbank10_a_air                     19438 non-null  float64\n",
      " 10  rougher.state.floatbank10_a_level                   19438 non-null  float64\n",
      " 11  rougher.state.floatbank10_b_air                     19438 non-null  float64\n",
      " 12  rougher.state.floatbank10_b_level                   19438 non-null  float64\n",
      " 13  rougher.state.floatbank10_c_air                     19438 non-null  float64\n",
      " 14  rougher.state.floatbank10_c_level                   19438 non-null  float64\n",
      " 15  rougher.state.floatbank10_d_air                     19439 non-null  float64\n",
      " 16  rougher.state.floatbank10_d_level                   19439 non-null  float64\n",
      " 17  rougher.state.floatbank10_e_air                     19003 non-null  float64\n",
      " 18  rougher.state.floatbank10_e_level                   19439 non-null  float64\n",
      " 19  rougher.state.floatbank10_f_air                     19439 non-null  float64\n",
      " 20  rougher.state.floatbank10_f_level                   19439 non-null  float64\n",
      " 21  rougher.input.floatbank11_sulfate                   19395 non-null  float64\n",
      " 22  rougher.input.floatbank11_xanthate                  18986 non-null  float64\n",
      " 23  rougher.calculation.sulfate_to_au_concentrate       19437 non-null  float64\n",
      " 24  rougher.calculation.floatbank10_sulfate_to_au_feed  19437 non-null  float64\n",
      " 25  rougher.calculation.floatbank11_sulfate_to_au_feed  19437 non-null  float64\n",
      " 26  rougher.calculation.au_pb_ratio                     19439 non-null  float64\n",
      " 27  rougher.output.concentrate_au                       19439 non-null  float64\n",
      " 28  rougher.output.concentrate_ag                       19439 non-null  float64\n",
      " 29  rougher.output.concentrate_pb                       19439 non-null  float64\n",
      " 30  rougher.output.concentrate_sol                      19416 non-null  float64\n",
      " 31  rougher.output.recovery                             19439 non-null  float64\n",
      " 32  rougher.output.tail_au                              19439 non-null  float64\n",
      " 33  rougher.output.tail_ag                              19438 non-null  float64\n",
      " 34  rougher.output.tail_pb                              19439 non-null  float64\n",
      " 35  rougher.output.tail_sol                             19439 non-null  float64\n",
      " 36  primary_cleaner.input.sulfate                       19415 non-null  float64\n",
      " 37  primary_cleaner.input.depressant                    19402 non-null  float64\n",
      " 38  primary_cleaner.input.feed_size                     19439 non-null  float64\n",
      " 39  primary_cleaner.input.xanthate                      19335 non-null  float64\n",
      " 40  primary_cleaner.state.floatbank8_a_air              19435 non-null  float64\n",
      " 41  primary_cleaner.state.floatbank8_a_level            19438 non-null  float64\n",
      " 42  primary_cleaner.state.floatbank8_b_air              19435 non-null  float64\n",
      " 43  primary_cleaner.state.floatbank8_b_level            19438 non-null  float64\n",
      " 44  primary_cleaner.state.floatbank8_c_air              19437 non-null  float64\n",
      " 45  primary_cleaner.state.floatbank8_c_level            19438 non-null  float64\n",
      " 46  primary_cleaner.state.floatbank8_d_air              19436 non-null  float64\n",
      " 47  primary_cleaner.state.floatbank8_d_level            19438 non-null  float64\n",
      " 48  primary_cleaner.output.concentrate_au               19439 non-null  float64\n",
      " 49  primary_cleaner.output.concentrate_ag               19439 non-null  float64\n",
      " 50  primary_cleaner.output.concentrate_pb               19323 non-null  float64\n",
      " 51  primary_cleaner.output.concentrate_sol              19069 non-null  float64\n",
      " 52  primary_cleaner.output.tail_au                      19439 non-null  float64\n",
      " 53  primary_cleaner.output.tail_ag                      19435 non-null  float64\n",
      " 54  primary_cleaner.output.tail_pb                      19418 non-null  float64\n",
      " 55  primary_cleaner.output.tail_sol                     19377 non-null  float64\n",
      " 56  secondary_cleaner.state.floatbank2_a_air            19219 non-null  float64\n",
      " 57  secondary_cleaner.state.floatbank2_a_level          19438 non-null  float64\n",
      " 58  secondary_cleaner.state.floatbank2_b_air            19416 non-null  float64\n",
      " 59  secondary_cleaner.state.floatbank2_b_level          19438 non-null  float64\n",
      " 60  secondary_cleaner.state.floatbank3_a_air            19426 non-null  float64\n",
      " 61  secondary_cleaner.state.floatbank3_a_level          19438 non-null  float64\n",
      " 62  secondary_cleaner.state.floatbank3_b_air            19438 non-null  float64\n",
      " 63  secondary_cleaner.state.floatbank3_b_level          19438 non-null  float64\n",
      " 64  secondary_cleaner.state.floatbank4_a_air            19433 non-null  float64\n",
      " 65  secondary_cleaner.state.floatbank4_a_level          19438 non-null  float64\n",
      " 66  secondary_cleaner.state.floatbank4_b_air            19438 non-null  float64\n",
      " 67  secondary_cleaner.state.floatbank4_b_level          19438 non-null  float64\n",
      " 68  secondary_cleaner.state.floatbank5_a_air            19438 non-null  float64\n",
      " 69  secondary_cleaner.state.floatbank5_a_level          19438 non-null  float64\n",
      " 70  secondary_cleaner.state.floatbank5_b_air            19438 non-null  float64\n",
      " 71  secondary_cleaner.state.floatbank5_b_level          19438 non-null  float64\n",
      " 72  secondary_cleaner.state.floatbank6_a_air            19437 non-null  float64\n",
      " 73  secondary_cleaner.state.floatbank6_a_level          19438 non-null  float64\n",
      " 74  secondary_cleaner.output.tail_au                    19439 non-null  float64\n",
      " 75  secondary_cleaner.output.tail_ag                    19437 non-null  float64\n",
      " 76  secondary_cleaner.output.tail_pb                    19427 non-null  float64\n",
      " 77  secondary_cleaner.output.tail_sol                   17691 non-null  float64\n",
      " 78  final.output.concentrate_au                         19439 non-null  float64\n",
      " 79  final.output.concentrate_ag                         19438 non-null  float64\n",
      " 80  final.output.concentrate_pb                         19438 non-null  float64\n",
      " 81  final.output.concentrate_sol                        19228 non-null  float64\n",
      " 82  final.output.recovery                               19439 non-null  float64\n",
      " 83  final.output.tail_au                                19439 non-null  float64\n",
      " 84  final.output.tail_ag                                19438 non-null  float64\n",
      " 85  final.output.tail_pb                                19338 non-null  float64\n",
      " 86  final.output.tail_sol                               19433 non-null  float64\n",
      "dtypes: float64(86), object(1)\n",
      "memory usage: 12.9+ MB\n",
      "None\n"
     ]
    }
   ],
   "source": [
    "print(full_data.info())"
   ]
  },
  {
   "cell_type": "markdown",
   "metadata": {},
   "source": [
    " ### Проверьте, что эффективность обогащения рассчитана правильно"
   ]
  },
  {
   "cell_type": "code",
   "execution_count": 6,
   "metadata": {},
   "outputs": [
    {
     "name": "stdout",
     "output_type": "stream",
     "text": [
      "MAE между расчетами и реальными значениями: 1.0853029764340368e-14\n"
     ]
    }
   ],
   "source": [
    "C = train_data['rougher.output.concentrate_au']\n",
    "F = train_data['rougher.input.feed_au']\n",
    "T = train_data['rougher.output.tail_au']\n",
    "recovery_calculated = ((C * (F - T)) / ((F - T) * C - (F - C) * T)) * 100\n",
    "mae = abs(recovery_calculated - train_data['rougher.output.recovery']).mean()\n",
    "print('MAE между расчетами и реальными значениями:',mae)"
   ]
  },
  {
   "cell_type": "markdown",
   "metadata": {},
   "source": [
    "### Проанализируйте признаки, недоступные в тестовой выборке"
   ]
  },
  {
   "cell_type": "code",
   "execution_count": 7,
   "metadata": {},
   "outputs": [
    {
     "name": "stdout",
     "output_type": "stream",
     "text": [
      "Список признаков недоступных в тестовой выборке:\n",
      "rougher.output.recovery\n",
      "rougher.calculation.au_pb_ratio\n",
      "primary_cleaner.output.tail_au\n",
      "rougher.output.tail_ag\n",
      "final.output.tail_sol\n",
      "secondary_cleaner.output.tail_pb\n",
      "primary_cleaner.output.concentrate_sol\n",
      "final.output.concentrate_sol\n",
      "rougher.output.tail_au\n",
      "secondary_cleaner.output.tail_sol\n",
      "rougher.output.concentrate_pb\n",
      "final.output.tail_ag\n",
      "rougher.calculation.floatbank11_sulfate_to_au_feed\n",
      "final.output.tail_pb\n",
      "rougher.output.tail_sol\n",
      "secondary_cleaner.output.tail_ag\n",
      "rougher.output.concentrate_ag\n",
      "primary_cleaner.output.concentrate_ag\n",
      "final.output.tail_au\n",
      "final.output.concentrate_ag\n",
      "rougher.calculation.floatbank10_sulfate_to_au_feed\n",
      "rougher.output.tail_pb\n",
      "primary_cleaner.output.tail_sol\n",
      "primary_cleaner.output.concentrate_au\n",
      "primary_cleaner.output.concentrate_pb\n",
      "final.output.concentrate_au\n",
      "rougher.calculation.sulfate_to_au_concentrate\n",
      "primary_cleaner.output.tail_pb\n",
      "primary_cleaner.output.tail_ag\n",
      "secondary_cleaner.output.tail_au\n",
      "final.output.concentrate_pb\n",
      "final.output.recovery\n",
      "rougher.output.concentrate_sol\n",
      "rougher.output.concentrate_au\n"
     ]
    }
   ],
   "source": [
    "train_features = set(train_data.columns)\n",
    "test_features = set(test_data.columns)\n",
    "missing_features = train_features - test_features\n",
    "print('Список признаков недоступных в тестовой выборке:')\n",
    "for feature in missing_features:\n",
    "    print(feature)"
   ]
  },
  {
   "cell_type": "markdown",
   "metadata": {},
   "source": [
    "Вероятно данные параметры недоступны, потому что замеряются и/или рассчитываются значительно позже."
   ]
  },
  {
   "cell_type": "markdown",
   "metadata": {},
   "source": [
    "### Проведите предобработку данных."
   ]
  },
  {
   "cell_type": "code",
   "execution_count": 8,
   "metadata": {
    "scrolled": false
   },
   "outputs": [
    {
     "name": "stdout",
     "output_type": "stream",
     "text": [
      "0 \n",
      "\n",
      "       rougher.input.feed_au  rougher.input.feed_ag  rougher.input.feed_pb  \\\n",
      "count           14579.000000           14579.000000           14507.000000   \n",
      "mean                8.352941               8.877460               3.604221   \n",
      "std                 1.934376               1.922536               1.056063   \n",
      "min                 0.010000               0.010000               0.010000   \n",
      "25%                 6.932996               7.341922               2.880490   \n",
      "50%                 8.225284               8.715859               3.532399   \n",
      "75%                 9.832210              10.255843               4.257282   \n",
      "max                13.731330              14.596026               7.052325   \n",
      "\n",
      "       rougher.input.feed_sol  rougher.input.feed_rate  \\\n",
      "count            14502.000000             14572.000000   \n",
      "mean                36.561420               474.332784   \n",
      "std                  5.209823               108.503552   \n",
      "min                  0.010000                 0.002986   \n",
      "25%                 34.093951               411.048483   \n",
      "50%                 37.097511               498.187968   \n",
      "75%                 39.899799               549.586552   \n",
      "max                 53.475325               717.508837   \n",
      "\n",
      "       rougher.input.feed_size  rougher.input.floatbank10_sulfate  \\\n",
      "count             14478.000000                       14548.000000   \n",
      "mean                 58.922712                          12.427399   \n",
      "std                  22.407410                           3.428939   \n",
      "min                   0.049194                           0.001083   \n",
      "25%                  47.278490                          10.002832   \n",
      "50%                  54.361187                          12.003320   \n",
      "75%                  64.464926                          14.929903   \n",
      "max                 484.967466                          36.118275   \n",
      "\n",
      "       rougher.input.floatbank10_xanthate  rougher.state.floatbank10_a_air  \\\n",
      "count                        14572.000000                     14579.000000   \n",
      "mean                             5.994854                      1104.208278   \n",
      "std                              1.152873                       162.235606   \n",
      "min                              0.000568                        -0.042069   \n",
      "25%                              5.304167                       999.644856   \n",
      "50%                              6.003053                      1000.982624   \n",
      "75%                              6.796632                      1292.663971   \n",
      "max                              9.703448                      1512.299531   \n",
      "\n",
      "       rougher.state.floatbank10_a_level  ...  \\\n",
      "count                       14579.000000  ...   \n",
      "mean                         -379.367166  ...   \n",
      "std                            94.652311  ...   \n",
      "min                          -657.949759  ...   \n",
      "25%                          -499.861797  ...   \n",
      "50%                          -300.314199  ...   \n",
      "75%                          -299.989315  ...   \n",
      "max                          -273.776101  ...   \n",
      "\n",
      "       secondary_cleaner.output.tail_sol  final.output.concentrate_au  \\\n",
      "count                       13659.000000                 14579.000000   \n",
      "mean                            7.111347                    43.979499   \n",
      "std                             3.909951                     5.471437   \n",
      "min                             0.000000                     0.000000   \n",
      "25%                             3.784897                    43.345906   \n",
      "50%                             7.629968                    44.975014   \n",
      "75%                            10.367050                    46.275153   \n",
      "max                            26.000772                    52.756638   \n",
      "\n",
      "       final.output.concentrate_ag  final.output.concentrate_pb  \\\n",
      "count                 14578.000000                 14578.000000   \n",
      "mean                      5.192145                     9.923809   \n",
      "std                       1.388014                     1.706976   \n",
      "min                       0.000000                     0.000000   \n",
      "25%                       4.283347                     9.103183   \n",
      "50%                       5.118647                    10.046455   \n",
      "75%                       5.925380                    10.981203   \n",
      "max                      16.001945                    16.705297   \n",
      "\n",
      "       final.output.concentrate_sol  final.output.recovery  \\\n",
      "count                  14387.000000           14579.000000   \n",
      "mean                       9.566676              66.759066   \n",
      "std                        2.805654              10.619709   \n",
      "min                        0.000000               0.000000   \n",
      "25%                        7.860030              63.114596   \n",
      "50%                        9.301970              67.962788   \n",
      "75%                       11.001573              72.598187   \n",
      "max                       19.423912             100.000000   \n",
      "\n",
      "       final.output.tail_au  final.output.tail_ag  final.output.tail_pb  \\\n",
      "count          14579.000000          14578.000000          14504.000000   \n",
      "mean               3.087939              9.731972              2.719985   \n",
      "std                0.915187              2.358143              0.958929   \n",
      "min                0.000000              0.000000              0.000000   \n",
      "25%                2.505287              8.088928              2.036512   \n",
      "50%                3.029238              9.818512              2.774847   \n",
      "75%                3.614098             11.169187              3.353845   \n",
      "max                8.245022             19.552149              5.804178   \n",
      "\n",
      "       final.output.tail_sol  \n",
      "count           14574.000000  \n",
      "mean               10.612745  \n",
      "std                 2.871075  \n",
      "min                 0.000000  \n",
      "25%                 9.013412  \n",
      "50%                10.670515  \n",
      "75%                12.130827  \n",
      "max                22.317730  \n",
      "\n",
      "[8 rows x 86 columns] \n",
      "\n",
      "rougher.input.feed_pb                                  72\n",
      "rougher.input.feed_sol                                 77\n",
      "rougher.input.feed_rate                                 7\n",
      "rougher.input.feed_size                               101\n",
      "rougher.input.floatbank10_sulfate                      31\n",
      "rougher.input.floatbank10_xanthate                      7\n",
      "rougher.state.floatbank10_e_air                       429\n",
      "rougher.input.floatbank11_sulfate                      36\n",
      "rougher.input.floatbank11_xanthate                    407\n",
      "rougher.calculation.sulfate_to_au_concentrate           1\n",
      "rougher.calculation.floatbank10_sulfate_to_au_feed      1\n",
      "rougher.calculation.floatbank11_sulfate_to_au_feed      1\n",
      "rougher.output.concentrate_sol                         18\n",
      "rougher.output.tail_ag                                  1\n",
      "primary_cleaner.input.sulfate                          23\n",
      "primary_cleaner.input.depressant                       28\n",
      "primary_cleaner.input.xanthate                         61\n",
      "primary_cleaner.state.floatbank8_a_air                  3\n",
      "primary_cleaner.state.floatbank8_b_air                  3\n",
      "primary_cleaner.state.floatbank8_d_air                  1\n",
      "primary_cleaner.output.concentrate_pb                  88\n",
      "primary_cleaner.output.concentrate_sol                265\n",
      "primary_cleaner.output.tail_ag                          4\n",
      "primary_cleaner.output.tail_pb                          6\n",
      "primary_cleaner.output.tail_sol                        45\n",
      "secondary_cleaner.state.floatbank2_a_air               94\n",
      "secondary_cleaner.state.floatbank2_b_air               22\n",
      "secondary_cleaner.state.floatbank3_a_air               12\n",
      "secondary_cleaner.state.floatbank4_a_air                5\n",
      "secondary_cleaner.state.floatbank6_a_air                1\n",
      "secondary_cleaner.output.tail_ag                        1\n",
      "secondary_cleaner.output.tail_pb                        4\n",
      "secondary_cleaner.output.tail_sol                     920\n",
      "final.output.concentrate_ag                             1\n",
      "final.output.concentrate_pb                             1\n",
      "final.output.concentrate_sol                          192\n",
      "final.output.tail_ag                                    1\n",
      "final.output.tail_pb                                   75\n",
      "final.output.tail_sol                                   5\n",
      "dtype: int64\n"
     ]
    }
   ],
   "source": [
    "print(train_data.duplicated().sum(),\"\\n\")\n",
    "print(train_data.describe(),\"\\n\")\n",
    "columns_with_na_train = train_data.columns[train_data.isna().any()]\n",
    "print(train_data[columns_with_na_train].isna().sum())"
   ]
  },
  {
   "cell_type": "code",
   "execution_count": 9,
   "metadata": {},
   "outputs": [
    {
     "name": "stdout",
     "output_type": "stream",
     "text": [
      "date                      0\n",
      "rougher.input.feed_au     0\n",
      "rougher.input.feed_ag     0\n",
      "rougher.input.feed_pb     0\n",
      "rougher.input.feed_sol    0\n",
      "                         ..\n",
      "final.output.recovery     0\n",
      "final.output.tail_au      0\n",
      "final.output.tail_ag      0\n",
      "final.output.tail_pb      0\n",
      "final.output.tail_sol     0\n",
      "Length: 87, dtype: int64\n"
     ]
    }
   ],
   "source": [
    "train_data_cleaned = train_data.dropna()\n",
    "print(train_data_cleaned.isna().sum())"
   ]
  },
  {
   "cell_type": "code",
   "execution_count": 10,
   "metadata": {
    "scrolled": false
   },
   "outputs": [
    {
     "name": "stdout",
     "output_type": "stream",
     "text": [
      "0 \n",
      "\n",
      "       rougher.input.feed_au  rougher.input.feed_ag  rougher.input.feed_pb  \\\n",
      "count            4860.000000            4860.000000            4832.000000   \n",
      "mean                8.005584               8.547348               3.579662   \n",
      "std                 1.993590               1.958601               1.029377   \n",
      "min                 0.010000               0.010000               0.010000   \n",
      "25%                 6.574363               6.975898               2.903612   \n",
      "50%                 7.812923               8.179714               3.540772   \n",
      "75%                 9.556589              10.084339               4.199847   \n",
      "max                13.417156              14.533698               7.142594   \n",
      "\n",
      "       rougher.input.feed_sol  rougher.input.feed_rate  \\\n",
      "count             4838.000000              4856.000000   \n",
      "mean                37.095864               490.285103   \n",
      "std                  4.926284                94.371623   \n",
      "min                  0.010000                 0.012786   \n",
      "25%                 34.510841               434.099695   \n",
      "50%                 37.499761               502.118742   \n",
      "75%                 40.461315               555.596563   \n",
      "max                 53.477742               702.523396   \n",
      "\n",
      "       rougher.input.feed_size  rougher.input.floatbank10_sulfate  \\\n",
      "count              4816.000000                        4857.000000   \n",
      "mean                 59.113400                          12.055735   \n",
      "std                  19.125122                           3.407642   \n",
      "min                   0.046369                           0.018907   \n",
      "25%                  47.596984                           9.890429   \n",
      "50%                  55.509481                          11.997859   \n",
      "75%                  66.661547                          14.496072   \n",
      "max                 363.989699                          30.010759   \n",
      "\n",
      "       rougher.input.floatbank10_xanthate  rougher.state.floatbank10_a_air  \\\n",
      "count                         4859.000000                      4859.000000   \n",
      "mean                             6.101308                      1108.635895   \n",
      "std                              1.042754                       156.493143   \n",
      "min                              0.015783                       300.792494   \n",
      "25%                              5.499808                       999.715729   \n",
      "50%                              6.099805                      1001.414798   \n",
      "75%                              6.802101                      1202.837565   \n",
      "max                              9.396928                      1521.980372   \n",
      "\n",
      "       rougher.state.floatbank10_a_level  ...  \\\n",
      "count                        4859.000000  ...   \n",
      "mean                         -368.340127  ...   \n",
      "std                            91.155929  ...   \n",
      "min                          -600.568138  ...   \n",
      "25%                          -499.731972  ...   \n",
      "50%                          -300.181367  ...   \n",
      "75%                          -299.961547  ...   \n",
      "max                          -281.039299  ...   \n",
      "\n",
      "       secondary_cleaner.state.floatbank4_a_air  \\\n",
      "count                              4.859000e+03   \n",
      "mean                               1.985770e+01   \n",
      "std                                5.913105e+00   \n",
      "min                                1.079872e-16   \n",
      "25%                                1.501123e+01   \n",
      "50%                                1.996807e+01   \n",
      "75%                                2.498900e+01   \n",
      "max                                3.008450e+01   \n",
      "\n",
      "       secondary_cleaner.state.floatbank4_a_level  \\\n",
      "count                                 4859.000000   \n",
      "mean                                  -488.665140   \n",
      "std                                     44.392714   \n",
      "min                                   -799.704969   \n",
      "25%                                   -500.704004   \n",
      "50%                                   -499.892919   \n",
      "75%                                   -498.652030   \n",
      "max                                   -383.373053   \n",
      "\n",
      "       secondary_cleaner.state.floatbank4_b_air  \\\n",
      "count                              4.859000e+03   \n",
      "mean                               1.557025e+01   \n",
      "std                                4.927361e+00   \n",
      "min                                2.489718e-17   \n",
      "25%                                1.202172e+01   \n",
      "50%                                1.501240e+01   \n",
      "75%                                1.999949e+01   \n",
      "max                                2.398898e+01   \n",
      "\n",
      "       secondary_cleaner.state.floatbank4_b_level  \\\n",
      "count                                 4859.000000   \n",
      "mean                                  -464.176507   \n",
      "std                                     65.706994   \n",
      "min                                   -799.860767   \n",
      "25%                                   -500.196517   \n",
      "50%                                   -499.540776   \n",
      "75%                                   -400.302329   \n",
      "max                                   -114.250832   \n",
      "\n",
      "       secondary_cleaner.state.floatbank5_a_air  \\\n",
      "count                               4859.000000   \n",
      "mean                                  16.594103   \n",
      "std                                    5.724305   \n",
      "min                                   -0.371498   \n",
      "25%                                   11.073822   \n",
      "50%                                   16.631195   \n",
      "75%                                   19.983191   \n",
      "max                                   33.215996   \n",
      "\n",
      "       secondary_cleaner.state.floatbank5_a_level  \\\n",
      "count                                 4859.000000   \n",
      "mean                                  -490.815250   \n",
      "std                                     32.258443   \n",
      "min                                   -797.142475   \n",
      "25%                                   -500.483564   \n",
      "50%                                   -499.873136   \n",
      "75%                                   -498.852815   \n",
      "max                                   -288.963521   \n",
      "\n",
      "       secondary_cleaner.state.floatbank5_b_air  \\\n",
      "count                               4859.000000   \n",
      "mean                                  12.945971   \n",
      "std                                    5.533176   \n",
      "min                                    1.358469   \n",
      "25%                                    9.011890   \n",
      "50%                                   11.999417   \n",
      "75%                                   15.004198   \n",
      "max                                   24.177106   \n",
      "\n",
      "       secondary_cleaner.state.floatbank5_b_level  \\\n",
      "count                                 4859.000000   \n",
      "mean                                  -489.583564   \n",
      "std                                     37.084609   \n",
      "min                                   -800.006180   \n",
      "25%                                   -500.129913   \n",
      "50%                                   -499.955304   \n",
      "75%                                   -499.643776   \n",
      "max                                   -141.934397   \n",
      "\n",
      "       secondary_cleaner.state.floatbank6_a_air  \\\n",
      "count                               4859.000000   \n",
      "mean                                  19.053888   \n",
      "std                                    5.548996   \n",
      "min                                    0.160386   \n",
      "25%                                   14.963953   \n",
      "50%                                   19.960006   \n",
      "75%                                   24.974583   \n",
      "max                                   32.028529   \n",
      "\n",
      "       secondary_cleaner.state.floatbank6_a_level  \n",
      "count                                 4859.000000  \n",
      "mean                                  -504.678924  \n",
      "std                                     38.690186  \n",
      "min                                   -809.734800  \n",
      "25%                                   -500.668501  \n",
      "50%                                   -500.033769  \n",
      "75%                                   -499.460134  \n",
      "max                                   -104.427459  \n",
      "\n",
      "[8 rows x 52 columns] \n",
      "\n",
      "rougher.input.feed_pb                          28\n",
      "rougher.input.feed_sol                         22\n",
      "rougher.input.feed_rate                         4\n",
      "rougher.input.feed_size                        44\n",
      "rougher.input.floatbank10_sulfate               3\n",
      "rougher.input.floatbank10_xanthate              1\n",
      "rougher.state.floatbank10_a_air                 1\n",
      "rougher.state.floatbank10_a_level               1\n",
      "rougher.state.floatbank10_b_air                 1\n",
      "rougher.state.floatbank10_b_level               1\n",
      "rougher.state.floatbank10_c_air                 1\n",
      "rougher.state.floatbank10_c_level               1\n",
      "rougher.state.floatbank10_e_air                 7\n",
      "rougher.input.floatbank11_sulfate               8\n",
      "rougher.input.floatbank11_xanthate             46\n",
      "primary_cleaner.input.sulfate                   1\n",
      "primary_cleaner.input.depressant                9\n",
      "primary_cleaner.input.xanthate                 43\n",
      "primary_cleaner.state.floatbank8_a_air          1\n",
      "primary_cleaner.state.floatbank8_a_level        1\n",
      "primary_cleaner.state.floatbank8_b_air          1\n",
      "primary_cleaner.state.floatbank8_b_level        1\n",
      "primary_cleaner.state.floatbank8_c_air          2\n",
      "primary_cleaner.state.floatbank8_c_level        1\n",
      "primary_cleaner.state.floatbank8_d_air          2\n",
      "primary_cleaner.state.floatbank8_d_level        1\n",
      "secondary_cleaner.state.floatbank2_a_air      126\n",
      "secondary_cleaner.state.floatbank2_a_level      1\n",
      "secondary_cleaner.state.floatbank2_b_air        1\n",
      "secondary_cleaner.state.floatbank2_b_level      1\n",
      "secondary_cleaner.state.floatbank3_a_air        1\n",
      "secondary_cleaner.state.floatbank3_a_level      1\n",
      "secondary_cleaner.state.floatbank3_b_air        1\n",
      "secondary_cleaner.state.floatbank3_b_level      1\n",
      "secondary_cleaner.state.floatbank4_a_air        1\n",
      "secondary_cleaner.state.floatbank4_a_level      1\n",
      "secondary_cleaner.state.floatbank4_b_air        1\n",
      "secondary_cleaner.state.floatbank4_b_level      1\n",
      "secondary_cleaner.state.floatbank5_a_air        1\n",
      "secondary_cleaner.state.floatbank5_a_level      1\n",
      "secondary_cleaner.state.floatbank5_b_air        1\n",
      "secondary_cleaner.state.floatbank5_b_level      1\n",
      "secondary_cleaner.state.floatbank6_a_air        1\n",
      "secondary_cleaner.state.floatbank6_a_level      1\n",
      "dtype: int64\n"
     ]
    }
   ],
   "source": [
    "print(test_data.duplicated().sum(),'\\n')\n",
    "print(test_data.describe(),'\\n')\n",
    "columns_with_na_test = test_data.columns[test_data.isna().any()]\n",
    "print(test_data[columns_with_na_test].isna().sum())"
   ]
  },
  {
   "cell_type": "code",
   "execution_count": 11,
   "metadata": {},
   "outputs": [
    {
     "name": "stdout",
     "output_type": "stream",
     "text": [
      "date                      0\n",
      "rougher.input.feed_au     0\n",
      "rougher.input.feed_ag     0\n",
      "rougher.input.feed_pb     0\n",
      "rougher.input.feed_sol    0\n",
      "                         ..\n",
      "final.output.recovery     0\n",
      "final.output.tail_au      0\n",
      "final.output.tail_ag      0\n",
      "final.output.tail_pb      0\n",
      "final.output.tail_sol     0\n",
      "Length: 87, dtype: int64\n"
     ]
    }
   ],
   "source": [
    "test_data_cleaned = test_data.dropna()\n",
    "print(train_data_cleaned.isna().sum())"
   ]
  },
  {
   "cell_type": "code",
   "execution_count": 12,
   "metadata": {
    "scrolled": false
   },
   "outputs": [
    {
     "name": "stdout",
     "output_type": "stream",
     "text": [
      "0 \n",
      "\n",
      "       rougher.input.feed_au  rougher.input.feed_ag  rougher.input.feed_pb  \\\n",
      "count           19439.000000           19439.000000           19339.000000   \n",
      "mean                8.266097               8.794927               3.598085   \n",
      "std                 1.955092               1.936847               1.049486   \n",
      "min                 0.010000               0.010000               0.010000   \n",
      "25%                 6.854384               7.237967               2.887280   \n",
      "50%                 8.125839               8.593574               3.534895   \n",
      "75%                 9.769917              10.213771               4.244161   \n",
      "max                13.731330              14.596026               7.142594   \n",
      "\n",
      "       rougher.input.feed_sol  rougher.input.feed_rate  \\\n",
      "count            19340.000000             19428.000000   \n",
      "mean                36.695114               478.320042   \n",
      "std                  5.145445               105.373758   \n",
      "min                  0.010000                 0.002986   \n",
      "25%                 34.207799               416.525453   \n",
      "50%                 37.202650               499.416120   \n",
      "75%                 40.039133               550.172183   \n",
      "max                 53.477742               717.508837   \n",
      "\n",
      "       rougher.input.feed_size  rougher.input.floatbank10_sulfate  \\\n",
      "count             19294.000000                       19405.000000   \n",
      "mean                 58.970310                          12.334373   \n",
      "std                  21.634478                           3.427317   \n",
      "min                   0.046369                           0.001083   \n",
      "25%                  47.435103                          10.000362   \n",
      "50%                  54.610197                          12.001174   \n",
      "75%                  65.023044                          14.716595   \n",
      "max                 484.967466                          36.118275   \n",
      "\n",
      "       rougher.input.floatbank10_xanthate  rougher.state.floatbank10_a_air  \\\n",
      "count                        19431.000000                     19438.000000   \n",
      "mean                             6.021474                      1105.315068   \n",
      "std                              1.127263                       160.826798   \n",
      "min                              0.000568                        -0.042069   \n",
      "25%                              5.398678                       999.661867   \n",
      "50%                              6.008273                      1001.072890   \n",
      "75%                              6.798051                      1205.620588   \n",
      "max                              9.703448                      1521.980372   \n",
      "\n",
      "       rougher.state.floatbank10_a_level  ...  \\\n",
      "count                       19438.000000  ...   \n",
      "mean                         -376.610690  ...   \n",
      "std                            93.909667  ...   \n",
      "min                          -657.949759  ...   \n",
      "25%                          -499.835165  ...   \n",
      "50%                          -300.263994  ...   \n",
      "75%                          -299.981998  ...   \n",
      "max                          -273.776101  ...   \n",
      "\n",
      "       secondary_cleaner.output.tail_sol  final.output.concentrate_au  \\\n",
      "count                       17691.000000                 19439.000000   \n",
      "mean                            7.167247                    44.076513   \n",
      "std                             3.916079                     5.129784   \n",
      "min                             0.000000                     0.000000   \n",
      "25%                             3.845475                    43.402215   \n",
      "50%                             7.685827                    45.011244   \n",
      "75%                            10.411296                    46.275313   \n",
      "max                            26.000772                    52.756638   \n",
      "\n",
      "       final.output.concentrate_ag  final.output.concentrate_pb  \\\n",
      "count                 19438.000000                 19438.000000   \n",
      "mean                      5.168470                     9.978895   \n",
      "std                       1.372348                     1.669240   \n",
      "min                       0.000000                     0.000000   \n",
      "25%                       4.251240                     9.137262   \n",
      "50%                       5.066094                    10.102433   \n",
      "75%                       5.895527                    11.035769   \n",
      "max                      16.001945                    17.031899   \n",
      "\n",
      "       final.output.concentrate_sol  final.output.recovery  \\\n",
      "count                  19228.000000           19439.000000   \n",
      "mean                       9.501224              67.050208   \n",
      "std                        2.787537              10.125840   \n",
      "min                        0.000000               0.000000   \n",
      "25%                        7.722820              63.299712   \n",
      "50%                        9.218961              68.172738   \n",
      "75%                       10.947813              72.686642   \n",
      "max                       19.615720             100.000000   \n",
      "\n",
      "       final.output.tail_au  final.output.tail_ag  final.output.tail_pb  \\\n",
      "count          19439.000000          19438.000000          19338.000000   \n",
      "mean               3.042467              9.688589              2.705795   \n",
      "std                0.922808              2.328642              0.949077   \n",
      "min                0.000000              0.000000              0.000000   \n",
      "25%                2.461138              8.062878              2.040119   \n",
      "50%                2.984909              9.743623              2.748730   \n",
      "75%                3.571351             11.134294              3.333216   \n",
      "max                8.245022             19.552149              5.804178   \n",
      "\n",
      "       final.output.tail_sol  \n",
      "count           19433.000000  \n",
      "mean               10.583728  \n",
      "std                 2.868782  \n",
      "min                 0.000000  \n",
      "25%                 8.938947  \n",
      "50%                10.622456  \n",
      "75%                12.104271  \n",
      "max                22.317730  \n",
      "\n",
      "[8 rows x 86 columns] \n",
      "\n",
      "rougher.input.feed_pb                100\n",
      "rougher.input.feed_sol                99\n",
      "rougher.input.feed_rate               11\n",
      "rougher.input.feed_size              145\n",
      "rougher.input.floatbank10_sulfate     34\n",
      "                                    ... \n",
      "final.output.concentrate_pb            1\n",
      "final.output.concentrate_sol         211\n",
      "final.output.tail_ag                   1\n",
      "final.output.tail_pb                 101\n",
      "final.output.tail_sol                  6\n",
      "Length: 63, dtype: int64\n"
     ]
    }
   ],
   "source": [
    "print(full_data.duplicated().sum(),'\\n')\n",
    "print(full_data.describe(),'\\n')\n",
    "columns_with_na_full = full_data.columns[full_data.isna().any()]\n",
    "print(full_data[columns_with_na_full].isna().sum())"
   ]
  },
  {
   "cell_type": "code",
   "execution_count": 13,
   "metadata": {},
   "outputs": [
    {
     "name": "stdout",
     "output_type": "stream",
     "text": [
      "date                      0\n",
      "rougher.input.feed_au     0\n",
      "rougher.input.feed_ag     0\n",
      "rougher.input.feed_pb     0\n",
      "rougher.input.feed_sol    0\n",
      "                         ..\n",
      "final.output.recovery     0\n",
      "final.output.tail_au      0\n",
      "final.output.tail_ag      0\n",
      "final.output.tail_pb      0\n",
      "final.output.tail_sol     0\n",
      "Length: 87, dtype: int64\n"
     ]
    }
   ],
   "source": [
    "full_data_cleaned = full_data.dropna()\n",
    "print(train_data_cleaned.isna().sum())"
   ]
  },
  {
   "cell_type": "markdown",
   "metadata": {},
   "source": [
    "Дубликатов нет, пропуски удалены"
   ]
  },
  {
   "cell_type": "code",
   "execution_count": 14,
   "metadata": {},
   "outputs": [
    {
     "data": {
      "image/png": "[encoded data removed]",
      "text/plain": [
       "<Figure size 720x576 with 1 Axes>"
      ]
     },
     "metadata": {
      "needs_background": "light"
     },
     "output_type": "display_data"
    }
   ],
   "source": [
    "fig, ax = plt.subplots(figsize=[10, 8])\n",
    "ax.boxplot(train_data_cleaned['rougher.output.recovery'])\n",
    "ax.set_ylabel(\"Эффективность обогащения чернового концентрата\")\n",
    "ax.set_title(\"Ящик с усами для эффективности обогащения\")\n",
    "plt.show()"
   ]
  },
  {
   "cell_type": "code",
   "execution_count": 15,
   "metadata": {},
   "outputs": [
    {
     "data": {
      "image/png": "[encoded data removed]",
      "text/plain": [
       "<Figure size 720x576 with 1 Axes>"
      ]
     },
     "metadata": {
      "needs_background": "light"
     },
     "output_type": "display_data"
    }
   ],
   "source": [
    "fig, ax = plt.subplots(figsize=[10, 8])\n",
    "ax.hist(train_data_cleaned['rougher.output.recovery'], bins=30, edgecolor='black', alpha=0.7)\n",
    "ax.set_xlabel(\"Эффективность обогащения чернового концентрата\")\n",
    "ax.set_ylabel(\"Количество результатов\")\n",
    "ax.set_title(\"Гистограмма распределения по эффективности обогащения\")\n",
    "plt.show()"
   ]
  },
  {
   "cell_type": "markdown",
   "metadata": {},
   "source": [
    "На гистограмме много нулевыхзначений, для чистоты данных их необходимо удалить, в теории можно отбросить все значения ниже 60, но делать так нет необходимости."
   ]
  },
  {
   "cell_type": "code",
   "execution_count": 16,
   "metadata": {},
   "outputs": [
    {
     "data": {
      "text/html": [
       "<div>\n",
       "<style scoped>\n",
       "    .dataframe tbody tr th:only-of-type {\n",
       "        vertical-align: middle;\n",
       "    }\n",
       "\n",
       "    .dataframe tbody tr th {\n",
       "        vertical-align: top;\n",
       "    }\n",
       "\n",
       "    .dataframe thead th {\n",
       "        text-align: right;\n",
       "    }\n",
       "</style>\n",
       "<table border=\"1\" class=\"dataframe\">\n",
       "  <thead>\n",
       "    <tr style=\"text-align: right;\">\n",
       "      <th></th>\n",
       "      <th>date</th>\n",
       "      <th>rougher.input.feed_au</th>\n",
       "      <th>rougher.input.feed_ag</th>\n",
       "      <th>rougher.input.feed_pb</th>\n",
       "      <th>rougher.input.feed_sol</th>\n",
       "      <th>rougher.input.feed_rate</th>\n",
       "      <th>rougher.input.feed_size</th>\n",
       "      <th>rougher.input.floatbank10_sulfate</th>\n",
       "      <th>rougher.input.floatbank10_xanthate</th>\n",
       "      <th>rougher.state.floatbank10_a_air</th>\n",
       "      <th>...</th>\n",
       "      <th>secondary_cleaner.output.tail_sol</th>\n",
       "      <th>final.output.concentrate_au</th>\n",
       "      <th>final.output.concentrate_ag</th>\n",
       "      <th>final.output.concentrate_pb</th>\n",
       "      <th>final.output.concentrate_sol</th>\n",
       "      <th>final.output.recovery</th>\n",
       "      <th>final.output.tail_au</th>\n",
       "      <th>final.output.tail_ag</th>\n",
       "      <th>final.output.tail_pb</th>\n",
       "      <th>final.output.tail_sol</th>\n",
       "    </tr>\n",
       "  </thead>\n",
       "  <tbody>\n",
       "  </tbody>\n",
       "</table>\n",
       "<p>0 rows × 87 columns</p>\n",
       "</div>"
      ],
      "text/plain": [
       "Empty DataFrame\n",
       "Columns: [date, rougher.input.feed_au, rougher.input.feed_ag, rougher.input.feed_pb, rougher.input.feed_sol, rougher.input.feed_rate, rougher.input.feed_size, rougher.input.floatbank10_sulfate, rougher.input.floatbank10_xanthate, rougher.state.floatbank10_a_air, rougher.state.floatbank10_a_level, rougher.state.floatbank10_b_air, rougher.state.floatbank10_b_level, rougher.state.floatbank10_c_air, rougher.state.floatbank10_c_level, rougher.state.floatbank10_d_air, rougher.state.floatbank10_d_level, rougher.state.floatbank10_e_air, rougher.state.floatbank10_e_level, rougher.state.floatbank10_f_air, rougher.state.floatbank10_f_level, rougher.input.floatbank11_sulfate, rougher.input.floatbank11_xanthate, rougher.calculation.sulfate_to_au_concentrate, rougher.calculation.floatbank10_sulfate_to_au_feed, rougher.calculation.floatbank11_sulfate_to_au_feed, rougher.calculation.au_pb_ratio, rougher.output.concentrate_au, rougher.output.concentrate_ag, rougher.output.concentrate_pb, rougher.output.concentrate_sol, rougher.output.recovery, rougher.output.tail_au, rougher.output.tail_ag, rougher.output.tail_pb, rougher.output.tail_sol, primary_cleaner.input.sulfate, primary_cleaner.input.depressant, primary_cleaner.input.feed_size, primary_cleaner.input.xanthate, primary_cleaner.state.floatbank8_a_air, primary_cleaner.state.floatbank8_a_level, primary_cleaner.state.floatbank8_b_air, primary_cleaner.state.floatbank8_b_level, primary_cleaner.state.floatbank8_c_air, primary_cleaner.state.floatbank8_c_level, primary_cleaner.state.floatbank8_d_air, primary_cleaner.state.floatbank8_d_level, primary_cleaner.output.concentrate_au, primary_cleaner.output.concentrate_ag, primary_cleaner.output.concentrate_pb, primary_cleaner.output.concentrate_sol, primary_cleaner.output.tail_au, primary_cleaner.output.tail_ag, primary_cleaner.output.tail_pb, primary_cleaner.output.tail_sol, secondary_cleaner.state.floatbank2_a_air, secondary_cleaner.state.floatbank2_a_level, secondary_cleaner.state.floatbank2_b_air, secondary_cleaner.state.floatbank2_b_level, secondary_cleaner.state.floatbank3_a_air, secondary_cleaner.state.floatbank3_a_level, secondary_cleaner.state.floatbank3_b_air, secondary_cleaner.state.floatbank3_b_level, secondary_cleaner.state.floatbank4_a_air, secondary_cleaner.state.floatbank4_a_level, secondary_cleaner.state.floatbank4_b_air, secondary_cleaner.state.floatbank4_b_level, secondary_cleaner.state.floatbank5_a_air, secondary_cleaner.state.floatbank5_a_level, secondary_cleaner.state.floatbank5_b_air, secondary_cleaner.state.floatbank5_b_level, secondary_cleaner.state.floatbank6_a_air, secondary_cleaner.state.floatbank6_a_level, secondary_cleaner.output.tail_au, secondary_cleaner.output.tail_ag, secondary_cleaner.output.tail_pb, secondary_cleaner.output.tail_sol, final.output.concentrate_au, final.output.concentrate_ag, final.output.concentrate_pb, final.output.concentrate_sol, final.output.recovery, final.output.tail_au, final.output.tail_ag, final.output.tail_pb, final.output.tail_sol]\n",
       "Index: []\n",
       "\n",
       "[0 rows x 87 columns]"
      ]
     },
     "execution_count": 16,
     "metadata": {},
     "output_type": "execute_result"
    }
   ],
   "source": [
    "train_data_cleaned = train_data_cleaned.drop(train_data_cleaned[train_data_cleaned['rougher.output.recovery'] == 0].index)\n",
    "train_data_cleaned[train_data_cleaned['rougher.output.recovery'] == 0]"
   ]
  },
  {
   "cell_type": "code",
   "execution_count": 17,
   "metadata": {},
   "outputs": [
    {
     "data": {
      "image/png": "[encoded data removed]",
      "text/plain": [
       "<Figure size 720x576 with 1 Axes>"
      ]
     },
     "metadata": {
      "needs_background": "light"
     },
     "output_type": "display_data"
    }
   ],
   "source": [
    "fig, ax = plt.subplots(figsize=[10, 8])\n",
    "ax.hist(train_data_cleaned['rougher.output.concentrate_au'], bins=30, edgecolor='black', alpha=0.7)\n",
    "ax.set_xlabel(\"Эффективность обогащения чернового концентрата\")\n",
    "ax.set_ylabel(\"Количество результатов\")\n",
    "ax.set_title(\"Доля золота в концентрате до очистки\")\n",
    "plt.show()"
   ]
  },
  {
   "cell_type": "code",
   "execution_count": 18,
   "metadata": {},
   "outputs": [
    {
     "data": {
      "image/png": "[encoded data removed]",
      "text/plain": [
       "<Figure size 720x576 with 1 Axes>"
      ]
     },
     "metadata": {
      "needs_background": "light"
     },
     "output_type": "display_data"
    }
   ],
   "source": [
    "fig, ax = plt.subplots(figsize=[10, 8])\n",
    "ax.hist(train_data_cleaned['final.output.recovery'], bins=30, edgecolor='black', alpha=0.7)\n",
    "ax.set_xlabel(\"Эффективность обогащения финального концентрата \")\n",
    "ax.set_ylabel(\"Количество результатов\")\n",
    "ax.set_title(\"Гистограмма распределения по эффективности обогащения\")\n",
    "plt.show()"
   ]
  },
  {
   "cell_type": "markdown",
   "metadata": {},
   "source": [
    "На гистограмме много нулевыхзначений, для чистоты данных их необходимо удалить"
   ]
  },
  {
   "cell_type": "code",
   "execution_count": 19,
   "metadata": {},
   "outputs": [
    {
     "data": {
      "text/html": [
       "<div>\n",
       "<style scoped>\n",
       "    .dataframe tbody tr th:only-of-type {\n",
       "        vertical-align: middle;\n",
       "    }\n",
       "\n",
       "    .dataframe tbody tr th {\n",
       "        vertical-align: top;\n",
       "    }\n",
       "\n",
       "    .dataframe thead th {\n",
       "        text-align: right;\n",
       "    }\n",
       "</style>\n",
       "<table border=\"1\" class=\"dataframe\">\n",
       "  <thead>\n",
       "    <tr style=\"text-align: right;\">\n",
       "      <th></th>\n",
       "      <th>date</th>\n",
       "      <th>rougher.input.feed_au</th>\n",
       "      <th>rougher.input.feed_ag</th>\n",
       "      <th>rougher.input.feed_pb</th>\n",
       "      <th>rougher.input.feed_sol</th>\n",
       "      <th>rougher.input.feed_rate</th>\n",
       "      <th>rougher.input.feed_size</th>\n",
       "      <th>rougher.input.floatbank10_sulfate</th>\n",
       "      <th>rougher.input.floatbank10_xanthate</th>\n",
       "      <th>rougher.state.floatbank10_a_air</th>\n",
       "      <th>...</th>\n",
       "      <th>secondary_cleaner.output.tail_sol</th>\n",
       "      <th>final.output.concentrate_au</th>\n",
       "      <th>final.output.concentrate_ag</th>\n",
       "      <th>final.output.concentrate_pb</th>\n",
       "      <th>final.output.concentrate_sol</th>\n",
       "      <th>final.output.recovery</th>\n",
       "      <th>final.output.tail_au</th>\n",
       "      <th>final.output.tail_ag</th>\n",
       "      <th>final.output.tail_pb</th>\n",
       "      <th>final.output.tail_sol</th>\n",
       "    </tr>\n",
       "  </thead>\n",
       "  <tbody>\n",
       "  </tbody>\n",
       "</table>\n",
       "<p>0 rows × 87 columns</p>\n",
       "</div>"
      ],
      "text/plain": [
       "Empty DataFrame\n",
       "Columns: [date, rougher.input.feed_au, rougher.input.feed_ag, rougher.input.feed_pb, rougher.input.feed_sol, rougher.input.feed_rate, rougher.input.feed_size, rougher.input.floatbank10_sulfate, rougher.input.floatbank10_xanthate, rougher.state.floatbank10_a_air, rougher.state.floatbank10_a_level, rougher.state.floatbank10_b_air, rougher.state.floatbank10_b_level, rougher.state.floatbank10_c_air, rougher.state.floatbank10_c_level, rougher.state.floatbank10_d_air, rougher.state.floatbank10_d_level, rougher.state.floatbank10_e_air, rougher.state.floatbank10_e_level, rougher.state.floatbank10_f_air, rougher.state.floatbank10_f_level, rougher.input.floatbank11_sulfate, rougher.input.floatbank11_xanthate, rougher.calculation.sulfate_to_au_concentrate, rougher.calculation.floatbank10_sulfate_to_au_feed, rougher.calculation.floatbank11_sulfate_to_au_feed, rougher.calculation.au_pb_ratio, rougher.output.concentrate_au, rougher.output.concentrate_ag, rougher.output.concentrate_pb, rougher.output.concentrate_sol, rougher.output.recovery, rougher.output.tail_au, rougher.output.tail_ag, rougher.output.tail_pb, rougher.output.tail_sol, primary_cleaner.input.sulfate, primary_cleaner.input.depressant, primary_cleaner.input.feed_size, primary_cleaner.input.xanthate, primary_cleaner.state.floatbank8_a_air, primary_cleaner.state.floatbank8_a_level, primary_cleaner.state.floatbank8_b_air, primary_cleaner.state.floatbank8_b_level, primary_cleaner.state.floatbank8_c_air, primary_cleaner.state.floatbank8_c_level, primary_cleaner.state.floatbank8_d_air, primary_cleaner.state.floatbank8_d_level, primary_cleaner.output.concentrate_au, primary_cleaner.output.concentrate_ag, primary_cleaner.output.concentrate_pb, primary_cleaner.output.concentrate_sol, primary_cleaner.output.tail_au, primary_cleaner.output.tail_ag, primary_cleaner.output.tail_pb, primary_cleaner.output.tail_sol, secondary_cleaner.state.floatbank2_a_air, secondary_cleaner.state.floatbank2_a_level, secondary_cleaner.state.floatbank2_b_air, secondary_cleaner.state.floatbank2_b_level, secondary_cleaner.state.floatbank3_a_air, secondary_cleaner.state.floatbank3_a_level, secondary_cleaner.state.floatbank3_b_air, secondary_cleaner.state.floatbank3_b_level, secondary_cleaner.state.floatbank4_a_air, secondary_cleaner.state.floatbank4_a_level, secondary_cleaner.state.floatbank4_b_air, secondary_cleaner.state.floatbank4_b_level, secondary_cleaner.state.floatbank5_a_air, secondary_cleaner.state.floatbank5_a_level, secondary_cleaner.state.floatbank5_b_air, secondary_cleaner.state.floatbank5_b_level, secondary_cleaner.state.floatbank6_a_air, secondary_cleaner.state.floatbank6_a_level, secondary_cleaner.output.tail_au, secondary_cleaner.output.tail_ag, secondary_cleaner.output.tail_pb, secondary_cleaner.output.tail_sol, final.output.concentrate_au, final.output.concentrate_ag, final.output.concentrate_pb, final.output.concentrate_sol, final.output.recovery, final.output.tail_au, final.output.tail_ag, final.output.tail_pb, final.output.tail_sol]\n",
       "Index: []\n",
       "\n",
       "[0 rows x 87 columns]"
      ]
     },
     "execution_count": 19,
     "metadata": {},
     "output_type": "execute_result"
    }
   ],
   "source": [
    "train_data_cleaned = train_data_cleaned.drop(train_data_cleaned[train_data_cleaned['final.output.recovery'] == 0].index)\n",
    "train_data_cleaned[train_data_cleaned['final.output.recovery'] == 0]"
   ]
  },
  {
   "cell_type": "markdown",
   "metadata": {},
   "source": [
    "При обработке удалили пропущенные значения и нулевые в целевых колонках"
   ]
  },
  {
   "cell_type": "markdown",
   "metadata": {},
   "source": [
    "Данные изучены и предобработаны, получен список признаков, неодоступных в тестовой выборке. Удалены пропущенные значения, дубликаты не выявлены."
   ]
  },
  {
   "cell_type": "markdown",
   "metadata": {},
   "source": [
    "## Анализ данных"
   ]
  },
  {
   "cell_type": "markdown",
   "metadata": {},
   "source": [
    " ### Посмотрите, как меняется концентрация металлов (Au, Ag, Pb) на различных этапах"
   ]
  },
  {
   "cell_type": "code",
   "execution_count": 20,
   "metadata": {},
   "outputs": [
    {
     "data": {
      "image/png": "[encoded data removed]",
      "text/plain": [
       "<Figure size 864x648 with 1 Axes>"
      ]
     },
     "metadata": {
      "needs_background": "light"
     },
     "output_type": "display_data"
    }
   ],
   "source": [
    "fig, ax = plt.subplots(figsize=[12, 9])\n",
    "sns.histplot(train_data_cleaned['rougher.input.feed_au'], bins=100, label='rougher.inpu', kde=True, color='red', alpha=0.5)\n",
    "sns.histplot(train_data_cleaned['rougher.output.concentrate_au'], bins=100, label='rougher.output', kde=True, color='purple', alpha=0.5)\n",
    "sns.histplot(train_data_cleaned['primary_cleaner.output.concentrate_au'], bins=100, label='primary_cleaner.output', kde=True, color='green', alpha=0.5)\n",
    "sns.histplot(train_data_cleaned['final.output.concentrate_au'], bins=100, label='final.output', kde=True, color='blue', alpha=0.5)\n",
    "ax.set_xlabel(\"Концентрация Au\")\n",
    "ax.set_ylabel(\"Количество наблюдений\")\n",
    "ax.set_title(\"Сравнение распределения концентрации Au на разных этапах\")\n",
    "plt.legend(loc='upper left', fontsize='x-large')\n",
    "plt.show()"
   ]
  },
  {
   "cell_type": "markdown",
   "metadata": {},
   "source": [
    "На гистограмме primary_cleaner.output видно множество значений в единице, удалим их, а так же удалим нулевые значения во всех исследуменых параметрах"
   ]
  },
  {
   "cell_type": "code",
   "execution_count": 21,
   "metadata": {},
   "outputs": [],
   "source": [
    "train_data_cleaned = train_data_cleaned.drop(train_data_cleaned[train_data_cleaned['rougher.input.feed_au'] == 0].index)\n",
    "train_data_cleaned = train_data_cleaned.drop(train_data_cleaned[train_data_cleaned['rougher.output.concentrate_au'] == 0].index)\n",
    "train_data_cleaned = train_data_cleaned.drop(train_data_cleaned[train_data_cleaned['primary_cleaner.output.concentrate_au'] < 1].index)\n",
    "train_data_cleaned = train_data_cleaned.drop(train_data_cleaned[train_data_cleaned['final.output.concentrate_au'] == 0].index)"
   ]
  },
  {
   "cell_type": "markdown",
   "metadata": {},
   "source": [
    "Концентрация Au повышается с каждым этапом"
   ]
  },
  {
   "cell_type": "code",
   "execution_count": 22,
   "metadata": {},
   "outputs": [
    {
     "data": {
      "image/png": "[encoded data removed]",
      "text/plain": [
       "<Figure size 864x648 with 1 Axes>"
      ]
     },
     "metadata": {
      "needs_background": "light"
     },
     "output_type": "display_data"
    }
   ],
   "source": [
    "fig, ax = plt.subplots(figsize=[12, 9])\n",
    "sns.histplot(train_data_cleaned['rougher.input.feed_ag'], bins=100, label='rougher.inpu', kde=True, color='red', alpha=0.5)\n",
    "sns.histplot(train_data_cleaned['rougher.output.concentrate_ag'], bins=100, label='rougher.output', kde=True, color='purple', alpha=0.5)\n",
    "sns.histplot(train_data_cleaned['primary_cleaner.output.concentrate_ag'], bins=100, label='primary_cleaner.output', kde=True, color='green', alpha=0.5)\n",
    "sns.histplot(train_data_cleaned['final.output.concentrate_ag'], bins=100, label='final.output', kde=True, color='blue', alpha=0.5)\n",
    "ax.set_xlabel(\"Концентрация Ag\")\n",
    "ax.set_ylabel(\"Количество наблюдений\")\n",
    "ax.set_title(\"Сравнение распределения концентрации Ag на разных этапах\")\n",
    "plt.legend(loc='upper right', fontsize='x-large')\n",
    "plt.show()"
   ]
  },
  {
   "cell_type": "markdown",
   "metadata": {},
   "source": [
    "Удалим нулевые значения"
   ]
  },
  {
   "cell_type": "code",
   "execution_count": 23,
   "metadata": {},
   "outputs": [],
   "source": [
    "train_data_cleaned = train_data_cleaned.drop(train_data_cleaned[train_data_cleaned['rougher.input.feed_ag'] == 0].index)\n",
    "train_data_cleaned = train_data_cleaned.drop(train_data_cleaned[train_data_cleaned['rougher.output.concentrate_ag'] == 0].index)\n",
    "train_data_cleaned = train_data_cleaned.drop(train_data_cleaned[train_data_cleaned['primary_cleaner.output.concentrate_ag'] == 0].index)\n",
    "train_data_cleaned = train_data_cleaned.drop(train_data_cleaned[train_data_cleaned['final.output.concentrate_ag'] == 0].index)"
   ]
  },
  {
   "cell_type": "markdown",
   "metadata": {},
   "source": [
    "Концентрация Ag снижается с каждым этапом, кроме final.output"
   ]
  },
  {
   "cell_type": "code",
   "execution_count": 24,
   "metadata": {},
   "outputs": [
    {
     "data": {
      "image/png": "[encoded data removed]",
      "text/plain": [
       "<Figure size 864x648 with 1 Axes>"
      ]
     },
     "metadata": {
      "needs_background": "light"
     },
     "output_type": "display_data"
    }
   ],
   "source": [
    "fig, ax = plt.subplots(figsize=[12, 9])\n",
    "sns.histplot(train_data_cleaned['rougher.input.feed_pb'], bins=100, label='rougher.inpu', kde=True, color='red', alpha=0.5)\n",
    "sns.histplot(train_data_cleaned['rougher.output.concentrate_pb'], bins=100, label='rougher.output', kde=True, color='purple', alpha=0.5)\n",
    "sns.histplot(train_data_cleaned['primary_cleaner.output.concentrate_pb'], bins=100, label='primary_cleaner.output', kde=True, color='green', alpha=0.5)\n",
    "sns.histplot(train_data_cleaned['final.output.concentrate_pb'], bins=100, label='final.output', kde=True, color='blue', alpha=0.5)\n",
    "ax.set_xlabel(\"Концентрация Pb\")\n",
    "ax.set_ylabel(\"Количество наблюдений\")\n",
    "ax.set_title(\"Сравнение распределения концентрации Pb на разных этапах\")\n",
    "plt.legend(loc='upper left', fontsize='x-large')\n",
    "plt.show()"
   ]
  },
  {
   "cell_type": "markdown",
   "metadata": {},
   "source": [
    "Удалим нулевые значения"
   ]
  },
  {
   "cell_type": "code",
   "execution_count": 25,
   "metadata": {},
   "outputs": [],
   "source": [
    "train_data_cleaned = train_data_cleaned.drop(train_data_cleaned[train_data_cleaned['rougher.input.feed_pb'] == 0].index)\n",
    "train_data_cleaned = train_data_cleaned.drop(train_data_cleaned[train_data_cleaned['rougher.output.concentrate_pb'] == 0].index)\n",
    "train_data_cleaned = train_data_cleaned.drop(train_data_cleaned[train_data_cleaned['primary_cleaner.output.concentrate_pb'] == 0].index)\n",
    "train_data_cleaned = train_data_cleaned.drop(train_data_cleaned[train_data_cleaned['final.output.concentrate_pb'] == 0].index)"
   ]
  },
  {
   "cell_type": "markdown",
   "metadata": {},
   "source": [
    "Судя по графикам концентрация Pb слегка увеличивается по этапам"
   ]
  },
  {
   "cell_type": "markdown",
   "metadata": {},
   "source": [
    "### Сравните распределения размеров гранул исходного сырья на обучающей и тестовой выборках"
   ]
  },
  {
   "cell_type": "code",
   "execution_count": 26,
   "metadata": {},
   "outputs": [
    {
     "data": {
      "image/png": "[encoded data removed]",
      "text/plain": [
       "<Figure size 864x648 with 1 Axes>"
      ]
     },
     "metadata": {
      "needs_background": "light"
     },
     "output_type": "display_data"
    }
   ],
   "source": [
    "fig, ax = plt.subplots(figsize=[12, 9])\n",
    "sns.histplot(train_data_cleaned['rougher.input.feed_size'], bins=100, label='Обучающая выборка', kde=True, color='blue', alpha=0.5, stat='density')\n",
    "sns.histplot(test_data['rougher.input.feed_size'], bins=100, label='Тестовая выборка', kde=True, color='green', alpha=0.5, stat='density')\n",
    "ax.set_xlabel(\"Размеры гранул исходного сырья\")\n",
    "ax.set_ylabel(\"Плотность вероятности\")\n",
    "ax.set_title(\"Сравнение распределений размеров гранул\")\n",
    "plt.legend(loc='upper right', fontsize='x-large')\n",
    "plt.show()"
   ]
  },
  {
   "cell_type": "markdown",
   "metadata": {},
   "source": [
    "H0 (нулевая гипотеза): Распределения размеров гранул исходного сырья в обучающей и тестовой выборках одинаковы.\n",
    "\n",
    "H1 (альтернативная гипотеза): Распределения размеров гранул исходного сырья в обучающей и тестовой выборках различаются."
   ]
  },
  {
   "cell_type": "code",
   "execution_count": 27,
   "metadata": {},
   "outputs": [],
   "source": [
    "alpha = 0.05\n",
    "t_stat, p_value = stats.ttest_ind(train_data_cleaned['rougher.input.feed_size'], test_data['rougher.input.feed_size'], equal_var=False)"
   ]
  },
  {
   "cell_type": "code",
   "execution_count": 28,
   "metadata": {},
   "outputs": [
    {
     "name": "stdout",
     "output_type": "stream",
     "text": [
      "Принимаем нулевую гипотезу: Распределения размеров гранул одинаковы\n"
     ]
    }
   ],
   "source": [
    "if p_value < alpha:\n",
    "    print(\"Отвергаем нулевую гипотезу: Распределения размеров гранул различаются\")\n",
    "else:\n",
    "    print(\"Принимаем нулевую гипотезу: Распределения размеров гранул одинаковы\")"
   ]
  },
  {
   "cell_type": "markdown",
   "metadata": {},
   "source": [
    "Распределения размеров гранул исходного сырья на обучающей и тестовой выборках можно назвать схожими. На графике номальное распределение смещеное влево и большое количество вбрососв после 120"
   ]
  },
  {
   "cell_type": "markdown",
   "metadata": {},
   "source": [
    "### Исследуйте суммарную концентрацию металлов на разных стадиях"
   ]
  },
  {
   "cell_type": "code",
   "execution_count": 29,
   "metadata": {},
   "outputs": [],
   "source": [
    "rougher_input_sum = train_data_cleaned['rougher.input.feed_au'] + train_data_cleaned['rougher.input.feed_ag'] + train_data_cleaned['rougher.input.feed_pb']\n",
    "rougher_output_sum = train_data_cleaned['rougher.output.concentrate_au'] + train_data_cleaned['rougher.output.concentrate_ag'] + train_data_cleaned['rougher.output.concentrate_pb']\n",
    "primary_cleaner_output_sum = train_data_cleaned['primary_cleaner.output.concentrate_au'] + train_data_cleaned['primary_cleaner.output.concentrate_ag'] + train_data_cleaned['primary_cleaner.output.concentrate_pb']\n",
    "final_output_sum = train_data_cleaned['final.output.concentrate_au'] + train_data_cleaned['final.output.concentrate_ag'] + train_data_cleaned['final.output.concentrate_pb']"
   ]
  },
  {
   "cell_type": "code",
   "execution_count": 30,
   "metadata": {},
   "outputs": [
    {
     "data": {
      "image/png": "[encoded data removed]",
      "text/plain": [
       "<Figure size 864x648 with 1 Axes>"
      ]
     },
     "metadata": {
      "needs_background": "light"
     },
     "output_type": "display_data"
    }
   ],
   "source": [
    "fig, ax = plt.subplots(figsize=[12, 9])\n",
    "sns.histplot(rougher_input_sum, bins=100, label='Сырье', kde=True, color='blue', alpha=0.5)\n",
    "sns.histplot(rougher_output_sum, bins=100, label='Черновой концентрат', kde=True, color='green', alpha=0.5)\n",
    "sns.histplot(primary_cleaner_output_sum, bins=100, label='Первичная очистка', kde=True, color='red', alpha=0.5)\n",
    "sns.histplot(final_output_sum, bins=100, label='Финальный концентрат', kde=True, color='purple', alpha=0.5)\n",
    "ax.set_xlabel(\"Суммарная концентрация металлов\")\n",
    "ax.set_ylabel(\"Количество наблюдений\")\n",
    "ax.set_title(\"Сравнение суммарной концентрации металлов на разных стадиях\")\n",
    "plt.legend(loc='upper left', fontsize='x-large')\n",
    "plt.show()"
   ]
  },
  {
   "cell_type": "markdown",
   "metadata": {},
   "source": [
    "Суммарная концентрация металлов повышается с каждым этапом "
   ]
  },
  {
   "cell_type": "code",
   "execution_count": 31,
   "metadata": {},
   "outputs": [
    {
     "data": {
      "text/plain": [
       "Index(['date', 'rougher.input.feed_au', 'rougher.input.feed_ag',\n",
       "       'rougher.input.feed_pb', 'rougher.input.feed_sol',\n",
       "       'rougher.input.feed_rate', 'rougher.input.feed_size',\n",
       "       'rougher.input.floatbank10_sulfate',\n",
       "       'rougher.input.floatbank10_xanthate', 'rougher.state.floatbank10_a_air',\n",
       "       'rougher.state.floatbank10_a_level', 'rougher.state.floatbank10_b_air',\n",
       "       'rougher.state.floatbank10_b_level', 'rougher.state.floatbank10_c_air',\n",
       "       'rougher.state.floatbank10_c_level', 'rougher.state.floatbank10_d_air',\n",
       "       'rougher.state.floatbank10_d_level', 'rougher.state.floatbank10_e_air',\n",
       "       'rougher.state.floatbank10_e_level', 'rougher.state.floatbank10_f_air',\n",
       "       'rougher.state.floatbank10_f_level',\n",
       "       'rougher.input.floatbank11_sulfate',\n",
       "       'rougher.input.floatbank11_xanthate',\n",
       "       'rougher.calculation.sulfate_to_au_concentrate',\n",
       "       'rougher.calculation.floatbank10_sulfate_to_au_feed',\n",
       "       'rougher.calculation.floatbank11_sulfate_to_au_feed',\n",
       "       'rougher.calculation.au_pb_ratio', 'rougher.output.concentrate_au',\n",
       "       'rougher.output.concentrate_ag', 'rougher.output.concentrate_pb',\n",
       "       'rougher.output.concentrate_sol', 'rougher.output.recovery',\n",
       "       'rougher.output.tail_au', 'rougher.output.tail_ag',\n",
       "       'rougher.output.tail_pb', 'rougher.output.tail_sol',\n",
       "       'primary_cleaner.input.sulfate', 'primary_cleaner.input.depressant',\n",
       "       'primary_cleaner.input.feed_size', 'primary_cleaner.input.xanthate',\n",
       "       'primary_cleaner.state.floatbank8_a_air',\n",
       "       'primary_cleaner.state.floatbank8_a_level',\n",
       "       'primary_cleaner.state.floatbank8_b_air',\n",
       "       'primary_cleaner.state.floatbank8_b_level',\n",
       "       'primary_cleaner.state.floatbank8_c_air',\n",
       "       'primary_cleaner.state.floatbank8_c_level',\n",
       "       'primary_cleaner.state.floatbank8_d_air',\n",
       "       'primary_cleaner.state.floatbank8_d_level',\n",
       "       'primary_cleaner.output.concentrate_au',\n",
       "       'primary_cleaner.output.concentrate_ag',\n",
       "       'primary_cleaner.output.concentrate_pb',\n",
       "       'primary_cleaner.output.concentrate_sol',\n",
       "       'primary_cleaner.output.tail_au', 'primary_cleaner.output.tail_ag',\n",
       "       'primary_cleaner.output.tail_pb', 'primary_cleaner.output.tail_sol',\n",
       "       'secondary_cleaner.state.floatbank2_a_air',\n",
       "       'secondary_cleaner.state.floatbank2_a_level',\n",
       "       'secondary_cleaner.state.floatbank2_b_air',\n",
       "       'secondary_cleaner.state.floatbank2_b_level',\n",
       "       'secondary_cleaner.state.floatbank3_a_air',\n",
       "       'secondary_cleaner.state.floatbank3_a_level',\n",
       "       'secondary_cleaner.state.floatbank3_b_air',\n",
       "       'secondary_cleaner.state.floatbank3_b_level',\n",
       "       'secondary_cleaner.state.floatbank4_a_air',\n",
       "       'secondary_cleaner.state.floatbank4_a_level',\n",
       "       'secondary_cleaner.state.floatbank4_b_air',\n",
       "       'secondary_cleaner.state.floatbank4_b_level',\n",
       "       'secondary_cleaner.state.floatbank5_a_air',\n",
       "       'secondary_cleaner.state.floatbank5_a_level',\n",
       "       'secondary_cleaner.state.floatbank5_b_air',\n",
       "       'secondary_cleaner.state.floatbank5_b_level',\n",
       "       'secondary_cleaner.state.floatbank6_a_air',\n",
       "       'secondary_cleaner.state.floatbank6_a_level',\n",
       "       'secondary_cleaner.output.tail_au', 'secondary_cleaner.output.tail_ag',\n",
       "       'secondary_cleaner.output.tail_pb', 'secondary_cleaner.output.tail_sol',\n",
       "       'final.output.concentrate_au', 'final.output.concentrate_ag',\n",
       "       'final.output.concentrate_pb', 'final.output.concentrate_sol',\n",
       "       'final.output.recovery', 'final.output.tail_au', 'final.output.tail_ag',\n",
       "       'final.output.tail_pb', 'final.output.tail_sol'],\n",
       "      dtype='object')"
      ]
     },
     "execution_count": 31,
     "metadata": {},
     "output_type": "execute_result"
    }
   ],
   "source": [
    "train_data_cleaned.columns"
   ]
  },
  {
   "cell_type": "code",
   "execution_count": 32,
   "metadata": {
    "scrolled": true
   },
   "outputs": [
    {
     "data": {
      "text/plain": [
       "Index(['date', 'rougher.input.feed_au', 'rougher.input.feed_ag',\n",
       "       'rougher.input.feed_pb', 'rougher.input.feed_sol',\n",
       "       'rougher.input.feed_rate', 'rougher.input.feed_size',\n",
       "       'rougher.input.floatbank10_sulfate',\n",
       "       'rougher.input.floatbank10_xanthate', 'rougher.state.floatbank10_a_air',\n",
       "       'rougher.state.floatbank10_a_level', 'rougher.state.floatbank10_b_air',\n",
       "       'rougher.state.floatbank10_b_level', 'rougher.state.floatbank10_c_air',\n",
       "       'rougher.state.floatbank10_c_level', 'rougher.state.floatbank10_d_air',\n",
       "       'rougher.state.floatbank10_d_level', 'rougher.state.floatbank10_e_air',\n",
       "       'rougher.state.floatbank10_e_level', 'rougher.state.floatbank10_f_air',\n",
       "       'rougher.state.floatbank10_f_level',\n",
       "       'rougher.input.floatbank11_sulfate',\n",
       "       'rougher.input.floatbank11_xanthate', 'primary_cleaner.input.sulfate',\n",
       "       'primary_cleaner.input.depressant', 'primary_cleaner.input.feed_size',\n",
       "       'primary_cleaner.input.xanthate',\n",
       "       'primary_cleaner.state.floatbank8_a_air',\n",
       "       'primary_cleaner.state.floatbank8_a_level',\n",
       "       'primary_cleaner.state.floatbank8_b_air',\n",
       "       'primary_cleaner.state.floatbank8_b_level',\n",
       "       'primary_cleaner.state.floatbank8_c_air',\n",
       "       'primary_cleaner.state.floatbank8_c_level',\n",
       "       'primary_cleaner.state.floatbank8_d_air',\n",
       "       'primary_cleaner.state.floatbank8_d_level',\n",
       "       'secondary_cleaner.state.floatbank2_a_air',\n",
       "       'secondary_cleaner.state.floatbank2_a_level',\n",
       "       'secondary_cleaner.state.floatbank2_b_air',\n",
       "       'secondary_cleaner.state.floatbank2_b_level',\n",
       "       'secondary_cleaner.state.floatbank3_a_air',\n",
       "       'secondary_cleaner.state.floatbank3_a_level',\n",
       "       'secondary_cleaner.state.floatbank3_b_air',\n",
       "       'secondary_cleaner.state.floatbank3_b_level',\n",
       "       'secondary_cleaner.state.floatbank4_a_air',\n",
       "       'secondary_cleaner.state.floatbank4_a_level',\n",
       "       'secondary_cleaner.state.floatbank4_b_air',\n",
       "       'secondary_cleaner.state.floatbank4_b_level',\n",
       "       'secondary_cleaner.state.floatbank5_a_air',\n",
       "       'secondary_cleaner.state.floatbank5_a_level',\n",
       "       'secondary_cleaner.state.floatbank5_b_air',\n",
       "       'secondary_cleaner.state.floatbank5_b_level',\n",
       "       'secondary_cleaner.state.floatbank6_a_air',\n",
       "       'secondary_cleaner.state.floatbank6_a_level'],\n",
       "      dtype='object')"
      ]
     },
     "execution_count": 32,
     "metadata": {},
     "output_type": "execute_result"
    }
   ],
   "source": [
    "test_data_cleaned.columns"
   ]
  },
  {
   "cell_type": "code",
   "execution_count": 33,
   "metadata": {
    "scrolled": true
   },
   "outputs": [
    {
     "data": {
      "text/plain": [
       "Index(['date', 'rougher.input.feed_au', 'rougher.input.feed_ag',\n",
       "       'rougher.input.feed_pb', 'rougher.input.feed_sol',\n",
       "       'rougher.input.feed_rate', 'rougher.input.feed_size',\n",
       "       'rougher.input.floatbank10_sulfate',\n",
       "       'rougher.input.floatbank10_xanthate', 'rougher.state.floatbank10_a_air',\n",
       "       'rougher.state.floatbank10_a_level', 'rougher.state.floatbank10_b_air',\n",
       "       'rougher.state.floatbank10_b_level', 'rougher.state.floatbank10_c_air',\n",
       "       'rougher.state.floatbank10_c_level', 'rougher.state.floatbank10_d_air',\n",
       "       'rougher.state.floatbank10_d_level', 'rougher.state.floatbank10_e_air',\n",
       "       'rougher.state.floatbank10_e_level', 'rougher.state.floatbank10_f_air',\n",
       "       'rougher.state.floatbank10_f_level',\n",
       "       'rougher.input.floatbank11_sulfate',\n",
       "       'rougher.input.floatbank11_xanthate',\n",
       "       'rougher.calculation.sulfate_to_au_concentrate',\n",
       "       'rougher.calculation.floatbank10_sulfate_to_au_feed',\n",
       "       'rougher.calculation.floatbank11_sulfate_to_au_feed',\n",
       "       'rougher.calculation.au_pb_ratio', 'rougher.output.concentrate_au',\n",
       "       'rougher.output.concentrate_ag', 'rougher.output.concentrate_pb',\n",
       "       'rougher.output.concentrate_sol', 'rougher.output.recovery',\n",
       "       'rougher.output.tail_au', 'rougher.output.tail_ag',\n",
       "       'rougher.output.tail_pb', 'rougher.output.tail_sol',\n",
       "       'primary_cleaner.input.sulfate', 'primary_cleaner.input.depressant',\n",
       "       'primary_cleaner.input.feed_size', 'primary_cleaner.input.xanthate',\n",
       "       'primary_cleaner.state.floatbank8_a_air',\n",
       "       'primary_cleaner.state.floatbank8_a_level',\n",
       "       'primary_cleaner.state.floatbank8_b_air',\n",
       "       'primary_cleaner.state.floatbank8_b_level',\n",
       "       'primary_cleaner.state.floatbank8_c_air',\n",
       "       'primary_cleaner.state.floatbank8_c_level',\n",
       "       'primary_cleaner.state.floatbank8_d_air',\n",
       "       'primary_cleaner.state.floatbank8_d_level',\n",
       "       'primary_cleaner.output.concentrate_au',\n",
       "       'primary_cleaner.output.concentrate_ag',\n",
       "       'primary_cleaner.output.concentrate_pb',\n",
       "       'primary_cleaner.output.concentrate_sol',\n",
       "       'primary_cleaner.output.tail_au', 'primary_cleaner.output.tail_ag',\n",
       "       'primary_cleaner.output.tail_pb', 'primary_cleaner.output.tail_sol',\n",
       "       'secondary_cleaner.state.floatbank2_a_air',\n",
       "       'secondary_cleaner.state.floatbank2_a_level',\n",
       "       'secondary_cleaner.state.floatbank2_b_air',\n",
       "       'secondary_cleaner.state.floatbank2_b_level',\n",
       "       'secondary_cleaner.state.floatbank3_a_air',\n",
       "       'secondary_cleaner.state.floatbank3_a_level',\n",
       "       'secondary_cleaner.state.floatbank3_b_air',\n",
       "       'secondary_cleaner.state.floatbank3_b_level',\n",
       "       'secondary_cleaner.state.floatbank4_a_air',\n",
       "       'secondary_cleaner.state.floatbank4_a_level',\n",
       "       'secondary_cleaner.state.floatbank4_b_air',\n",
       "       'secondary_cleaner.state.floatbank4_b_level',\n",
       "       'secondary_cleaner.state.floatbank5_a_air',\n",
       "       'secondary_cleaner.state.floatbank5_a_level',\n",
       "       'secondary_cleaner.state.floatbank5_b_air',\n",
       "       'secondary_cleaner.state.floatbank5_b_level',\n",
       "       'secondary_cleaner.state.floatbank6_a_air',\n",
       "       'secondary_cleaner.state.floatbank6_a_level',\n",
       "       'secondary_cleaner.output.tail_au', 'secondary_cleaner.output.tail_ag',\n",
       "       'secondary_cleaner.output.tail_pb', 'secondary_cleaner.output.tail_sol',\n",
       "       'final.output.concentrate_au', 'final.output.concentrate_ag',\n",
       "       'final.output.concentrate_pb', 'final.output.concentrate_sol',\n",
       "       'final.output.recovery', 'final.output.tail_au', 'final.output.tail_ag',\n",
       "       'final.output.tail_pb', 'final.output.tail_sol'],\n",
       "      dtype='object')"
      ]
     },
     "execution_count": 33,
     "metadata": {},
     "output_type": "execute_result"
    }
   ],
   "source": [
    "full_data_cleaned.columns"
   ]
  },
  {
   "cell_type": "markdown",
   "metadata": {},
   "source": [
    "Построены гистограммы изменения концентрации металлов на различных этапах: в сырье, в черновом концентрате, в концентрате после первой очистки и в финальном концентрате.\n",
    "\n",
    "Произведено сравнение распределения размеров гранул исходного сырья на обучающей и тестовой выборках, они схожи.\n",
    "\n",
    "Исследована суммарная концентрация металлов на разных стадиях обработки руды, она повышается.\n",
    "\n",
    "Удалены нулевые и аномальные значения."
   ]
  },
  {
   "cell_type": "markdown",
   "metadata": {},
   "source": [
    "## Модель"
   ]
  },
  {
   "cell_type": "markdown",
   "metadata": {},
   "source": [
    "### Напишите функцию для вычисления итоговой sMAPE"
   ]
  },
  {
   "cell_type": "code",
   "execution_count": 34,
   "metadata": {
    "scrolled": false
   },
   "outputs": [],
   "source": [
    "def sMAPE(predict,target):\n",
    "    \n",
    "    predict_rougher = predict[:,0]\n",
    "    target_rougher = target[:,0]\n",
    "    predict_final = predict[:,1]\n",
    "    target_final = target[:,1]\n",
    "    sMAPE_rougher = np.sum(abs(target_rougher - predict_rougher) / ((abs(target_rougher) + abs(predict_rougher)) / 2))\n",
    "    sMAPE_rougher = sMAPE_rougher / len(target_rougher) * 100 \n",
    "    sMAPE_final = np.sum(abs(target_final - predict_final) / ((abs(target_final) + abs(predict_final)) / 2))\n",
    "    sMAPE_final = sMAPE_final / len(target_final) * 100\n",
    "    sMAPE = 0.25 * sMAPE_rougher + 0.75 * sMAPE_final\n",
    "    return sMAPE"
   ]
  },
  {
   "cell_type": "markdown",
   "metadata": {},
   "source": [
    "### Обучите разные модели и оцените их качество кросс-валидацией. Выберите лучшую модель и проверьте её на тестовой выборке. "
   ]
  },
  {
   "cell_type": "code",
   "execution_count": 35,
   "metadata": {},
   "outputs": [],
   "source": [
    "custom_scorer = make_scorer(sMAPE, greater_is_better=False)"
   ]
  },
  {
   "cell_type": "code",
   "execution_count": 36,
   "metadata": {},
   "outputs": [],
   "source": [
    "columns = test_data_cleaned.columns\n",
    "features_train = train_data_cleaned[columns] \n",
    "features_train = features_train.drop(['date'],axis=1) \n",
    "target_train = train_data_cleaned[['rougher.output.recovery','final.output.recovery']] \n",
    "test_data_cleaned_target = test_data_cleaned.merge(full_data_cleaned, how='left', on='date',suffixes=('', '_dummy'))\n",
    "test_data_cleaned_target = test_data_cleaned_target.dropna() \n",
    "features_test = test_data_cleaned_target[columns] \n",
    "features_test = features_test.drop(['date'],axis=1)\n",
    "target_test = test_data_cleaned_target[['rougher.output.recovery','final.output.recovery']]"
   ]
  },
  {
   "cell_type": "code",
   "execution_count": 37,
   "metadata": {},
   "outputs": [],
   "source": [
    "scaler = MinMaxScaler()\n",
    "scaler.fit(features_train)\n",
    "features_train_st = scaler.transform(features_train)\n",
    "features_test_st = scaler.transform(features_test)"
   ]
  },
  {
   "cell_type": "code",
   "execution_count": 38,
   "metadata": {},
   "outputs": [],
   "source": [
    "lasso_pipeline = Pipeline([\n",
    "    ('scaler', MinMaxScaler()),\n",
    "    ('model', Lasso(random_state=123))\n",
    "])\n",
    "\n",
    "elasticnet_pipeline = Pipeline([\n",
    "    ('scaler', MinMaxScaler()),\n",
    "    ('model', ElasticNet(random_state=123))\n",
    "])\n",
    "\n",
    "rf_pipeline = Pipeline([\n",
    "    ('scaler', MinMaxScaler()),\n",
    "    ('model', RandomForestRegressor(random_state=123))\n",
    "])\n",
    "\n",
    "dt_pipeline = Pipeline([\n",
    "    ('scaler', MinMaxScaler()),\n",
    "    ('model', DecisionTreeRegressor(random_state=123))\n",
    "])"
   ]
  },
  {
   "cell_type": "code",
   "execution_count": 39,
   "metadata": {},
   "outputs": [],
   "source": [
    "params_lasso = {\"model__alpha\": np.arange(0.01, 0.21, 0.1)}\n",
    "params_elasticnet = {\"model__alpha\": np.arange(0.01, 0.21, 0.1),\"model__l1_ratio\": np.arange(0.1, 0.3, 0.1)}\n",
    "params_rf = {\"model__n_estimators\": range(50, 151, 50),\"model__max_depth\": range(5, 25, 10)}\n",
    "params_dt = {\"model__max_depth\": range(5, 25, 10),\"model__min_samples_split\": range(2, 12, 5)}"
   ]
  },
  {
   "cell_type": "code",
   "execution_count": 40,
   "metadata": {
    "scrolled": true
   },
   "outputs": [
    {
     "name": "stdout",
     "output_type": "stream",
     "text": [
      "Лучшие модели и оценки для этапа флотации:\n",
      "Lasso: Pipeline(steps=[('scaler', MinMaxScaler()),\n",
      "                ('model', Lasso(alpha=0.11, random_state=123))]), оценка: 7.371584446731466\n",
      "ElasticNet: Pipeline(steps=[('scaler', MinMaxScaler()),\n",
      "                ('model',\n",
      "                 ElasticNet(alpha=0.01, l1_ratio=0.1, random_state=123))]), оценка: 7.5248795881091155\n",
      "Random Forest: Pipeline(steps=[('scaler', MinMaxScaler()),\n",
      "                ('model',\n",
      "                 RandomForestRegressor(max_depth=5, random_state=123))]), оценка: 8.180322846961278\n",
      "Decision Tree: Pipeline(steps=[('scaler', MinMaxScaler()),\n",
      "                ('model',\n",
      "                 DecisionTreeRegressor(max_depth=5, random_state=123))]), оценка: 8.5531496580759\n"
     ]
    }
   ],
   "source": [
    "grid_lasso = GridSearchCV(lasso_pipeline, param_grid=params_lasso, scoring=custom_scorer, cv=5)\n",
    "grid_elasticnet = GridSearchCV(elasticnet_pipeline, param_grid=params_elasticnet, scoring=custom_scorer, cv=5)\n",
    "grid_rf = GridSearchCV(rf_pipeline, param_grid=params_rf, scoring=custom_scorer, cv=5)\n",
    "grid_dt = GridSearchCV(dt_pipeline, param_grid=params_dt, scoring=custom_scorer, cv=5)\n",
    "grid_lasso.fit(features_train_st, np.array(target_train))\n",
    "grid_elasticnet.fit(features_train_st, np.array(target_train))\n",
    "grid_rf.fit(features_train_st, np.array(target_train))\n",
    "grid_dt.fit(features_train_st, np.array(target_train))\n",
    "best_lasso_model = grid_lasso.best_estimator_\n",
    "best_elasticnet_model = grid_elasticnet.best_estimator_\n",
    "best_rf_model = grid_rf.best_estimator_\n",
    "best_dt_model = grid_dt.best_estimator_\n",
    "best_lasso_score = abs(grid_lasso.best_score_)  \n",
    "best_elasticnet_score = grid_elasticnet.best_score_  \n",
    "best_rf_score = grid_rf.best_score_  \n",
    "best_dt_score = grid_dt.best_score_  \n",
    "print(\"Лучшие модели и оценки для этапа флотации:\")\n",
    "print(f\"Lasso: {best_lasso_model}, оценка: {abs(best_lasso_score)}\")\n",
    "print(f\"ElasticNet: {best_elasticnet_model}, оценка: {abs(best_elasticnet_score)}\")\n",
    "print(f\"Random Forest: {best_rf_model}, оценка: {abs(best_rf_score)}\")\n",
    "print(f\"Decision Tree: {best_dt_model}, оценка: {abs(best_dt_score)}\")"
   ]
  },
  {
   "cell_type": "markdown",
   "metadata": {},
   "source": [
    "При сравнении показателей нибольшая эффективность у модели Lasso. В связи с низкой производительностью портала расширить список параметров для выбора подходящего реешния не удалось. В данном случае лучшая модель Lasso с оценкой 7.37"
   ]
  },
  {
   "cell_type": "markdown",
   "metadata": {},
   "source": [
    "### Финальная шибка на тестовой выборке"
   ]
  },
  {
   "cell_type": "code",
   "execution_count": 41,
   "metadata": {},
   "outputs": [
    {
     "name": "stdout",
     "output_type": "stream",
     "text": [
      "sMAPE ошибка модели LASSO для rougher.output.recovery,final.output.recovery: 6.570811588199039\n"
     ]
    }
   ],
   "source": [
    "lasso_predictions = best_lasso_model.predict(features_test_st)\n",
    "smape = sMAPE(lasso_predictions, np.array(target_test))\n",
    "print('sMAPE ошибка модели LASSO для rougher.output.recovery,final.output.recovery:', smape)"
   ]
  },
  {
   "cell_type": "markdown",
   "metadata": {},
   "source": [
    "### Сравнение с константной моделью на тестовой выборке"
   ]
  },
  {
   "cell_type": "code",
   "execution_count": 42,
   "metadata": {},
   "outputs": [
    {
     "name": "stdout",
     "output_type": "stream",
     "text": [
      "sMAPE ошибка модели DummyRegressor для rougher.output.recovery,final.output.recovery: 7.755333567994164\n"
     ]
    }
   ],
   "source": [
    "dummy_regr = DummyRegressor(strategy = \"median\")\n",
    "dummy_regr.fit(features_train_st, target_train)\n",
    "predict = dummy_regr.predict(features_test_st)\n",
    "smape = sMAPE(predict, np.array(target_test))\n",
    "print('sMAPE ошибка модели DummyRegressor для rougher.output.recovery,final.output.recovery:', smape)"
   ]
  },
  {
   "cell_type": "markdown",
   "metadata": {},
   "source": [
    "В качестве лучшей модели выбран  Lasso Финальная ошибка на тестовой выборке  6.57. Модель DummyRegressor показала 7.75."
   ]
  },
  {
   "cell_type": "markdown",
   "metadata": {},
   "source": [
    "## Вывод"
   ]
  },
  {
   "cell_type": "markdown",
   "metadata": {},
   "source": [
    "Для анализа были предоставлены следующие файлы:\n",
    "\n",
    "gold_industry_train.csv — обучающая выборка;\n",
    "\n",
    "gold_industry_test.csv — тестовая выборка;\n",
    "\n",
    "gold_industry_full.csv — исходные данные.\n",
    "\n",
    "В пунктах подговтовки данных были произведены следующие действия:\n",
    "\n",
    "Открыты и изучены данные\n",
    "\n",
    "Проведена проверка расчета эффективности обогащения, MAE между расчетами и реальными значениями составила 1.08, что говорит о правильности расчета в исходном файле.\n",
    "\n",
    "Выявлены признаки недоступные в тестовой выборке, вероятно они замеряются и/или рассчитываются значительно позже.\n",
    "\n",
    "Проведена предобработка данных:\n",
    "Дубликатов не обранужено.\n",
    "Пропуски удалены.\n",
    "\n",
    "Изучены изменения концентрации металлов (Au, Ag, Pb) на различных этапах: в сырье, в черновом концентрате, в концентрате после первой очистки и в финальном концентрате.\n",
    "\n",
    "Концентрация Au повышается с каждым этапом\n",
    "\n",
    "Концентрация Ag снижается с каждым этапом, кроме final.output\n",
    "\n",
    "Концентрация Pb слегка увеличивается по этапам\n",
    "\n",
    "Выполнено сравните распределения размеров гранул исходного сырья на обучающей и тестовой выборках\n",
    "\n",
    "Распределения размеров гранул исходного сырья на обучающей и тестовой выборках схожее.\n",
    "\n",
    "Исследована суммарная концентрация металлов на разных стадиях\n",
    "\n",
    "Суммарная концентрация металлов повышается с каждым этапом\n",
    "\n",
    "Написана функция для вычисления итоговой sMAPE\n",
    "\n",
    "Обучены разные модели и оценено их качество кросс-валидацией. Выберана лучшая модель и проверена на тестовой выборке\n",
    "\n",
    "Обученые лучшие модели:\n",
    "\n",
    "Лучшие модели и оценки для этапа флотации:\n",
    "\n",
    "Lasso: Pipeline(steps=[('scaler', MinMaxScaler()),('model', Lasso(alpha=0.11, random_state=123))]), оценка: 7.371584446731466\n",
    "\n",
    "ElasticNet: Pipeline(steps=[('scaler', MinMaxScaler()), ('model', ElasticNet(alpha=0.01, l1_ratio=0.1, random_state=123))]), оценка: 7.5248795881091155\n",
    "\n",
    "Random Forest: Pipeline(steps=[('scaler', MinMaxScaler()), ('model', RandomForestRegressor(max_depth=5, random_state=123))]), оценка: 8.180322846961278\n",
    "\n",
    "Decision Tree: Pipeline(steps=[('scaler', MinMaxScaler()), ('model', DecisionTreeRegressor(max_depth=5, random_state=123))]), оценка: 8.5531496580759\n",
    "\n",
    "В качестве лучшей модели была выбрана модель Lasso, финальная ошибка на тестовых данных 6.57.\n",
    "\n",
    "Дополнительно было проведено сравнение с константной моделью с папрметром strategy = \"median\" финальная ошибка составила 7.75\n",
    "\n",
    "Исходя из вышеизложенного обученную модель Lasso можно рекомендовать в качестве прототипа модели машинного обучения промышленных предприятий по добыче золота из золотоносной руды"
   ]
  }
 ],
 "metadata": {
  "ExecuteTimeLog": [
   {
    "duration": 47,
    "start_time": "2023-09-07T16:49:21.483Z"
   },
   {
    "duration": 1495,
    "start_time": "2023-09-07T16:49:31.075Z"
   },
   {
    "duration": 1049,
    "start_time": "2023-09-07T16:49:32.572Z"
   },
   {
    "duration": 86,
    "start_time": "2023-09-07T16:50:34.615Z"
   },
   {
    "duration": 66,
    "start_time": "2023-09-07T16:51:27.907Z"
   },
   {
    "duration": 1497,
    "start_time": "2023-09-07T16:52:15.062Z"
   },
   {
    "duration": 3121,
    "start_time": "2023-09-07T16:52:16.562Z"
   },
   {
    "duration": 19,
    "start_time": "2023-09-07T16:53:13.296Z"
   },
   {
    "duration": 11,
    "start_time": "2023-09-07T17:00:03.817Z"
   },
   {
    "duration": 10,
    "start_time": "2023-09-07T17:00:06.036Z"
   },
   {
    "duration": 316,
    "start_time": "2023-09-07T17:11:11.340Z"
   },
   {
    "duration": 117,
    "start_time": "2023-09-07T17:11:40.354Z"
   },
   {
    "duration": 114,
    "start_time": "2023-09-07T17:11:50.653Z"
   },
   {
    "duration": 305,
    "start_time": "2023-09-07T17:12:25.691Z"
   },
   {
    "duration": 297,
    "start_time": "2023-09-07T17:12:43.227Z"
   },
   {
    "duration": 313,
    "start_time": "2023-09-07T17:14:36.037Z"
   },
   {
    "duration": 350,
    "start_time": "2023-09-07T17:14:42.494Z"
   },
   {
    "duration": 340,
    "start_time": "2023-09-07T17:15:47.374Z"
   },
   {
    "duration": 321,
    "start_time": "2023-09-07T17:24:06.637Z"
   },
   {
    "duration": 22,
    "start_time": "2023-09-07T17:29:25.807Z"
   },
   {
    "duration": 19,
    "start_time": "2023-09-07T17:29:35.508Z"
   },
   {
    "duration": 321,
    "start_time": "2023-09-07T17:30:28.957Z"
   },
   {
    "duration": 172,
    "start_time": "2023-09-07T17:31:04.160Z"
   },
   {
    "duration": 16,
    "start_time": "2023-09-07T17:31:34.642Z"
   },
   {
    "duration": 11,
    "start_time": "2023-09-07T17:32:27.996Z"
   },
   {
    "duration": 21,
    "start_time": "2023-09-07T17:33:11.061Z"
   },
   {
    "duration": 1489,
    "start_time": "2023-09-07T17:33:17.146Z"
   },
   {
    "duration": 883,
    "start_time": "2023-09-07T17:33:18.637Z"
   },
   {
    "duration": 391,
    "start_time": "2023-09-07T17:33:19.522Z"
   },
   {
    "duration": 169,
    "start_time": "2023-09-07T17:33:19.915Z"
   },
   {
    "duration": 379,
    "start_time": "2023-09-07T17:33:20.087Z"
   },
   {
    "duration": 18,
    "start_time": "2023-09-07T17:33:20.468Z"
   },
   {
    "duration": 24,
    "start_time": "2023-09-07T17:33:20.488Z"
   },
   {
    "duration": 37,
    "start_time": "2023-09-07T17:33:20.514Z"
   },
   {
    "duration": 8,
    "start_time": "2023-09-07T17:33:20.553Z"
   },
   {
    "duration": 18,
    "start_time": "2023-09-07T17:33:20.563Z"
   },
   {
    "duration": 9,
    "start_time": "2023-09-07T17:38:30.794Z"
   },
   {
    "duration": 4,
    "start_time": "2023-09-07T17:46:44.733Z"
   },
   {
    "duration": 4,
    "start_time": "2023-09-07T17:49:18.766Z"
   },
   {
    "duration": 4,
    "start_time": "2023-09-07T17:51:28.773Z"
   },
   {
    "duration": 1551,
    "start_time": "2023-09-07T17:51:43.734Z"
   },
   {
    "duration": 913,
    "start_time": "2023-09-07T17:51:45.288Z"
   },
   {
    "duration": 399,
    "start_time": "2023-09-07T17:51:46.203Z"
   },
   {
    "duration": 153,
    "start_time": "2023-09-07T17:51:46.603Z"
   },
   {
    "duration": 381,
    "start_time": "2023-09-07T17:51:46.758Z"
   },
   {
    "duration": 19,
    "start_time": "2023-09-07T17:51:47.141Z"
   },
   {
    "duration": 10,
    "start_time": "2023-09-07T17:51:47.162Z"
   },
   {
    "duration": 29,
    "start_time": "2023-09-07T17:51:47.173Z"
   },
   {
    "duration": 9,
    "start_time": "2023-09-07T17:51:47.203Z"
   },
   {
    "duration": 9,
    "start_time": "2023-09-07T17:51:47.243Z"
   },
   {
    "duration": 6,
    "start_time": "2023-09-07T17:51:47.253Z"
   },
   {
    "duration": 5,
    "start_time": "2023-09-07T17:51:47.260Z"
   },
   {
    "duration": 4,
    "start_time": "2023-09-07T17:53:17.605Z"
   },
   {
    "duration": 4,
    "start_time": "2023-09-07T17:54:38.504Z"
   },
   {
    "duration": 7,
    "start_time": "2023-09-07T17:55:16.596Z"
   },
   {
    "duration": 5,
    "start_time": "2023-09-07T17:55:45.713Z"
   },
   {
    "duration": 285,
    "start_time": "2023-09-07T17:57:41.027Z"
   },
   {
    "duration": 42,
    "start_time": "2023-09-07T17:57:52.753Z"
   },
   {
    "duration": 365,
    "start_time": "2023-09-07T17:58:31.696Z"
   },
   {
    "duration": 240,
    "start_time": "2023-09-07T17:59:09.156Z"
   },
   {
    "duration": 328,
    "start_time": "2023-09-07T17:59:18.099Z"
   },
   {
    "duration": 300,
    "start_time": "2023-09-07T17:59:31.694Z"
   },
   {
    "duration": 242,
    "start_time": "2023-09-07T17:59:39.722Z"
   },
   {
    "duration": 241,
    "start_time": "2023-09-07T18:02:01.124Z"
   },
   {
    "duration": 22,
    "start_time": "2023-09-07T18:05:40.535Z"
   },
   {
    "duration": 17,
    "start_time": "2023-09-07T18:06:01.032Z"
   },
   {
    "duration": 16,
    "start_time": "2023-09-07T18:06:18.295Z"
   },
   {
    "duration": 1426,
    "start_time": "2023-09-07T18:08:40.708Z"
   },
   {
    "duration": 842,
    "start_time": "2023-09-07T18:08:42.136Z"
   },
   {
    "duration": 351,
    "start_time": "2023-09-07T18:08:42.980Z"
   },
   {
    "duration": 133,
    "start_time": "2023-09-07T18:08:43.333Z"
   },
   {
    "duration": 339,
    "start_time": "2023-09-07T18:08:43.467Z"
   },
   {
    "duration": 17,
    "start_time": "2023-09-07T18:08:43.807Z"
   },
   {
    "duration": 25,
    "start_time": "2023-09-07T18:08:43.826Z"
   },
   {
    "duration": 25,
    "start_time": "2023-09-07T18:08:43.852Z"
   },
   {
    "duration": 10,
    "start_time": "2023-09-07T18:08:43.878Z"
   },
   {
    "duration": 8,
    "start_time": "2023-09-07T18:08:43.890Z"
   },
   {
    "duration": 11,
    "start_time": "2023-09-07T18:08:43.900Z"
   },
   {
    "duration": 5,
    "start_time": "2023-09-07T18:08:43.912Z"
   },
   {
    "duration": 338,
    "start_time": "2023-09-07T18:08:43.918Z"
   },
   {
    "duration": 22,
    "start_time": "2023-09-07T18:08:44.258Z"
   },
   {
    "duration": 353,
    "start_time": "2023-09-07T18:08:44.282Z"
   },
   {
    "duration": 22,
    "start_time": "2023-09-07T18:08:44.637Z"
   },
   {
    "duration": 231,
    "start_time": "2023-09-07T18:11:21.542Z"
   },
   {
    "duration": 16,
    "start_time": "2023-09-07T18:12:23.605Z"
   },
   {
    "duration": 16,
    "start_time": "2023-09-07T18:12:51.415Z"
   },
   {
    "duration": 99,
    "start_time": "2023-09-07T18:13:58.465Z"
   },
   {
    "duration": 3,
    "start_time": "2023-09-07T18:14:04.621Z"
   },
   {
    "duration": 15,
    "start_time": "2023-09-07T18:15:03.863Z"
   },
   {
    "duration": 1513,
    "start_time": "2023-09-07T18:15:25.157Z"
   },
   {
    "duration": 813,
    "start_time": "2023-09-07T18:15:26.672Z"
   },
   {
    "duration": 345,
    "start_time": "2023-09-07T18:15:27.486Z"
   },
   {
    "duration": 134,
    "start_time": "2023-09-07T18:15:27.832Z"
   },
   {
    "duration": 332,
    "start_time": "2023-09-07T18:15:27.968Z"
   },
   {
    "duration": 17,
    "start_time": "2023-09-07T18:15:28.302Z"
   },
   {
    "duration": 25,
    "start_time": "2023-09-07T18:15:28.320Z"
   },
   {
    "duration": 25,
    "start_time": "2023-09-07T18:15:28.347Z"
   },
   {
    "duration": 10,
    "start_time": "2023-09-07T18:15:28.374Z"
   },
   {
    "duration": 9,
    "start_time": "2023-09-07T18:15:28.385Z"
   },
   {
    "duration": 18,
    "start_time": "2023-09-07T18:15:28.396Z"
   },
   {
    "duration": 22,
    "start_time": "2023-09-07T18:15:28.415Z"
   },
   {
    "duration": 263,
    "start_time": "2023-09-07T18:15:28.438Z"
   },
   {
    "duration": 19,
    "start_time": "2023-09-07T18:15:28.703Z"
   },
   {
    "duration": 324,
    "start_time": "2023-09-07T18:15:28.723Z"
   },
   {
    "duration": 235,
    "start_time": "2023-09-07T18:15:29.049Z"
   },
   {
    "duration": 17,
    "start_time": "2023-09-07T18:15:29.286Z"
   },
   {
    "duration": 27,
    "start_time": "2023-09-07T18:15:29.304Z"
   },
   {
    "duration": 1385,
    "start_time": "2023-09-07T18:16:13.608Z"
   },
   {
    "duration": 854,
    "start_time": "2023-09-07T18:16:14.995Z"
   },
   {
    "duration": 375,
    "start_time": "2023-09-07T18:16:15.851Z"
   },
   {
    "duration": 167,
    "start_time": "2023-09-07T18:16:16.228Z"
   },
   {
    "duration": 375,
    "start_time": "2023-09-07T18:16:16.398Z"
   },
   {
    "duration": 20,
    "start_time": "2023-09-07T18:16:16.775Z"
   },
   {
    "duration": 12,
    "start_time": "2023-09-07T18:16:16.797Z"
   },
   {
    "duration": 50,
    "start_time": "2023-09-07T18:16:16.810Z"
   },
   {
    "duration": 9,
    "start_time": "2023-09-07T18:16:16.862Z"
   },
   {
    "duration": 8,
    "start_time": "2023-09-07T18:16:16.873Z"
   },
   {
    "duration": 15,
    "start_time": "2023-09-07T18:16:16.882Z"
   },
   {
    "duration": 29,
    "start_time": "2023-09-07T18:16:16.898Z"
   },
   {
    "duration": 240,
    "start_time": "2023-09-07T18:16:16.929Z"
   },
   {
    "duration": 18,
    "start_time": "2023-09-07T18:16:17.171Z"
   },
   {
    "duration": 299,
    "start_time": "2023-09-07T18:16:17.190Z"
   },
   {
    "duration": 225,
    "start_time": "2023-09-07T18:16:17.490Z"
   },
   {
    "duration": 17,
    "start_time": "2023-09-07T18:16:17.716Z"
   },
   {
    "duration": 21,
    "start_time": "2023-09-07T18:16:17.734Z"
   },
   {
    "duration": 8,
    "start_time": "2023-09-07T18:19:25.594Z"
   },
   {
    "duration": 9,
    "start_time": "2023-09-07T18:21:48.877Z"
   },
   {
    "duration": 495,
    "start_time": "2023-09-07T18:22:54.302Z"
   },
   {
    "duration": 519,
    "start_time": "2023-09-07T18:23:02.015Z"
   },
   {
    "duration": 181,
    "start_time": "2023-09-07T18:24:06.011Z"
   },
   {
    "duration": 560,
    "start_time": "2023-09-07T18:24:21.432Z"
   },
   {
    "duration": 457,
    "start_time": "2023-09-07T18:25:24.995Z"
   },
   {
    "duration": 676,
    "start_time": "2023-09-07T18:34:07.494Z"
   },
   {
    "duration": 501,
    "start_time": "2023-09-07T18:35:38.573Z"
   },
   {
    "duration": 490,
    "start_time": "2023-09-07T18:35:57.707Z"
   },
   {
    "duration": 600,
    "start_time": "2023-09-07T18:36:07.793Z"
   },
   {
    "duration": 477,
    "start_time": "2023-09-07T18:36:45.439Z"
   },
   {
    "duration": 496,
    "start_time": "2023-09-07T18:37:26.148Z"
   },
   {
    "duration": 680,
    "start_time": "2023-09-07T18:38:35.155Z"
   },
   {
    "duration": 503,
    "start_time": "2023-09-07T18:39:56.154Z"
   },
   {
    "duration": 588,
    "start_time": "2023-09-07T18:42:15.990Z"
   },
   {
    "duration": 972,
    "start_time": "2023-09-07T18:42:23.589Z"
   },
   {
    "duration": 723,
    "start_time": "2023-09-07T18:42:55.186Z"
   },
   {
    "duration": 661,
    "start_time": "2023-09-07T18:43:12.831Z"
   },
   {
    "duration": 413,
    "start_time": "2023-09-07T18:47:24.618Z"
   },
   {
    "duration": 528,
    "start_time": "2023-09-07T18:47:31.817Z"
   },
   {
    "duration": 696,
    "start_time": "2023-09-07T18:48:25.801Z"
   },
   {
    "duration": 1944,
    "start_time": "2023-09-07T18:50:27.825Z"
   },
   {
    "duration": 710,
    "start_time": "2023-09-07T18:52:28.146Z"
   },
   {
    "duration": 8,
    "start_time": "2023-09-07T18:57:04.318Z"
   },
   {
    "duration": 477,
    "start_time": "2023-09-07T18:57:19.356Z"
   },
   {
    "duration": 588,
    "start_time": "2023-09-07T18:57:27.789Z"
   },
   {
    "duration": 1520,
    "start_time": "2023-09-07T18:59:13.088Z"
   },
   {
    "duration": 945,
    "start_time": "2023-09-07T18:59:14.611Z"
   },
   {
    "duration": 416,
    "start_time": "2023-09-07T18:59:15.558Z"
   },
   {
    "duration": 169,
    "start_time": "2023-09-07T18:59:15.975Z"
   },
   {
    "duration": 414,
    "start_time": "2023-09-07T18:59:16.147Z"
   },
   {
    "duration": 22,
    "start_time": "2023-09-07T18:59:16.563Z"
   },
   {
    "duration": 11,
    "start_time": "2023-09-07T18:59:16.587Z"
   },
   {
    "duration": 52,
    "start_time": "2023-09-07T18:59:16.600Z"
   },
   {
    "duration": 11,
    "start_time": "2023-09-07T18:59:16.654Z"
   },
   {
    "duration": 10,
    "start_time": "2023-09-07T18:59:16.667Z"
   },
   {
    "duration": 16,
    "start_time": "2023-09-07T18:59:16.679Z"
   },
   {
    "duration": 7,
    "start_time": "2023-09-07T18:59:16.696Z"
   },
   {
    "duration": 294,
    "start_time": "2023-09-07T18:59:16.705Z"
   },
   {
    "duration": 19,
    "start_time": "2023-09-07T18:59:17.001Z"
   },
   {
    "duration": 355,
    "start_time": "2023-09-07T18:59:17.021Z"
   },
   {
    "duration": 292,
    "start_time": "2023-09-07T18:59:17.378Z"
   },
   {
    "duration": 19,
    "start_time": "2023-09-07T18:59:17.671Z"
   },
   {
    "duration": 16,
    "start_time": "2023-09-07T18:59:17.692Z"
   },
   {
    "duration": 569,
    "start_time": "2023-09-07T18:59:17.710Z"
   },
   {
    "duration": 570,
    "start_time": "2023-09-07T18:59:18.281Z"
   },
   {
    "duration": 672,
    "start_time": "2023-09-07T18:59:18.853Z"
   },
   {
    "duration": 712,
    "start_time": "2023-09-07T18:59:19.526Z"
   },
   {
    "duration": 573,
    "start_time": "2023-09-07T18:59:20.240Z"
   },
   {
    "duration": 8,
    "start_time": "2023-09-07T18:59:20.815Z"
   },
   {
    "duration": 566,
    "start_time": "2023-09-07T18:59:20.825Z"
   },
   {
    "duration": 497,
    "start_time": "2023-09-07T19:00:37.658Z"
   },
   {
    "duration": 2403,
    "start_time": "2023-09-07T19:10:53.103Z"
   },
   {
    "duration": 2299,
    "start_time": "2023-09-07T19:11:07.368Z"
   },
   {
    "duration": 612,
    "start_time": "2023-09-07T19:11:54.558Z"
   },
   {
    "duration": 700,
    "start_time": "2023-09-07T19:13:10.162Z"
   },
   {
    "duration": 583,
    "start_time": "2023-09-07T19:13:40.555Z"
   },
   {
    "duration": 19,
    "start_time": "2023-09-07T19:15:39.296Z"
   },
   {
    "duration": 1309,
    "start_time": "2023-09-07T19:15:59.403Z"
   },
   {
    "duration": 820,
    "start_time": "2023-09-07T19:16:00.714Z"
   },
   {
    "duration": 340,
    "start_time": "2023-09-07T19:16:01.535Z"
   },
   {
    "duration": 131,
    "start_time": "2023-09-07T19:16:01.876Z"
   },
   {
    "duration": 364,
    "start_time": "2023-09-07T19:16:02.009Z"
   },
   {
    "duration": 19,
    "start_time": "2023-09-07T19:16:02.374Z"
   },
   {
    "duration": 21,
    "start_time": "2023-09-07T19:16:02.394Z"
   },
   {
    "duration": 40,
    "start_time": "2023-09-07T19:16:02.416Z"
   },
   {
    "duration": 9,
    "start_time": "2023-09-07T19:16:02.458Z"
   },
   {
    "duration": 17,
    "start_time": "2023-09-07T19:16:02.469Z"
   },
   {
    "duration": 18,
    "start_time": "2023-09-07T19:16:02.488Z"
   },
   {
    "duration": 7,
    "start_time": "2023-09-07T19:16:02.507Z"
   },
   {
    "duration": 251,
    "start_time": "2023-09-07T19:16:02.516Z"
   },
   {
    "duration": 18,
    "start_time": "2023-09-07T19:16:02.770Z"
   },
   {
    "duration": 320,
    "start_time": "2023-09-07T19:16:02.790Z"
   },
   {
    "duration": 245,
    "start_time": "2023-09-07T19:16:03.112Z"
   },
   {
    "duration": 16,
    "start_time": "2023-09-07T19:16:03.359Z"
   },
   {
    "duration": 14,
    "start_time": "2023-09-07T19:16:03.376Z"
   },
   {
    "duration": 593,
    "start_time": "2023-09-07T19:16:03.391Z"
   },
   {
    "duration": 733,
    "start_time": "2023-09-07T19:16:03.986Z"
   },
   {
    "duration": 583,
    "start_time": "2023-09-07T19:16:04.721Z"
   },
   {
    "duration": 710,
    "start_time": "2023-09-07T19:16:05.305Z"
   },
   {
    "duration": 397,
    "start_time": "2023-09-07T19:16:06.016Z"
   },
   {
    "duration": 115,
    "start_time": "2023-09-07T19:16:06.415Z"
   },
   {
    "duration": 0,
    "start_time": "2023-09-07T19:16:06.532Z"
   },
   {
    "duration": 18,
    "start_time": "2023-09-07T19:17:32.416Z"
   },
   {
    "duration": 8,
    "start_time": "2023-09-07T19:20:23.022Z"
   },
   {
    "duration": 348,
    "start_time": "2023-09-07T19:20:25.539Z"
   },
   {
    "duration": 613,
    "start_time": "2023-09-07T19:20:32.498Z"
   },
   {
    "duration": 14,
    "start_time": "2023-09-07T19:22:31.691Z"
   },
   {
    "duration": 1251,
    "start_time": "2023-09-07T19:32:51.696Z"
   },
   {
    "duration": 801,
    "start_time": "2023-09-07T19:32:52.949Z"
   },
   {
    "duration": 358,
    "start_time": "2023-09-07T19:32:53.751Z"
   },
   {
    "duration": 165,
    "start_time": "2023-09-07T19:32:54.111Z"
   },
   {
    "duration": 342,
    "start_time": "2023-09-07T19:32:54.279Z"
   },
   {
    "duration": 26,
    "start_time": "2023-09-07T19:32:54.622Z"
   },
   {
    "duration": 10,
    "start_time": "2023-09-07T19:32:54.649Z"
   },
   {
    "duration": 25,
    "start_time": "2023-09-07T19:32:54.661Z"
   },
   {
    "duration": 10,
    "start_time": "2023-09-07T19:32:54.687Z"
   },
   {
    "duration": 8,
    "start_time": "2023-09-07T19:32:54.698Z"
   },
   {
    "duration": 37,
    "start_time": "2023-09-07T19:32:54.707Z"
   },
   {
    "duration": 3,
    "start_time": "2023-09-07T19:32:54.746Z"
   },
   {
    "duration": 259,
    "start_time": "2023-09-07T19:32:54.751Z"
   },
   {
    "duration": 32,
    "start_time": "2023-09-07T19:32:55.013Z"
   },
   {
    "duration": 314,
    "start_time": "2023-09-07T19:32:55.046Z"
   },
   {
    "duration": 242,
    "start_time": "2023-09-07T19:32:55.362Z"
   },
   {
    "duration": 16,
    "start_time": "2023-09-07T19:32:55.606Z"
   },
   {
    "duration": 27,
    "start_time": "2023-09-07T19:32:55.624Z"
   },
   {
    "duration": 591,
    "start_time": "2023-09-07T19:32:55.653Z"
   },
   {
    "duration": 678,
    "start_time": "2023-09-07T19:32:56.245Z"
   },
   {
    "duration": 588,
    "start_time": "2023-09-07T19:32:56.925Z"
   },
   {
    "duration": 691,
    "start_time": "2023-09-07T19:32:57.514Z"
   },
   {
    "duration": 390,
    "start_time": "2023-09-07T19:32:58.206Z"
   },
   {
    "duration": 8,
    "start_time": "2023-09-07T19:32:58.598Z"
   },
   {
    "duration": 494,
    "start_time": "2023-09-07T19:32:58.608Z"
   },
   {
    "duration": 16,
    "start_time": "2023-09-07T19:32:59.104Z"
   },
   {
    "duration": 5,
    "start_time": "2023-09-07T19:32:59.122Z"
   },
   {
    "duration": 27,
    "start_time": "2023-09-07T19:32:59.128Z"
   },
   {
    "duration": 34,
    "start_time": "2023-09-07T19:32:59.156Z"
   },
   {
    "duration": 29,
    "start_time": "2023-09-07T19:32:59.191Z"
   },
   {
    "duration": 94,
    "start_time": "2023-09-07T19:32:59.222Z"
   },
   {
    "duration": 10,
    "start_time": "2023-09-07T19:32:59.317Z"
   },
   {
    "duration": 12,
    "start_time": "2023-09-07T19:32:59.329Z"
   },
   {
    "duration": 9,
    "start_time": "2023-09-07T19:32:59.343Z"
   },
   {
    "duration": 5,
    "start_time": "2023-09-07T19:32:59.353Z"
   },
   {
    "duration": 213422,
    "start_time": "2023-09-07T19:32:59.359Z"
   },
   {
    "duration": 9,
    "start_time": "2023-09-07T19:36:32.782Z"
   },
   {
    "duration": 9,
    "start_time": "2023-09-07T19:36:32.792Z"
   },
   {
    "duration": 6,
    "start_time": "2023-09-07T19:36:32.803Z"
   },
   {
    "duration": 5,
    "start_time": "2023-09-07T19:36:32.810Z"
   },
   {
    "duration": 4,
    "start_time": "2023-09-07T19:36:32.818Z"
   },
   {
    "duration": 25,
    "start_time": "2023-09-07T19:36:32.823Z"
   },
   {
    "duration": 3,
    "start_time": "2023-09-07T19:36:32.849Z"
   },
   {
    "duration": 7,
    "start_time": "2023-09-07T19:36:32.853Z"
   },
   {
    "duration": 107,
    "start_time": "2023-09-07T19:36:32.861Z"
   },
   {
    "duration": 0,
    "start_time": "2023-09-07T19:36:32.970Z"
   },
   {
    "duration": 0,
    "start_time": "2023-09-07T19:36:32.971Z"
   },
   {
    "duration": 0,
    "start_time": "2023-09-07T19:36:32.972Z"
   },
   {
    "duration": 0,
    "start_time": "2023-09-07T19:36:32.973Z"
   },
   {
    "duration": 0,
    "start_time": "2023-09-07T19:36:32.975Z"
   },
   {
    "duration": 0,
    "start_time": "2023-09-07T19:36:32.975Z"
   },
   {
    "duration": 8,
    "start_time": "2023-09-07T19:37:47.625Z"
   },
   {
    "duration": 1408,
    "start_time": "2023-09-07T19:52:35.872Z"
   },
   {
    "duration": 783,
    "start_time": "2023-09-07T19:52:37.282Z"
   },
   {
    "duration": 349,
    "start_time": "2023-09-07T19:52:38.067Z"
   },
   {
    "duration": 141,
    "start_time": "2023-09-07T19:52:38.418Z"
   },
   {
    "duration": 357,
    "start_time": "2023-09-07T19:52:38.561Z"
   },
   {
    "duration": 17,
    "start_time": "2023-09-07T19:52:38.920Z"
   },
   {
    "duration": 11,
    "start_time": "2023-09-07T19:52:38.944Z"
   },
   {
    "duration": 25,
    "start_time": "2023-09-07T19:52:38.956Z"
   },
   {
    "duration": 9,
    "start_time": "2023-09-07T19:52:38.982Z"
   },
   {
    "duration": 37,
    "start_time": "2023-09-07T19:52:38.993Z"
   },
   {
    "duration": 24,
    "start_time": "2023-09-07T19:52:39.031Z"
   },
   {
    "duration": 19,
    "start_time": "2023-09-07T19:52:39.057Z"
   },
   {
    "duration": 243,
    "start_time": "2023-09-07T19:52:39.077Z"
   },
   {
    "duration": 23,
    "start_time": "2023-09-07T19:52:39.322Z"
   },
   {
    "duration": 299,
    "start_time": "2023-09-07T19:52:39.347Z"
   },
   {
    "duration": 257,
    "start_time": "2023-09-07T19:52:39.647Z"
   },
   {
    "duration": 17,
    "start_time": "2023-09-07T19:52:39.905Z"
   },
   {
    "duration": 30,
    "start_time": "2023-09-07T19:52:39.924Z"
   },
   {
    "duration": 680,
    "start_time": "2023-09-07T19:52:39.956Z"
   },
   {
    "duration": 760,
    "start_time": "2023-09-07T19:52:40.638Z"
   },
   {
    "duration": 622,
    "start_time": "2023-09-07T19:52:41.399Z"
   },
   {
    "duration": 871,
    "start_time": "2023-09-07T19:52:42.022Z"
   },
   {
    "duration": 458,
    "start_time": "2023-09-07T19:52:42.895Z"
   },
   {
    "duration": 8,
    "start_time": "2023-09-07T19:52:43.355Z"
   },
   {
    "duration": 494,
    "start_time": "2023-09-07T19:52:43.365Z"
   },
   {
    "duration": 17,
    "start_time": "2023-09-07T19:52:43.861Z"
   },
   {
    "duration": 3,
    "start_time": "2023-09-07T19:52:43.880Z"
   },
   {
    "duration": 9,
    "start_time": "2023-09-07T19:52:43.886Z"
   },
   {
    "duration": 12,
    "start_time": "2023-09-07T19:52:43.896Z"
   },
   {
    "duration": 9,
    "start_time": "2023-09-07T19:52:43.909Z"
   },
   {
    "duration": 11,
    "start_time": "2023-09-07T19:52:43.919Z"
   },
   {
    "duration": 7,
    "start_time": "2023-09-07T19:52:43.945Z"
   },
   {
    "duration": 11,
    "start_time": "2023-09-07T19:52:43.954Z"
   },
   {
    "duration": 7,
    "start_time": "2023-09-07T19:52:43.967Z"
   },
   {
    "duration": 10,
    "start_time": "2023-09-07T19:52:43.976Z"
   },
   {
    "duration": 215896,
    "start_time": "2023-09-07T19:52:43.987Z"
   },
   {
    "duration": 9,
    "start_time": "2023-09-07T19:56:19.885Z"
   },
   {
    "duration": 11,
    "start_time": "2023-09-07T19:56:19.895Z"
   },
   {
    "duration": 14,
    "start_time": "2023-09-07T19:56:19.907Z"
   },
   {
    "duration": 6,
    "start_time": "2023-09-07T19:56:19.923Z"
   },
   {
    "duration": 17,
    "start_time": "2023-09-07T19:56:19.930Z"
   },
   {
    "duration": 3,
    "start_time": "2023-09-07T19:56:19.948Z"
   },
   {
    "duration": 7,
    "start_time": "2023-09-07T19:56:19.952Z"
   },
   {
    "duration": 112,
    "start_time": "2023-09-07T19:56:19.960Z"
   },
   {
    "duration": 0,
    "start_time": "2023-09-07T19:56:20.074Z"
   },
   {
    "duration": 0,
    "start_time": "2023-09-07T19:56:20.075Z"
   },
   {
    "duration": 0,
    "start_time": "2023-09-07T19:56:20.076Z"
   },
   {
    "duration": 0,
    "start_time": "2023-09-07T19:56:20.077Z"
   },
   {
    "duration": 0,
    "start_time": "2023-09-07T19:56:20.078Z"
   },
   {
    "duration": 0,
    "start_time": "2023-09-07T19:56:20.079Z"
   },
   {
    "duration": 5,
    "start_time": "2023-09-07T20:01:27.868Z"
   },
   {
    "duration": 17,
    "start_time": "2023-09-07T20:02:05.023Z"
   },
   {
    "duration": 11,
    "start_time": "2023-09-07T20:03:03.412Z"
   },
   {
    "duration": 45,
    "start_time": "2023-09-07T20:03:06.472Z"
   },
   {
    "duration": 17,
    "start_time": "2023-09-07T20:03:08.606Z"
   },
   {
    "duration": 6,
    "start_time": "2023-09-07T20:03:10.827Z"
   },
   {
    "duration": 9,
    "start_time": "2023-09-07T20:03:12.457Z"
   },
   {
    "duration": 19,
    "start_time": "2023-09-07T20:06:18.641Z"
   },
   {
    "duration": 19,
    "start_time": "2023-09-07T20:07:02.000Z"
   },
   {
    "duration": 14,
    "start_time": "2023-09-07T20:07:45.095Z"
   },
   {
    "duration": 13,
    "start_time": "2023-09-07T20:08:35.346Z"
   },
   {
    "duration": 13,
    "start_time": "2023-09-07T20:08:54.259Z"
   },
   {
    "duration": 12,
    "start_time": "2023-09-07T20:09:11.994Z"
   },
   {
    "duration": 7,
    "start_time": "2023-09-07T20:09:17.968Z"
   },
   {
    "duration": 41,
    "start_time": "2023-09-07T20:09:20.112Z"
   },
   {
    "duration": 15,
    "start_time": "2023-09-07T20:09:20.736Z"
   },
   {
    "duration": 7,
    "start_time": "2023-09-07T20:09:21.337Z"
   },
   {
    "duration": 6,
    "start_time": "2023-09-07T20:09:22.284Z"
   },
   {
    "duration": 8,
    "start_time": "2023-09-07T20:09:23.715Z"
   },
   {
    "duration": 16,
    "start_time": "2023-09-07T20:12:16.513Z"
   },
   {
    "duration": 8,
    "start_time": "2023-09-07T20:12:18.989Z"
   },
   {
    "duration": 64,
    "start_time": "2023-09-07T20:12:20.697Z"
   },
   {
    "duration": 6,
    "start_time": "2023-09-07T20:12:21.423Z"
   },
   {
    "duration": 5,
    "start_time": "2023-09-07T20:12:22.155Z"
   },
   {
    "duration": 3,
    "start_time": "2023-09-07T20:12:23.061Z"
   },
   {
    "duration": 4,
    "start_time": "2023-09-07T20:12:41.170Z"
   },
   {
    "duration": 18,
    "start_time": "2023-09-07T20:16:04.163Z"
   },
   {
    "duration": 59,
    "start_time": "2023-09-07T20:17:38.019Z"
   },
   {
    "duration": 61,
    "start_time": "2023-09-07T20:17:42.412Z"
   },
   {
    "duration": 5,
    "start_time": "2023-09-07T20:17:44.116Z"
   },
   {
    "duration": 5,
    "start_time": "2023-09-07T20:17:45.063Z"
   },
   {
    "duration": 3,
    "start_time": "2023-09-07T20:17:45.946Z"
   },
   {
    "duration": 4,
    "start_time": "2023-09-07T20:17:46.999Z"
   },
   {
    "duration": 7,
    "start_time": "2023-09-07T20:18:10.421Z"
   },
   {
    "duration": 8,
    "start_time": "2023-09-07T20:18:43.607Z"
   },
   {
    "duration": 6,
    "start_time": "2023-09-07T20:19:39.460Z"
   },
   {
    "duration": 6,
    "start_time": "2023-09-07T20:19:40.804Z"
   },
   {
    "duration": 4,
    "start_time": "2023-09-07T20:19:42.017Z"
   },
   {
    "duration": 1405,
    "start_time": "2023-09-07T20:21:23.322Z"
   },
   {
    "duration": 762,
    "start_time": "2023-09-07T20:21:24.743Z"
   },
   {
    "duration": 325,
    "start_time": "2023-09-07T20:21:25.506Z"
   },
   {
    "duration": 135,
    "start_time": "2023-09-07T20:21:25.833Z"
   },
   {
    "duration": 328,
    "start_time": "2023-09-07T20:21:25.970Z"
   },
   {
    "duration": 16,
    "start_time": "2023-09-07T20:21:26.300Z"
   },
   {
    "duration": 10,
    "start_time": "2023-09-07T20:21:26.317Z"
   },
   {
    "duration": 40,
    "start_time": "2023-09-07T20:21:26.329Z"
   },
   {
    "duration": 9,
    "start_time": "2023-09-07T20:21:26.370Z"
   },
   {
    "duration": 8,
    "start_time": "2023-09-07T20:21:26.381Z"
   },
   {
    "duration": 6,
    "start_time": "2023-09-07T20:21:26.390Z"
   },
   {
    "duration": 7,
    "start_time": "2023-09-07T20:21:26.398Z"
   },
   {
    "duration": 255,
    "start_time": "2023-09-07T20:21:26.407Z"
   },
   {
    "duration": 17,
    "start_time": "2023-09-07T20:21:26.666Z"
   },
   {
    "duration": 299,
    "start_time": "2023-09-07T20:21:26.685Z"
   },
   {
    "duration": 238,
    "start_time": "2023-09-07T20:21:26.986Z"
   },
   {
    "duration": 23,
    "start_time": "2023-09-07T20:21:27.226Z"
   },
   {
    "duration": 14,
    "start_time": "2023-09-07T20:21:27.251Z"
   },
   {
    "duration": 611,
    "start_time": "2023-09-07T20:21:27.267Z"
   },
   {
    "duration": 791,
    "start_time": "2023-09-07T20:21:27.880Z"
   },
   {
    "duration": 631,
    "start_time": "2023-09-07T20:21:28.673Z"
   },
   {
    "duration": 720,
    "start_time": "2023-09-07T20:21:29.306Z"
   },
   {
    "duration": 376,
    "start_time": "2023-09-07T20:21:30.028Z"
   },
   {
    "duration": 7,
    "start_time": "2023-09-07T20:21:30.405Z"
   },
   {
    "duration": 478,
    "start_time": "2023-09-07T20:21:30.414Z"
   },
   {
    "duration": 17,
    "start_time": "2023-09-07T20:21:30.893Z"
   },
   {
    "duration": 29,
    "start_time": "2023-09-07T20:21:30.911Z"
   },
   {
    "duration": 61,
    "start_time": "2023-09-07T20:21:30.941Z"
   },
   {
    "duration": 54,
    "start_time": "2023-09-07T20:21:31.003Z"
   },
   {
    "duration": 50,
    "start_time": "2023-09-07T20:21:31.058Z"
   },
   {
    "duration": 209656,
    "start_time": "2023-09-07T20:21:31.109Z"
   },
   {
    "duration": 8,
    "start_time": "2023-09-07T20:25:00.767Z"
   },
   {
    "duration": 31,
    "start_time": "2023-09-07T20:25:00.777Z"
   },
   {
    "duration": 28,
    "start_time": "2023-09-07T20:25:00.810Z"
   },
   {
    "duration": 39,
    "start_time": "2023-09-07T20:25:00.840Z"
   },
   {
    "duration": 108,
    "start_time": "2023-09-07T20:25:00.881Z"
   },
   {
    "duration": 0,
    "start_time": "2023-09-07T20:25:00.990Z"
   },
   {
    "duration": 0,
    "start_time": "2023-09-07T20:25:00.991Z"
   },
   {
    "duration": 0,
    "start_time": "2023-09-07T20:25:00.992Z"
   },
   {
    "duration": 0,
    "start_time": "2023-09-07T20:25:00.993Z"
   },
   {
    "duration": 14,
    "start_time": "2023-09-07T20:26:23.858Z"
   },
   {
    "duration": 70,
    "start_time": "2023-09-07T20:26:44.662Z"
   },
   {
    "duration": 7,
    "start_time": "2023-09-07T20:26:47.832Z"
   },
   {
    "duration": 6,
    "start_time": "2023-09-07T20:26:49.656Z"
   },
   {
    "duration": 6,
    "start_time": "2023-09-07T20:26:51.610Z"
   },
   {
    "duration": 3,
    "start_time": "2023-09-07T20:26:53.106Z"
   },
   {
    "duration": 1278,
    "start_time": "2023-09-07T20:26:59.999Z"
   },
   {
    "duration": 784,
    "start_time": "2023-09-07T20:27:01.279Z"
   },
   {
    "duration": 352,
    "start_time": "2023-09-07T20:27:02.065Z"
   },
   {
    "duration": 138,
    "start_time": "2023-09-07T20:27:02.418Z"
   },
   {
    "duration": 335,
    "start_time": "2023-09-07T20:27:02.558Z"
   },
   {
    "duration": 17,
    "start_time": "2023-09-07T20:27:02.894Z"
   },
   {
    "duration": 10,
    "start_time": "2023-09-07T20:27:02.913Z"
   },
   {
    "duration": 40,
    "start_time": "2023-09-07T20:27:02.924Z"
   },
   {
    "duration": 9,
    "start_time": "2023-09-07T20:27:02.965Z"
   },
   {
    "duration": 8,
    "start_time": "2023-09-07T20:27:02.975Z"
   },
   {
    "duration": 5,
    "start_time": "2023-09-07T20:27:02.984Z"
   },
   {
    "duration": 6,
    "start_time": "2023-09-07T20:27:02.990Z"
   },
   {
    "duration": 258,
    "start_time": "2023-09-07T20:27:02.997Z"
   },
   {
    "duration": 17,
    "start_time": "2023-09-07T20:27:03.257Z"
   },
   {
    "duration": 307,
    "start_time": "2023-09-07T20:27:03.276Z"
   },
   {
    "duration": 238,
    "start_time": "2023-09-07T20:27:03.585Z"
   },
   {
    "duration": 24,
    "start_time": "2023-09-07T20:27:03.825Z"
   },
   {
    "duration": 12,
    "start_time": "2023-09-07T20:27:03.851Z"
   },
   {
    "duration": 700,
    "start_time": "2023-09-07T20:27:03.865Z"
   },
   {
    "duration": 674,
    "start_time": "2023-09-07T20:27:04.567Z"
   },
   {
    "duration": 595,
    "start_time": "2023-09-07T20:27:05.243Z"
   },
   {
    "duration": 706,
    "start_time": "2023-09-07T20:27:05.839Z"
   },
   {
    "duration": 375,
    "start_time": "2023-09-07T20:27:06.547Z"
   },
   {
    "duration": 7,
    "start_time": "2023-09-07T20:27:06.923Z"
   },
   {
    "duration": 479,
    "start_time": "2023-09-07T20:27:06.932Z"
   },
   {
    "duration": 17,
    "start_time": "2023-09-07T20:27:07.412Z"
   },
   {
    "duration": 15,
    "start_time": "2023-09-07T20:27:07.430Z"
   },
   {
    "duration": 10,
    "start_time": "2023-09-07T20:27:07.446Z"
   },
   {
    "duration": 8,
    "start_time": "2023-09-07T20:27:07.457Z"
   },
   {
    "duration": 4,
    "start_time": "2023-09-07T20:27:07.467Z"
   },
   {
    "duration": 212865,
    "start_time": "2023-09-07T20:27:07.472Z"
   },
   {
    "duration": 12,
    "start_time": "2023-09-07T20:30:40.338Z"
   },
   {
    "duration": 7,
    "start_time": "2023-09-07T20:30:40.352Z"
   },
   {
    "duration": 4,
    "start_time": "2023-09-07T20:30:40.360Z"
   },
   {
    "duration": 15,
    "start_time": "2023-09-07T20:30:40.366Z"
   },
   {
    "duration": 116,
    "start_time": "2023-09-07T20:30:40.382Z"
   },
   {
    "duration": 0,
    "start_time": "2023-09-07T20:30:40.499Z"
   },
   {
    "duration": 0,
    "start_time": "2023-09-07T20:30:40.500Z"
   },
   {
    "duration": 0,
    "start_time": "2023-09-07T20:30:40.502Z"
   },
   {
    "duration": 1,
    "start_time": "2023-09-07T20:30:40.502Z"
   },
   {
    "duration": 11,
    "start_time": "2023-09-07T20:31:45.427Z"
   },
   {
    "duration": 75,
    "start_time": "2023-09-07T20:33:16.791Z"
   },
   {
    "duration": 1372,
    "start_time": "2023-09-07T20:33:27.753Z"
   },
   {
    "duration": 762,
    "start_time": "2023-09-07T20:33:29.126Z"
   },
   {
    "duration": 340,
    "start_time": "2023-09-07T20:33:29.889Z"
   },
   {
    "duration": 126,
    "start_time": "2023-09-07T20:33:30.232Z"
   },
   {
    "duration": 324,
    "start_time": "2023-09-07T20:33:30.360Z"
   },
   {
    "duration": 17,
    "start_time": "2023-09-07T20:33:30.685Z"
   },
   {
    "duration": 18,
    "start_time": "2023-09-07T20:33:30.703Z"
   },
   {
    "duration": 52,
    "start_time": "2023-09-07T20:33:30.722Z"
   },
   {
    "duration": 18,
    "start_time": "2023-09-07T20:33:30.776Z"
   },
   {
    "duration": 22,
    "start_time": "2023-09-07T20:33:30.796Z"
   },
   {
    "duration": 30,
    "start_time": "2023-09-07T20:33:30.820Z"
   },
   {
    "duration": 60,
    "start_time": "2023-09-07T20:33:30.851Z"
   },
   {
    "duration": 263,
    "start_time": "2023-09-07T20:33:30.913Z"
   },
   {
    "duration": 17,
    "start_time": "2023-09-07T20:33:31.178Z"
   },
   {
    "duration": 324,
    "start_time": "2023-09-07T20:33:31.196Z"
   },
   {
    "duration": 226,
    "start_time": "2023-09-07T20:33:31.522Z"
   },
   {
    "duration": 16,
    "start_time": "2023-09-07T20:33:31.749Z"
   },
   {
    "duration": 16,
    "start_time": "2023-09-07T20:33:31.766Z"
   },
   {
    "duration": 592,
    "start_time": "2023-09-07T20:33:31.784Z"
   },
   {
    "duration": 687,
    "start_time": "2023-09-07T20:33:32.377Z"
   },
   {
    "duration": 593,
    "start_time": "2023-09-07T20:33:33.066Z"
   },
   {
    "duration": 771,
    "start_time": "2023-09-07T20:33:33.661Z"
   },
   {
    "duration": 374,
    "start_time": "2023-09-07T20:33:34.433Z"
   },
   {
    "duration": 6,
    "start_time": "2023-09-07T20:33:34.809Z"
   },
   {
    "duration": 461,
    "start_time": "2023-09-07T20:33:34.817Z"
   },
   {
    "duration": 16,
    "start_time": "2023-09-07T20:33:35.279Z"
   },
   {
    "duration": 3,
    "start_time": "2023-09-07T20:33:35.296Z"
   },
   {
    "duration": 11,
    "start_time": "2023-09-07T20:33:35.302Z"
   },
   {
    "duration": 6,
    "start_time": "2023-09-07T20:33:35.314Z"
   },
   {
    "duration": 4,
    "start_time": "2023-09-07T20:33:35.344Z"
   },
   {
    "duration": 200217,
    "start_time": "2023-09-07T20:33:35.350Z"
   },
   {
    "duration": 10,
    "start_time": "2023-09-07T20:36:55.569Z"
   },
   {
    "duration": 5,
    "start_time": "2023-09-07T20:36:55.581Z"
   },
   {
    "duration": 9,
    "start_time": "2023-09-07T20:36:55.588Z"
   },
   {
    "duration": 17,
    "start_time": "2023-09-07T20:36:55.599Z"
   },
   {
    "duration": 41,
    "start_time": "2023-09-07T20:36:55.617Z"
   },
   {
    "duration": 8,
    "start_time": "2023-09-07T20:36:55.660Z"
   },
   {
    "duration": 7,
    "start_time": "2023-09-07T20:36:55.669Z"
   },
   {
    "duration": 6,
    "start_time": "2023-09-07T20:36:55.678Z"
   },
   {
    "duration": 4,
    "start_time": "2023-09-07T20:36:55.686Z"
   },
   {
    "duration": 22,
    "start_time": "2023-09-07T20:37:25.269Z"
   },
   {
    "duration": 25,
    "start_time": "2023-09-07T20:37:26.997Z"
   },
   {
    "duration": 1436,
    "start_time": "2023-09-07T20:42:14.053Z"
   },
   {
    "duration": 912,
    "start_time": "2023-09-07T20:42:15.491Z"
   },
   {
    "duration": 402,
    "start_time": "2023-09-07T20:42:16.405Z"
   },
   {
    "duration": 169,
    "start_time": "2023-09-07T20:42:16.809Z"
   },
   {
    "duration": 390,
    "start_time": "2023-09-07T20:42:16.981Z"
   },
   {
    "duration": 19,
    "start_time": "2023-09-07T20:42:17.373Z"
   },
   {
    "duration": 11,
    "start_time": "2023-09-07T20:42:17.394Z"
   },
   {
    "duration": 56,
    "start_time": "2023-09-07T20:42:17.407Z"
   },
   {
    "duration": 11,
    "start_time": "2023-09-07T20:42:17.465Z"
   },
   {
    "duration": 9,
    "start_time": "2023-09-07T20:42:17.478Z"
   },
   {
    "duration": 11,
    "start_time": "2023-09-07T20:42:17.488Z"
   },
   {
    "duration": 4,
    "start_time": "2023-09-07T20:42:17.501Z"
   },
   {
    "duration": 299,
    "start_time": "2023-09-07T20:42:17.506Z"
   },
   {
    "duration": 19,
    "start_time": "2023-09-07T20:42:17.808Z"
   },
   {
    "duration": 361,
    "start_time": "2023-09-07T20:42:17.829Z"
   },
   {
    "duration": 264,
    "start_time": "2023-09-07T20:42:18.192Z"
   },
   {
    "duration": 19,
    "start_time": "2023-09-07T20:42:18.458Z"
   },
   {
    "duration": 15,
    "start_time": "2023-09-07T20:42:18.478Z"
   },
   {
    "duration": 689,
    "start_time": "2023-09-07T20:42:18.495Z"
   },
   {
    "duration": 810,
    "start_time": "2023-09-07T20:42:19.185Z"
   },
   {
    "duration": 831,
    "start_time": "2023-09-07T20:42:19.997Z"
   },
   {
    "duration": 818,
    "start_time": "2023-09-07T20:42:20.830Z"
   },
   {
    "duration": 494,
    "start_time": "2023-09-07T20:42:21.650Z"
   },
   {
    "duration": 7,
    "start_time": "2023-09-07T20:42:22.146Z"
   },
   {
    "duration": 583,
    "start_time": "2023-09-07T20:42:22.155Z"
   },
   {
    "duration": 28,
    "start_time": "2023-09-07T20:42:22.743Z"
   },
   {
    "duration": 4,
    "start_time": "2023-09-07T20:42:22.773Z"
   },
   {
    "duration": 28,
    "start_time": "2023-09-07T20:42:22.779Z"
   },
   {
    "duration": 20,
    "start_time": "2023-09-07T20:42:22.809Z"
   },
   {
    "duration": 5,
    "start_time": "2023-09-07T20:42:22.831Z"
   },
   {
    "duration": 243501,
    "start_time": "2023-09-07T20:42:22.837Z"
   },
   {
    "duration": 16,
    "start_time": "2023-09-07T20:46:26.339Z"
   },
   {
    "duration": 10,
    "start_time": "2023-09-07T20:46:26.357Z"
   },
   {
    "duration": 6,
    "start_time": "2023-09-07T20:46:26.368Z"
   },
   {
    "duration": 18,
    "start_time": "2023-09-07T20:46:26.376Z"
   },
   {
    "duration": 104,
    "start_time": "2023-09-07T20:46:26.396Z"
   },
   {
    "duration": 8,
    "start_time": "2023-09-07T20:46:26.502Z"
   },
   {
    "duration": 9,
    "start_time": "2023-09-07T20:46:26.512Z"
   },
   {
    "duration": 25,
    "start_time": "2023-09-07T20:46:26.523Z"
   },
   {
    "duration": 5,
    "start_time": "2023-09-07T20:46:26.550Z"
   },
   {
    "duration": 386,
    "start_time": "2023-09-08T14:18:00.985Z"
   },
   {
    "duration": 3402,
    "start_time": "2023-09-08T14:18:01.373Z"
   },
   {
    "duration": 535,
    "start_time": "2023-09-08T14:18:04.777Z"
   },
   {
    "duration": 158,
    "start_time": "2023-09-08T14:18:05.314Z"
   },
   {
    "duration": 431,
    "start_time": "2023-09-08T14:18:05.474Z"
   },
   {
    "duration": 0,
    "start_time": "2023-09-08T14:18:05.907Z"
   },
   {
    "duration": 0,
    "start_time": "2023-09-08T14:18:05.908Z"
   },
   {
    "duration": 0,
    "start_time": "2023-09-08T14:18:05.909Z"
   },
   {
    "duration": 0,
    "start_time": "2023-09-08T14:18:05.910Z"
   },
   {
    "duration": 0,
    "start_time": "2023-09-08T14:18:05.911Z"
   },
   {
    "duration": 0,
    "start_time": "2023-09-08T14:18:05.912Z"
   },
   {
    "duration": 0,
    "start_time": "2023-09-08T14:18:05.913Z"
   },
   {
    "duration": 0,
    "start_time": "2023-09-08T14:18:05.914Z"
   },
   {
    "duration": 0,
    "start_time": "2023-09-08T14:18:05.915Z"
   },
   {
    "duration": 0,
    "start_time": "2023-09-08T14:18:05.916Z"
   },
   {
    "duration": 0,
    "start_time": "2023-09-08T14:18:05.917Z"
   },
   {
    "duration": 0,
    "start_time": "2023-09-08T14:18:05.944Z"
   },
   {
    "duration": 0,
    "start_time": "2023-09-08T14:18:05.945Z"
   },
   {
    "duration": 0,
    "start_time": "2023-09-08T14:18:05.946Z"
   },
   {
    "duration": 0,
    "start_time": "2023-09-08T14:18:05.947Z"
   },
   {
    "duration": 0,
    "start_time": "2023-09-08T14:18:05.948Z"
   },
   {
    "duration": 0,
    "start_time": "2023-09-08T14:18:05.949Z"
   },
   {
    "duration": 0,
    "start_time": "2023-09-08T14:18:05.949Z"
   },
   {
    "duration": 0,
    "start_time": "2023-09-08T14:18:05.950Z"
   },
   {
    "duration": 0,
    "start_time": "2023-09-08T14:18:05.951Z"
   },
   {
    "duration": 0,
    "start_time": "2023-09-08T14:18:05.952Z"
   },
   {
    "duration": 0,
    "start_time": "2023-09-08T14:18:05.953Z"
   },
   {
    "duration": 0,
    "start_time": "2023-09-08T14:18:05.954Z"
   },
   {
    "duration": 0,
    "start_time": "2023-09-08T14:18:05.955Z"
   },
   {
    "duration": 0,
    "start_time": "2023-09-08T14:18:05.957Z"
   },
   {
    "duration": 0,
    "start_time": "2023-09-08T14:18:05.958Z"
   },
   {
    "duration": 0,
    "start_time": "2023-09-08T14:18:05.958Z"
   },
   {
    "duration": 0,
    "start_time": "2023-09-08T14:18:05.959Z"
   },
   {
    "duration": 0,
    "start_time": "2023-09-08T14:18:05.960Z"
   },
   {
    "duration": 0,
    "start_time": "2023-09-08T14:18:05.961Z"
   },
   {
    "duration": 0,
    "start_time": "2023-09-08T14:18:05.962Z"
   },
   {
    "duration": 0,
    "start_time": "2023-09-08T14:18:05.963Z"
   },
   {
    "duration": 0,
    "start_time": "2023-09-08T14:18:05.964Z"
   },
   {
    "duration": 0,
    "start_time": "2023-09-08T14:18:05.965Z"
   },
   {
    "duration": 0,
    "start_time": "2023-09-08T14:18:05.966Z"
   },
   {
    "duration": 0,
    "start_time": "2023-09-08T14:18:05.967Z"
   },
   {
    "duration": 15,
    "start_time": "2023-09-08T14:18:37.564Z"
   },
   {
    "duration": 10,
    "start_time": "2023-09-08T14:18:40.334Z"
   },
   {
    "duration": 17,
    "start_time": "2023-09-08T14:18:42.111Z"
   },
   {
    "duration": 318,
    "start_time": "2023-09-08T14:18:45.244Z"
   },
   {
    "duration": 7,
    "start_time": "2023-09-08T14:18:49.355Z"
   },
   {
    "duration": 403,
    "start_time": "2023-09-08T14:24:36.763Z"
   },
   {
    "duration": 805,
    "start_time": "2023-09-08T14:24:37.169Z"
   },
   {
    "duration": 337,
    "start_time": "2023-09-08T14:24:37.976Z"
   },
   {
    "duration": 140,
    "start_time": "2023-09-08T14:24:38.314Z"
   },
   {
    "duration": 406,
    "start_time": "2023-09-08T14:24:38.456Z"
   },
   {
    "duration": 0,
    "start_time": "2023-09-08T14:24:38.865Z"
   },
   {
    "duration": 0,
    "start_time": "2023-09-08T14:24:38.866Z"
   },
   {
    "duration": 0,
    "start_time": "2023-09-08T14:24:38.868Z"
   },
   {
    "duration": 0,
    "start_time": "2023-09-08T14:24:38.869Z"
   },
   {
    "duration": 0,
    "start_time": "2023-09-08T14:24:38.870Z"
   },
   {
    "duration": 0,
    "start_time": "2023-09-08T14:24:38.872Z"
   },
   {
    "duration": 0,
    "start_time": "2023-09-08T14:24:38.873Z"
   },
   {
    "duration": 0,
    "start_time": "2023-09-08T14:24:38.875Z"
   },
   {
    "duration": 0,
    "start_time": "2023-09-08T14:24:38.876Z"
   },
   {
    "duration": 0,
    "start_time": "2023-09-08T14:24:38.878Z"
   },
   {
    "duration": 0,
    "start_time": "2023-09-08T14:24:38.879Z"
   },
   {
    "duration": 0,
    "start_time": "2023-09-08T14:24:38.881Z"
   },
   {
    "duration": 0,
    "start_time": "2023-09-08T14:24:38.882Z"
   },
   {
    "duration": 0,
    "start_time": "2023-09-08T14:24:38.883Z"
   },
   {
    "duration": 0,
    "start_time": "2023-09-08T14:24:38.883Z"
   },
   {
    "duration": 0,
    "start_time": "2023-09-08T14:24:38.885Z"
   },
   {
    "duration": 0,
    "start_time": "2023-09-08T14:24:38.886Z"
   },
   {
    "duration": 0,
    "start_time": "2023-09-08T14:24:38.887Z"
   },
   {
    "duration": 0,
    "start_time": "2023-09-08T14:24:38.888Z"
   },
   {
    "duration": 0,
    "start_time": "2023-09-08T14:24:38.889Z"
   },
   {
    "duration": 0,
    "start_time": "2023-09-08T14:24:38.890Z"
   },
   {
    "duration": 0,
    "start_time": "2023-09-08T14:24:38.891Z"
   },
   {
    "duration": 0,
    "start_time": "2023-09-08T14:24:38.892Z"
   },
   {
    "duration": 0,
    "start_time": "2023-09-08T14:24:38.893Z"
   },
   {
    "duration": 0,
    "start_time": "2023-09-08T14:24:38.894Z"
   },
   {
    "duration": 0,
    "start_time": "2023-09-08T14:24:38.945Z"
   },
   {
    "duration": 0,
    "start_time": "2023-09-08T14:24:38.946Z"
   },
   {
    "duration": 0,
    "start_time": "2023-09-08T14:24:38.947Z"
   },
   {
    "duration": 0,
    "start_time": "2023-09-08T14:24:38.948Z"
   },
   {
    "duration": 0,
    "start_time": "2023-09-08T14:24:38.950Z"
   },
   {
    "duration": 0,
    "start_time": "2023-09-08T14:24:38.950Z"
   },
   {
    "duration": 0,
    "start_time": "2023-09-08T14:24:38.951Z"
   },
   {
    "duration": 0,
    "start_time": "2023-09-08T14:24:38.953Z"
   },
   {
    "duration": 0,
    "start_time": "2023-09-08T14:24:38.954Z"
   },
   {
    "duration": 299,
    "start_time": "2023-09-08T14:24:55.096Z"
   },
   {
    "duration": 3,
    "start_time": "2023-09-08T14:24:56.873Z"
   },
   {
    "duration": 810,
    "start_time": "2023-09-08T14:24:56.877Z"
   },
   {
    "duration": 319,
    "start_time": "2023-09-08T14:24:57.689Z"
   },
   {
    "duration": 146,
    "start_time": "2023-09-08T14:24:58.010Z"
   },
   {
    "duration": 322,
    "start_time": "2023-09-08T14:24:58.158Z"
   },
   {
    "duration": 0,
    "start_time": "2023-09-08T14:24:58.482Z"
   },
   {
    "duration": 0,
    "start_time": "2023-09-08T14:24:58.483Z"
   },
   {
    "duration": 0,
    "start_time": "2023-09-08T14:24:58.484Z"
   },
   {
    "duration": 0,
    "start_time": "2023-09-08T14:24:58.485Z"
   },
   {
    "duration": 0,
    "start_time": "2023-09-08T14:24:58.486Z"
   },
   {
    "duration": 0,
    "start_time": "2023-09-08T14:24:58.488Z"
   },
   {
    "duration": 0,
    "start_time": "2023-09-08T14:24:58.489Z"
   },
   {
    "duration": 0,
    "start_time": "2023-09-08T14:24:58.490Z"
   },
   {
    "duration": 0,
    "start_time": "2023-09-08T14:24:58.491Z"
   },
   {
    "duration": 1,
    "start_time": "2023-09-08T14:24:58.491Z"
   },
   {
    "duration": 0,
    "start_time": "2023-09-08T14:24:58.493Z"
   },
   {
    "duration": 0,
    "start_time": "2023-09-08T14:24:58.493Z"
   },
   {
    "duration": 0,
    "start_time": "2023-09-08T14:24:58.494Z"
   },
   {
    "duration": 0,
    "start_time": "2023-09-08T14:24:58.495Z"
   },
   {
    "duration": 0,
    "start_time": "2023-09-08T14:24:58.496Z"
   },
   {
    "duration": 0,
    "start_time": "2023-09-08T14:24:58.498Z"
   },
   {
    "duration": 0,
    "start_time": "2023-09-08T14:24:58.498Z"
   },
   {
    "duration": 0,
    "start_time": "2023-09-08T14:24:58.499Z"
   },
   {
    "duration": 0,
    "start_time": "2023-09-08T14:24:58.500Z"
   },
   {
    "duration": 0,
    "start_time": "2023-09-08T14:24:58.501Z"
   },
   {
    "duration": 0,
    "start_time": "2023-09-08T14:24:58.502Z"
   },
   {
    "duration": 0,
    "start_time": "2023-09-08T14:24:58.503Z"
   },
   {
    "duration": 0,
    "start_time": "2023-09-08T14:24:58.504Z"
   },
   {
    "duration": 0,
    "start_time": "2023-09-08T14:24:58.505Z"
   },
   {
    "duration": 0,
    "start_time": "2023-09-08T14:24:58.505Z"
   },
   {
    "duration": 0,
    "start_time": "2023-09-08T14:24:58.506Z"
   },
   {
    "duration": 0,
    "start_time": "2023-09-08T14:24:58.506Z"
   },
   {
    "duration": 0,
    "start_time": "2023-09-08T14:24:58.507Z"
   },
   {
    "duration": 0,
    "start_time": "2023-09-08T14:24:58.507Z"
   },
   {
    "duration": 0,
    "start_time": "2023-09-08T14:24:58.508Z"
   },
   {
    "duration": 0,
    "start_time": "2023-09-08T14:24:58.508Z"
   },
   {
    "duration": 0,
    "start_time": "2023-09-08T14:24:58.545Z"
   },
   {
    "duration": 0,
    "start_time": "2023-09-08T14:24:58.546Z"
   },
   {
    "duration": 0,
    "start_time": "2023-09-08T14:24:58.547Z"
   },
   {
    "duration": 384,
    "start_time": "2023-09-08T14:25:47.540Z"
   },
   {
    "duration": 791,
    "start_time": "2023-09-08T14:25:47.926Z"
   },
   {
    "duration": 332,
    "start_time": "2023-09-08T14:25:48.718Z"
   },
   {
    "duration": 133,
    "start_time": "2023-09-08T14:25:49.052Z"
   },
   {
    "duration": 357,
    "start_time": "2023-09-08T14:25:49.187Z"
   },
   {
    "duration": 13,
    "start_time": "2023-09-08T14:25:49.546Z"
   },
   {
    "duration": 39,
    "start_time": "2023-09-08T14:25:49.561Z"
   },
   {
    "duration": 55,
    "start_time": "2023-09-08T14:25:49.601Z"
   },
   {
    "duration": 80,
    "start_time": "2023-09-08T14:25:49.657Z"
   },
   {
    "duration": 26,
    "start_time": "2023-09-08T14:25:49.739Z"
   },
   {
    "duration": 84,
    "start_time": "2023-09-08T14:25:49.766Z"
   },
   {
    "duration": 0,
    "start_time": "2023-09-08T14:25:49.852Z"
   },
   {
    "duration": 1,
    "start_time": "2023-09-08T14:25:49.852Z"
   },
   {
    "duration": 0,
    "start_time": "2023-09-08T14:25:49.854Z"
   },
   {
    "duration": 1,
    "start_time": "2023-09-08T14:25:49.854Z"
   },
   {
    "duration": 0,
    "start_time": "2023-09-08T14:25:49.855Z"
   },
   {
    "duration": 0,
    "start_time": "2023-09-08T14:25:49.856Z"
   },
   {
    "duration": 0,
    "start_time": "2023-09-08T14:25:49.857Z"
   },
   {
    "duration": 0,
    "start_time": "2023-09-08T14:25:49.858Z"
   },
   {
    "duration": 0,
    "start_time": "2023-09-08T14:25:49.859Z"
   },
   {
    "duration": 0,
    "start_time": "2023-09-08T14:25:49.859Z"
   },
   {
    "duration": 0,
    "start_time": "2023-09-08T14:25:49.860Z"
   },
   {
    "duration": 0,
    "start_time": "2023-09-08T14:25:49.861Z"
   },
   {
    "duration": 0,
    "start_time": "2023-09-08T14:25:49.862Z"
   },
   {
    "duration": 0,
    "start_time": "2023-09-08T14:25:49.863Z"
   },
   {
    "duration": 0,
    "start_time": "2023-09-08T14:25:49.864Z"
   },
   {
    "duration": 0,
    "start_time": "2023-09-08T14:25:49.865Z"
   },
   {
    "duration": 0,
    "start_time": "2023-09-08T14:25:49.865Z"
   },
   {
    "duration": 0,
    "start_time": "2023-09-08T14:25:49.866Z"
   },
   {
    "duration": 0,
    "start_time": "2023-09-08T14:25:49.867Z"
   },
   {
    "duration": 0,
    "start_time": "2023-09-08T14:25:49.868Z"
   },
   {
    "duration": 0,
    "start_time": "2023-09-08T14:25:49.869Z"
   },
   {
    "duration": 0,
    "start_time": "2023-09-08T14:25:49.870Z"
   },
   {
    "duration": 0,
    "start_time": "2023-09-08T14:25:49.871Z"
   },
   {
    "duration": 0,
    "start_time": "2023-09-08T14:25:49.872Z"
   },
   {
    "duration": 0,
    "start_time": "2023-09-08T14:25:49.873Z"
   },
   {
    "duration": 0,
    "start_time": "2023-09-08T14:25:49.874Z"
   },
   {
    "duration": 0,
    "start_time": "2023-09-08T14:25:49.875Z"
   },
   {
    "duration": 0,
    "start_time": "2023-09-08T14:25:49.876Z"
   },
   {
    "duration": 4,
    "start_time": "2023-09-08T14:30:23.310Z"
   },
   {
    "duration": 3,
    "start_time": "2023-09-08T14:30:55.722Z"
   },
   {
    "duration": 334,
    "start_time": "2023-09-08T14:30:59.939Z"
   },
   {
    "duration": 4,
    "start_time": "2023-09-08T14:31:02.079Z"
   },
   {
    "duration": 302,
    "start_time": "2023-09-08T14:31:51.737Z"
   },
   {
    "duration": 10,
    "start_time": "2023-09-08T14:32:22.518Z"
   },
   {
    "duration": 10,
    "start_time": "2023-09-08T14:32:29.045Z"
   },
   {
    "duration": 4,
    "start_time": "2023-09-08T14:34:19.306Z"
   },
   {
    "duration": 7,
    "start_time": "2023-09-08T14:36:05.921Z"
   },
   {
    "duration": 6,
    "start_time": "2023-09-08T14:37:01.333Z"
   },
   {
    "duration": 413,
    "start_time": "2023-09-08T14:41:02.914Z"
   },
   {
    "duration": 880,
    "start_time": "2023-09-08T14:41:03.328Z"
   },
   {
    "duration": 349,
    "start_time": "2023-09-08T14:41:04.209Z"
   },
   {
    "duration": 137,
    "start_time": "2023-09-08T14:41:04.560Z"
   },
   {
    "duration": 382,
    "start_time": "2023-09-08T14:41:04.698Z"
   },
   {
    "duration": 7,
    "start_time": "2023-09-08T14:41:05.082Z"
   },
   {
    "duration": 20,
    "start_time": "2023-09-08T14:41:05.090Z"
   },
   {
    "duration": 28,
    "start_time": "2023-09-08T14:41:05.111Z"
   },
   {
    "duration": 12,
    "start_time": "2023-09-08T14:41:05.143Z"
   },
   {
    "duration": 15,
    "start_time": "2023-09-08T14:41:05.158Z"
   },
   {
    "duration": 14,
    "start_time": "2023-09-08T14:41:05.175Z"
   },
   {
    "duration": 82,
    "start_time": "2023-09-08T14:41:05.190Z"
   },
   {
    "duration": 0,
    "start_time": "2023-09-08T14:41:05.273Z"
   },
   {
    "duration": 0,
    "start_time": "2023-09-08T14:41:05.275Z"
   },
   {
    "duration": 0,
    "start_time": "2023-09-08T14:41:05.276Z"
   },
   {
    "duration": 0,
    "start_time": "2023-09-08T14:41:05.277Z"
   },
   {
    "duration": 0,
    "start_time": "2023-09-08T14:41:05.278Z"
   },
   {
    "duration": 0,
    "start_time": "2023-09-08T14:41:05.279Z"
   },
   {
    "duration": 0,
    "start_time": "2023-09-08T14:41:05.281Z"
   },
   {
    "duration": 0,
    "start_time": "2023-09-08T14:41:05.282Z"
   },
   {
    "duration": 0,
    "start_time": "2023-09-08T14:41:05.283Z"
   },
   {
    "duration": 0,
    "start_time": "2023-09-08T14:41:05.285Z"
   },
   {
    "duration": 0,
    "start_time": "2023-09-08T14:41:05.286Z"
   },
   {
    "duration": 0,
    "start_time": "2023-09-08T14:41:05.287Z"
   },
   {
    "duration": 0,
    "start_time": "2023-09-08T14:41:05.288Z"
   },
   {
    "duration": 0,
    "start_time": "2023-09-08T14:41:05.290Z"
   },
   {
    "duration": 0,
    "start_time": "2023-09-08T14:41:05.291Z"
   },
   {
    "duration": 0,
    "start_time": "2023-09-08T14:41:05.292Z"
   },
   {
    "duration": 0,
    "start_time": "2023-09-08T14:41:05.293Z"
   },
   {
    "duration": 0,
    "start_time": "2023-09-08T14:41:05.294Z"
   },
   {
    "duration": 0,
    "start_time": "2023-09-08T14:41:05.295Z"
   },
   {
    "duration": 0,
    "start_time": "2023-09-08T14:41:05.296Z"
   },
   {
    "duration": 0,
    "start_time": "2023-09-08T14:41:05.297Z"
   },
   {
    "duration": 0,
    "start_time": "2023-09-08T14:41:05.298Z"
   },
   {
    "duration": 0,
    "start_time": "2023-09-08T14:41:05.299Z"
   },
   {
    "duration": 0,
    "start_time": "2023-09-08T14:41:05.301Z"
   },
   {
    "duration": 0,
    "start_time": "2023-09-08T14:41:05.301Z"
   },
   {
    "duration": 0,
    "start_time": "2023-09-08T14:41:05.344Z"
   },
   {
    "duration": 0,
    "start_time": "2023-09-08T14:41:05.346Z"
   },
   {
    "duration": 0,
    "start_time": "2023-09-08T14:41:05.347Z"
   },
   {
    "duration": 8,
    "start_time": "2023-09-08T14:46:46.674Z"
   },
   {
    "duration": 14,
    "start_time": "2023-09-08T14:48:00.758Z"
   },
   {
    "duration": 424,
    "start_time": "2023-09-08T14:51:03.917Z"
   },
   {
    "duration": 838,
    "start_time": "2023-09-08T14:51:04.343Z"
   },
   {
    "duration": 16,
    "start_time": "2023-09-08T14:51:05.182Z"
   },
   {
    "duration": 21,
    "start_time": "2023-09-08T14:51:05.200Z"
   },
   {
    "duration": 35,
    "start_time": "2023-09-08T14:51:05.222Z"
   },
   {
    "duration": 9,
    "start_time": "2023-09-08T14:51:05.258Z"
   },
   {
    "duration": 8,
    "start_time": "2023-09-08T14:51:05.269Z"
   },
   {
    "duration": 346,
    "start_time": "2023-09-08T14:51:05.279Z"
   },
   {
    "duration": 20,
    "start_time": "2023-09-08T14:51:05.627Z"
   },
   {
    "duration": 166,
    "start_time": "2023-09-08T14:51:05.648Z"
   },
   {
    "duration": 10,
    "start_time": "2023-09-08T14:51:05.817Z"
   },
   {
    "duration": 357,
    "start_time": "2023-09-08T14:51:05.828Z"
   },
   {
    "duration": 18,
    "start_time": "2023-09-08T14:51:06.187Z"
   },
   {
    "duration": 8,
    "start_time": "2023-09-08T14:51:06.209Z"
   },
   {
    "duration": 83,
    "start_time": "2023-09-08T14:51:06.218Z"
   },
   {
    "duration": 0,
    "start_time": "2023-09-08T14:51:06.303Z"
   },
   {
    "duration": 0,
    "start_time": "2023-09-08T14:51:06.304Z"
   },
   {
    "duration": 0,
    "start_time": "2023-09-08T14:51:06.306Z"
   },
   {
    "duration": 0,
    "start_time": "2023-09-08T14:51:06.307Z"
   },
   {
    "duration": 0,
    "start_time": "2023-09-08T14:51:06.307Z"
   },
   {
    "duration": 0,
    "start_time": "2023-09-08T14:51:06.308Z"
   },
   {
    "duration": 0,
    "start_time": "2023-09-08T14:51:06.310Z"
   },
   {
    "duration": 0,
    "start_time": "2023-09-08T14:51:06.311Z"
   },
   {
    "duration": 0,
    "start_time": "2023-09-08T14:51:06.313Z"
   },
   {
    "duration": 0,
    "start_time": "2023-09-08T14:51:06.314Z"
   },
   {
    "duration": 0,
    "start_time": "2023-09-08T14:51:06.343Z"
   },
   {
    "duration": 0,
    "start_time": "2023-09-08T14:51:06.345Z"
   },
   {
    "duration": 0,
    "start_time": "2023-09-08T14:51:06.346Z"
   },
   {
    "duration": 0,
    "start_time": "2023-09-08T14:51:06.347Z"
   },
   {
    "duration": 0,
    "start_time": "2023-09-08T14:51:06.348Z"
   },
   {
    "duration": 0,
    "start_time": "2023-09-08T14:51:06.349Z"
   },
   {
    "duration": 0,
    "start_time": "2023-09-08T14:51:06.350Z"
   },
   {
    "duration": 0,
    "start_time": "2023-09-08T14:51:06.351Z"
   },
   {
    "duration": 0,
    "start_time": "2023-09-08T14:51:06.352Z"
   },
   {
    "duration": 0,
    "start_time": "2023-09-08T14:51:06.353Z"
   },
   {
    "duration": 0,
    "start_time": "2023-09-08T14:51:06.354Z"
   },
   {
    "duration": 0,
    "start_time": "2023-09-08T14:51:06.355Z"
   },
   {
    "duration": 0,
    "start_time": "2023-09-08T14:51:06.356Z"
   },
   {
    "duration": 0,
    "start_time": "2023-09-08T14:51:06.357Z"
   },
   {
    "duration": 0,
    "start_time": "2023-09-08T14:51:06.358Z"
   },
   {
    "duration": 0,
    "start_time": "2023-09-08T14:51:06.359Z"
   },
   {
    "duration": 0,
    "start_time": "2023-09-08T14:51:06.360Z"
   },
   {
    "duration": 0,
    "start_time": "2023-09-08T14:51:06.361Z"
   },
   {
    "duration": 17,
    "start_time": "2023-09-08T14:58:30.060Z"
   },
   {
    "duration": 46,
    "start_time": "2023-09-08T14:58:41.630Z"
   },
   {
    "duration": 392,
    "start_time": "2023-09-08T15:02:12.173Z"
   },
   {
    "duration": 858,
    "start_time": "2023-09-08T15:02:12.567Z"
   },
   {
    "duration": 24,
    "start_time": "2023-09-08T15:02:13.426Z"
   },
   {
    "duration": 12,
    "start_time": "2023-09-08T15:02:13.452Z"
   },
   {
    "duration": 28,
    "start_time": "2023-09-08T15:02:13.465Z"
   },
   {
    "duration": 8,
    "start_time": "2023-09-08T15:02:13.495Z"
   },
   {
    "duration": 10,
    "start_time": "2023-09-08T15:02:13.504Z"
   },
   {
    "duration": 355,
    "start_time": "2023-09-08T15:02:13.515Z"
   },
   {
    "duration": 39,
    "start_time": "2023-09-08T15:02:13.871Z"
   },
   {
    "duration": 231,
    "start_time": "2023-09-08T15:02:13.913Z"
   },
   {
    "duration": 36,
    "start_time": "2023-09-08T15:02:14.146Z"
   },
   {
    "duration": 387,
    "start_time": "2023-09-08T15:02:14.184Z"
   },
   {
    "duration": 71,
    "start_time": "2023-09-08T15:02:14.573Z"
   },
   {
    "duration": 64,
    "start_time": "2023-09-08T15:02:14.646Z"
   },
   {
    "duration": 0,
    "start_time": "2023-09-08T15:02:14.712Z"
   },
   {
    "duration": 0,
    "start_time": "2023-09-08T15:02:14.714Z"
   },
   {
    "duration": 0,
    "start_time": "2023-09-08T15:02:14.714Z"
   },
   {
    "duration": 0,
    "start_time": "2023-09-08T15:02:14.716Z"
   },
   {
    "duration": 0,
    "start_time": "2023-09-08T15:02:14.717Z"
   },
   {
    "duration": 0,
    "start_time": "2023-09-08T15:02:14.718Z"
   },
   {
    "duration": 0,
    "start_time": "2023-09-08T15:02:14.743Z"
   },
   {
    "duration": 0,
    "start_time": "2023-09-08T15:02:14.745Z"
   },
   {
    "duration": 0,
    "start_time": "2023-09-08T15:02:14.747Z"
   },
   {
    "duration": 0,
    "start_time": "2023-09-08T15:02:14.748Z"
   },
   {
    "duration": 0,
    "start_time": "2023-09-08T15:02:14.750Z"
   },
   {
    "duration": 0,
    "start_time": "2023-09-08T15:02:14.751Z"
   },
   {
    "duration": 0,
    "start_time": "2023-09-08T15:02:14.752Z"
   },
   {
    "duration": 0,
    "start_time": "2023-09-08T15:02:14.753Z"
   },
   {
    "duration": 0,
    "start_time": "2023-09-08T15:02:14.754Z"
   },
   {
    "duration": 0,
    "start_time": "2023-09-08T15:02:14.755Z"
   },
   {
    "duration": 0,
    "start_time": "2023-09-08T15:02:14.756Z"
   },
   {
    "duration": 0,
    "start_time": "2023-09-08T15:02:14.757Z"
   },
   {
    "duration": 0,
    "start_time": "2023-09-08T15:02:14.758Z"
   },
   {
    "duration": 0,
    "start_time": "2023-09-08T15:02:14.759Z"
   },
   {
    "duration": 0,
    "start_time": "2023-09-08T15:02:14.760Z"
   },
   {
    "duration": 1,
    "start_time": "2023-09-08T15:02:14.761Z"
   },
   {
    "duration": 0,
    "start_time": "2023-09-08T15:02:14.763Z"
   },
   {
    "duration": 0,
    "start_time": "2023-09-08T15:02:14.763Z"
   },
   {
    "duration": 0,
    "start_time": "2023-09-08T15:02:14.764Z"
   },
   {
    "duration": 0,
    "start_time": "2023-09-08T15:02:14.765Z"
   },
   {
    "duration": 0,
    "start_time": "2023-09-08T15:02:14.767Z"
   },
   {
    "duration": 9,
    "start_time": "2023-09-08T15:03:44.550Z"
   },
   {
    "duration": 740,
    "start_time": "2023-09-08T15:03:48.698Z"
   },
   {
    "duration": 803,
    "start_time": "2023-09-08T15:03:49.441Z"
   },
   {
    "duration": 16,
    "start_time": "2023-09-08T15:03:50.246Z"
   },
   {
    "duration": 11,
    "start_time": "2023-09-08T15:03:50.264Z"
   },
   {
    "duration": 16,
    "start_time": "2023-09-08T15:03:50.276Z"
   },
   {
    "duration": 8,
    "start_time": "2023-09-08T15:03:50.293Z"
   },
   {
    "duration": 42,
    "start_time": "2023-09-08T15:03:50.303Z"
   },
   {
    "duration": 317,
    "start_time": "2023-09-08T15:03:50.346Z"
   },
   {
    "duration": 37,
    "start_time": "2023-09-08T15:03:50.665Z"
   },
   {
    "duration": 145,
    "start_time": "2023-09-08T15:03:50.704Z"
   },
   {
    "duration": 24,
    "start_time": "2023-09-08T15:03:50.851Z"
   },
   {
    "duration": 317,
    "start_time": "2023-09-08T15:03:50.877Z"
   },
   {
    "duration": 61,
    "start_time": "2023-09-08T15:03:51.195Z"
   },
   {
    "duration": 177,
    "start_time": "2023-09-08T15:03:51.258Z"
   },
   {
    "duration": 0,
    "start_time": "2023-09-08T15:03:51.444Z"
   },
   {
    "duration": 0,
    "start_time": "2023-09-08T15:03:51.445Z"
   },
   {
    "duration": 0,
    "start_time": "2023-09-08T15:03:51.446Z"
   },
   {
    "duration": 0,
    "start_time": "2023-09-08T15:03:51.446Z"
   },
   {
    "duration": 0,
    "start_time": "2023-09-08T15:03:51.447Z"
   },
   {
    "duration": 0,
    "start_time": "2023-09-08T15:03:51.449Z"
   },
   {
    "duration": 0,
    "start_time": "2023-09-08T15:03:51.450Z"
   },
   {
    "duration": 0,
    "start_time": "2023-09-08T15:03:51.451Z"
   },
   {
    "duration": 0,
    "start_time": "2023-09-08T15:03:51.452Z"
   },
   {
    "duration": 0,
    "start_time": "2023-09-08T15:03:51.453Z"
   },
   {
    "duration": 0,
    "start_time": "2023-09-08T15:03:51.454Z"
   },
   {
    "duration": 0,
    "start_time": "2023-09-08T15:03:51.455Z"
   },
   {
    "duration": 0,
    "start_time": "2023-09-08T15:03:51.456Z"
   },
   {
    "duration": 0,
    "start_time": "2023-09-08T15:03:51.457Z"
   },
   {
    "duration": 0,
    "start_time": "2023-09-08T15:03:51.458Z"
   },
   {
    "duration": 0,
    "start_time": "2023-09-08T15:03:51.459Z"
   },
   {
    "duration": 0,
    "start_time": "2023-09-08T15:03:51.460Z"
   },
   {
    "duration": 0,
    "start_time": "2023-09-08T15:03:51.461Z"
   },
   {
    "duration": 0,
    "start_time": "2023-09-08T15:03:51.462Z"
   },
   {
    "duration": 0,
    "start_time": "2023-09-08T15:03:51.463Z"
   },
   {
    "duration": 0,
    "start_time": "2023-09-08T15:03:51.464Z"
   },
   {
    "duration": 0,
    "start_time": "2023-09-08T15:03:51.465Z"
   },
   {
    "duration": 0,
    "start_time": "2023-09-08T15:03:51.466Z"
   },
   {
    "duration": 0,
    "start_time": "2023-09-08T15:03:51.467Z"
   },
   {
    "duration": 0,
    "start_time": "2023-09-08T15:03:51.468Z"
   },
   {
    "duration": 0,
    "start_time": "2023-09-08T15:03:51.469Z"
   },
   {
    "duration": 0,
    "start_time": "2023-09-08T15:03:51.469Z"
   },
   {
    "duration": 1371,
    "start_time": "2023-09-08T15:04:16.490Z"
   },
   {
    "duration": 569,
    "start_time": "2023-09-08T15:04:49.693Z"
   },
   {
    "duration": 839,
    "start_time": "2023-09-08T15:04:50.264Z"
   },
   {
    "duration": 16,
    "start_time": "2023-09-08T15:04:51.105Z"
   },
   {
    "duration": 32,
    "start_time": "2023-09-08T15:04:51.123Z"
   },
   {
    "duration": 16,
    "start_time": "2023-09-08T15:04:51.157Z"
   },
   {
    "duration": 13,
    "start_time": "2023-09-08T15:04:51.175Z"
   },
   {
    "duration": 42,
    "start_time": "2023-09-08T15:04:51.189Z"
   },
   {
    "duration": 332,
    "start_time": "2023-09-08T15:04:51.234Z"
   },
   {
    "duration": 40,
    "start_time": "2023-09-08T15:04:51.568Z"
   },
   {
    "duration": 147,
    "start_time": "2023-09-08T15:04:51.609Z"
   },
   {
    "duration": 28,
    "start_time": "2023-09-08T15:04:51.758Z"
   },
   {
    "duration": 501,
    "start_time": "2023-09-08T15:04:51.788Z"
   },
   {
    "duration": 164,
    "start_time": "2023-09-08T15:04:52.291Z"
   },
   {
    "duration": 2075,
    "start_time": "2023-09-08T15:04:52.458Z"
   },
   {
    "duration": 0,
    "start_time": "2023-09-08T15:04:54.536Z"
   },
   {
    "duration": 0,
    "start_time": "2023-09-08T15:04:54.544Z"
   },
   {
    "duration": 0,
    "start_time": "2023-09-08T15:04:54.545Z"
   },
   {
    "duration": 0,
    "start_time": "2023-09-08T15:04:54.546Z"
   },
   {
    "duration": 0,
    "start_time": "2023-09-08T15:04:54.547Z"
   },
   {
    "duration": 0,
    "start_time": "2023-09-08T15:04:54.549Z"
   },
   {
    "duration": 0,
    "start_time": "2023-09-08T15:04:54.549Z"
   },
   {
    "duration": 0,
    "start_time": "2023-09-08T15:04:54.550Z"
   },
   {
    "duration": 0,
    "start_time": "2023-09-08T15:04:54.551Z"
   },
   {
    "duration": 0,
    "start_time": "2023-09-08T15:04:54.552Z"
   },
   {
    "duration": 0,
    "start_time": "2023-09-08T15:04:54.553Z"
   },
   {
    "duration": 0,
    "start_time": "2023-09-08T15:04:54.554Z"
   },
   {
    "duration": 0,
    "start_time": "2023-09-08T15:04:54.555Z"
   },
   {
    "duration": 0,
    "start_time": "2023-09-08T15:04:54.556Z"
   },
   {
    "duration": 0,
    "start_time": "2023-09-08T15:04:54.557Z"
   },
   {
    "duration": 0,
    "start_time": "2023-09-08T15:04:54.558Z"
   },
   {
    "duration": 0,
    "start_time": "2023-09-08T15:04:54.559Z"
   },
   {
    "duration": 0,
    "start_time": "2023-09-08T15:04:54.560Z"
   },
   {
    "duration": 0,
    "start_time": "2023-09-08T15:04:54.561Z"
   },
   {
    "duration": 0,
    "start_time": "2023-09-08T15:04:54.561Z"
   },
   {
    "duration": 0,
    "start_time": "2023-09-08T15:04:54.562Z"
   },
   {
    "duration": 0,
    "start_time": "2023-09-08T15:04:54.563Z"
   },
   {
    "duration": 0,
    "start_time": "2023-09-08T15:04:54.564Z"
   },
   {
    "duration": 0,
    "start_time": "2023-09-08T15:04:54.565Z"
   },
   {
    "duration": 0,
    "start_time": "2023-09-08T15:04:54.566Z"
   },
   {
    "duration": 0,
    "start_time": "2023-09-08T15:04:54.567Z"
   },
   {
    "duration": 0,
    "start_time": "2023-09-08T15:04:54.568Z"
   },
   {
    "duration": 6,
    "start_time": "2023-09-08T15:06:53.743Z"
   },
   {
    "duration": 646,
    "start_time": "2023-09-08T15:16:16.247Z"
   },
   {
    "duration": 892,
    "start_time": "2023-09-08T15:16:16.895Z"
   },
   {
    "duration": 20,
    "start_time": "2023-09-08T15:16:17.788Z"
   },
   {
    "duration": 34,
    "start_time": "2023-09-08T15:16:17.810Z"
   },
   {
    "duration": 21,
    "start_time": "2023-09-08T15:16:17.846Z"
   },
   {
    "duration": 10,
    "start_time": "2023-09-08T15:16:17.869Z"
   },
   {
    "duration": 8,
    "start_time": "2023-09-08T15:16:17.881Z"
   },
   {
    "duration": 405,
    "start_time": "2023-09-08T15:16:17.891Z"
   },
   {
    "duration": 53,
    "start_time": "2023-09-08T15:16:18.298Z"
   },
   {
    "duration": 147,
    "start_time": "2023-09-08T15:16:18.353Z"
   },
   {
    "duration": 47,
    "start_time": "2023-09-08T15:16:18.502Z"
   },
   {
    "duration": 620,
    "start_time": "2023-09-08T15:16:18.550Z"
   },
   {
    "duration": 172,
    "start_time": "2023-09-08T15:16:19.172Z"
   },
   {
    "duration": 6,
    "start_time": "2023-09-08T15:16:19.346Z"
   },
   {
    "duration": 1589,
    "start_time": "2023-09-08T15:16:19.353Z"
   },
   {
    "duration": 0,
    "start_time": "2023-09-08T15:16:20.944Z"
   },
   {
    "duration": 0,
    "start_time": "2023-09-08T15:16:20.945Z"
   },
   {
    "duration": 0,
    "start_time": "2023-09-08T15:16:20.946Z"
   },
   {
    "duration": 0,
    "start_time": "2023-09-08T15:16:20.946Z"
   },
   {
    "duration": 0,
    "start_time": "2023-09-08T15:16:20.947Z"
   },
   {
    "duration": 0,
    "start_time": "2023-09-08T15:16:20.948Z"
   },
   {
    "duration": 0,
    "start_time": "2023-09-08T15:16:20.949Z"
   },
   {
    "duration": 0,
    "start_time": "2023-09-08T15:16:20.949Z"
   },
   {
    "duration": 0,
    "start_time": "2023-09-08T15:16:20.950Z"
   },
   {
    "duration": 0,
    "start_time": "2023-09-08T15:16:20.951Z"
   },
   {
    "duration": 0,
    "start_time": "2023-09-08T15:16:20.952Z"
   },
   {
    "duration": 0,
    "start_time": "2023-09-08T15:16:20.953Z"
   },
   {
    "duration": 0,
    "start_time": "2023-09-08T15:16:20.954Z"
   },
   {
    "duration": 0,
    "start_time": "2023-09-08T15:16:20.955Z"
   },
   {
    "duration": 0,
    "start_time": "2023-09-08T15:16:20.956Z"
   },
   {
    "duration": 0,
    "start_time": "2023-09-08T15:16:20.957Z"
   },
   {
    "duration": 0,
    "start_time": "2023-09-08T15:16:20.958Z"
   },
   {
    "duration": 0,
    "start_time": "2023-09-08T15:16:20.960Z"
   },
   {
    "duration": 0,
    "start_time": "2023-09-08T15:16:20.960Z"
   },
   {
    "duration": 0,
    "start_time": "2023-09-08T15:16:20.961Z"
   },
   {
    "duration": 0,
    "start_time": "2023-09-08T15:16:20.973Z"
   },
   {
    "duration": 0,
    "start_time": "2023-09-08T15:16:20.974Z"
   },
   {
    "duration": 0,
    "start_time": "2023-09-08T15:16:20.975Z"
   },
   {
    "duration": 0,
    "start_time": "2023-09-08T15:16:20.976Z"
   },
   {
    "duration": 0,
    "start_time": "2023-09-08T15:16:20.977Z"
   },
   {
    "duration": 0,
    "start_time": "2023-09-08T15:16:20.979Z"
   },
   {
    "duration": 0,
    "start_time": "2023-09-08T15:16:20.980Z"
   },
   {
    "duration": 609,
    "start_time": "2023-09-08T15:16:54.961Z"
   },
   {
    "duration": 819,
    "start_time": "2023-09-08T15:16:55.572Z"
   },
   {
    "duration": 18,
    "start_time": "2023-09-08T15:16:56.393Z"
   },
   {
    "duration": 33,
    "start_time": "2023-09-08T15:16:56.413Z"
   },
   {
    "duration": 18,
    "start_time": "2023-09-08T15:16:56.447Z"
   },
   {
    "duration": 8,
    "start_time": "2023-09-08T15:16:56.467Z"
   },
   {
    "duration": 11,
    "start_time": "2023-09-08T15:16:56.476Z"
   },
   {
    "duration": 344,
    "start_time": "2023-09-08T15:16:56.488Z"
   },
   {
    "duration": 46,
    "start_time": "2023-09-08T15:16:56.833Z"
   },
   {
    "duration": 132,
    "start_time": "2023-09-08T15:16:56.881Z"
   },
   {
    "duration": 41,
    "start_time": "2023-09-08T15:16:57.015Z"
   },
   {
    "duration": 326,
    "start_time": "2023-09-08T15:16:57.058Z"
   },
   {
    "duration": 66,
    "start_time": "2023-09-08T15:16:57.386Z"
   },
   {
    "duration": 6,
    "start_time": "2023-09-08T15:16:57.453Z"
   },
   {
    "duration": 1443,
    "start_time": "2023-09-08T15:16:57.460Z"
   },
   {
    "duration": 0,
    "start_time": "2023-09-08T15:16:58.905Z"
   },
   {
    "duration": 0,
    "start_time": "2023-09-08T15:16:58.906Z"
   },
   {
    "duration": 0,
    "start_time": "2023-09-08T15:16:58.907Z"
   },
   {
    "duration": 0,
    "start_time": "2023-09-08T15:16:58.909Z"
   },
   {
    "duration": 0,
    "start_time": "2023-09-08T15:16:58.909Z"
   },
   {
    "duration": 0,
    "start_time": "2023-09-08T15:16:58.910Z"
   },
   {
    "duration": 0,
    "start_time": "2023-09-08T15:16:58.911Z"
   },
   {
    "duration": 0,
    "start_time": "2023-09-08T15:16:58.912Z"
   },
   {
    "duration": 0,
    "start_time": "2023-09-08T15:16:58.913Z"
   },
   {
    "duration": 0,
    "start_time": "2023-09-08T15:16:58.914Z"
   },
   {
    "duration": 0,
    "start_time": "2023-09-08T15:16:58.915Z"
   },
   {
    "duration": 0,
    "start_time": "2023-09-08T15:16:58.916Z"
   },
   {
    "duration": 0,
    "start_time": "2023-09-08T15:16:58.917Z"
   },
   {
    "duration": 0,
    "start_time": "2023-09-08T15:16:58.918Z"
   },
   {
    "duration": 0,
    "start_time": "2023-09-08T15:16:58.919Z"
   },
   {
    "duration": 0,
    "start_time": "2023-09-08T15:16:58.920Z"
   },
   {
    "duration": 0,
    "start_time": "2023-09-08T15:16:58.921Z"
   },
   {
    "duration": 0,
    "start_time": "2023-09-08T15:16:58.943Z"
   },
   {
    "duration": 0,
    "start_time": "2023-09-08T15:16:58.945Z"
   },
   {
    "duration": 0,
    "start_time": "2023-09-08T15:16:58.946Z"
   },
   {
    "duration": 0,
    "start_time": "2023-09-08T15:16:58.947Z"
   },
   {
    "duration": 0,
    "start_time": "2023-09-08T15:16:58.948Z"
   },
   {
    "duration": 0,
    "start_time": "2023-09-08T15:16:58.949Z"
   },
   {
    "duration": 0,
    "start_time": "2023-09-08T15:16:58.950Z"
   },
   {
    "duration": 0,
    "start_time": "2023-09-08T15:16:58.951Z"
   },
   {
    "duration": 0,
    "start_time": "2023-09-08T15:16:58.952Z"
   },
   {
    "duration": 0,
    "start_time": "2023-09-08T15:16:58.953Z"
   },
   {
    "duration": 617,
    "start_time": "2023-09-08T15:19:27.473Z"
   },
   {
    "duration": 856,
    "start_time": "2023-09-08T15:19:28.092Z"
   },
   {
    "duration": 16,
    "start_time": "2023-09-08T15:19:28.950Z"
   },
   {
    "duration": 10,
    "start_time": "2023-09-08T15:19:28.968Z"
   },
   {
    "duration": 15,
    "start_time": "2023-09-08T15:19:28.980Z"
   },
   {
    "duration": 7,
    "start_time": "2023-09-08T15:19:28.996Z"
   },
   {
    "duration": 39,
    "start_time": "2023-09-08T15:19:29.005Z"
   },
   {
    "duration": 640,
    "start_time": "2023-09-08T15:19:29.046Z"
   },
   {
    "duration": 63,
    "start_time": "2023-09-08T15:19:29.687Z"
   },
   {
    "duration": 235,
    "start_time": "2023-09-08T15:19:29.752Z"
   },
   {
    "duration": 79,
    "start_time": "2023-09-08T15:19:29.989Z"
   },
   {
    "duration": 621,
    "start_time": "2023-09-08T15:19:30.070Z"
   },
   {
    "duration": 57,
    "start_time": "2023-09-08T15:19:30.743Z"
   },
   {
    "duration": 5,
    "start_time": "2023-09-08T15:19:30.802Z"
   },
   {
    "duration": 1482,
    "start_time": "2023-09-08T15:19:30.809Z"
   },
   {
    "duration": 0,
    "start_time": "2023-09-08T15:19:32.293Z"
   },
   {
    "duration": 0,
    "start_time": "2023-09-08T15:19:32.294Z"
   },
   {
    "duration": 0,
    "start_time": "2023-09-08T15:19:32.295Z"
   },
   {
    "duration": 0,
    "start_time": "2023-09-08T15:19:32.296Z"
   },
   {
    "duration": 0,
    "start_time": "2023-09-08T15:19:32.297Z"
   },
   {
    "duration": 0,
    "start_time": "2023-09-08T15:19:32.298Z"
   },
   {
    "duration": 0,
    "start_time": "2023-09-08T15:19:32.300Z"
   },
   {
    "duration": 0,
    "start_time": "2023-09-08T15:19:32.301Z"
   },
   {
    "duration": 0,
    "start_time": "2023-09-08T15:19:32.302Z"
   },
   {
    "duration": 0,
    "start_time": "2023-09-08T15:19:32.304Z"
   },
   {
    "duration": 0,
    "start_time": "2023-09-08T15:19:32.305Z"
   },
   {
    "duration": 0,
    "start_time": "2023-09-08T15:19:32.306Z"
   },
   {
    "duration": 0,
    "start_time": "2023-09-08T15:19:32.307Z"
   },
   {
    "duration": 0,
    "start_time": "2023-09-08T15:19:32.308Z"
   },
   {
    "duration": 0,
    "start_time": "2023-09-08T15:19:32.310Z"
   },
   {
    "duration": 0,
    "start_time": "2023-09-08T15:19:32.311Z"
   },
   {
    "duration": 0,
    "start_time": "2023-09-08T15:19:32.312Z"
   },
   {
    "duration": 0,
    "start_time": "2023-09-08T15:19:32.344Z"
   },
   {
    "duration": 0,
    "start_time": "2023-09-08T15:19:32.346Z"
   },
   {
    "duration": 0,
    "start_time": "2023-09-08T15:19:32.347Z"
   },
   {
    "duration": 0,
    "start_time": "2023-09-08T15:19:32.348Z"
   },
   {
    "duration": 0,
    "start_time": "2023-09-08T15:19:32.349Z"
   },
   {
    "duration": 0,
    "start_time": "2023-09-08T15:19:32.351Z"
   },
   {
    "duration": 0,
    "start_time": "2023-09-08T15:19:32.352Z"
   },
   {
    "duration": 0,
    "start_time": "2023-09-08T15:19:32.353Z"
   },
   {
    "duration": 0,
    "start_time": "2023-09-08T15:19:32.354Z"
   },
   {
    "duration": 0,
    "start_time": "2023-09-08T15:19:32.355Z"
   },
   {
    "duration": 132,
    "start_time": "2023-09-08T15:19:49.907Z"
   },
   {
    "duration": 8,
    "start_time": "2023-09-08T15:21:06.743Z"
   },
   {
    "duration": 640,
    "start_time": "2023-09-08T15:21:50.485Z"
   },
   {
    "duration": 843,
    "start_time": "2023-09-08T15:21:51.127Z"
   },
   {
    "duration": 18,
    "start_time": "2023-09-08T15:21:51.972Z"
   },
   {
    "duration": 12,
    "start_time": "2023-09-08T15:21:51.991Z"
   },
   {
    "duration": 45,
    "start_time": "2023-09-08T15:21:52.005Z"
   },
   {
    "duration": 9,
    "start_time": "2023-09-08T15:21:52.051Z"
   },
   {
    "duration": 7,
    "start_time": "2023-09-08T15:21:52.061Z"
   },
   {
    "duration": 385,
    "start_time": "2023-09-08T15:21:52.069Z"
   },
   {
    "duration": 16,
    "start_time": "2023-09-08T15:21:52.456Z"
   },
   {
    "duration": 157,
    "start_time": "2023-09-08T15:21:52.474Z"
   },
   {
    "duration": 18,
    "start_time": "2023-09-08T15:21:52.633Z"
   },
   {
    "duration": 349,
    "start_time": "2023-09-08T15:21:52.653Z"
   },
   {
    "duration": 17,
    "start_time": "2023-09-08T15:21:53.003Z"
   },
   {
    "duration": 79,
    "start_time": "2023-09-08T15:21:53.022Z"
   },
   {
    "duration": 0,
    "start_time": "2023-09-08T15:21:53.102Z"
   },
   {
    "duration": 0,
    "start_time": "2023-09-08T15:21:53.104Z"
   },
   {
    "duration": 0,
    "start_time": "2023-09-08T15:21:53.105Z"
   },
   {
    "duration": 0,
    "start_time": "2023-09-08T15:21:53.106Z"
   },
   {
    "duration": 0,
    "start_time": "2023-09-08T15:21:53.107Z"
   },
   {
    "duration": 0,
    "start_time": "2023-09-08T15:21:53.108Z"
   },
   {
    "duration": 0,
    "start_time": "2023-09-08T15:21:53.109Z"
   },
   {
    "duration": 0,
    "start_time": "2023-09-08T15:21:53.110Z"
   },
   {
    "duration": 0,
    "start_time": "2023-09-08T15:21:53.111Z"
   },
   {
    "duration": 0,
    "start_time": "2023-09-08T15:21:53.113Z"
   },
   {
    "duration": 0,
    "start_time": "2023-09-08T15:21:53.114Z"
   },
   {
    "duration": 0,
    "start_time": "2023-09-08T15:21:53.115Z"
   },
   {
    "duration": 0,
    "start_time": "2023-09-08T15:21:53.144Z"
   },
   {
    "duration": 0,
    "start_time": "2023-09-08T15:21:53.146Z"
   },
   {
    "duration": 0,
    "start_time": "2023-09-08T15:21:53.147Z"
   },
   {
    "duration": 0,
    "start_time": "2023-09-08T15:21:53.148Z"
   },
   {
    "duration": 0,
    "start_time": "2023-09-08T15:21:53.149Z"
   },
   {
    "duration": 0,
    "start_time": "2023-09-08T15:21:53.150Z"
   },
   {
    "duration": 0,
    "start_time": "2023-09-08T15:21:53.151Z"
   },
   {
    "duration": 0,
    "start_time": "2023-09-08T15:21:53.151Z"
   },
   {
    "duration": 0,
    "start_time": "2023-09-08T15:21:53.152Z"
   },
   {
    "duration": 0,
    "start_time": "2023-09-08T15:21:53.153Z"
   },
   {
    "duration": 0,
    "start_time": "2023-09-08T15:21:53.154Z"
   },
   {
    "duration": 0,
    "start_time": "2023-09-08T15:21:53.155Z"
   },
   {
    "duration": 0,
    "start_time": "2023-09-08T15:21:53.156Z"
   },
   {
    "duration": 0,
    "start_time": "2023-09-08T15:21:53.157Z"
   },
   {
    "duration": 0,
    "start_time": "2023-09-08T15:21:53.158Z"
   },
   {
    "duration": 0,
    "start_time": "2023-09-08T15:21:53.159Z"
   },
   {
    "duration": 148,
    "start_time": "2023-09-08T15:22:13.703Z"
   },
   {
    "duration": 200,
    "start_time": "2023-09-08T15:26:41.802Z"
   },
   {
    "duration": 8,
    "start_time": "2023-09-08T15:28:08.827Z"
   },
   {
    "duration": 11,
    "start_time": "2023-09-08T15:28:19.158Z"
   },
   {
    "duration": 10,
    "start_time": "2023-09-08T15:28:24.328Z"
   },
   {
    "duration": 17,
    "start_time": "2023-09-08T15:29:56.427Z"
   },
   {
    "duration": 270,
    "start_time": "2023-09-08T15:34:08.550Z"
   },
   {
    "duration": 189,
    "start_time": "2023-09-08T15:34:50.678Z"
   },
   {
    "duration": 178,
    "start_time": "2023-09-08T15:35:25.445Z"
   },
   {
    "duration": 14,
    "start_time": "2023-09-08T15:36:47.446Z"
   },
   {
    "duration": 7,
    "start_time": "2023-09-08T15:36:48.770Z"
   },
   {
    "duration": 14,
    "start_time": "2023-09-08T15:36:56.768Z"
   },
   {
    "duration": 11,
    "start_time": "2023-09-08T15:42:15.700Z"
   },
   {
    "duration": 1186,
    "start_time": "2023-09-08T15:42:21.580Z"
   },
   {
    "duration": 889,
    "start_time": "2023-09-08T15:42:22.768Z"
   },
   {
    "duration": 17,
    "start_time": "2023-09-08T15:42:23.659Z"
   },
   {
    "duration": 12,
    "start_time": "2023-09-08T15:42:23.678Z"
   },
   {
    "duration": 20,
    "start_time": "2023-09-08T15:42:23.691Z"
   },
   {
    "duration": 32,
    "start_time": "2023-09-08T15:42:23.713Z"
   },
   {
    "duration": 12,
    "start_time": "2023-09-08T15:42:23.747Z"
   },
   {
    "duration": 410,
    "start_time": "2023-09-08T15:42:23.761Z"
   },
   {
    "duration": 20,
    "start_time": "2023-09-08T15:42:24.173Z"
   },
   {
    "duration": 186,
    "start_time": "2023-09-08T15:42:24.197Z"
   },
   {
    "duration": 10,
    "start_time": "2023-09-08T15:42:24.384Z"
   },
   {
    "duration": 365,
    "start_time": "2023-09-08T15:42:24.395Z"
   },
   {
    "duration": 17,
    "start_time": "2023-09-08T15:42:24.761Z"
   },
   {
    "duration": 162,
    "start_time": "2023-09-08T15:42:24.780Z"
   },
   {
    "duration": 218,
    "start_time": "2023-09-08T15:42:24.943Z"
   },
   {
    "duration": 19,
    "start_time": "2023-09-08T15:42:25.162Z"
   },
   {
    "duration": 210,
    "start_time": "2023-09-08T15:42:25.183Z"
   },
   {
    "duration": 199,
    "start_time": "2023-09-08T15:42:25.395Z"
   },
   {
    "duration": 15,
    "start_time": "2023-09-08T15:42:25.596Z"
   },
   {
    "duration": 130,
    "start_time": "2023-09-08T15:42:25.613Z"
   },
   {
    "duration": 0,
    "start_time": "2023-09-08T15:42:25.745Z"
   },
   {
    "duration": 0,
    "start_time": "2023-09-08T15:42:25.747Z"
   },
   {
    "duration": 0,
    "start_time": "2023-09-08T15:42:25.748Z"
   },
   {
    "duration": 0,
    "start_time": "2023-09-08T15:42:25.749Z"
   },
   {
    "duration": 0,
    "start_time": "2023-09-08T15:42:25.750Z"
   },
   {
    "duration": 0,
    "start_time": "2023-09-08T15:42:25.751Z"
   },
   {
    "duration": 0,
    "start_time": "2023-09-08T15:42:25.752Z"
   },
   {
    "duration": 0,
    "start_time": "2023-09-08T15:42:25.753Z"
   },
   {
    "duration": 0,
    "start_time": "2023-09-08T15:42:25.754Z"
   },
   {
    "duration": 0,
    "start_time": "2023-09-08T15:42:25.755Z"
   },
   {
    "duration": 0,
    "start_time": "2023-09-08T15:42:25.757Z"
   },
   {
    "duration": 0,
    "start_time": "2023-09-08T15:42:25.758Z"
   },
   {
    "duration": 0,
    "start_time": "2023-09-08T15:42:25.759Z"
   },
   {
    "duration": 0,
    "start_time": "2023-09-08T15:42:25.760Z"
   },
   {
    "duration": 0,
    "start_time": "2023-09-08T15:42:25.761Z"
   },
   {
    "duration": 0,
    "start_time": "2023-09-08T15:42:25.762Z"
   },
   {
    "duration": 0,
    "start_time": "2023-09-08T15:42:25.762Z"
   },
   {
    "duration": 0,
    "start_time": "2023-09-08T15:42:25.763Z"
   },
   {
    "duration": 0,
    "start_time": "2023-09-08T15:42:25.764Z"
   },
   {
    "duration": 0,
    "start_time": "2023-09-08T15:42:25.766Z"
   },
   {
    "duration": 0,
    "start_time": "2023-09-08T15:42:25.767Z"
   },
   {
    "duration": 0,
    "start_time": "2023-09-08T15:42:25.768Z"
   },
   {
    "duration": 129,
    "start_time": "2023-09-08T15:43:53.917Z"
   },
   {
    "duration": 1712,
    "start_time": "2023-09-08T15:44:14.288Z"
   },
   {
    "duration": 1694,
    "start_time": "2023-09-08T15:47:15.121Z"
   },
   {
    "duration": 1718,
    "start_time": "2023-09-08T15:47:51.501Z"
   },
   {
    "duration": 11,
    "start_time": "2023-09-08T15:48:32.574Z"
   },
   {
    "duration": 7,
    "start_time": "2023-09-08T15:49:00.921Z"
   },
   {
    "duration": 1120,
    "start_time": "2023-09-08T15:49:54.147Z"
   },
   {
    "duration": 759,
    "start_time": "2023-09-08T15:49:55.269Z"
   },
   {
    "duration": 20,
    "start_time": "2023-09-08T15:49:56.029Z"
   },
   {
    "duration": 13,
    "start_time": "2023-09-08T15:49:56.051Z"
   },
   {
    "duration": 16,
    "start_time": "2023-09-08T15:49:56.066Z"
   },
   {
    "duration": 8,
    "start_time": "2023-09-08T15:49:56.085Z"
   },
   {
    "duration": 50,
    "start_time": "2023-09-08T15:49:56.095Z"
   },
   {
    "duration": 342,
    "start_time": "2023-09-08T15:49:56.147Z"
   },
   {
    "duration": 16,
    "start_time": "2023-09-08T15:49:56.490Z"
   },
   {
    "duration": 142,
    "start_time": "2023-09-08T15:49:56.507Z"
   },
   {
    "duration": 12,
    "start_time": "2023-09-08T15:49:56.650Z"
   },
   {
    "duration": 323,
    "start_time": "2023-09-08T15:49:56.663Z"
   },
   {
    "duration": 16,
    "start_time": "2023-09-08T15:49:56.988Z"
   },
   {
    "duration": 144,
    "start_time": "2023-09-08T15:49:57.008Z"
   },
   {
    "duration": 170,
    "start_time": "2023-09-08T15:49:57.153Z"
   },
   {
    "duration": 24,
    "start_time": "2023-09-08T15:49:57.324Z"
   },
   {
    "duration": 174,
    "start_time": "2023-09-08T15:49:57.350Z"
   },
   {
    "duration": 170,
    "start_time": "2023-09-08T15:49:57.526Z"
   },
   {
    "duration": 13,
    "start_time": "2023-09-08T15:49:57.698Z"
   },
   {
    "duration": 2164,
    "start_time": "2023-09-08T15:49:57.713Z"
   },
   {
    "duration": 9,
    "start_time": "2023-09-08T15:49:59.879Z"
   },
   {
    "duration": 461,
    "start_time": "2023-09-08T15:49:59.890Z"
   },
   {
    "duration": 0,
    "start_time": "2023-09-08T15:50:00.353Z"
   },
   {
    "duration": 0,
    "start_time": "2023-09-08T15:50:00.354Z"
   },
   {
    "duration": 0,
    "start_time": "2023-09-08T15:50:00.355Z"
   },
   {
    "duration": 0,
    "start_time": "2023-09-08T15:50:00.356Z"
   },
   {
    "duration": 0,
    "start_time": "2023-09-08T15:50:00.357Z"
   },
   {
    "duration": 0,
    "start_time": "2023-09-08T15:50:00.358Z"
   },
   {
    "duration": 0,
    "start_time": "2023-09-08T15:50:00.359Z"
   },
   {
    "duration": 0,
    "start_time": "2023-09-08T15:50:00.360Z"
   },
   {
    "duration": 0,
    "start_time": "2023-09-08T15:50:00.361Z"
   },
   {
    "duration": 0,
    "start_time": "2023-09-08T15:50:00.362Z"
   },
   {
    "duration": 0,
    "start_time": "2023-09-08T15:50:00.362Z"
   },
   {
    "duration": 0,
    "start_time": "2023-09-08T15:50:00.363Z"
   },
   {
    "duration": 0,
    "start_time": "2023-09-08T15:50:00.364Z"
   },
   {
    "duration": 0,
    "start_time": "2023-09-08T15:50:00.365Z"
   },
   {
    "duration": 0,
    "start_time": "2023-09-08T15:50:00.366Z"
   },
   {
    "duration": 0,
    "start_time": "2023-09-08T15:50:00.367Z"
   },
   {
    "duration": 0,
    "start_time": "2023-09-08T15:50:00.367Z"
   },
   {
    "duration": 0,
    "start_time": "2023-09-08T15:50:00.368Z"
   },
   {
    "duration": 0,
    "start_time": "2023-09-08T15:50:00.369Z"
   },
   {
    "duration": 0,
    "start_time": "2023-09-08T15:50:00.370Z"
   },
   {
    "duration": 0,
    "start_time": "2023-09-08T15:50:00.371Z"
   },
   {
    "duration": 10,
    "start_time": "2023-09-08T15:52:11.738Z"
   },
   {
    "duration": 1147,
    "start_time": "2023-09-08T15:52:59.417Z"
   },
   {
    "duration": 843,
    "start_time": "2023-09-08T15:53:00.565Z"
   },
   {
    "duration": 17,
    "start_time": "2023-09-08T15:53:01.409Z"
   },
   {
    "duration": 64,
    "start_time": "2023-09-08T15:53:01.428Z"
   },
   {
    "duration": 53,
    "start_time": "2023-09-08T15:53:01.493Z"
   },
   {
    "duration": 14,
    "start_time": "2023-09-08T15:53:01.547Z"
   },
   {
    "duration": 44,
    "start_time": "2023-09-08T15:53:01.563Z"
   },
   {
    "duration": 351,
    "start_time": "2023-09-08T15:53:01.609Z"
   },
   {
    "duration": 15,
    "start_time": "2023-09-08T15:53:01.962Z"
   },
   {
    "duration": 413,
    "start_time": "2023-09-08T15:53:01.979Z"
   },
   {
    "duration": 10,
    "start_time": "2023-09-08T15:53:02.393Z"
   },
   {
    "duration": 342,
    "start_time": "2023-09-08T15:53:02.405Z"
   },
   {
    "duration": 15,
    "start_time": "2023-09-08T15:53:02.749Z"
   },
   {
    "duration": 139,
    "start_time": "2023-09-08T15:53:02.766Z"
   },
   {
    "duration": 190,
    "start_time": "2023-09-08T15:53:02.906Z"
   },
   {
    "duration": 17,
    "start_time": "2023-09-08T15:53:03.098Z"
   },
   {
    "duration": 181,
    "start_time": "2023-09-08T15:53:03.117Z"
   },
   {
    "duration": 176,
    "start_time": "2023-09-08T15:53:03.300Z"
   },
   {
    "duration": 17,
    "start_time": "2023-09-08T15:53:03.478Z"
   },
   {
    "duration": 1629,
    "start_time": "2023-09-08T15:53:03.496Z"
   },
   {
    "duration": 98,
    "start_time": "2023-09-08T15:53:05.127Z"
   },
   {
    "duration": 0,
    "start_time": "2023-09-08T15:53:05.228Z"
   },
   {
    "duration": 0,
    "start_time": "2023-09-08T15:53:05.229Z"
   },
   {
    "duration": 0,
    "start_time": "2023-09-08T15:53:05.230Z"
   },
   {
    "duration": 0,
    "start_time": "2023-09-08T15:53:05.244Z"
   },
   {
    "duration": 0,
    "start_time": "2023-09-08T15:53:05.246Z"
   },
   {
    "duration": 0,
    "start_time": "2023-09-08T15:53:05.247Z"
   },
   {
    "duration": 0,
    "start_time": "2023-09-08T15:53:05.248Z"
   },
   {
    "duration": 0,
    "start_time": "2023-09-08T15:53:05.249Z"
   },
   {
    "duration": 0,
    "start_time": "2023-09-08T15:53:05.251Z"
   },
   {
    "duration": 0,
    "start_time": "2023-09-08T15:53:05.252Z"
   },
   {
    "duration": 0,
    "start_time": "2023-09-08T15:53:05.253Z"
   },
   {
    "duration": 0,
    "start_time": "2023-09-08T15:53:05.255Z"
   },
   {
    "duration": 0,
    "start_time": "2023-09-08T15:53:05.256Z"
   },
   {
    "duration": 0,
    "start_time": "2023-09-08T15:53:05.258Z"
   },
   {
    "duration": 0,
    "start_time": "2023-09-08T15:53:05.259Z"
   },
   {
    "duration": 0,
    "start_time": "2023-09-08T15:53:05.260Z"
   },
   {
    "duration": 0,
    "start_time": "2023-09-08T15:53:05.261Z"
   },
   {
    "duration": 0,
    "start_time": "2023-09-08T15:53:05.263Z"
   },
   {
    "duration": 0,
    "start_time": "2023-09-08T15:53:05.264Z"
   },
   {
    "duration": 0,
    "start_time": "2023-09-08T15:53:05.265Z"
   },
   {
    "duration": 0,
    "start_time": "2023-09-08T15:53:05.266Z"
   },
   {
    "duration": 0,
    "start_time": "2023-09-08T15:53:05.268Z"
   },
   {
    "duration": 7,
    "start_time": "2023-09-08T15:53:53.961Z"
   },
   {
    "duration": 7,
    "start_time": "2023-09-08T15:56:30.038Z"
   },
   {
    "duration": 6,
    "start_time": "2023-09-08T15:56:53.001Z"
   },
   {
    "duration": 8,
    "start_time": "2023-09-08T16:00:48.934Z"
   },
   {
    "duration": 10,
    "start_time": "2023-09-08T16:02:20.858Z"
   },
   {
    "duration": 1606,
    "start_time": "2023-09-08T16:04:24.933Z"
   },
   {
    "duration": 8,
    "start_time": "2023-09-08T16:06:19.632Z"
   },
   {
    "duration": 7,
    "start_time": "2023-09-08T16:28:11.860Z"
   },
   {
    "duration": 1709,
    "start_time": "2023-09-08T16:30:52.321Z"
   },
   {
    "duration": 1543,
    "start_time": "2023-09-08T16:31:48.772Z"
   },
   {
    "duration": 8,
    "start_time": "2023-09-08T16:33:22.936Z"
   },
   {
    "duration": 1643,
    "start_time": "2023-09-08T16:33:59.086Z"
   },
   {
    "duration": 653,
    "start_time": "2023-09-08T16:36:41.601Z"
   },
   {
    "duration": 6,
    "start_time": "2023-09-08T16:38:36.323Z"
   },
   {
    "duration": 1160,
    "start_time": "2023-09-08T16:41:11.670Z"
   },
   {
    "duration": 871,
    "start_time": "2023-09-08T16:41:12.832Z"
   },
   {
    "duration": 18,
    "start_time": "2023-09-08T16:41:13.705Z"
   },
   {
    "duration": 23,
    "start_time": "2023-09-08T16:41:13.724Z"
   },
   {
    "duration": 17,
    "start_time": "2023-09-08T16:41:13.749Z"
   },
   {
    "duration": 10,
    "start_time": "2023-09-08T16:41:13.768Z"
   },
   {
    "duration": 28,
    "start_time": "2023-09-08T16:41:13.780Z"
   },
   {
    "duration": 441,
    "start_time": "2023-09-08T16:41:13.809Z"
   },
   {
    "duration": 20,
    "start_time": "2023-09-08T16:41:14.252Z"
   },
   {
    "duration": 147,
    "start_time": "2023-09-08T16:41:14.276Z"
   },
   {
    "duration": 19,
    "start_time": "2023-09-08T16:41:14.425Z"
   },
   {
    "duration": 330,
    "start_time": "2023-09-08T16:41:14.446Z"
   },
   {
    "duration": 15,
    "start_time": "2023-09-08T16:41:14.778Z"
   },
   {
    "duration": 133,
    "start_time": "2023-09-08T16:41:14.795Z"
   },
   {
    "duration": 186,
    "start_time": "2023-09-08T16:41:14.930Z"
   },
   {
    "duration": 28,
    "start_time": "2023-09-08T16:41:15.117Z"
   },
   {
    "duration": 173,
    "start_time": "2023-09-08T16:41:15.147Z"
   },
   {
    "duration": 185,
    "start_time": "2023-09-08T16:41:15.322Z"
   },
   {
    "duration": 15,
    "start_time": "2023-09-08T16:41:15.508Z"
   },
   {
    "duration": 1732,
    "start_time": "2023-09-08T16:41:15.524Z"
   },
   {
    "duration": 8,
    "start_time": "2023-09-08T16:41:17.258Z"
   },
   {
    "duration": 1698,
    "start_time": "2023-09-08T16:41:17.267Z"
   },
   {
    "duration": 8,
    "start_time": "2023-09-08T16:41:18.966Z"
   },
   {
    "duration": 2626,
    "start_time": "2023-09-08T16:41:18.975Z"
   },
   {
    "duration": 10,
    "start_time": "2023-09-08T16:41:21.643Z"
   },
   {
    "duration": 648,
    "start_time": "2023-09-08T16:41:21.655Z"
   },
   {
    "duration": 5,
    "start_time": "2023-09-08T16:41:22.304Z"
   },
   {
    "duration": 112,
    "start_time": "2023-09-08T16:41:22.313Z"
   },
   {
    "duration": 0,
    "start_time": "2023-09-08T16:41:22.427Z"
   },
   {
    "duration": 0,
    "start_time": "2023-09-08T16:41:22.428Z"
   },
   {
    "duration": 0,
    "start_time": "2023-09-08T16:41:22.429Z"
   },
   {
    "duration": 0,
    "start_time": "2023-09-08T16:41:22.430Z"
   },
   {
    "duration": 0,
    "start_time": "2023-09-08T16:41:22.431Z"
   },
   {
    "duration": 0,
    "start_time": "2023-09-08T16:41:22.432Z"
   },
   {
    "duration": 0,
    "start_time": "2023-09-08T16:41:22.433Z"
   },
   {
    "duration": 0,
    "start_time": "2023-09-08T16:41:22.444Z"
   },
   {
    "duration": 0,
    "start_time": "2023-09-08T16:41:22.445Z"
   },
   {
    "duration": 0,
    "start_time": "2023-09-08T16:41:22.446Z"
   },
   {
    "duration": 0,
    "start_time": "2023-09-08T16:41:22.447Z"
   },
   {
    "duration": 0,
    "start_time": "2023-09-08T16:41:22.448Z"
   },
   {
    "duration": 0,
    "start_time": "2023-09-08T16:41:22.449Z"
   },
   {
    "duration": 0,
    "start_time": "2023-09-08T16:41:22.450Z"
   },
   {
    "duration": 0,
    "start_time": "2023-09-08T16:41:22.451Z"
   },
   {
    "duration": 0,
    "start_time": "2023-09-08T16:41:22.452Z"
   },
   {
    "duration": 7,
    "start_time": "2023-09-08T16:43:30.441Z"
   },
   {
    "duration": 1709,
    "start_time": "2023-09-08T16:46:51.970Z"
   },
   {
    "duration": 1747,
    "start_time": "2023-09-08T16:47:05.528Z"
   },
   {
    "duration": 5,
    "start_time": "2023-09-08T16:56:09.865Z"
   },
   {
    "duration": 6,
    "start_time": "2023-09-08T16:56:22.800Z"
   },
   {
    "duration": 5,
    "start_time": "2023-09-08T16:56:29.669Z"
   },
   {
    "duration": 1190,
    "start_time": "2023-09-08T16:56:36.043Z"
   },
   {
    "duration": 819,
    "start_time": "2023-09-08T16:56:37.235Z"
   },
   {
    "duration": 17,
    "start_time": "2023-09-08T16:56:38.055Z"
   },
   {
    "duration": 32,
    "start_time": "2023-09-08T16:56:38.075Z"
   },
   {
    "duration": 16,
    "start_time": "2023-09-08T16:56:38.109Z"
   },
   {
    "duration": 17,
    "start_time": "2023-09-08T16:56:38.127Z"
   },
   {
    "duration": 21,
    "start_time": "2023-09-08T16:56:38.146Z"
   },
   {
    "duration": 368,
    "start_time": "2023-09-08T16:56:38.168Z"
   },
   {
    "duration": 19,
    "start_time": "2023-09-08T16:56:38.537Z"
   },
   {
    "duration": 330,
    "start_time": "2023-09-08T16:56:38.559Z"
   },
   {
    "duration": 11,
    "start_time": "2023-09-08T16:56:38.890Z"
   },
   {
    "duration": 401,
    "start_time": "2023-09-08T16:56:38.903Z"
   },
   {
    "duration": 18,
    "start_time": "2023-09-08T16:56:39.306Z"
   },
   {
    "duration": 147,
    "start_time": "2023-09-08T16:56:39.326Z"
   },
   {
    "duration": 187,
    "start_time": "2023-09-08T16:56:39.475Z"
   },
   {
    "duration": 19,
    "start_time": "2023-09-08T16:56:39.664Z"
   },
   {
    "duration": 199,
    "start_time": "2023-09-08T16:56:39.685Z"
   },
   {
    "duration": 195,
    "start_time": "2023-09-08T16:56:39.886Z"
   },
   {
    "duration": 19,
    "start_time": "2023-09-08T16:56:40.083Z"
   },
   {
    "duration": 1784,
    "start_time": "2023-09-08T16:56:40.104Z"
   },
   {
    "duration": 7,
    "start_time": "2023-09-08T16:56:41.890Z"
   },
   {
    "duration": 1684,
    "start_time": "2023-09-08T16:56:41.899Z"
   },
   {
    "duration": 8,
    "start_time": "2023-09-08T16:56:43.585Z"
   },
   {
    "duration": 1838,
    "start_time": "2023-09-08T16:56:43.594Z"
   },
   {
    "duration": 10,
    "start_time": "2023-09-08T16:56:45.434Z"
   },
   {
    "duration": 656,
    "start_time": "2023-09-08T16:56:45.446Z"
   },
   {
    "duration": 4,
    "start_time": "2023-09-08T16:56:46.104Z"
   },
   {
    "duration": 8,
    "start_time": "2023-09-08T16:56:46.112Z"
   },
   {
    "duration": 1638,
    "start_time": "2023-09-08T16:56:46.122Z"
   },
   {
    "duration": 5,
    "start_time": "2023-09-08T16:56:47.761Z"
   },
   {
    "duration": 17,
    "start_time": "2023-09-08T16:56:47.768Z"
   },
   {
    "duration": 54,
    "start_time": "2023-09-08T16:56:47.787Z"
   },
   {
    "duration": 104,
    "start_time": "2023-09-08T16:56:47.843Z"
   },
   {
    "duration": 0,
    "start_time": "2023-09-08T16:56:47.949Z"
   },
   {
    "duration": 0,
    "start_time": "2023-09-08T16:56:47.950Z"
   },
   {
    "duration": 0,
    "start_time": "2023-09-08T16:56:47.951Z"
   },
   {
    "duration": 0,
    "start_time": "2023-09-08T16:56:47.952Z"
   },
   {
    "duration": 0,
    "start_time": "2023-09-08T16:56:47.953Z"
   },
   {
    "duration": 0,
    "start_time": "2023-09-08T16:56:47.954Z"
   },
   {
    "duration": 0,
    "start_time": "2023-09-08T16:56:47.955Z"
   },
   {
    "duration": 0,
    "start_time": "2023-09-08T16:56:47.956Z"
   },
   {
    "duration": 0,
    "start_time": "2023-09-08T16:56:47.957Z"
   },
   {
    "duration": 0,
    "start_time": "2023-09-08T16:56:47.957Z"
   },
   {
    "duration": 0,
    "start_time": "2023-09-08T16:56:47.958Z"
   },
   {
    "duration": 0,
    "start_time": "2023-09-08T16:56:47.959Z"
   },
   {
    "duration": 0,
    "start_time": "2023-09-08T16:56:47.960Z"
   },
   {
    "duration": 0,
    "start_time": "2023-09-08T16:56:47.961Z"
   },
   {
    "duration": 0,
    "start_time": "2023-09-08T16:56:47.962Z"
   },
   {
    "duration": 5,
    "start_time": "2023-09-08T16:58:22.663Z"
   },
   {
    "duration": 14,
    "start_time": "2023-09-08T17:12:22.768Z"
   },
   {
    "duration": 9,
    "start_time": "2023-09-08T17:12:24.612Z"
   },
   {
    "duration": 1215,
    "start_time": "2023-09-08T17:14:03.721Z"
   },
   {
    "duration": 1015,
    "start_time": "2023-09-08T17:14:04.938Z"
   },
   {
    "duration": 18,
    "start_time": "2023-09-08T17:14:05.955Z"
   },
   {
    "duration": 92,
    "start_time": "2023-09-08T17:14:05.975Z"
   },
   {
    "duration": 84,
    "start_time": "2023-09-08T17:14:06.068Z"
   },
   {
    "duration": 8,
    "start_time": "2023-09-08T17:14:06.154Z"
   },
   {
    "duration": 84,
    "start_time": "2023-09-08T17:14:06.164Z"
   },
   {
    "duration": 715,
    "start_time": "2023-09-08T17:14:06.250Z"
   },
   {
    "duration": 16,
    "start_time": "2023-09-08T17:14:06.966Z"
   },
   {
    "duration": 297,
    "start_time": "2023-09-08T17:14:06.985Z"
   },
   {
    "duration": 11,
    "start_time": "2023-09-08T17:14:07.283Z"
   },
   {
    "duration": 350,
    "start_time": "2023-09-08T17:14:07.295Z"
   },
   {
    "duration": 16,
    "start_time": "2023-09-08T17:14:07.646Z"
   },
   {
    "duration": 143,
    "start_time": "2023-09-08T17:14:07.663Z"
   },
   {
    "duration": 176,
    "start_time": "2023-09-08T17:14:07.807Z"
   },
   {
    "duration": 19,
    "start_time": "2023-09-08T17:14:07.985Z"
   },
   {
    "duration": 195,
    "start_time": "2023-09-08T17:14:08.006Z"
   },
   {
    "duration": 185,
    "start_time": "2023-09-08T17:14:08.203Z"
   },
   {
    "duration": 16,
    "start_time": "2023-09-08T17:14:08.389Z"
   },
   {
    "duration": 1757,
    "start_time": "2023-09-08T17:14:08.406Z"
   },
   {
    "duration": 17,
    "start_time": "2023-09-08T17:14:10.164Z"
   },
   {
    "duration": 1681,
    "start_time": "2023-09-08T17:14:10.183Z"
   },
   {
    "duration": 10,
    "start_time": "2023-09-08T17:14:11.866Z"
   },
   {
    "duration": 1813,
    "start_time": "2023-09-08T17:14:11.878Z"
   },
   {
    "duration": 8,
    "start_time": "2023-09-08T17:14:13.692Z"
   },
   {
    "duration": 1704,
    "start_time": "2023-09-08T17:14:13.702Z"
   },
   {
    "duration": 8,
    "start_time": "2023-09-08T17:14:15.408Z"
   },
   {
    "duration": 701,
    "start_time": "2023-09-08T17:14:15.419Z"
   },
   {
    "duration": 4,
    "start_time": "2023-09-08T17:14:16.122Z"
   },
   {
    "duration": 16,
    "start_time": "2023-09-08T17:14:16.128Z"
   },
   {
    "duration": 1760,
    "start_time": "2023-09-08T17:14:16.145Z"
   },
   {
    "duration": 5,
    "start_time": "2023-09-08T17:14:17.907Z"
   },
   {
    "duration": 19,
    "start_time": "2023-09-08T17:14:17.913Z"
   },
   {
    "duration": 10,
    "start_time": "2023-09-08T17:14:17.934Z"
   },
   {
    "duration": 106,
    "start_time": "2023-09-08T17:14:17.946Z"
   },
   {
    "duration": 0,
    "start_time": "2023-09-08T17:14:18.054Z"
   },
   {
    "duration": 0,
    "start_time": "2023-09-08T17:14:18.055Z"
   },
   {
    "duration": 0,
    "start_time": "2023-09-08T17:14:18.056Z"
   },
   {
    "duration": 0,
    "start_time": "2023-09-08T17:14:18.058Z"
   },
   {
    "duration": 0,
    "start_time": "2023-09-08T17:14:18.059Z"
   },
   {
    "duration": 0,
    "start_time": "2023-09-08T17:14:18.061Z"
   },
   {
    "duration": 0,
    "start_time": "2023-09-08T17:14:18.062Z"
   },
   {
    "duration": 0,
    "start_time": "2023-09-08T17:14:18.063Z"
   },
   {
    "duration": 0,
    "start_time": "2023-09-08T17:14:18.064Z"
   },
   {
    "duration": 0,
    "start_time": "2023-09-08T17:14:18.065Z"
   },
   {
    "duration": 0,
    "start_time": "2023-09-08T17:14:18.066Z"
   },
   {
    "duration": 0,
    "start_time": "2023-09-08T17:14:18.067Z"
   },
   {
    "duration": 0,
    "start_time": "2023-09-08T17:14:18.068Z"
   },
   {
    "duration": 0,
    "start_time": "2023-09-08T17:14:18.069Z"
   },
   {
    "duration": 0,
    "start_time": "2023-09-08T17:14:18.071Z"
   },
   {
    "duration": 1125,
    "start_time": "2023-09-08T17:15:25.502Z"
   },
   {
    "duration": 839,
    "start_time": "2023-09-08T17:15:26.629Z"
   },
   {
    "duration": 17,
    "start_time": "2023-09-08T17:15:27.470Z"
   },
   {
    "duration": 13,
    "start_time": "2023-09-08T17:15:27.488Z"
   },
   {
    "duration": 30,
    "start_time": "2023-09-08T17:15:27.503Z"
   },
   {
    "duration": 15,
    "start_time": "2023-09-08T17:15:27.535Z"
   },
   {
    "duration": 14,
    "start_time": "2023-09-08T17:15:27.551Z"
   },
   {
    "duration": 421,
    "start_time": "2023-09-08T17:15:27.567Z"
   },
   {
    "duration": 68,
    "start_time": "2023-09-08T17:15:27.989Z"
   },
   {
    "duration": 290,
    "start_time": "2023-09-08T17:15:28.059Z"
   },
   {
    "duration": 11,
    "start_time": "2023-09-08T17:15:28.351Z"
   },
   {
    "duration": 721,
    "start_time": "2023-09-08T17:15:28.363Z"
   },
   {
    "duration": 66,
    "start_time": "2023-09-08T17:15:29.086Z"
   },
   {
    "duration": 289,
    "start_time": "2023-09-08T17:15:29.155Z"
   },
   {
    "duration": 264,
    "start_time": "2023-09-08T17:15:29.446Z"
   },
   {
    "duration": 18,
    "start_time": "2023-09-08T17:15:29.711Z"
   },
   {
    "duration": 171,
    "start_time": "2023-09-08T17:15:29.748Z"
   },
   {
    "duration": 191,
    "start_time": "2023-09-08T17:15:29.920Z"
   },
   {
    "duration": 17,
    "start_time": "2023-09-08T17:15:30.113Z"
   },
   {
    "duration": 1951,
    "start_time": "2023-09-08T17:15:30.132Z"
   },
   {
    "duration": 14,
    "start_time": "2023-09-08T17:15:32.084Z"
   },
   {
    "duration": 1676,
    "start_time": "2023-09-08T17:15:32.099Z"
   },
   {
    "duration": 7,
    "start_time": "2023-09-08T17:15:33.777Z"
   },
   {
    "duration": 1776,
    "start_time": "2023-09-08T17:15:33.786Z"
   },
   {
    "duration": 9,
    "start_time": "2023-09-08T17:15:35.564Z"
   },
   {
    "duration": 1689,
    "start_time": "2023-09-08T17:15:35.574Z"
   },
   {
    "duration": 9,
    "start_time": "2023-09-08T17:15:37.265Z"
   },
   {
    "duration": 709,
    "start_time": "2023-09-08T17:15:37.276Z"
   },
   {
    "duration": 6,
    "start_time": "2023-09-08T17:15:37.987Z"
   },
   {
    "duration": 16,
    "start_time": "2023-09-08T17:15:37.995Z"
   },
   {
    "duration": 1764,
    "start_time": "2023-09-08T17:15:38.013Z"
   },
   {
    "duration": 6,
    "start_time": "2023-09-08T17:15:39.779Z"
   },
   {
    "duration": 12,
    "start_time": "2023-09-08T17:15:39.787Z"
   },
   {
    "duration": 15,
    "start_time": "2023-09-08T17:15:39.801Z"
   },
   {
    "duration": 100,
    "start_time": "2023-09-08T17:15:39.817Z"
   },
   {
    "duration": 0,
    "start_time": "2023-09-08T17:15:39.919Z"
   },
   {
    "duration": 0,
    "start_time": "2023-09-08T17:15:39.920Z"
   },
   {
    "duration": 0,
    "start_time": "2023-09-08T17:15:39.921Z"
   },
   {
    "duration": 0,
    "start_time": "2023-09-08T17:15:39.923Z"
   },
   {
    "duration": 0,
    "start_time": "2023-09-08T17:15:39.923Z"
   },
   {
    "duration": 0,
    "start_time": "2023-09-08T17:15:39.925Z"
   },
   {
    "duration": 0,
    "start_time": "2023-09-08T17:15:39.926Z"
   },
   {
    "duration": 0,
    "start_time": "2023-09-08T17:15:39.926Z"
   },
   {
    "duration": 0,
    "start_time": "2023-09-08T17:15:39.945Z"
   },
   {
    "duration": 0,
    "start_time": "2023-09-08T17:15:39.946Z"
   },
   {
    "duration": 0,
    "start_time": "2023-09-08T17:15:39.947Z"
   },
   {
    "duration": 0,
    "start_time": "2023-09-08T17:15:39.948Z"
   },
   {
    "duration": 0,
    "start_time": "2023-09-08T17:15:39.949Z"
   },
   {
    "duration": 0,
    "start_time": "2023-09-08T17:15:39.950Z"
   },
   {
    "duration": 0,
    "start_time": "2023-09-08T17:15:39.951Z"
   },
   {
    "duration": 1185,
    "start_time": "2023-09-08T17:16:00.555Z"
   },
   {
    "duration": 936,
    "start_time": "2023-09-08T17:16:01.742Z"
   },
   {
    "duration": 69,
    "start_time": "2023-09-08T17:16:02.680Z"
   },
   {
    "duration": 12,
    "start_time": "2023-09-08T17:16:02.751Z"
   },
   {
    "duration": 83,
    "start_time": "2023-09-08T17:16:02.765Z"
   },
   {
    "duration": 8,
    "start_time": "2023-09-08T17:16:02.849Z"
   },
   {
    "duration": 37,
    "start_time": "2023-09-08T17:16:02.858Z"
   },
   {
    "duration": 689,
    "start_time": "2023-09-08T17:16:02.897Z"
   },
   {
    "duration": 67,
    "start_time": "2023-09-08T17:16:03.588Z"
   },
   {
    "duration": 293,
    "start_time": "2023-09-08T17:16:03.656Z"
   },
   {
    "duration": 11,
    "start_time": "2023-09-08T17:16:03.950Z"
   },
   {
    "duration": 698,
    "start_time": "2023-09-08T17:16:03.962Z"
   },
   {
    "duration": 16,
    "start_time": "2023-09-08T17:16:04.662Z"
   },
   {
    "duration": 139,
    "start_time": "2023-09-08T17:16:04.681Z"
   },
   {
    "duration": 181,
    "start_time": "2023-09-08T17:16:04.821Z"
   },
   {
    "duration": 21,
    "start_time": "2023-09-08T17:16:05.003Z"
   },
   {
    "duration": 201,
    "start_time": "2023-09-08T17:16:05.026Z"
   },
   {
    "duration": 192,
    "start_time": "2023-09-08T17:16:05.229Z"
   },
   {
    "duration": 28,
    "start_time": "2023-09-08T17:16:05.422Z"
   },
   {
    "duration": 1707,
    "start_time": "2023-09-08T17:16:05.451Z"
   },
   {
    "duration": 10,
    "start_time": "2023-09-08T17:16:07.160Z"
   },
   {
    "duration": 1730,
    "start_time": "2023-09-08T17:16:07.172Z"
   },
   {
    "duration": 8,
    "start_time": "2023-09-08T17:16:08.903Z"
   },
   {
    "duration": 1745,
    "start_time": "2023-09-08T17:16:08.913Z"
   },
   {
    "duration": 8,
    "start_time": "2023-09-08T17:16:10.659Z"
   },
   {
    "duration": 1699,
    "start_time": "2023-09-08T17:16:10.668Z"
   },
   {
    "duration": 7,
    "start_time": "2023-09-08T17:16:12.368Z"
   },
   {
    "duration": 745,
    "start_time": "2023-09-08T17:16:12.377Z"
   },
   {
    "duration": 4,
    "start_time": "2023-09-08T17:16:13.124Z"
   },
   {
    "duration": 26,
    "start_time": "2023-09-08T17:16:13.129Z"
   },
   {
    "duration": 1746,
    "start_time": "2023-09-08T17:16:13.157Z"
   },
   {
    "duration": 5,
    "start_time": "2023-09-08T17:16:14.905Z"
   },
   {
    "duration": 24,
    "start_time": "2023-09-08T17:16:14.911Z"
   },
   {
    "duration": 19,
    "start_time": "2023-09-08T17:16:14.937Z"
   },
   {
    "duration": 117,
    "start_time": "2023-09-08T17:16:14.957Z"
   },
   {
    "duration": 0,
    "start_time": "2023-09-08T17:16:15.076Z"
   },
   {
    "duration": 0,
    "start_time": "2023-09-08T17:16:15.077Z"
   },
   {
    "duration": 0,
    "start_time": "2023-09-08T17:16:15.078Z"
   },
   {
    "duration": 0,
    "start_time": "2023-09-08T17:16:15.079Z"
   },
   {
    "duration": 0,
    "start_time": "2023-09-08T17:16:15.081Z"
   },
   {
    "duration": 0,
    "start_time": "2023-09-08T17:16:15.082Z"
   },
   {
    "duration": 0,
    "start_time": "2023-09-08T17:16:15.083Z"
   },
   {
    "duration": 0,
    "start_time": "2023-09-08T17:16:15.084Z"
   },
   {
    "duration": 0,
    "start_time": "2023-09-08T17:16:15.085Z"
   },
   {
    "duration": 0,
    "start_time": "2023-09-08T17:16:15.087Z"
   },
   {
    "duration": 0,
    "start_time": "2023-09-08T17:16:15.088Z"
   },
   {
    "duration": 0,
    "start_time": "2023-09-08T17:16:15.089Z"
   },
   {
    "duration": 0,
    "start_time": "2023-09-08T17:16:15.090Z"
   },
   {
    "duration": 0,
    "start_time": "2023-09-08T17:16:15.091Z"
   },
   {
    "duration": 0,
    "start_time": "2023-09-08T17:16:15.092Z"
   },
   {
    "duration": 1189,
    "start_time": "2023-09-08T17:16:43.087Z"
   },
   {
    "duration": 844,
    "start_time": "2023-09-08T17:16:44.279Z"
   },
   {
    "duration": 25,
    "start_time": "2023-09-08T17:16:45.125Z"
   },
   {
    "duration": 11,
    "start_time": "2023-09-08T17:16:45.152Z"
   },
   {
    "duration": 29,
    "start_time": "2023-09-08T17:16:45.165Z"
   },
   {
    "duration": 8,
    "start_time": "2023-09-08T17:16:45.195Z"
   },
   {
    "duration": 7,
    "start_time": "2023-09-08T17:16:45.204Z"
   },
   {
    "duration": 388,
    "start_time": "2023-09-08T17:16:45.213Z"
   },
   {
    "duration": 15,
    "start_time": "2023-09-08T17:16:45.603Z"
   },
   {
    "duration": 151,
    "start_time": "2023-09-08T17:16:45.620Z"
   },
   {
    "duration": 11,
    "start_time": "2023-09-08T17:16:45.772Z"
   },
   {
    "duration": 372,
    "start_time": "2023-09-08T17:16:45.784Z"
   },
   {
    "duration": 18,
    "start_time": "2023-09-08T17:16:46.157Z"
   },
   {
    "duration": 163,
    "start_time": "2023-09-08T17:16:46.178Z"
   },
   {
    "duration": 183,
    "start_time": "2023-09-08T17:16:46.344Z"
   },
   {
    "duration": 27,
    "start_time": "2023-09-08T17:16:46.529Z"
   },
   {
    "duration": 191,
    "start_time": "2023-09-08T17:16:46.557Z"
   },
   {
    "duration": 204,
    "start_time": "2023-09-08T17:16:46.750Z"
   },
   {
    "duration": 19,
    "start_time": "2023-09-08T17:16:46.956Z"
   },
   {
    "duration": 2780,
    "start_time": "2023-09-08T17:16:46.977Z"
   },
   {
    "duration": 7,
    "start_time": "2023-09-08T17:16:49.759Z"
   },
   {
    "duration": 1584,
    "start_time": "2023-09-08T17:16:49.767Z"
   },
   {
    "duration": 7,
    "start_time": "2023-09-08T17:16:51.353Z"
   },
   {
    "duration": 1686,
    "start_time": "2023-09-08T17:16:51.362Z"
   },
   {
    "duration": 8,
    "start_time": "2023-09-08T17:16:53.050Z"
   },
   {
    "duration": 1651,
    "start_time": "2023-09-08T17:16:53.060Z"
   },
   {
    "duration": 7,
    "start_time": "2023-09-08T17:16:54.712Z"
   },
   {
    "duration": 658,
    "start_time": "2023-09-08T17:16:54.721Z"
   },
   {
    "duration": 4,
    "start_time": "2023-09-08T17:16:55.381Z"
   },
   {
    "duration": 9,
    "start_time": "2023-09-08T17:16:55.386Z"
   },
   {
    "duration": 1783,
    "start_time": "2023-09-08T17:16:55.396Z"
   },
   {
    "duration": 5,
    "start_time": "2023-09-08T17:16:57.180Z"
   },
   {
    "duration": 6,
    "start_time": "2023-09-08T17:16:57.186Z"
   },
   {
    "duration": 7,
    "start_time": "2023-09-08T17:16:57.194Z"
   },
   {
    "duration": 111,
    "start_time": "2023-09-08T17:16:57.202Z"
   },
   {
    "duration": 0,
    "start_time": "2023-09-08T17:16:57.314Z"
   },
   {
    "duration": 0,
    "start_time": "2023-09-08T17:16:57.316Z"
   },
   {
    "duration": 0,
    "start_time": "2023-09-08T17:16:57.316Z"
   },
   {
    "duration": 0,
    "start_time": "2023-09-08T17:16:57.318Z"
   },
   {
    "duration": 0,
    "start_time": "2023-09-08T17:16:57.319Z"
   },
   {
    "duration": 0,
    "start_time": "2023-09-08T17:16:57.320Z"
   },
   {
    "duration": 0,
    "start_time": "2023-09-08T17:16:57.321Z"
   },
   {
    "duration": 0,
    "start_time": "2023-09-08T17:16:57.322Z"
   },
   {
    "duration": 0,
    "start_time": "2023-09-08T17:16:57.323Z"
   },
   {
    "duration": 0,
    "start_time": "2023-09-08T17:16:57.324Z"
   },
   {
    "duration": 0,
    "start_time": "2023-09-08T17:16:57.325Z"
   },
   {
    "duration": 0,
    "start_time": "2023-09-08T17:16:57.344Z"
   },
   {
    "duration": 0,
    "start_time": "2023-09-08T17:16:57.345Z"
   },
   {
    "duration": 0,
    "start_time": "2023-09-08T17:16:57.346Z"
   },
   {
    "duration": 0,
    "start_time": "2023-09-08T17:16:57.347Z"
   },
   {
    "duration": 15,
    "start_time": "2023-09-08T17:18:44.577Z"
   },
   {
    "duration": 1091,
    "start_time": "2023-09-08T17:20:17.646Z"
   },
   {
    "duration": 834,
    "start_time": "2023-09-08T17:20:18.739Z"
   },
   {
    "duration": 17,
    "start_time": "2023-09-08T17:20:19.575Z"
   },
   {
    "duration": 11,
    "start_time": "2023-09-08T17:20:19.595Z"
   },
   {
    "duration": 39,
    "start_time": "2023-09-08T17:20:19.607Z"
   },
   {
    "duration": 7,
    "start_time": "2023-09-08T17:20:19.647Z"
   },
   {
    "duration": 6,
    "start_time": "2023-09-08T17:20:19.656Z"
   },
   {
    "duration": 484,
    "start_time": "2023-09-08T17:20:19.664Z"
   },
   {
    "duration": 15,
    "start_time": "2023-09-08T17:20:20.150Z"
   },
   {
    "duration": 289,
    "start_time": "2023-09-08T17:20:20.167Z"
   },
   {
    "duration": 9,
    "start_time": "2023-09-08T17:20:20.458Z"
   },
   {
    "duration": 690,
    "start_time": "2023-09-08T17:20:20.469Z"
   },
   {
    "duration": 16,
    "start_time": "2023-09-08T17:20:21.161Z"
   },
   {
    "duration": 278,
    "start_time": "2023-09-08T17:20:21.179Z"
   },
   {
    "duration": 272,
    "start_time": "2023-09-08T17:20:21.459Z"
   },
   {
    "duration": 27,
    "start_time": "2023-09-08T17:20:21.732Z"
   },
   {
    "duration": 182,
    "start_time": "2023-09-08T17:20:21.762Z"
   },
   {
    "duration": 173,
    "start_time": "2023-09-08T17:20:21.946Z"
   },
   {
    "duration": 25,
    "start_time": "2023-09-08T17:20:22.120Z"
   },
   {
    "duration": 1746,
    "start_time": "2023-09-08T17:20:22.147Z"
   },
   {
    "duration": 15,
    "start_time": "2023-09-08T17:20:23.894Z"
   },
   {
    "duration": 13,
    "start_time": "2023-09-08T17:20:23.911Z"
   },
   {
    "duration": 1642,
    "start_time": "2023-09-08T17:20:23.926Z"
   },
   {
    "duration": 16,
    "start_time": "2023-09-08T17:20:25.570Z"
   },
   {
    "duration": 26,
    "start_time": "2023-09-08T17:20:25.587Z"
   },
   {
    "duration": 1747,
    "start_time": "2023-09-08T17:20:25.615Z"
   },
   {
    "duration": 7,
    "start_time": "2023-09-08T17:20:27.363Z"
   },
   {
    "duration": 695,
    "start_time": "2023-09-08T17:20:27.373Z"
   },
   {
    "duration": 5,
    "start_time": "2023-09-08T17:20:28.069Z"
   },
   {
    "duration": 8,
    "start_time": "2023-09-08T17:20:28.075Z"
   },
   {
    "duration": 1717,
    "start_time": "2023-09-08T17:20:28.085Z"
   },
   {
    "duration": 6,
    "start_time": "2023-09-08T17:20:29.803Z"
   },
   {
    "duration": 5,
    "start_time": "2023-09-08T17:20:29.810Z"
   },
   {
    "duration": 7,
    "start_time": "2023-09-08T17:20:29.816Z"
   },
   {
    "duration": 100,
    "start_time": "2023-09-08T17:20:29.844Z"
   },
   {
    "duration": 0,
    "start_time": "2023-09-08T17:20:29.945Z"
   },
   {
    "duration": 0,
    "start_time": "2023-09-08T17:20:29.947Z"
   },
   {
    "duration": 0,
    "start_time": "2023-09-08T17:20:29.948Z"
   },
   {
    "duration": 0,
    "start_time": "2023-09-08T17:20:29.949Z"
   },
   {
    "duration": 0,
    "start_time": "2023-09-08T17:20:29.951Z"
   },
   {
    "duration": 0,
    "start_time": "2023-09-08T17:20:29.951Z"
   },
   {
    "duration": 0,
    "start_time": "2023-09-08T17:20:29.952Z"
   },
   {
    "duration": 0,
    "start_time": "2023-09-08T17:20:29.953Z"
   },
   {
    "duration": 0,
    "start_time": "2023-09-08T17:20:29.954Z"
   },
   {
    "duration": 0,
    "start_time": "2023-09-08T17:20:29.955Z"
   },
   {
    "duration": 0,
    "start_time": "2023-09-08T17:20:29.957Z"
   },
   {
    "duration": 0,
    "start_time": "2023-09-08T17:20:29.958Z"
   },
   {
    "duration": 0,
    "start_time": "2023-09-08T17:20:29.959Z"
   },
   {
    "duration": 0,
    "start_time": "2023-09-08T17:20:29.960Z"
   },
   {
    "duration": 0,
    "start_time": "2023-09-08T17:20:29.961Z"
   },
   {
    "duration": 1074,
    "start_time": "2023-09-08T17:21:39.867Z"
   },
   {
    "duration": 1128,
    "start_time": "2023-09-08T17:21:40.942Z"
   },
   {
    "duration": 17,
    "start_time": "2023-09-08T17:21:42.071Z"
   },
   {
    "duration": 65,
    "start_time": "2023-09-08T17:21:42.090Z"
   },
   {
    "duration": 23,
    "start_time": "2023-09-08T17:21:42.157Z"
   },
   {
    "duration": 7,
    "start_time": "2023-09-08T17:21:42.182Z"
   },
   {
    "duration": 59,
    "start_time": "2023-09-08T17:21:42.190Z"
   },
   {
    "duration": 715,
    "start_time": "2023-09-08T17:21:42.251Z"
   },
   {
    "duration": 16,
    "start_time": "2023-09-08T17:21:42.967Z"
   },
   {
    "duration": 298,
    "start_time": "2023-09-08T17:21:42.984Z"
   },
   {
    "duration": 10,
    "start_time": "2023-09-08T17:21:43.284Z"
   },
   {
    "duration": 380,
    "start_time": "2023-09-08T17:21:43.295Z"
   },
   {
    "duration": 16,
    "start_time": "2023-09-08T17:21:43.677Z"
   },
   {
    "duration": 147,
    "start_time": "2023-09-08T17:21:43.695Z"
   },
   {
    "duration": 208,
    "start_time": "2023-09-08T17:21:43.844Z"
   },
   {
    "duration": 23,
    "start_time": "2023-09-08T17:21:44.054Z"
   },
   {
    "duration": 245,
    "start_time": "2023-09-08T17:21:44.079Z"
   },
   {
    "duration": 180,
    "start_time": "2023-09-08T17:21:44.325Z"
   },
   {
    "duration": 19,
    "start_time": "2023-09-08T17:21:44.507Z"
   },
   {
    "duration": 1732,
    "start_time": "2023-09-08T17:21:44.527Z"
   },
   {
    "duration": 21,
    "start_time": "2023-09-08T17:21:46.261Z"
   },
   {
    "duration": 8,
    "start_time": "2023-09-08T17:21:46.284Z"
   },
   {
    "duration": 1645,
    "start_time": "2023-09-08T17:21:46.294Z"
   },
   {
    "duration": 16,
    "start_time": "2023-09-08T17:21:47.941Z"
   },
   {
    "duration": 9,
    "start_time": "2023-09-08T17:21:47.959Z"
   },
   {
    "duration": 1837,
    "start_time": "2023-09-08T17:21:47.970Z"
   },
   {
    "duration": 9,
    "start_time": "2023-09-08T17:21:49.809Z"
   },
   {
    "duration": 673,
    "start_time": "2023-09-08T17:21:49.819Z"
   },
   {
    "duration": 5,
    "start_time": "2023-09-08T17:21:50.493Z"
   },
   {
    "duration": 15,
    "start_time": "2023-09-08T17:21:50.499Z"
   },
   {
    "duration": 1643,
    "start_time": "2023-09-08T17:21:50.515Z"
   },
   {
    "duration": 6,
    "start_time": "2023-09-08T17:21:52.159Z"
   },
   {
    "duration": 8,
    "start_time": "2023-09-08T17:21:52.167Z"
   },
   {
    "duration": 20,
    "start_time": "2023-09-08T17:21:52.176Z"
   },
   {
    "duration": 103,
    "start_time": "2023-09-08T17:21:52.198Z"
   },
   {
    "duration": 0,
    "start_time": "2023-09-08T17:21:52.303Z"
   },
   {
    "duration": 0,
    "start_time": "2023-09-08T17:21:52.304Z"
   },
   {
    "duration": 0,
    "start_time": "2023-09-08T17:21:52.306Z"
   },
   {
    "duration": 0,
    "start_time": "2023-09-08T17:21:52.307Z"
   },
   {
    "duration": 0,
    "start_time": "2023-09-08T17:21:52.309Z"
   },
   {
    "duration": 0,
    "start_time": "2023-09-08T17:21:52.310Z"
   },
   {
    "duration": 0,
    "start_time": "2023-09-08T17:21:52.311Z"
   },
   {
    "duration": 0,
    "start_time": "2023-09-08T17:21:52.313Z"
   },
   {
    "duration": 0,
    "start_time": "2023-09-08T17:21:52.314Z"
   },
   {
    "duration": 0,
    "start_time": "2023-09-08T17:21:52.315Z"
   },
   {
    "duration": 0,
    "start_time": "2023-09-08T17:21:52.317Z"
   },
   {
    "duration": 0,
    "start_time": "2023-09-08T17:21:52.318Z"
   },
   {
    "duration": 0,
    "start_time": "2023-09-08T17:21:52.321Z"
   },
   {
    "duration": 0,
    "start_time": "2023-09-08T17:21:52.322Z"
   },
   {
    "duration": 0,
    "start_time": "2023-09-08T17:21:52.344Z"
   },
   {
    "duration": 4,
    "start_time": "2023-09-08T17:29:56.204Z"
   },
   {
    "duration": 731,
    "start_time": "2023-09-08T17:34:54.367Z"
   },
   {
    "duration": 5,
    "start_time": "2023-09-08T17:35:04.606Z"
   },
   {
    "duration": 7,
    "start_time": "2023-09-08T17:36:11.780Z"
   },
   {
    "duration": 1834,
    "start_time": "2023-09-08T17:36:12.831Z"
   },
   {
    "duration": 5,
    "start_time": "2023-09-08T17:36:38.948Z"
   },
   {
    "duration": 6,
    "start_time": "2023-09-08T17:36:40.955Z"
   },
   {
    "duration": 5,
    "start_time": "2023-09-08T17:36:42.976Z"
   },
   {
    "duration": 1126,
    "start_time": "2023-09-08T17:38:53.291Z"
   },
   {
    "duration": 839,
    "start_time": "2023-09-08T17:38:54.419Z"
   },
   {
    "duration": 17,
    "start_time": "2023-09-08T17:38:55.260Z"
   },
   {
    "duration": 11,
    "start_time": "2023-09-08T17:38:55.278Z"
   },
   {
    "duration": 16,
    "start_time": "2023-09-08T17:38:55.291Z"
   },
   {
    "duration": 7,
    "start_time": "2023-09-08T17:38:55.309Z"
   },
   {
    "duration": 8,
    "start_time": "2023-09-08T17:38:55.344Z"
   },
   {
    "duration": 359,
    "start_time": "2023-09-08T17:38:55.353Z"
   },
   {
    "duration": 15,
    "start_time": "2023-09-08T17:38:55.714Z"
   },
   {
    "duration": 142,
    "start_time": "2023-09-08T17:38:55.730Z"
   },
   {
    "duration": 14,
    "start_time": "2023-09-08T17:38:55.874Z"
   },
   {
    "duration": 365,
    "start_time": "2023-09-08T17:38:55.890Z"
   },
   {
    "duration": 18,
    "start_time": "2023-09-08T17:38:56.257Z"
   },
   {
    "duration": 154,
    "start_time": "2023-09-08T17:38:56.278Z"
   },
   {
    "duration": 184,
    "start_time": "2023-09-08T17:38:56.433Z"
   },
   {
    "duration": 27,
    "start_time": "2023-09-08T17:38:56.618Z"
   },
   {
    "duration": 182,
    "start_time": "2023-09-08T17:38:56.647Z"
   },
   {
    "duration": 188,
    "start_time": "2023-09-08T17:38:56.831Z"
   },
   {
    "duration": 25,
    "start_time": "2023-09-08T17:38:57.021Z"
   },
   {
    "duration": 1620,
    "start_time": "2023-09-08T17:38:57.048Z"
   },
   {
    "duration": 16,
    "start_time": "2023-09-08T17:38:58.669Z"
   },
   {
    "duration": 7,
    "start_time": "2023-09-08T17:38:58.686Z"
   },
   {
    "duration": 1683,
    "start_time": "2023-09-08T17:38:58.695Z"
   },
   {
    "duration": 15,
    "start_time": "2023-09-08T17:39:00.379Z"
   },
   {
    "duration": 19,
    "start_time": "2023-09-08T17:39:00.395Z"
   },
   {
    "duration": 1758,
    "start_time": "2023-09-08T17:39:00.416Z"
   },
   {
    "duration": 8,
    "start_time": "2023-09-08T17:39:02.175Z"
   },
   {
    "duration": 727,
    "start_time": "2023-09-08T17:39:02.184Z"
   },
   {
    "duration": 5,
    "start_time": "2023-09-08T17:39:02.912Z"
   },
   {
    "duration": 72,
    "start_time": "2023-09-08T17:39:02.918Z"
   },
   {
    "duration": 1761,
    "start_time": "2023-09-08T17:39:02.991Z"
   },
   {
    "duration": 6,
    "start_time": "2023-09-08T17:39:04.754Z"
   },
   {
    "duration": 7,
    "start_time": "2023-09-08T17:39:04.762Z"
   },
   {
    "duration": 5,
    "start_time": "2023-09-08T17:39:04.771Z"
   },
   {
    "duration": 8,
    "start_time": "2023-09-08T17:39:04.777Z"
   },
   {
    "duration": 124,
    "start_time": "2023-09-08T17:39:04.787Z"
   },
   {
    "duration": 0,
    "start_time": "2023-09-08T17:39:04.913Z"
   },
   {
    "duration": 0,
    "start_time": "2023-09-08T17:39:04.914Z"
   },
   {
    "duration": 0,
    "start_time": "2023-09-08T17:39:04.915Z"
   },
   {
    "duration": 0,
    "start_time": "2023-09-08T17:39:04.917Z"
   },
   {
    "duration": 0,
    "start_time": "2023-09-08T17:39:04.918Z"
   },
   {
    "duration": 0,
    "start_time": "2023-09-08T17:39:04.918Z"
   },
   {
    "duration": 0,
    "start_time": "2023-09-08T17:39:04.919Z"
   },
   {
    "duration": 0,
    "start_time": "2023-09-08T17:39:04.920Z"
   },
   {
    "duration": 0,
    "start_time": "2023-09-08T17:39:04.921Z"
   },
   {
    "duration": 0,
    "start_time": "2023-09-08T17:39:04.922Z"
   },
   {
    "duration": 0,
    "start_time": "2023-09-08T17:39:04.923Z"
   },
   {
    "duration": 0,
    "start_time": "2023-09-08T17:39:04.924Z"
   },
   {
    "duration": 6,
    "start_time": "2023-09-08T17:39:47.346Z"
   },
   {
    "duration": 1164,
    "start_time": "2023-09-08T17:44:20.417Z"
   },
   {
    "duration": 847,
    "start_time": "2023-09-08T17:44:21.583Z"
   },
   {
    "duration": 25,
    "start_time": "2023-09-08T17:44:22.432Z"
   },
   {
    "duration": 12,
    "start_time": "2023-09-08T17:44:22.459Z"
   },
   {
    "duration": 21,
    "start_time": "2023-09-08T17:44:22.472Z"
   },
   {
    "duration": 8,
    "start_time": "2023-09-08T17:44:22.495Z"
   },
   {
    "duration": 23,
    "start_time": "2023-09-08T17:44:22.504Z"
   },
   {
    "duration": 351,
    "start_time": "2023-09-08T17:44:22.529Z"
   },
   {
    "duration": 15,
    "start_time": "2023-09-08T17:44:22.882Z"
   },
   {
    "duration": 156,
    "start_time": "2023-09-08T17:44:22.900Z"
   },
   {
    "duration": 11,
    "start_time": "2023-09-08T17:44:23.058Z"
   },
   {
    "duration": 364,
    "start_time": "2023-09-08T17:44:23.071Z"
   },
   {
    "duration": 23,
    "start_time": "2023-09-08T17:44:23.436Z"
   },
   {
    "duration": 149,
    "start_time": "2023-09-08T17:44:23.460Z"
   },
   {
    "duration": 201,
    "start_time": "2023-09-08T17:44:23.611Z"
   },
   {
    "duration": 21,
    "start_time": "2023-09-08T17:44:23.813Z"
   },
   {
    "duration": 229,
    "start_time": "2023-09-08T17:44:23.835Z"
   },
   {
    "duration": 315,
    "start_time": "2023-09-08T17:44:24.066Z"
   },
   {
    "duration": 68,
    "start_time": "2023-09-08T17:44:24.383Z"
   },
   {
    "duration": 2522,
    "start_time": "2023-09-08T17:44:24.453Z"
   },
   {
    "duration": 15,
    "start_time": "2023-09-08T17:44:26.977Z"
   },
   {
    "duration": 8,
    "start_time": "2023-09-08T17:44:26.993Z"
   },
   {
    "duration": 1762,
    "start_time": "2023-09-08T17:44:27.003Z"
   },
   {
    "duration": 15,
    "start_time": "2023-09-08T17:44:28.767Z"
   },
   {
    "duration": 15,
    "start_time": "2023-09-08T17:44:28.784Z"
   },
   {
    "duration": 1802,
    "start_time": "2023-09-08T17:44:28.800Z"
   },
   {
    "duration": 8,
    "start_time": "2023-09-08T17:44:30.603Z"
   },
   {
    "duration": 708,
    "start_time": "2023-09-08T17:44:30.614Z"
   },
   {
    "duration": 6,
    "start_time": "2023-09-08T17:44:31.323Z"
   },
   {
    "duration": 54,
    "start_time": "2023-09-08T17:44:31.330Z"
   },
   {
    "duration": 1797,
    "start_time": "2023-09-08T17:44:31.386Z"
   },
   {
    "duration": 5,
    "start_time": "2023-09-08T17:44:33.185Z"
   },
   {
    "duration": 23,
    "start_time": "2023-09-08T17:44:33.191Z"
   },
   {
    "duration": 22,
    "start_time": "2023-09-08T17:44:33.216Z"
   },
   {
    "duration": 48,
    "start_time": "2023-09-08T17:44:33.240Z"
   },
   {
    "duration": 501,
    "start_time": "2023-09-08T17:44:33.290Z"
   },
   {
    "duration": 0,
    "start_time": "2023-09-08T17:44:33.793Z"
   },
   {
    "duration": 0,
    "start_time": "2023-09-08T17:44:33.794Z"
   },
   {
    "duration": 0,
    "start_time": "2023-09-08T17:44:33.796Z"
   },
   {
    "duration": 0,
    "start_time": "2023-09-08T17:44:33.796Z"
   },
   {
    "duration": 0,
    "start_time": "2023-09-08T17:44:33.798Z"
   },
   {
    "duration": 0,
    "start_time": "2023-09-08T17:44:33.799Z"
   },
   {
    "duration": 0,
    "start_time": "2023-09-08T17:44:33.800Z"
   },
   {
    "duration": 0,
    "start_time": "2023-09-08T17:44:33.801Z"
   },
   {
    "duration": 0,
    "start_time": "2023-09-08T17:44:33.802Z"
   },
   {
    "duration": 0,
    "start_time": "2023-09-08T17:44:33.803Z"
   },
   {
    "duration": 0,
    "start_time": "2023-09-08T17:44:33.804Z"
   },
   {
    "duration": 0,
    "start_time": "2023-09-08T17:44:33.805Z"
   },
   {
    "duration": 0,
    "start_time": "2023-09-08T17:44:33.805Z"
   },
   {
    "duration": 0,
    "start_time": "2023-09-08T17:44:33.806Z"
   },
   {
    "duration": 53,
    "start_time": "2023-09-11T05:57:57.087Z"
   },
   {
    "duration": 1502,
    "start_time": "2023-09-11T05:58:06.166Z"
   },
   {
    "duration": 2922,
    "start_time": "2023-09-11T05:58:07.670Z"
   },
   {
    "duration": 22,
    "start_time": "2023-09-11T05:58:10.594Z"
   },
   {
    "duration": 46,
    "start_time": "2023-09-11T05:58:10.620Z"
   },
   {
    "duration": 24,
    "start_time": "2023-09-11T05:58:10.668Z"
   },
   {
    "duration": 16,
    "start_time": "2023-09-11T05:58:10.694Z"
   },
   {
    "duration": 17,
    "start_time": "2023-09-11T05:58:10.712Z"
   },
   {
    "duration": 414,
    "start_time": "2023-09-11T05:58:10.731Z"
   },
   {
    "duration": 25,
    "start_time": "2023-09-11T05:58:11.147Z"
   },
   {
    "duration": 192,
    "start_time": "2023-09-11T05:58:11.176Z"
   },
   {
    "duration": 11,
    "start_time": "2023-09-11T05:58:11.371Z"
   },
   {
    "duration": 417,
    "start_time": "2023-09-11T05:58:11.384Z"
   },
   {
    "duration": 22,
    "start_time": "2023-09-11T05:58:11.804Z"
   },
   {
    "duration": 154,
    "start_time": "2023-09-11T05:58:11.828Z"
   },
   {
    "duration": 209,
    "start_time": "2023-09-11T05:58:11.984Z"
   },
   {
    "duration": 33,
    "start_time": "2023-09-11T05:58:12.195Z"
   },
   {
    "duration": 241,
    "start_time": "2023-09-11T05:58:12.231Z"
   },
   {
    "duration": 216,
    "start_time": "2023-09-11T05:58:12.473Z"
   },
   {
    "duration": 23,
    "start_time": "2023-09-11T05:58:12.691Z"
   },
   {
    "duration": 2158,
    "start_time": "2023-09-11T05:58:12.716Z"
   },
   {
    "duration": 18,
    "start_time": "2023-09-11T05:58:14.876Z"
   },
   {
    "duration": 22,
    "start_time": "2023-09-11T05:58:14.896Z"
   },
   {
    "duration": 1804,
    "start_time": "2023-09-11T05:58:14.921Z"
   },
   {
    "duration": 18,
    "start_time": "2023-09-11T05:58:16.728Z"
   },
   {
    "duration": 10,
    "start_time": "2023-09-11T05:58:16.747Z"
   },
   {
    "duration": 1905,
    "start_time": "2023-09-11T05:58:16.759Z"
   },
   {
    "duration": 8,
    "start_time": "2023-09-11T05:58:18.666Z"
   },
   {
    "duration": 745,
    "start_time": "2023-09-11T05:58:18.677Z"
   },
   {
    "duration": 5,
    "start_time": "2023-09-11T05:58:19.424Z"
   },
   {
    "duration": 18,
    "start_time": "2023-09-11T05:58:19.431Z"
   },
   {
    "duration": 1773,
    "start_time": "2023-09-11T05:58:19.451Z"
   },
   {
    "duration": 7,
    "start_time": "2023-09-11T05:58:21.227Z"
   },
   {
    "duration": 30,
    "start_time": "2023-09-11T05:58:21.236Z"
   },
   {
    "duration": 28,
    "start_time": "2023-09-11T05:58:21.267Z"
   },
   {
    "duration": 45,
    "start_time": "2023-09-11T05:58:21.297Z"
   },
   {
    "duration": 75,
    "start_time": "2023-09-11T05:58:21.344Z"
   },
   {
    "duration": 559,
    "start_time": "2023-09-11T05:58:21.421Z"
   },
   {
    "duration": 0,
    "start_time": "2023-09-11T05:58:21.981Z"
   },
   {
    "duration": 0,
    "start_time": "2023-09-11T05:58:21.983Z"
   },
   {
    "duration": 0,
    "start_time": "2023-09-11T05:58:21.985Z"
   },
   {
    "duration": 0,
    "start_time": "2023-09-11T05:58:21.987Z"
   },
   {
    "duration": 0,
    "start_time": "2023-09-11T05:58:22.002Z"
   },
   {
    "duration": 0,
    "start_time": "2023-09-11T05:58:22.004Z"
   },
   {
    "duration": 0,
    "start_time": "2023-09-11T05:58:22.005Z"
   },
   {
    "duration": 0,
    "start_time": "2023-09-11T05:58:22.007Z"
   },
   {
    "duration": 0,
    "start_time": "2023-09-11T05:58:22.010Z"
   },
   {
    "duration": 0,
    "start_time": "2023-09-11T05:58:22.011Z"
   },
   {
    "duration": 0,
    "start_time": "2023-09-11T05:58:22.013Z"
   },
   {
    "duration": 0,
    "start_time": "2023-09-11T05:58:22.014Z"
   },
   {
    "duration": 0,
    "start_time": "2023-09-11T05:58:22.015Z"
   },
   {
    "duration": 0,
    "start_time": "2023-09-11T05:58:22.017Z"
   },
   {
    "duration": 6,
    "start_time": "2023-09-11T05:59:36.352Z"
   },
   {
    "duration": 30,
    "start_time": "2023-09-11T06:06:19.207Z"
   },
   {
    "duration": 5,
    "start_time": "2023-09-11T06:07:23.849Z"
   },
   {
    "duration": 1293,
    "start_time": "2023-09-11T06:12:31.001Z"
   },
   {
    "duration": 883,
    "start_time": "2023-09-11T06:12:32.296Z"
   },
   {
    "duration": 23,
    "start_time": "2023-09-11T06:12:33.181Z"
   },
   {
    "duration": 35,
    "start_time": "2023-09-11T06:12:33.206Z"
   },
   {
    "duration": 47,
    "start_time": "2023-09-11T06:12:33.242Z"
   },
   {
    "duration": 55,
    "start_time": "2023-09-11T06:12:33.291Z"
   },
   {
    "duration": 47,
    "start_time": "2023-09-11T06:12:33.348Z"
   },
   {
    "duration": 437,
    "start_time": "2023-09-11T06:12:33.396Z"
   },
   {
    "duration": 17,
    "start_time": "2023-09-11T06:12:33.835Z"
   },
   {
    "duration": 160,
    "start_time": "2023-09-11T06:12:33.854Z"
   },
   {
    "duration": 12,
    "start_time": "2023-09-11T06:12:34.016Z"
   },
   {
    "duration": 403,
    "start_time": "2023-09-11T06:12:34.029Z"
   },
   {
    "duration": 20,
    "start_time": "2023-09-11T06:12:34.434Z"
   },
   {
    "duration": 185,
    "start_time": "2023-09-11T06:12:34.455Z"
   },
   {
    "duration": 234,
    "start_time": "2023-09-11T06:12:34.643Z"
   },
   {
    "duration": 28,
    "start_time": "2023-09-11T06:12:34.879Z"
   },
   {
    "duration": 206,
    "start_time": "2023-09-11T06:12:34.909Z"
   },
   {
    "duration": 200,
    "start_time": "2023-09-11T06:12:35.117Z"
   },
   {
    "duration": 20,
    "start_time": "2023-09-11T06:12:35.319Z"
   },
   {
    "duration": 1876,
    "start_time": "2023-09-11T06:12:35.341Z"
   },
   {
    "duration": 17,
    "start_time": "2023-09-11T06:12:37.219Z"
   },
   {
    "duration": 10,
    "start_time": "2023-09-11T06:12:37.238Z"
   },
   {
    "duration": 1746,
    "start_time": "2023-09-11T06:12:37.250Z"
   },
   {
    "duration": 15,
    "start_time": "2023-09-11T06:12:39.001Z"
   },
   {
    "duration": 8,
    "start_time": "2023-09-11T06:12:39.018Z"
   },
   {
    "duration": 1857,
    "start_time": "2023-09-11T06:12:39.028Z"
   },
   {
    "duration": 14,
    "start_time": "2023-09-11T06:12:40.888Z"
   },
   {
    "duration": 790,
    "start_time": "2023-09-11T06:12:40.907Z"
   },
   {
    "duration": 6,
    "start_time": "2023-09-11T06:12:41.701Z"
   },
   {
    "duration": 20,
    "start_time": "2023-09-11T06:12:41.709Z"
   },
   {
    "duration": 1755,
    "start_time": "2023-09-11T06:12:41.731Z"
   },
   {
    "duration": 13,
    "start_time": "2023-09-11T06:12:43.488Z"
   },
   {
    "duration": 18,
    "start_time": "2023-09-11T06:12:43.503Z"
   },
   {
    "duration": 13,
    "start_time": "2023-09-11T06:12:43.523Z"
   },
   {
    "duration": 23,
    "start_time": "2023-09-11T06:12:43.538Z"
   },
   {
    "duration": 19,
    "start_time": "2023-09-11T06:12:43.563Z"
   },
   {
    "duration": 14,
    "start_time": "2023-09-11T06:12:43.583Z"
   },
   {
    "duration": 481177,
    "start_time": "2023-09-11T06:12:43.599Z"
   },
   {
    "duration": 0,
    "start_time": "2023-09-11T06:20:44.778Z"
   },
   {
    "duration": 0,
    "start_time": "2023-09-11T06:20:44.780Z"
   },
   {
    "duration": 0,
    "start_time": "2023-09-11T06:20:44.782Z"
   },
   {
    "duration": 0,
    "start_time": "2023-09-11T06:20:44.783Z"
   },
   {
    "duration": 0,
    "start_time": "2023-09-11T06:20:44.785Z"
   },
   {
    "duration": 0,
    "start_time": "2023-09-11T06:20:44.802Z"
   },
   {
    "duration": 0,
    "start_time": "2023-09-11T06:20:44.804Z"
   },
   {
    "duration": 0,
    "start_time": "2023-09-11T06:20:44.806Z"
   },
   {
    "duration": 0,
    "start_time": "2023-09-11T06:20:44.808Z"
   },
   {
    "duration": 0,
    "start_time": "2023-09-11T06:20:44.810Z"
   },
   {
    "duration": 0,
    "start_time": "2023-09-11T06:20:44.813Z"
   },
   {
    "duration": 0,
    "start_time": "2023-09-11T06:20:44.815Z"
   },
   {
    "duration": 0,
    "start_time": "2023-09-11T06:20:44.817Z"
   },
   {
    "duration": 0,
    "start_time": "2023-09-11T06:20:44.818Z"
   },
   {
    "duration": 42,
    "start_time": "2023-09-11T06:32:11.314Z"
   },
   {
    "duration": 491086,
    "start_time": "2023-09-11T06:47:50.994Z"
   },
   {
    "duration": 1205,
    "start_time": "2023-09-11T06:56:12.825Z"
   },
   {
    "duration": 957,
    "start_time": "2023-09-11T06:56:14.032Z"
   },
   {
    "duration": 23,
    "start_time": "2023-09-11T06:56:14.991Z"
   },
   {
    "duration": 36,
    "start_time": "2023-09-11T06:56:15.016Z"
   },
   {
    "duration": 71,
    "start_time": "2023-09-11T06:56:15.054Z"
   },
   {
    "duration": 24,
    "start_time": "2023-09-11T06:56:15.126Z"
   },
   {
    "duration": 34,
    "start_time": "2023-09-11T06:56:15.151Z"
   },
   {
    "duration": 371,
    "start_time": "2023-09-11T06:56:15.186Z"
   },
   {
    "duration": 17,
    "start_time": "2023-09-11T06:56:15.558Z"
   },
   {
    "duration": 161,
    "start_time": "2023-09-11T06:56:15.578Z"
   },
   {
    "duration": 11,
    "start_time": "2023-09-11T06:56:15.741Z"
   },
   {
    "duration": 391,
    "start_time": "2023-09-11T06:56:15.753Z"
   },
   {
    "duration": 18,
    "start_time": "2023-09-11T06:56:16.146Z"
   },
   {
    "duration": 165,
    "start_time": "2023-09-11T06:56:16.165Z"
   },
   {
    "duration": 199,
    "start_time": "2023-09-11T06:56:16.332Z"
   },
   {
    "duration": 22,
    "start_time": "2023-09-11T06:56:16.532Z"
   },
   {
    "duration": 217,
    "start_time": "2023-09-11T06:56:16.556Z"
   },
   {
    "duration": 214,
    "start_time": "2023-09-11T06:56:16.775Z"
   },
   {
    "duration": 25,
    "start_time": "2023-09-11T06:56:16.992Z"
   },
   {
    "duration": 1820,
    "start_time": "2023-09-11T06:56:17.018Z"
   },
   {
    "duration": 16,
    "start_time": "2023-09-11T06:56:18.840Z"
   },
   {
    "duration": 30,
    "start_time": "2023-09-11T06:56:18.858Z"
   },
   {
    "duration": 1712,
    "start_time": "2023-09-11T06:56:18.889Z"
   },
   {
    "duration": 17,
    "start_time": "2023-09-11T06:56:20.603Z"
   },
   {
    "duration": 31,
    "start_time": "2023-09-11T06:56:20.621Z"
   },
   {
    "duration": 1853,
    "start_time": "2023-09-11T06:56:20.654Z"
   },
   {
    "duration": 9,
    "start_time": "2023-09-11T06:56:22.509Z"
   },
   {
    "duration": 776,
    "start_time": "2023-09-11T06:56:22.522Z"
   },
   {
    "duration": 5,
    "start_time": "2023-09-11T06:56:23.300Z"
   },
   {
    "duration": 24,
    "start_time": "2023-09-11T06:56:23.306Z"
   },
   {
    "duration": 1852,
    "start_time": "2023-09-11T06:56:23.332Z"
   },
   {
    "duration": 6,
    "start_time": "2023-09-11T06:56:25.186Z"
   },
   {
    "duration": 68,
    "start_time": "2023-09-11T06:56:25.201Z"
   },
   {
    "duration": 19,
    "start_time": "2023-09-11T06:56:25.270Z"
   },
   {
    "duration": 14,
    "start_time": "2023-09-11T06:56:25.290Z"
   },
   {
    "duration": 10,
    "start_time": "2023-09-11T06:56:25.305Z"
   },
   {
    "duration": 23,
    "start_time": "2023-09-11T06:56:25.316Z"
   },
   {
    "duration": 1229,
    "start_time": "2023-09-11T06:57:19.099Z"
   },
   {
    "duration": 891,
    "start_time": "2023-09-11T06:57:20.330Z"
   },
   {
    "duration": 19,
    "start_time": "2023-09-11T06:57:21.223Z"
   },
   {
    "duration": 66,
    "start_time": "2023-09-11T06:57:21.244Z"
   },
   {
    "duration": 42,
    "start_time": "2023-09-11T06:57:21.312Z"
   },
   {
    "duration": 14,
    "start_time": "2023-09-11T06:57:21.356Z"
   },
   {
    "duration": 140,
    "start_time": "2023-09-11T06:57:21.372Z"
   },
   {
    "duration": 404,
    "start_time": "2023-09-11T06:57:21.514Z"
   },
   {
    "duration": 16,
    "start_time": "2023-09-11T06:57:21.920Z"
   },
   {
    "duration": 161,
    "start_time": "2023-09-11T06:57:21.940Z"
   },
   {
    "duration": 12,
    "start_time": "2023-09-11T06:57:22.103Z"
   },
   {
    "duration": 391,
    "start_time": "2023-09-11T06:57:22.116Z"
   },
   {
    "duration": 19,
    "start_time": "2023-09-11T06:57:22.508Z"
   },
   {
    "duration": 162,
    "start_time": "2023-09-11T06:57:22.529Z"
   },
   {
    "duration": 209,
    "start_time": "2023-09-11T06:57:22.693Z"
   },
   {
    "duration": 20,
    "start_time": "2023-09-11T06:57:22.904Z"
   },
   {
    "duration": 249,
    "start_time": "2023-09-11T06:57:22.926Z"
   },
   {
    "duration": 204,
    "start_time": "2023-09-11T06:57:23.177Z"
   },
   {
    "duration": 34,
    "start_time": "2023-09-11T06:57:23.383Z"
   },
   {
    "duration": 2011,
    "start_time": "2023-09-11T06:57:23.419Z"
   },
   {
    "duration": 18,
    "start_time": "2023-09-11T06:57:25.432Z"
   },
   {
    "duration": 51,
    "start_time": "2023-09-11T06:57:25.452Z"
   },
   {
    "duration": 1786,
    "start_time": "2023-09-11T06:57:25.505Z"
   },
   {
    "duration": 22,
    "start_time": "2023-09-11T06:57:27.293Z"
   },
   {
    "duration": 13,
    "start_time": "2023-09-11T06:57:27.317Z"
   },
   {
    "duration": 1879,
    "start_time": "2023-09-11T06:57:27.331Z"
   },
   {
    "duration": 11,
    "start_time": "2023-09-11T06:57:29.212Z"
   },
   {
    "duration": 1403,
    "start_time": "2023-09-11T06:57:29.227Z"
   },
   {
    "duration": 6,
    "start_time": "2023-09-11T06:57:30.632Z"
   },
   {
    "duration": 151,
    "start_time": "2023-09-11T06:57:30.639Z"
   },
   {
    "duration": 2187,
    "start_time": "2023-09-11T06:57:30.792Z"
   },
   {
    "duration": 6,
    "start_time": "2023-09-11T06:57:32.981Z"
   },
   {
    "duration": 117,
    "start_time": "2023-09-11T06:57:32.988Z"
   },
   {
    "duration": 37,
    "start_time": "2023-09-11T06:57:33.106Z"
   },
   {
    "duration": 61,
    "start_time": "2023-09-11T06:57:33.145Z"
   },
   {
    "duration": 185,
    "start_time": "2023-09-11T06:57:33.207Z"
   },
   {
    "duration": 219,
    "start_time": "2023-09-11T06:57:33.394Z"
   },
   {
    "duration": 645,
    "start_time": "2023-09-11T06:57:33.615Z"
   },
   {
    "duration": 0,
    "start_time": "2023-09-11T06:57:34.262Z"
   },
   {
    "duration": 0,
    "start_time": "2023-09-11T06:57:34.263Z"
   },
   {
    "duration": 0,
    "start_time": "2023-09-11T06:57:34.264Z"
   },
   {
    "duration": 0,
    "start_time": "2023-09-11T06:57:34.266Z"
   },
   {
    "duration": 0,
    "start_time": "2023-09-11T06:57:34.267Z"
   },
   {
    "duration": 0,
    "start_time": "2023-09-11T06:57:34.268Z"
   },
   {
    "duration": 0,
    "start_time": "2023-09-11T06:57:34.269Z"
   },
   {
    "duration": 0,
    "start_time": "2023-09-11T06:57:34.271Z"
   },
   {
    "duration": 0,
    "start_time": "2023-09-11T06:57:34.271Z"
   },
   {
    "duration": 0,
    "start_time": "2023-09-11T06:57:34.273Z"
   },
   {
    "duration": 0,
    "start_time": "2023-09-11T06:57:34.274Z"
   },
   {
    "duration": 0,
    "start_time": "2023-09-11T06:57:34.302Z"
   },
   {
    "duration": 0,
    "start_time": "2023-09-11T06:57:34.303Z"
   },
   {
    "duration": 0,
    "start_time": "2023-09-11T06:57:34.305Z"
   },
   {
    "duration": 1355,
    "start_time": "2023-09-11T07:00:24.285Z"
   },
   {
    "duration": 923,
    "start_time": "2023-09-11T07:00:25.642Z"
   },
   {
    "duration": 20,
    "start_time": "2023-09-11T07:00:26.567Z"
   },
   {
    "duration": 15,
    "start_time": "2023-09-11T07:00:26.600Z"
   },
   {
    "duration": 20,
    "start_time": "2023-09-11T07:00:26.617Z"
   },
   {
    "duration": 9,
    "start_time": "2023-09-11T07:00:26.639Z"
   },
   {
    "duration": 19,
    "start_time": "2023-09-11T07:00:26.649Z"
   },
   {
    "duration": 393,
    "start_time": "2023-09-11T07:00:26.670Z"
   },
   {
    "duration": 17,
    "start_time": "2023-09-11T07:00:27.066Z"
   },
   {
    "duration": 159,
    "start_time": "2023-09-11T07:00:27.086Z"
   },
   {
    "duration": 13,
    "start_time": "2023-09-11T07:00:27.247Z"
   },
   {
    "duration": 424,
    "start_time": "2023-09-11T07:00:27.261Z"
   },
   {
    "duration": 23,
    "start_time": "2023-09-11T07:00:27.687Z"
   },
   {
    "duration": 155,
    "start_time": "2023-09-11T07:00:27.712Z"
   },
   {
    "duration": 212,
    "start_time": "2023-09-11T07:00:27.869Z"
   },
   {
    "duration": 24,
    "start_time": "2023-09-11T07:00:28.083Z"
   },
   {
    "duration": 203,
    "start_time": "2023-09-11T07:00:28.108Z"
   },
   {
    "duration": 201,
    "start_time": "2023-09-11T07:00:28.312Z"
   },
   {
    "duration": 19,
    "start_time": "2023-09-11T07:00:28.515Z"
   },
   {
    "duration": 2566,
    "start_time": "2023-09-11T07:00:28.536Z"
   },
   {
    "duration": 17,
    "start_time": "2023-09-11T07:00:31.151Z"
   },
   {
    "duration": 254,
    "start_time": "2023-09-11T07:00:31.169Z"
   },
   {
    "duration": 2085,
    "start_time": "2023-09-11T07:00:31.425Z"
   },
   {
    "duration": 20,
    "start_time": "2023-09-11T07:00:33.512Z"
   },
   {
    "duration": 19,
    "start_time": "2023-09-11T07:00:33.534Z"
   },
   {
    "duration": 1832,
    "start_time": "2023-09-11T07:00:33.555Z"
   },
   {
    "duration": 16,
    "start_time": "2023-09-11T07:00:35.390Z"
   },
   {
    "duration": 685,
    "start_time": "2023-09-11T07:00:35.412Z"
   },
   {
    "duration": 6,
    "start_time": "2023-09-11T07:00:36.102Z"
   },
   {
    "duration": 90,
    "start_time": "2023-09-11T07:00:36.110Z"
   },
   {
    "duration": 1716,
    "start_time": "2023-09-11T07:00:36.202Z"
   },
   {
    "duration": 6,
    "start_time": "2023-09-11T07:00:37.921Z"
   },
   {
    "duration": 11,
    "start_time": "2023-09-11T07:00:37.929Z"
   },
   {
    "duration": 33,
    "start_time": "2023-09-11T07:00:37.942Z"
   },
   {
    "duration": 21,
    "start_time": "2023-09-11T07:00:37.978Z"
   },
   {
    "duration": 23,
    "start_time": "2023-09-11T07:00:38.001Z"
   },
   {
    "duration": 18,
    "start_time": "2023-09-11T07:00:38.026Z"
   },
   {
    "duration": 53734,
    "start_time": "2023-09-11T07:00:38.046Z"
   },
   {
    "duration": 0,
    "start_time": "2023-09-11T07:01:31.783Z"
   },
   {
    "duration": 0,
    "start_time": "2023-09-11T07:01:31.784Z"
   },
   {
    "duration": 0,
    "start_time": "2023-09-11T07:01:31.785Z"
   },
   {
    "duration": 0,
    "start_time": "2023-09-11T07:01:31.786Z"
   },
   {
    "duration": 0,
    "start_time": "2023-09-11T07:01:31.787Z"
   },
   {
    "duration": 0,
    "start_time": "2023-09-11T07:01:31.788Z"
   },
   {
    "duration": 0,
    "start_time": "2023-09-11T07:01:31.789Z"
   },
   {
    "duration": 0,
    "start_time": "2023-09-11T07:01:31.802Z"
   },
   {
    "duration": 0,
    "start_time": "2023-09-11T07:01:31.804Z"
   },
   {
    "duration": 0,
    "start_time": "2023-09-11T07:01:31.805Z"
   },
   {
    "duration": 1,
    "start_time": "2023-09-11T07:01:31.806Z"
   },
   {
    "duration": 0,
    "start_time": "2023-09-11T07:01:31.808Z"
   },
   {
    "duration": 0,
    "start_time": "2023-09-11T07:01:31.809Z"
   },
   {
    "duration": 0,
    "start_time": "2023-09-11T07:01:31.810Z"
   },
   {
    "duration": 1266,
    "start_time": "2023-09-11T07:01:58.372Z"
   },
   {
    "duration": 908,
    "start_time": "2023-09-11T07:01:59.640Z"
   },
   {
    "duration": 24,
    "start_time": "2023-09-11T07:02:00.550Z"
   },
   {
    "duration": 234,
    "start_time": "2023-09-11T07:02:00.577Z"
   },
   {
    "duration": 156,
    "start_time": "2023-09-11T07:02:00.813Z"
   },
   {
    "duration": 48,
    "start_time": "2023-09-11T07:02:00.971Z"
   },
   {
    "duration": 37,
    "start_time": "2023-09-11T07:02:01.020Z"
   },
   {
    "duration": 508,
    "start_time": "2023-09-11T07:02:01.059Z"
   },
   {
    "duration": 35,
    "start_time": "2023-09-11T07:02:01.569Z"
   },
   {
    "duration": 284,
    "start_time": "2023-09-11T07:02:01.606Z"
   },
   {
    "duration": 12,
    "start_time": "2023-09-11T07:02:01.891Z"
   },
   {
    "duration": 468,
    "start_time": "2023-09-11T07:02:01.905Z"
   },
   {
    "duration": 32,
    "start_time": "2023-09-11T07:02:02.375Z"
   },
   {
    "duration": 230,
    "start_time": "2023-09-11T07:02:02.410Z"
   },
   {
    "duration": 200,
    "start_time": "2023-09-11T07:02:02.641Z"
   },
   {
    "duration": 25,
    "start_time": "2023-09-11T07:02:02.843Z"
   },
   {
    "duration": 210,
    "start_time": "2023-09-11T07:02:02.869Z"
   },
   {
    "duration": 331,
    "start_time": "2023-09-11T07:02:03.081Z"
   },
   {
    "duration": 23,
    "start_time": "2023-09-11T07:02:03.413Z"
   },
   {
    "duration": 2872,
    "start_time": "2023-09-11T07:02:03.438Z"
   },
   {
    "duration": 18,
    "start_time": "2023-09-11T07:02:06.313Z"
   },
   {
    "duration": 18,
    "start_time": "2023-09-11T07:02:06.332Z"
   },
   {
    "duration": 1761,
    "start_time": "2023-09-11T07:02:06.352Z"
   },
   {
    "duration": 21,
    "start_time": "2023-09-11T07:02:08.114Z"
   },
   {
    "duration": 9,
    "start_time": "2023-09-11T07:02:08.137Z"
   },
   {
    "duration": 1842,
    "start_time": "2023-09-11T07:02:08.148Z"
   },
   {
    "duration": 10,
    "start_time": "2023-09-11T07:02:09.991Z"
   },
   {
    "duration": 782,
    "start_time": "2023-09-11T07:02:10.005Z"
   },
   {
    "duration": 13,
    "start_time": "2023-09-11T07:02:10.789Z"
   },
   {
    "duration": 9,
    "start_time": "2023-09-11T07:02:10.805Z"
   },
   {
    "duration": 1665,
    "start_time": "2023-09-11T07:02:10.816Z"
   },
   {
    "duration": 6,
    "start_time": "2023-09-11T07:02:12.482Z"
   },
   {
    "duration": 6,
    "start_time": "2023-09-11T07:02:12.500Z"
   },
   {
    "duration": 14,
    "start_time": "2023-09-11T07:02:12.508Z"
   },
   {
    "duration": 36,
    "start_time": "2023-09-11T07:02:12.524Z"
   },
   {
    "duration": 14,
    "start_time": "2023-09-11T07:02:12.562Z"
   },
   {
    "duration": 10,
    "start_time": "2023-09-11T07:02:12.577Z"
   },
   {
    "duration": 564,
    "start_time": "2023-09-11T07:02:12.588Z"
   },
   {
    "duration": 0,
    "start_time": "2023-09-11T07:02:13.153Z"
   },
   {
    "duration": 0,
    "start_time": "2023-09-11T07:02:13.155Z"
   },
   {
    "duration": 0,
    "start_time": "2023-09-11T07:02:13.157Z"
   },
   {
    "duration": 0,
    "start_time": "2023-09-11T07:02:13.158Z"
   },
   {
    "duration": 0,
    "start_time": "2023-09-11T07:02:13.159Z"
   },
   {
    "duration": 1,
    "start_time": "2023-09-11T07:02:13.161Z"
   },
   {
    "duration": 0,
    "start_time": "2023-09-11T07:02:13.163Z"
   },
   {
    "duration": 0,
    "start_time": "2023-09-11T07:02:13.164Z"
   },
   {
    "duration": 0,
    "start_time": "2023-09-11T07:02:13.166Z"
   },
   {
    "duration": 0,
    "start_time": "2023-09-11T07:02:13.167Z"
   },
   {
    "duration": 0,
    "start_time": "2023-09-11T07:02:13.169Z"
   },
   {
    "duration": 0,
    "start_time": "2023-09-11T07:02:13.170Z"
   },
   {
    "duration": 0,
    "start_time": "2023-09-11T07:02:13.202Z"
   },
   {
    "duration": 0,
    "start_time": "2023-09-11T07:02:13.203Z"
   },
   {
    "duration": 1428,
    "start_time": "2023-09-11T07:02:33.620Z"
   },
   {
    "duration": 1731,
    "start_time": "2023-09-11T07:02:35.102Z"
   },
   {
    "duration": 22,
    "start_time": "2023-09-11T07:02:36.835Z"
   },
   {
    "duration": 42,
    "start_time": "2023-09-11T07:02:36.859Z"
   },
   {
    "duration": 31,
    "start_time": "2023-09-11T07:02:36.903Z"
   },
   {
    "duration": 17,
    "start_time": "2023-09-11T07:02:36.936Z"
   },
   {
    "duration": 27,
    "start_time": "2023-09-11T07:02:36.955Z"
   },
   {
    "duration": 452,
    "start_time": "2023-09-11T07:02:36.984Z"
   },
   {
    "duration": 17,
    "start_time": "2023-09-11T07:02:37.438Z"
   },
   {
    "duration": 174,
    "start_time": "2023-09-11T07:02:37.458Z"
   },
   {
    "duration": 16,
    "start_time": "2023-09-11T07:02:37.633Z"
   },
   {
    "duration": 412,
    "start_time": "2023-09-11T07:02:37.651Z"
   },
   {
    "duration": 20,
    "start_time": "2023-09-11T07:02:38.065Z"
   },
   {
    "duration": 147,
    "start_time": "2023-09-11T07:02:38.101Z"
   },
   {
    "duration": 202,
    "start_time": "2023-09-11T07:02:38.250Z"
   },
   {
    "duration": 20,
    "start_time": "2023-09-11T07:02:38.453Z"
   },
   {
    "duration": 233,
    "start_time": "2023-09-11T07:02:38.475Z"
   },
   {
    "duration": 224,
    "start_time": "2023-09-11T07:02:38.710Z"
   },
   {
    "duration": 20,
    "start_time": "2023-09-11T07:02:38.936Z"
   },
   {
    "duration": 2104,
    "start_time": "2023-09-11T07:02:38.958Z"
   },
   {
    "duration": 18,
    "start_time": "2023-09-11T07:02:41.064Z"
   },
   {
    "duration": 19,
    "start_time": "2023-09-11T07:02:41.083Z"
   },
   {
    "duration": 2003,
    "start_time": "2023-09-11T07:02:41.103Z"
   },
   {
    "duration": 16,
    "start_time": "2023-09-11T07:02:43.109Z"
   },
   {
    "duration": 15,
    "start_time": "2023-09-11T07:02:43.127Z"
   },
   {
    "duration": 1934,
    "start_time": "2023-09-11T07:02:43.144Z"
   },
   {
    "duration": 10,
    "start_time": "2023-09-11T07:02:45.080Z"
   },
   {
    "duration": 703,
    "start_time": "2023-09-11T07:02:45.103Z"
   },
   {
    "duration": 6,
    "start_time": "2023-09-11T07:02:45.808Z"
   },
   {
    "duration": 16,
    "start_time": "2023-09-11T07:02:45.816Z"
   },
   {
    "duration": 1771,
    "start_time": "2023-09-11T07:02:45.834Z"
   },
   {
    "duration": 5,
    "start_time": "2023-09-11T07:02:47.607Z"
   },
   {
    "duration": 8,
    "start_time": "2023-09-11T07:02:47.614Z"
   },
   {
    "duration": 12,
    "start_time": "2023-09-11T07:02:47.624Z"
   },
   {
    "duration": 25,
    "start_time": "2023-09-11T07:02:47.637Z"
   },
   {
    "duration": 10,
    "start_time": "2023-09-11T07:02:47.663Z"
   },
   {
    "duration": 19,
    "start_time": "2023-09-11T07:02:47.674Z"
   },
   {
    "duration": 549,
    "start_time": "2023-09-11T07:02:47.695Z"
   },
   {
    "duration": 0,
    "start_time": "2023-09-11T07:02:48.246Z"
   },
   {
    "duration": 0,
    "start_time": "2023-09-11T07:02:48.247Z"
   },
   {
    "duration": 0,
    "start_time": "2023-09-11T07:02:48.248Z"
   },
   {
    "duration": 0,
    "start_time": "2023-09-11T07:02:48.250Z"
   },
   {
    "duration": 0,
    "start_time": "2023-09-11T07:02:48.252Z"
   },
   {
    "duration": 0,
    "start_time": "2023-09-11T07:02:48.253Z"
   },
   {
    "duration": 0,
    "start_time": "2023-09-11T07:02:48.255Z"
   },
   {
    "duration": 1,
    "start_time": "2023-09-11T07:02:48.256Z"
   },
   {
    "duration": 0,
    "start_time": "2023-09-11T07:02:48.258Z"
   },
   {
    "duration": 0,
    "start_time": "2023-09-11T07:02:48.260Z"
   },
   {
    "duration": 0,
    "start_time": "2023-09-11T07:02:48.261Z"
   },
   {
    "duration": 0,
    "start_time": "2023-09-11T07:02:48.263Z"
   },
   {
    "duration": 0,
    "start_time": "2023-09-11T07:02:48.264Z"
   },
   {
    "duration": 0,
    "start_time": "2023-09-11T07:02:48.265Z"
   },
   {
    "duration": 19,
    "start_time": "2023-09-11T07:07:31.890Z"
   },
   {
    "duration": 398288,
    "start_time": "2023-09-11T07:07:52.200Z"
   },
   {
    "duration": 0,
    "start_time": "2023-09-11T07:14:30.491Z"
   },
   {
    "duration": 494508,
    "start_time": "2023-09-11T07:14:38.200Z"
   },
   {
    "duration": 5739,
    "start_time": "2023-09-11T07:25:38.945Z"
   },
   {
    "duration": 716,
    "start_time": "2023-09-11T07:26:18.216Z"
   },
   {
    "duration": 1353,
    "start_time": "2023-09-11T07:26:46.495Z"
   },
   {
    "duration": 935,
    "start_time": "2023-09-11T07:26:47.850Z"
   },
   {
    "duration": 28,
    "start_time": "2023-09-11T07:26:48.786Z"
   },
   {
    "duration": 13,
    "start_time": "2023-09-11T07:26:48.816Z"
   },
   {
    "duration": 20,
    "start_time": "2023-09-11T07:26:48.832Z"
   },
   {
    "duration": 8,
    "start_time": "2023-09-11T07:26:48.853Z"
   },
   {
    "duration": 41,
    "start_time": "2023-09-11T07:26:48.862Z"
   },
   {
    "duration": 432,
    "start_time": "2023-09-11T07:26:48.905Z"
   },
   {
    "duration": 72,
    "start_time": "2023-09-11T07:26:49.339Z"
   },
   {
    "duration": 313,
    "start_time": "2023-09-11T07:26:49.413Z"
   },
   {
    "duration": 12,
    "start_time": "2023-09-11T07:26:49.728Z"
   },
   {
    "duration": 791,
    "start_time": "2023-09-11T07:26:49.742Z"
   },
   {
    "duration": 70,
    "start_time": "2023-09-11T07:26:50.535Z"
   },
   {
    "duration": 301,
    "start_time": "2023-09-11T07:26:50.609Z"
   },
   {
    "duration": 358,
    "start_time": "2023-09-11T07:26:50.911Z"
   },
   {
    "duration": 48,
    "start_time": "2023-09-11T07:26:51.271Z"
   },
   {
    "duration": 217,
    "start_time": "2023-09-11T07:26:51.321Z"
   },
   {
    "duration": 212,
    "start_time": "2023-09-11T07:26:51.540Z"
   },
   {
    "duration": 17,
    "start_time": "2023-09-11T07:26:51.754Z"
   },
   {
    "duration": 1845,
    "start_time": "2023-09-11T07:26:51.773Z"
   },
   {
    "duration": 19,
    "start_time": "2023-09-11T07:26:53.620Z"
   },
   {
    "duration": 25,
    "start_time": "2023-09-11T07:26:53.641Z"
   },
   {
    "duration": 1721,
    "start_time": "2023-09-11T07:26:53.668Z"
   },
   {
    "duration": 27,
    "start_time": "2023-09-11T07:26:55.391Z"
   },
   {
    "duration": 12,
    "start_time": "2023-09-11T07:26:55.421Z"
   },
   {
    "duration": 1907,
    "start_time": "2023-09-11T07:26:55.435Z"
   },
   {
    "duration": 10,
    "start_time": "2023-09-11T07:26:57.343Z"
   },
   {
    "duration": 839,
    "start_time": "2023-09-11T07:26:57.354Z"
   },
   {
    "duration": 10,
    "start_time": "2023-09-11T07:26:58.195Z"
   },
   {
    "duration": 30,
    "start_time": "2023-09-11T07:26:58.206Z"
   },
   {
    "duration": 1750,
    "start_time": "2023-09-11T07:26:58.238Z"
   },
   {
    "duration": 11,
    "start_time": "2023-09-11T07:26:59.990Z"
   },
   {
    "duration": 61,
    "start_time": "2023-09-11T07:27:00.003Z"
   },
   {
    "duration": 46,
    "start_time": "2023-09-11T07:27:00.067Z"
   },
   {
    "duration": 69,
    "start_time": "2023-09-11T07:27:00.115Z"
   },
   {
    "duration": 39,
    "start_time": "2023-09-11T07:27:00.186Z"
   },
   {
    "duration": 52,
    "start_time": "2023-09-11T07:27:00.227Z"
   },
   {
    "duration": 6631,
    "start_time": "2023-09-11T07:27:00.281Z"
   },
   {
    "duration": 0,
    "start_time": "2023-09-11T07:27:06.914Z"
   },
   {
    "duration": 0,
    "start_time": "2023-09-11T07:27:06.915Z"
   },
   {
    "duration": 0,
    "start_time": "2023-09-11T07:27:06.916Z"
   },
   {
    "duration": 0,
    "start_time": "2023-09-11T07:27:06.918Z"
   },
   {
    "duration": 0,
    "start_time": "2023-09-11T07:27:06.919Z"
   },
   {
    "duration": 0,
    "start_time": "2023-09-11T07:27:06.920Z"
   },
   {
    "duration": 0,
    "start_time": "2023-09-11T07:27:06.921Z"
   },
   {
    "duration": 0,
    "start_time": "2023-09-11T07:27:06.923Z"
   },
   {
    "duration": 0,
    "start_time": "2023-09-11T07:27:06.924Z"
   },
   {
    "duration": 0,
    "start_time": "2023-09-11T07:27:06.925Z"
   },
   {
    "duration": 0,
    "start_time": "2023-09-11T07:27:06.926Z"
   },
   {
    "duration": 0,
    "start_time": "2023-09-11T07:27:06.927Z"
   },
   {
    "duration": 0,
    "start_time": "2023-09-11T07:27:06.927Z"
   },
   {
    "duration": 0,
    "start_time": "2023-09-11T07:27:06.928Z"
   },
   {
    "duration": 1473,
    "start_time": "2023-09-11T13:47:15.150Z"
   },
   {
    "duration": 3444,
    "start_time": "2023-09-11T13:47:16.625Z"
   },
   {
    "duration": 21,
    "start_time": "2023-09-11T13:47:20.072Z"
   },
   {
    "duration": 22,
    "start_time": "2023-09-11T13:47:20.095Z"
   },
   {
    "duration": 30,
    "start_time": "2023-09-11T13:47:20.120Z"
   },
   {
    "duration": 9,
    "start_time": "2023-09-11T13:47:20.152Z"
   },
   {
    "duration": 15,
    "start_time": "2023-09-11T13:47:20.163Z"
   },
   {
    "duration": 389,
    "start_time": "2023-09-11T13:47:20.180Z"
   },
   {
    "duration": 20,
    "start_time": "2023-09-11T13:47:20.571Z"
   },
   {
    "duration": 170,
    "start_time": "2023-09-11T13:47:20.592Z"
   },
   {
    "duration": 12,
    "start_time": "2023-09-11T13:47:20.764Z"
   },
   {
    "duration": 428,
    "start_time": "2023-09-11T13:47:20.777Z"
   },
   {
    "duration": 20,
    "start_time": "2023-09-11T13:47:21.206Z"
   },
   {
    "duration": 178,
    "start_time": "2023-09-11T13:47:21.229Z"
   },
   {
    "duration": 209,
    "start_time": "2023-09-11T13:47:21.409Z"
   },
   {
    "duration": 22,
    "start_time": "2023-09-11T13:47:21.620Z"
   },
   {
    "duration": 221,
    "start_time": "2023-09-11T13:47:21.657Z"
   },
   {
    "duration": 228,
    "start_time": "2023-09-11T13:47:21.880Z"
   },
   {
    "duration": 19,
    "start_time": "2023-09-11T13:47:22.111Z"
   },
   {
    "duration": 1949,
    "start_time": "2023-09-11T13:47:22.132Z"
   },
   {
    "duration": 18,
    "start_time": "2023-09-11T13:47:24.083Z"
   },
   {
    "duration": 31,
    "start_time": "2023-09-11T13:47:24.103Z"
   },
   {
    "duration": 1716,
    "start_time": "2023-09-11T13:47:24.136Z"
   },
   {
    "duration": 17,
    "start_time": "2023-09-11T13:47:25.856Z"
   },
   {
    "duration": 13,
    "start_time": "2023-09-11T13:47:25.875Z"
   },
   {
    "duration": 1881,
    "start_time": "2023-09-11T13:47:25.890Z"
   },
   {
    "duration": 9,
    "start_time": "2023-09-11T13:47:27.774Z"
   },
   {
    "duration": 993,
    "start_time": "2023-09-11T13:47:27.785Z"
   },
   {
    "duration": 5,
    "start_time": "2023-09-11T13:47:28.780Z"
   },
   {
    "duration": 13,
    "start_time": "2023-09-11T13:47:28.787Z"
   },
   {
    "duration": 1738,
    "start_time": "2023-09-11T13:47:28.802Z"
   },
   {
    "duration": 6,
    "start_time": "2023-09-11T13:47:30.542Z"
   },
   {
    "duration": 65,
    "start_time": "2023-09-11T13:47:30.557Z"
   },
   {
    "duration": 50,
    "start_time": "2023-09-11T13:47:30.624Z"
   },
   {
    "duration": 87,
    "start_time": "2023-09-11T13:47:30.676Z"
   },
   {
    "duration": 37,
    "start_time": "2023-09-11T13:47:30.765Z"
   },
   {
    "duration": 51,
    "start_time": "2023-09-11T13:47:30.805Z"
   },
   {
    "duration": 5869,
    "start_time": "2023-09-11T13:47:30.858Z"
   },
   {
    "duration": 0,
    "start_time": "2023-09-11T13:47:36.729Z"
   },
   {
    "duration": 0,
    "start_time": "2023-09-11T13:47:36.730Z"
   },
   {
    "duration": 0,
    "start_time": "2023-09-11T13:47:36.731Z"
   },
   {
    "duration": 0,
    "start_time": "2023-09-11T13:47:36.732Z"
   },
   {
    "duration": 0,
    "start_time": "2023-09-11T13:47:36.733Z"
   },
   {
    "duration": 0,
    "start_time": "2023-09-11T13:47:36.734Z"
   },
   {
    "duration": 0,
    "start_time": "2023-09-11T13:47:36.735Z"
   },
   {
    "duration": 0,
    "start_time": "2023-09-11T13:47:36.757Z"
   },
   {
    "duration": 0,
    "start_time": "2023-09-11T13:47:36.758Z"
   },
   {
    "duration": 0,
    "start_time": "2023-09-11T13:47:36.759Z"
   },
   {
    "duration": 0,
    "start_time": "2023-09-11T13:47:36.760Z"
   },
   {
    "duration": 0,
    "start_time": "2023-09-11T13:47:36.761Z"
   },
   {
    "duration": 0,
    "start_time": "2023-09-11T13:47:36.763Z"
   },
   {
    "duration": 0,
    "start_time": "2023-09-11T13:47:36.764Z"
   },
   {
    "duration": 5027,
    "start_time": "2023-09-11T13:48:41.170Z"
   },
   {
    "duration": 21,
    "start_time": "2023-09-11T13:49:57.348Z"
   },
   {
    "duration": 1369,
    "start_time": "2023-09-11T13:50:08.593Z"
   },
   {
    "duration": 925,
    "start_time": "2023-09-11T13:50:09.964Z"
   },
   {
    "duration": 21,
    "start_time": "2023-09-11T13:50:10.891Z"
   },
   {
    "duration": 16,
    "start_time": "2023-09-11T13:50:10.914Z"
   },
   {
    "duration": 46,
    "start_time": "2023-09-11T13:50:10.933Z"
   },
   {
    "duration": 11,
    "start_time": "2023-09-11T13:50:10.981Z"
   },
   {
    "duration": 19,
    "start_time": "2023-09-11T13:50:10.994Z"
   },
   {
    "duration": 422,
    "start_time": "2023-09-11T13:50:11.015Z"
   },
   {
    "duration": 30,
    "start_time": "2023-09-11T13:50:11.439Z"
   },
   {
    "duration": 166,
    "start_time": "2023-09-11T13:50:11.471Z"
   },
   {
    "duration": 26,
    "start_time": "2023-09-11T13:50:11.638Z"
   },
   {
    "duration": 367,
    "start_time": "2023-09-11T13:50:11.665Z"
   },
   {
    "duration": 27,
    "start_time": "2023-09-11T13:50:12.034Z"
   },
   {
    "duration": 153,
    "start_time": "2023-09-11T13:50:12.064Z"
   },
   {
    "duration": 213,
    "start_time": "2023-09-11T13:50:12.219Z"
   },
   {
    "duration": 28,
    "start_time": "2023-09-11T13:50:12.435Z"
   },
   {
    "duration": 234,
    "start_time": "2023-09-11T13:50:12.465Z"
   },
   {
    "duration": 246,
    "start_time": "2023-09-11T13:50:12.702Z"
   },
   {
    "duration": 20,
    "start_time": "2023-09-11T13:50:12.950Z"
   },
   {
    "duration": 1801,
    "start_time": "2023-09-11T13:50:12.972Z"
   },
   {
    "duration": 17,
    "start_time": "2023-09-11T13:50:14.776Z"
   },
   {
    "duration": 10,
    "start_time": "2023-09-11T13:50:14.795Z"
   },
   {
    "duration": 2380,
    "start_time": "2023-09-11T13:50:14.807Z"
   },
   {
    "duration": 73,
    "start_time": "2023-09-11T13:50:17.189Z"
   },
   {
    "duration": 9,
    "start_time": "2023-09-11T13:50:17.264Z"
   },
   {
    "duration": 2251,
    "start_time": "2023-09-11T13:50:17.274Z"
   },
   {
    "duration": 9,
    "start_time": "2023-09-11T13:50:19.527Z"
   },
   {
    "duration": 712,
    "start_time": "2023-09-11T13:50:19.538Z"
   },
   {
    "duration": 6,
    "start_time": "2023-09-11T13:50:20.256Z"
   },
   {
    "duration": 24,
    "start_time": "2023-09-11T13:50:20.263Z"
   },
   {
    "duration": 1781,
    "start_time": "2023-09-11T13:50:20.289Z"
   },
   {
    "duration": 6,
    "start_time": "2023-09-11T13:50:22.071Z"
   },
   {
    "duration": 12,
    "start_time": "2023-09-11T13:50:22.078Z"
   },
   {
    "duration": 5,
    "start_time": "2023-09-11T13:50:22.092Z"
   },
   {
    "duration": 7,
    "start_time": "2023-09-11T13:50:22.098Z"
   },
   {
    "duration": 10,
    "start_time": "2023-09-11T13:50:22.107Z"
   },
   {
    "duration": 12,
    "start_time": "2023-09-11T13:50:22.119Z"
   },
   {
    "duration": 569,
    "start_time": "2023-09-11T13:50:22.133Z"
   },
   {
    "duration": 0,
    "start_time": "2023-09-11T13:50:22.705Z"
   },
   {
    "duration": 0,
    "start_time": "2023-09-11T13:50:22.706Z"
   },
   {
    "duration": 0,
    "start_time": "2023-09-11T13:50:22.707Z"
   },
   {
    "duration": 0,
    "start_time": "2023-09-11T13:50:22.709Z"
   },
   {
    "duration": 0,
    "start_time": "2023-09-11T13:50:22.710Z"
   },
   {
    "duration": 0,
    "start_time": "2023-09-11T13:50:22.711Z"
   },
   {
    "duration": 0,
    "start_time": "2023-09-11T13:50:22.712Z"
   },
   {
    "duration": 0,
    "start_time": "2023-09-11T13:50:22.713Z"
   },
   {
    "duration": 0,
    "start_time": "2023-09-11T13:50:22.714Z"
   },
   {
    "duration": 0,
    "start_time": "2023-09-11T13:50:22.715Z"
   },
   {
    "duration": 0,
    "start_time": "2023-09-11T13:50:22.716Z"
   },
   {
    "duration": 0,
    "start_time": "2023-09-11T13:50:22.717Z"
   },
   {
    "duration": 0,
    "start_time": "2023-09-11T13:50:22.719Z"
   },
   {
    "duration": 0,
    "start_time": "2023-09-11T13:50:22.720Z"
   },
   {
    "duration": 0,
    "start_time": "2023-09-11T13:50:22.721Z"
   },
   {
    "duration": 19,
    "start_time": "2023-09-11T13:52:41.286Z"
   },
   {
    "duration": 32,
    "start_time": "2023-09-11T13:53:14.330Z"
   },
   {
    "duration": 1325,
    "start_time": "2023-09-11T14:03:28.875Z"
   },
   {
    "duration": 934,
    "start_time": "2023-09-11T14:03:30.202Z"
   },
   {
    "duration": 29,
    "start_time": "2023-09-11T14:03:31.138Z"
   },
   {
    "duration": 21,
    "start_time": "2023-09-11T14:03:31.169Z"
   },
   {
    "duration": 71,
    "start_time": "2023-09-11T14:03:31.193Z"
   },
   {
    "duration": 9,
    "start_time": "2023-09-11T14:03:31.266Z"
   },
   {
    "duration": 92,
    "start_time": "2023-09-11T14:03:31.277Z"
   },
   {
    "duration": 820,
    "start_time": "2023-09-11T14:03:31.371Z"
   },
   {
    "duration": 73,
    "start_time": "2023-09-11T14:03:32.193Z"
   },
   {
    "duration": 320,
    "start_time": "2023-09-11T14:03:32.268Z"
   },
   {
    "duration": 68,
    "start_time": "2023-09-11T14:03:32.589Z"
   },
   {
    "duration": 551,
    "start_time": "2023-09-11T14:03:32.659Z"
   },
   {
    "duration": 19,
    "start_time": "2023-09-11T14:03:33.212Z"
   },
   {
    "duration": 156,
    "start_time": "2023-09-11T14:03:33.234Z"
   },
   {
    "duration": 203,
    "start_time": "2023-09-11T14:03:33.392Z"
   },
   {
    "duration": 21,
    "start_time": "2023-09-11T14:03:33.597Z"
   },
   {
    "duration": 211,
    "start_time": "2023-09-11T14:03:33.620Z"
   },
   {
    "duration": 207,
    "start_time": "2023-09-11T14:03:33.833Z"
   },
   {
    "duration": 25,
    "start_time": "2023-09-11T14:03:34.041Z"
   },
   {
    "duration": 1809,
    "start_time": "2023-09-11T14:03:34.068Z"
   },
   {
    "duration": 18,
    "start_time": "2023-09-11T14:03:35.880Z"
   },
   {
    "duration": 92,
    "start_time": "2023-09-11T14:03:35.899Z"
   },
   {
    "duration": 1837,
    "start_time": "2023-09-11T14:03:35.993Z"
   },
   {
    "duration": 29,
    "start_time": "2023-09-11T14:03:37.832Z"
   },
   {
    "duration": 10,
    "start_time": "2023-09-11T14:03:37.862Z"
   },
   {
    "duration": 1903,
    "start_time": "2023-09-11T14:03:37.874Z"
   },
   {
    "duration": 10,
    "start_time": "2023-09-11T14:03:39.780Z"
   },
   {
    "duration": 783,
    "start_time": "2023-09-11T14:03:39.792Z"
   },
   {
    "duration": 7,
    "start_time": "2023-09-11T14:03:40.577Z"
   },
   {
    "duration": 9,
    "start_time": "2023-09-11T14:03:40.586Z"
   },
   {
    "duration": 1724,
    "start_time": "2023-09-11T14:03:40.597Z"
   },
   {
    "duration": 7,
    "start_time": "2023-09-11T14:03:42.323Z"
   },
   {
    "duration": 6,
    "start_time": "2023-09-11T14:03:42.332Z"
   },
   {
    "duration": 5,
    "start_time": "2023-09-11T14:03:42.357Z"
   },
   {
    "duration": 7,
    "start_time": "2023-09-11T14:03:42.364Z"
   },
   {
    "duration": 7,
    "start_time": "2023-09-11T14:03:42.372Z"
   },
   {
    "duration": 6,
    "start_time": "2023-09-11T14:03:42.381Z"
   },
   {
    "duration": 578,
    "start_time": "2023-09-11T14:03:42.389Z"
   },
   {
    "duration": 0,
    "start_time": "2023-09-11T14:03:42.969Z"
   },
   {
    "duration": 0,
    "start_time": "2023-09-11T14:03:42.970Z"
   },
   {
    "duration": 0,
    "start_time": "2023-09-11T14:03:42.971Z"
   },
   {
    "duration": 0,
    "start_time": "2023-09-11T14:03:42.973Z"
   },
   {
    "duration": 0,
    "start_time": "2023-09-11T14:03:42.974Z"
   },
   {
    "duration": 0,
    "start_time": "2023-09-11T14:03:42.975Z"
   },
   {
    "duration": 0,
    "start_time": "2023-09-11T14:03:42.975Z"
   },
   {
    "duration": 0,
    "start_time": "2023-09-11T14:03:42.977Z"
   },
   {
    "duration": 0,
    "start_time": "2023-09-11T14:03:42.978Z"
   },
   {
    "duration": 0,
    "start_time": "2023-09-11T14:03:42.979Z"
   },
   {
    "duration": 0,
    "start_time": "2023-09-11T14:03:42.980Z"
   },
   {
    "duration": 0,
    "start_time": "2023-09-11T14:03:42.980Z"
   },
   {
    "duration": 0,
    "start_time": "2023-09-11T14:03:42.981Z"
   },
   {
    "duration": 0,
    "start_time": "2023-09-11T14:03:42.982Z"
   },
   {
    "duration": 0,
    "start_time": "2023-09-11T14:03:42.983Z"
   },
   {
    "duration": 44,
    "start_time": "2023-09-11T14:06:03.787Z"
   },
   {
    "duration": 31,
    "start_time": "2023-09-11T14:07:12.612Z"
   },
   {
    "duration": 12,
    "start_time": "2023-09-11T14:13:32.427Z"
   },
   {
    "duration": 44,
    "start_time": "2023-09-11T14:26:43.549Z"
   },
   {
    "duration": 5773,
    "start_time": "2023-09-11T14:28:44.868Z"
   },
   {
    "duration": 38,
    "start_time": "2023-09-11T14:29:28.618Z"
   },
   {
    "duration": 5920,
    "start_time": "2023-09-11T14:29:42.624Z"
   },
   {
    "duration": 28,
    "start_time": "2023-09-11T14:47:38.158Z"
   },
   {
    "duration": 13,
    "start_time": "2023-09-11T14:53:33.558Z"
   },
   {
    "duration": 18,
    "start_time": "2023-09-11T14:53:40.083Z"
   },
   {
    "duration": 19,
    "start_time": "2023-09-11T14:55:37.708Z"
   },
   {
    "duration": 27,
    "start_time": "2023-09-11T14:56:25.438Z"
   },
   {
    "duration": 37,
    "start_time": "2023-09-11T14:56:51.093Z"
   },
   {
    "duration": 45,
    "start_time": "2023-09-11T14:57:16.464Z"
   },
   {
    "duration": 28,
    "start_time": "2023-09-11T15:10:18.424Z"
   },
   {
    "duration": 23,
    "start_time": "2023-09-11T15:16:12.365Z"
   },
   {
    "duration": 27,
    "start_time": "2023-09-11T15:17:09.000Z"
   },
   {
    "duration": 25,
    "start_time": "2023-09-11T15:20:04.986Z"
   },
   {
    "duration": 35,
    "start_time": "2023-09-11T15:24:18.515Z"
   },
   {
    "duration": 24,
    "start_time": "2023-09-11T15:27:00.085Z"
   },
   {
    "duration": 24,
    "start_time": "2023-09-11T15:27:25.315Z"
   },
   {
    "duration": 229945,
    "start_time": "2023-09-11T15:27:56.061Z"
   },
   {
    "duration": 1335,
    "start_time": "2023-09-11T15:47:07.386Z"
   },
   {
    "duration": 1065,
    "start_time": "2023-09-11T15:47:08.724Z"
   },
   {
    "duration": 20,
    "start_time": "2023-09-11T15:47:09.791Z"
   },
   {
    "duration": 21,
    "start_time": "2023-09-11T15:47:09.813Z"
   },
   {
    "duration": 42,
    "start_time": "2023-09-11T15:47:09.837Z"
   },
   {
    "duration": 9,
    "start_time": "2023-09-11T15:47:09.881Z"
   },
   {
    "duration": 10,
    "start_time": "2023-09-11T15:47:09.892Z"
   },
   {
    "duration": 427,
    "start_time": "2023-09-11T15:47:09.904Z"
   },
   {
    "duration": 40,
    "start_time": "2023-09-11T15:47:10.333Z"
   },
   {
    "duration": 160,
    "start_time": "2023-09-11T15:47:10.375Z"
   },
   {
    "duration": 36,
    "start_time": "2023-09-11T15:47:10.537Z"
   },
   {
    "duration": 393,
    "start_time": "2023-09-11T15:47:10.575Z"
   },
   {
    "duration": 21,
    "start_time": "2023-09-11T15:47:10.971Z"
   },
   {
    "duration": 174,
    "start_time": "2023-09-11T15:47:10.995Z"
   },
   {
    "duration": 228,
    "start_time": "2023-09-11T15:47:11.171Z"
   },
   {
    "duration": 23,
    "start_time": "2023-09-11T15:47:11.401Z"
   },
   {
    "duration": 238,
    "start_time": "2023-09-11T15:47:11.427Z"
   },
   {
    "duration": 214,
    "start_time": "2023-09-11T15:47:11.667Z"
   },
   {
    "duration": 20,
    "start_time": "2023-09-11T15:47:11.884Z"
   },
   {
    "duration": 2035,
    "start_time": "2023-09-11T15:47:11.906Z"
   },
   {
    "duration": 26,
    "start_time": "2023-09-11T15:47:13.944Z"
   },
   {
    "duration": 42,
    "start_time": "2023-09-11T15:47:13.972Z"
   },
   {
    "duration": 1788,
    "start_time": "2023-09-11T15:47:14.016Z"
   },
   {
    "duration": 18,
    "start_time": "2023-09-11T15:47:15.806Z"
   },
   {
    "duration": 18,
    "start_time": "2023-09-11T15:47:15.826Z"
   },
   {
    "duration": 1964,
    "start_time": "2023-09-11T15:47:15.845Z"
   },
   {
    "duration": 9,
    "start_time": "2023-09-11T15:47:17.811Z"
   },
   {
    "duration": 858,
    "start_time": "2023-09-11T15:47:17.822Z"
   },
   {
    "duration": 7,
    "start_time": "2023-09-11T15:47:18.682Z"
   },
   {
    "duration": 47,
    "start_time": "2023-09-11T15:47:18.691Z"
   },
   {
    "duration": 1775,
    "start_time": "2023-09-11T15:47:18.740Z"
   },
   {
    "duration": 6,
    "start_time": "2023-09-11T15:47:20.516Z"
   },
   {
    "duration": 30,
    "start_time": "2023-09-11T15:47:20.524Z"
   },
   {
    "duration": 26,
    "start_time": "2023-09-11T15:47:20.556Z"
   },
   {
    "duration": 43,
    "start_time": "2023-09-11T15:47:20.584Z"
   },
   {
    "duration": 38,
    "start_time": "2023-09-11T15:47:20.629Z"
   },
   {
    "duration": 35,
    "start_time": "2023-09-11T15:47:20.672Z"
   },
   {
    "duration": 28,
    "start_time": "2023-09-11T15:47:20.709Z"
   },
   {
    "duration": 578,
    "start_time": "2023-09-11T15:47:20.739Z"
   },
   {
    "duration": 0,
    "start_time": "2023-09-11T15:47:21.319Z"
   },
   {
    "duration": 0,
    "start_time": "2023-09-11T15:47:21.320Z"
   },
   {
    "duration": 0,
    "start_time": "2023-09-11T15:47:21.321Z"
   },
   {
    "duration": 0,
    "start_time": "2023-09-11T15:47:21.322Z"
   },
   {
    "duration": 0,
    "start_time": "2023-09-11T15:47:21.323Z"
   },
   {
    "duration": 0,
    "start_time": "2023-09-11T15:47:21.324Z"
   },
   {
    "duration": 0,
    "start_time": "2023-09-11T15:47:21.325Z"
   },
   {
    "duration": 0,
    "start_time": "2023-09-11T15:47:21.326Z"
   },
   {
    "duration": 0,
    "start_time": "2023-09-11T15:47:21.328Z"
   },
   {
    "duration": 0,
    "start_time": "2023-09-11T15:47:21.329Z"
   },
   {
    "duration": 0,
    "start_time": "2023-09-11T15:47:21.330Z"
   },
   {
    "duration": 0,
    "start_time": "2023-09-11T15:47:21.331Z"
   },
   {
    "duration": 0,
    "start_time": "2023-09-11T15:47:21.356Z"
   },
   {
    "duration": 0,
    "start_time": "2023-09-11T15:47:21.357Z"
   },
   {
    "duration": 0,
    "start_time": "2023-09-11T15:47:21.358Z"
   },
   {
    "duration": 27,
    "start_time": "2023-09-11T15:48:24.070Z"
   },
   {
    "duration": 1357,
    "start_time": "2023-09-11T15:51:55.687Z"
   },
   {
    "duration": 1002,
    "start_time": "2023-09-11T15:51:57.047Z"
   },
   {
    "duration": 30,
    "start_time": "2023-09-11T15:51:58.052Z"
   },
   {
    "duration": 17,
    "start_time": "2023-09-11T15:51:58.084Z"
   },
   {
    "duration": 22,
    "start_time": "2023-09-11T15:51:58.104Z"
   },
   {
    "duration": 13,
    "start_time": "2023-09-11T15:51:58.156Z"
   },
   {
    "duration": 19,
    "start_time": "2023-09-11T15:51:58.171Z"
   },
   {
    "duration": 771,
    "start_time": "2023-09-11T15:51:58.193Z"
   },
   {
    "duration": 25,
    "start_time": "2023-09-11T15:51:58.968Z"
   },
   {
    "duration": 468,
    "start_time": "2023-09-11T15:51:58.996Z"
   },
   {
    "duration": 16,
    "start_time": "2023-09-11T15:51:59.469Z"
   },
   {
    "duration": 906,
    "start_time": "2023-09-11T15:51:59.486Z"
   },
   {
    "duration": 81,
    "start_time": "2023-09-11T15:52:00.394Z"
   },
   {
    "duration": 297,
    "start_time": "2023-09-11T15:52:00.479Z"
   },
   {
    "duration": 219,
    "start_time": "2023-09-11T15:52:00.779Z"
   },
   {
    "duration": 20,
    "start_time": "2023-09-11T15:52:01.000Z"
   },
   {
    "duration": 313,
    "start_time": "2023-09-11T15:52:01.022Z"
   },
   {
    "duration": 211,
    "start_time": "2023-09-11T15:52:01.337Z"
   },
   {
    "duration": 26,
    "start_time": "2023-09-11T15:52:01.550Z"
   },
   {
    "duration": 2257,
    "start_time": "2023-09-11T15:52:01.580Z"
   },
   {
    "duration": 31,
    "start_time": "2023-09-11T15:52:03.839Z"
   },
   {
    "duration": 29,
    "start_time": "2023-09-11T15:52:03.873Z"
   },
   {
    "duration": 1797,
    "start_time": "2023-09-11T15:52:03.904Z"
   },
   {
    "duration": 19,
    "start_time": "2023-09-11T15:52:05.703Z"
   },
   {
    "duration": 12,
    "start_time": "2023-09-11T15:52:05.724Z"
   },
   {
    "duration": 2158,
    "start_time": "2023-09-11T15:52:05.761Z"
   },
   {
    "duration": 9,
    "start_time": "2023-09-11T15:52:07.922Z"
   },
   {
    "duration": 860,
    "start_time": "2023-09-11T15:52:07.933Z"
   },
   {
    "duration": 6,
    "start_time": "2023-09-11T15:52:08.795Z"
   },
   {
    "duration": 28,
    "start_time": "2023-09-11T15:52:08.805Z"
   },
   {
    "duration": 1770,
    "start_time": "2023-09-11T15:52:08.836Z"
   },
   {
    "duration": 6,
    "start_time": "2023-09-11T15:52:10.608Z"
   },
   {
    "duration": 28,
    "start_time": "2023-09-11T15:52:10.616Z"
   },
   {
    "duration": 26,
    "start_time": "2023-09-11T15:52:10.646Z"
   },
   {
    "duration": 20,
    "start_time": "2023-09-11T15:52:10.675Z"
   },
   {
    "duration": 17,
    "start_time": "2023-09-11T15:52:10.697Z"
   },
   {
    "duration": 23,
    "start_time": "2023-09-11T15:52:10.716Z"
   },
   {
    "duration": 28,
    "start_time": "2023-09-11T15:52:10.741Z"
   },
   {
    "duration": 1344,
    "start_time": "2023-09-11T15:52:57.508Z"
   },
   {
    "duration": 1114,
    "start_time": "2023-09-11T15:52:58.855Z"
   },
   {
    "duration": 21,
    "start_time": "2023-09-11T15:52:59.978Z"
   },
   {
    "duration": 16,
    "start_time": "2023-09-11T15:53:00.001Z"
   },
   {
    "duration": 125,
    "start_time": "2023-09-11T15:53:00.020Z"
   },
   {
    "duration": 61,
    "start_time": "2023-09-11T15:53:00.148Z"
   },
   {
    "duration": 75,
    "start_time": "2023-09-11T15:53:00.211Z"
   },
   {
    "duration": 989,
    "start_time": "2023-09-11T15:53:00.289Z"
   },
   {
    "duration": 81,
    "start_time": "2023-09-11T15:53:01.281Z"
   },
   {
    "duration": 509,
    "start_time": "2023-09-11T15:53:01.365Z"
   },
   {
    "duration": 17,
    "start_time": "2023-09-11T15:53:01.876Z"
   },
   {
    "duration": 981,
    "start_time": "2023-09-11T15:53:01.895Z"
   },
   {
    "duration": 31,
    "start_time": "2023-09-11T15:53:02.879Z"
   },
   {
    "duration": 192,
    "start_time": "2023-09-11T15:53:02.915Z"
   },
   {
    "duration": 271,
    "start_time": "2023-09-11T15:53:03.110Z"
   },
   {
    "duration": 29,
    "start_time": "2023-09-11T15:53:03.383Z"
   },
   {
    "duration": 256,
    "start_time": "2023-09-11T15:53:03.414Z"
   },
   {
    "duration": 230,
    "start_time": "2023-09-11T15:53:03.672Z"
   },
   {
    "duration": 23,
    "start_time": "2023-09-11T15:53:03.904Z"
   },
   {
    "duration": 2408,
    "start_time": "2023-09-11T15:53:03.929Z"
   },
   {
    "duration": 26,
    "start_time": "2023-09-11T15:53:06.340Z"
   },
   {
    "duration": 29,
    "start_time": "2023-09-11T15:53:06.368Z"
   },
   {
    "duration": 1997,
    "start_time": "2023-09-11T15:53:06.399Z"
   },
   {
    "duration": 25,
    "start_time": "2023-09-11T15:53:08.399Z"
   },
   {
    "duration": 34,
    "start_time": "2023-09-11T15:53:08.427Z"
   },
   {
    "duration": 2120,
    "start_time": "2023-09-11T15:53:08.465Z"
   },
   {
    "duration": 12,
    "start_time": "2023-09-11T15:53:10.588Z"
   },
   {
    "duration": 842,
    "start_time": "2023-09-11T15:53:10.602Z"
   },
   {
    "duration": 24,
    "start_time": "2023-09-11T15:53:11.447Z"
   },
   {
    "duration": 15,
    "start_time": "2023-09-11T15:53:11.474Z"
   },
   {
    "duration": 1839,
    "start_time": "2023-09-11T15:53:11.491Z"
   },
   {
    "duration": 6,
    "start_time": "2023-09-11T15:53:13.333Z"
   },
   {
    "duration": 30,
    "start_time": "2023-09-11T15:53:13.357Z"
   },
   {
    "duration": 23,
    "start_time": "2023-09-11T15:53:13.389Z"
   },
   {
    "duration": 27,
    "start_time": "2023-09-11T15:53:13.414Z"
   },
   {
    "duration": 23,
    "start_time": "2023-09-11T15:53:13.444Z"
   },
   {
    "duration": 33,
    "start_time": "2023-09-11T15:53:13.470Z"
   },
   {
    "duration": 19,
    "start_time": "2023-09-11T15:53:13.506Z"
   },
   {
    "duration": 1397,
    "start_time": "2023-09-11T15:56:12.574Z"
   },
   {
    "duration": 973,
    "start_time": "2023-09-11T15:56:13.975Z"
   },
   {
    "duration": 26,
    "start_time": "2023-09-11T15:56:14.950Z"
   },
   {
    "duration": 38,
    "start_time": "2023-09-11T15:56:14.978Z"
   },
   {
    "duration": 83,
    "start_time": "2023-09-11T15:56:15.019Z"
   },
   {
    "duration": 190,
    "start_time": "2023-09-11T15:56:15.104Z"
   },
   {
    "duration": 35,
    "start_time": "2023-09-11T15:56:15.296Z"
   },
   {
    "duration": 545,
    "start_time": "2023-09-11T15:56:15.333Z"
   },
   {
    "duration": 19,
    "start_time": "2023-09-11T15:56:15.880Z"
   },
   {
    "duration": 389,
    "start_time": "2023-09-11T15:56:15.901Z"
   },
   {
    "duration": 75,
    "start_time": "2023-09-11T15:56:16.292Z"
   },
   {
    "duration": 898,
    "start_time": "2023-09-11T15:56:16.368Z"
   },
   {
    "duration": 26,
    "start_time": "2023-09-11T15:56:17.272Z"
   },
   {
    "duration": 373,
    "start_time": "2023-09-11T15:56:17.302Z"
   },
   {
    "duration": 430,
    "start_time": "2023-09-11T15:56:17.677Z"
   },
   {
    "duration": 24,
    "start_time": "2023-09-11T15:56:18.109Z"
   },
   {
    "duration": 250,
    "start_time": "2023-09-11T15:56:18.135Z"
   },
   {
    "duration": 227,
    "start_time": "2023-09-11T15:56:18.388Z"
   },
   {
    "duration": 19,
    "start_time": "2023-09-11T15:56:18.617Z"
   },
   {
    "duration": 2022,
    "start_time": "2023-09-11T15:56:18.638Z"
   },
   {
    "duration": 22,
    "start_time": "2023-09-11T15:56:20.663Z"
   },
   {
    "duration": 12,
    "start_time": "2023-09-11T15:56:20.687Z"
   },
   {
    "duration": 1773,
    "start_time": "2023-09-11T15:56:20.701Z"
   },
   {
    "duration": 19,
    "start_time": "2023-09-11T15:56:22.476Z"
   },
   {
    "duration": 12,
    "start_time": "2023-09-11T15:56:22.498Z"
   },
   {
    "duration": 2001,
    "start_time": "2023-09-11T15:56:22.513Z"
   },
   {
    "duration": 10,
    "start_time": "2023-09-11T15:56:24.515Z"
   },
   {
    "duration": 896,
    "start_time": "2023-09-11T15:56:24.527Z"
   },
   {
    "duration": 6,
    "start_time": "2023-09-11T15:56:25.425Z"
   },
   {
    "duration": 39,
    "start_time": "2023-09-11T15:56:25.433Z"
   },
   {
    "duration": 1746,
    "start_time": "2023-09-11T15:56:25.474Z"
   },
   {
    "duration": 6,
    "start_time": "2023-09-11T15:56:27.221Z"
   },
   {
    "duration": 51,
    "start_time": "2023-09-11T15:56:27.229Z"
   },
   {
    "duration": 23,
    "start_time": "2023-09-11T15:56:27.282Z"
   },
   {
    "duration": 13,
    "start_time": "2023-09-11T15:56:27.306Z"
   },
   {
    "duration": 15,
    "start_time": "2023-09-11T15:56:27.320Z"
   },
   {
    "duration": 10,
    "start_time": "2023-09-11T15:56:27.337Z"
   },
   {
    "duration": 15,
    "start_time": "2023-09-11T15:56:27.349Z"
   },
   {
    "duration": 1411,
    "start_time": "2023-09-11T15:57:58.056Z"
   },
   {
    "duration": 1000,
    "start_time": "2023-09-11T15:57:59.470Z"
   },
   {
    "duration": 22,
    "start_time": "2023-09-11T15:58:00.472Z"
   },
   {
    "duration": 114,
    "start_time": "2023-09-11T15:58:00.496Z"
   },
   {
    "duration": 177,
    "start_time": "2023-09-11T15:58:00.612Z"
   },
   {
    "duration": 102,
    "start_time": "2023-09-11T15:58:00.791Z"
   },
   {
    "duration": 107,
    "start_time": "2023-09-11T15:58:00.894Z"
   },
   {
    "duration": 603,
    "start_time": "2023-09-11T15:58:01.003Z"
   },
   {
    "duration": 20,
    "start_time": "2023-09-11T15:58:01.608Z"
   },
   {
    "duration": 327,
    "start_time": "2023-09-11T15:58:01.632Z"
   },
   {
    "duration": 15,
    "start_time": "2023-09-11T15:58:01.968Z"
   },
   {
    "duration": 464,
    "start_time": "2023-09-11T15:58:01.985Z"
   },
   {
    "duration": 24,
    "start_time": "2023-09-11T15:58:02.451Z"
   },
   {
    "duration": 164,
    "start_time": "2023-09-11T15:58:02.477Z"
   },
   {
    "duration": 229,
    "start_time": "2023-09-11T15:58:02.643Z"
   },
   {
    "duration": 24,
    "start_time": "2023-09-11T15:58:02.874Z"
   },
   {
    "duration": 256,
    "start_time": "2023-09-11T15:58:02.899Z"
   },
   {
    "duration": 216,
    "start_time": "2023-09-11T15:58:03.158Z"
   },
   {
    "duration": 21,
    "start_time": "2023-09-11T15:58:03.376Z"
   },
   {
    "duration": 1966,
    "start_time": "2023-09-11T15:58:03.399Z"
   },
   {
    "duration": 19,
    "start_time": "2023-09-11T15:58:05.367Z"
   },
   {
    "duration": 9,
    "start_time": "2023-09-11T15:58:05.388Z"
   },
   {
    "duration": 1822,
    "start_time": "2023-09-11T15:58:05.399Z"
   },
   {
    "duration": 45,
    "start_time": "2023-09-11T15:58:07.223Z"
   },
   {
    "duration": 10,
    "start_time": "2023-09-11T15:58:07.273Z"
   },
   {
    "duration": 2144,
    "start_time": "2023-09-11T15:58:07.286Z"
   },
   {
    "duration": 11,
    "start_time": "2023-09-11T15:58:09.432Z"
   },
   {
    "duration": 736,
    "start_time": "2023-09-11T15:58:09.458Z"
   },
   {
    "duration": 5,
    "start_time": "2023-09-11T15:58:10.196Z"
   },
   {
    "duration": 41,
    "start_time": "2023-09-11T15:58:10.203Z"
   },
   {
    "duration": 1746,
    "start_time": "2023-09-11T15:58:10.246Z"
   },
   {
    "duration": 7,
    "start_time": "2023-09-11T15:58:11.996Z"
   },
   {
    "duration": 125,
    "start_time": "2023-09-11T15:58:12.005Z"
   },
   {
    "duration": 24,
    "start_time": "2023-09-11T15:58:12.133Z"
   },
   {
    "duration": 44,
    "start_time": "2023-09-11T15:58:12.163Z"
   },
   {
    "duration": 31,
    "start_time": "2023-09-11T15:58:12.209Z"
   },
   {
    "duration": 31,
    "start_time": "2023-09-11T15:58:12.242Z"
   },
   {
    "duration": 16,
    "start_time": "2023-09-11T15:58:12.275Z"
   },
   {
    "duration": 1664,
    "start_time": "2023-09-11T16:06:11.664Z"
   },
   {
    "duration": 949,
    "start_time": "2023-09-11T16:06:13.330Z"
   },
   {
    "duration": 22,
    "start_time": "2023-09-11T16:06:14.281Z"
   },
   {
    "duration": 15,
    "start_time": "2023-09-11T16:06:14.305Z"
   },
   {
    "duration": 48,
    "start_time": "2023-09-11T16:06:14.322Z"
   },
   {
    "duration": 9,
    "start_time": "2023-09-11T16:06:14.372Z"
   },
   {
    "duration": 26,
    "start_time": "2023-09-11T16:06:14.383Z"
   },
   {
    "duration": 404,
    "start_time": "2023-09-11T16:06:14.411Z"
   },
   {
    "duration": 23,
    "start_time": "2023-09-11T16:06:14.817Z"
   },
   {
    "duration": 162,
    "start_time": "2023-09-11T16:06:14.856Z"
   },
   {
    "duration": 13,
    "start_time": "2023-09-11T16:06:15.020Z"
   },
   {
    "duration": 439,
    "start_time": "2023-09-11T16:06:15.034Z"
   },
   {
    "duration": 20,
    "start_time": "2023-09-11T16:06:15.475Z"
   },
   {
    "duration": 181,
    "start_time": "2023-09-11T16:06:15.497Z"
   },
   {
    "duration": 214,
    "start_time": "2023-09-11T16:06:15.680Z"
   },
   {
    "duration": 20,
    "start_time": "2023-09-11T16:06:15.895Z"
   },
   {
    "duration": 319,
    "start_time": "2023-09-11T16:06:15.917Z"
   },
   {
    "duration": 200,
    "start_time": "2023-09-11T16:06:16.238Z"
   },
   {
    "duration": 26,
    "start_time": "2023-09-11T16:06:16.440Z"
   },
   {
    "duration": 1754,
    "start_time": "2023-09-11T16:06:16.468Z"
   },
   {
    "duration": 20,
    "start_time": "2023-09-11T16:06:18.225Z"
   },
   {
    "duration": 15,
    "start_time": "2023-09-11T16:06:18.248Z"
   },
   {
    "duration": 1980,
    "start_time": "2023-09-11T16:06:18.266Z"
   },
   {
    "duration": 26,
    "start_time": "2023-09-11T16:06:20.248Z"
   },
   {
    "duration": 24,
    "start_time": "2023-09-11T16:06:20.276Z"
   },
   {
    "duration": 1765,
    "start_time": "2023-09-11T16:06:20.302Z"
   },
   {
    "duration": 8,
    "start_time": "2023-09-11T16:06:22.069Z"
   },
   {
    "duration": 750,
    "start_time": "2023-09-11T16:06:22.081Z"
   },
   {
    "duration": 6,
    "start_time": "2023-09-11T16:06:22.833Z"
   },
   {
    "duration": 33,
    "start_time": "2023-09-11T16:06:22.841Z"
   },
   {
    "duration": 1880,
    "start_time": "2023-09-11T16:06:22.876Z"
   },
   {
    "duration": 5,
    "start_time": "2023-09-11T16:06:24.758Z"
   },
   {
    "duration": 18,
    "start_time": "2023-09-11T16:06:24.765Z"
   },
   {
    "duration": 18,
    "start_time": "2023-09-11T16:06:24.785Z"
   },
   {
    "duration": 25,
    "start_time": "2023-09-11T16:06:24.805Z"
   },
   {
    "duration": 13,
    "start_time": "2023-09-11T16:06:24.832Z"
   },
   {
    "duration": 13,
    "start_time": "2023-09-11T16:06:24.847Z"
   },
   {
    "duration": 7,
    "start_time": "2023-09-11T16:06:24.861Z"
   },
   {
    "duration": 0,
    "start_time": "2023-09-11T16:14:14.408Z"
   },
   {
    "duration": 0,
    "start_time": "2023-09-11T16:14:14.410Z"
   },
   {
    "duration": 0,
    "start_time": "2023-09-11T16:14:14.412Z"
   },
   {
    "duration": 0,
    "start_time": "2023-09-11T16:14:14.413Z"
   },
   {
    "duration": 0,
    "start_time": "2023-09-11T16:14:14.414Z"
   },
   {
    "duration": 0,
    "start_time": "2023-09-11T16:14:14.416Z"
   },
   {
    "duration": 0,
    "start_time": "2023-09-11T16:14:14.417Z"
   },
   {
    "duration": 0,
    "start_time": "2023-09-11T16:14:14.419Z"
   },
   {
    "duration": 0,
    "start_time": "2023-09-11T16:14:14.420Z"
   },
   {
    "duration": 0,
    "start_time": "2023-09-11T16:14:14.422Z"
   },
   {
    "duration": 0,
    "start_time": "2023-09-11T16:14:14.423Z"
   },
   {
    "duration": 0,
    "start_time": "2023-09-11T16:14:14.465Z"
   },
   {
    "duration": 0,
    "start_time": "2023-09-11T16:14:14.467Z"
   },
   {
    "duration": 0,
    "start_time": "2023-09-11T16:14:14.469Z"
   },
   {
    "duration": 0,
    "start_time": "2023-09-11T16:14:14.470Z"
   },
   {
    "duration": 0,
    "start_time": "2023-09-11T16:14:14.472Z"
   },
   {
    "duration": 358092,
    "start_time": "2023-09-11T16:14:16.936Z"
   },
   {
    "duration": 18,
    "start_time": "2023-09-11T16:20:32.385Z"
   },
   {
    "duration": 58,
    "start_time": "2023-09-11T16:30:02.909Z"
   },
   {
    "duration": 16,
    "start_time": "2023-09-11T16:31:46.108Z"
   },
   {
    "duration": 26,
    "start_time": "2023-09-11T16:32:19.350Z"
   },
   {
    "duration": 12,
    "start_time": "2023-09-11T16:32:53.209Z"
   },
   {
    "duration": 29,
    "start_time": "2023-09-11T16:33:31.528Z"
   },
   {
    "duration": 39,
    "start_time": "2023-09-11T16:33:50.054Z"
   },
   {
    "duration": 1500,
    "start_time": "2023-09-11T16:34:15.238Z"
   },
   {
    "duration": 342,
    "start_time": "2023-09-11T16:34:55.392Z"
   },
   {
    "duration": 22,
    "start_time": "2023-09-11T16:37:57.133Z"
   },
   {
    "duration": 14,
    "start_time": "2023-09-11T16:39:28.130Z"
   },
   {
    "duration": 24,
    "start_time": "2023-09-11T16:44:11.353Z"
   },
   {
    "duration": 2924,
    "start_time": "2023-09-11T16:45:19.634Z"
   },
   {
    "duration": 13,
    "start_time": "2023-09-11T16:46:50.593Z"
   },
   {
    "duration": 10,
    "start_time": "2023-09-11T16:47:08.011Z"
   },
   {
    "duration": 78,
    "start_time": "2023-09-11T16:54:57.583Z"
   },
   {
    "duration": 23,
    "start_time": "2023-09-11T16:57:31.667Z"
   },
   {
    "duration": 360444,
    "start_time": "2023-09-11T16:58:39.018Z"
   },
   {
    "duration": 1683,
    "start_time": "2023-09-11T17:09:41.140Z"
   },
   {
    "duration": 1064,
    "start_time": "2023-09-11T17:09:42.827Z"
   },
   {
    "duration": 21,
    "start_time": "2023-09-11T17:09:43.893Z"
   },
   {
    "duration": 13,
    "start_time": "2023-09-11T17:09:43.916Z"
   },
   {
    "duration": 49,
    "start_time": "2023-09-11T17:09:43.931Z"
   },
   {
    "duration": 10,
    "start_time": "2023-09-11T17:09:43.982Z"
   },
   {
    "duration": 17,
    "start_time": "2023-09-11T17:09:43.994Z"
   },
   {
    "duration": 410,
    "start_time": "2023-09-11T17:09:44.013Z"
   },
   {
    "duration": 19,
    "start_time": "2023-09-11T17:09:44.425Z"
   },
   {
    "duration": 415,
    "start_time": "2023-09-11T17:09:44.456Z"
   },
   {
    "duration": 14,
    "start_time": "2023-09-11T17:09:44.877Z"
   },
   {
    "duration": 401,
    "start_time": "2023-09-11T17:09:44.893Z"
   },
   {
    "duration": 21,
    "start_time": "2023-09-11T17:09:45.296Z"
   },
   {
    "duration": 179,
    "start_time": "2023-09-11T17:09:45.322Z"
   },
   {
    "duration": 211,
    "start_time": "2023-09-11T17:09:45.503Z"
   },
   {
    "duration": 21,
    "start_time": "2023-09-11T17:09:45.715Z"
   },
   {
    "duration": 323,
    "start_time": "2023-09-11T17:09:45.737Z"
   },
   {
    "duration": 228,
    "start_time": "2023-09-11T17:09:46.066Z"
   },
   {
    "duration": 19,
    "start_time": "2023-09-11T17:09:46.296Z"
   },
   {
    "duration": 1950,
    "start_time": "2023-09-11T17:09:46.317Z"
   },
   {
    "duration": 20,
    "start_time": "2023-09-11T17:09:48.278Z"
   },
   {
    "duration": 8,
    "start_time": "2023-09-11T17:09:48.300Z"
   },
   {
    "duration": 2018,
    "start_time": "2023-09-11T17:09:48.310Z"
   },
   {
    "duration": 45,
    "start_time": "2023-09-11T17:09:50.330Z"
   },
   {
    "duration": 20,
    "start_time": "2023-09-11T17:09:50.378Z"
   },
   {
    "duration": 1819,
    "start_time": "2023-09-11T17:09:50.400Z"
   },
   {
    "duration": 8,
    "start_time": "2023-09-11T17:09:52.220Z"
   },
   {
    "duration": 806,
    "start_time": "2023-09-11T17:09:52.230Z"
   },
   {
    "duration": 6,
    "start_time": "2023-09-11T17:09:53.038Z"
   },
   {
    "duration": 38,
    "start_time": "2023-09-11T17:09:53.045Z"
   },
   {
    "duration": 2038,
    "start_time": "2023-09-11T17:09:53.085Z"
   },
   {
    "duration": 6,
    "start_time": "2023-09-11T17:09:55.125Z"
   },
   {
    "duration": 95,
    "start_time": "2023-09-11T17:09:55.133Z"
   },
   {
    "duration": 57,
    "start_time": "2023-09-11T17:09:55.230Z"
   },
   {
    "duration": 63,
    "start_time": "2023-09-11T17:09:55.289Z"
   },
   {
    "duration": 42,
    "start_time": "2023-09-11T17:09:55.354Z"
   },
   {
    "duration": 55,
    "start_time": "2023-09-11T17:09:55.398Z"
   },
   {
    "duration": 45,
    "start_time": "2023-09-11T17:09:55.455Z"
   },
   {
    "duration": 362824,
    "start_time": "2023-09-11T17:09:55.502Z"
   },
   {
    "duration": 356731,
    "start_time": "2023-09-11T17:15:58.328Z"
   },
   {
    "duration": 12,
    "start_time": "2023-09-11T17:23:27.717Z"
   },
   {
    "duration": 14,
    "start_time": "2023-09-11T17:24:02.516Z"
   },
   {
    "duration": 37,
    "start_time": "2023-09-11T17:24:16.157Z"
   },
   {
    "duration": 1475,
    "start_time": "2023-09-11T17:24:33.636Z"
   },
   {
    "duration": 1454,
    "start_time": "2023-09-11T17:25:38.311Z"
   },
   {
    "duration": 20,
    "start_time": "2023-09-11T17:25:48.262Z"
   },
   {
    "duration": 12,
    "start_time": "2023-09-11T17:26:20.092Z"
   },
   {
    "duration": 14,
    "start_time": "2023-09-11T17:29:27.306Z"
   },
   {
    "duration": 13,
    "start_time": "2023-09-11T17:30:06.821Z"
   },
   {
    "duration": 1737,
    "start_time": "2023-09-11T17:32:08.378Z"
   },
   {
    "duration": 142,
    "start_time": "2023-09-11T17:34:15.526Z"
   },
   {
    "duration": 22,
    "start_time": "2023-09-11T17:35:42.445Z"
   },
   {
    "duration": 35,
    "start_time": "2023-09-11T17:36:33.330Z"
   },
   {
    "duration": 1515,
    "start_time": "2023-09-11T17:39:22.786Z"
   },
   {
    "duration": 171,
    "start_time": "2023-09-11T17:41:18.715Z"
   },
   {
    "duration": 1633,
    "start_time": "2023-09-11T17:46:19.685Z"
   },
   {
    "duration": 114,
    "start_time": "2023-09-11T17:52:33.344Z"
   },
   {
    "duration": 212,
    "start_time": "2023-09-11T17:53:30.066Z"
   },
   {
    "duration": 4,
    "start_time": "2023-09-11T17:54:00.605Z"
   },
   {
    "duration": 214,
    "start_time": "2023-09-11T17:55:57.944Z"
   },
   {
    "duration": 5,
    "start_time": "2023-09-11T17:56:14.453Z"
   },
   {
    "duration": 222,
    "start_time": "2023-09-11T17:56:18.049Z"
   },
   {
    "duration": 1694,
    "start_time": "2023-09-11T17:56:37.959Z"
   },
   {
    "duration": 958,
    "start_time": "2023-09-11T17:56:39.655Z"
   },
   {
    "duration": 20,
    "start_time": "2023-09-11T17:56:40.615Z"
   },
   {
    "duration": 29,
    "start_time": "2023-09-11T17:56:40.637Z"
   },
   {
    "duration": 22,
    "start_time": "2023-09-11T17:56:40.670Z"
   },
   {
    "duration": 21,
    "start_time": "2023-09-11T17:56:40.694Z"
   },
   {
    "duration": 112,
    "start_time": "2023-09-11T17:56:40.716Z"
   },
   {
    "duration": 385,
    "start_time": "2023-09-11T17:56:40.830Z"
   },
   {
    "duration": 21,
    "start_time": "2023-09-11T17:56:41.216Z"
   },
   {
    "duration": 151,
    "start_time": "2023-09-11T17:56:41.256Z"
   },
   {
    "duration": 12,
    "start_time": "2023-09-11T17:56:41.409Z"
   },
   {
    "duration": 402,
    "start_time": "2023-09-11T17:56:41.422Z"
   },
   {
    "duration": 19,
    "start_time": "2023-09-11T17:56:41.825Z"
   },
   {
    "duration": 194,
    "start_time": "2023-09-11T17:56:41.846Z"
   },
   {
    "duration": 230,
    "start_time": "2023-09-11T17:56:42.042Z"
   },
   {
    "duration": 22,
    "start_time": "2023-09-11T17:56:42.276Z"
   },
   {
    "duration": 338,
    "start_time": "2023-09-11T17:56:42.299Z"
   },
   {
    "duration": 239,
    "start_time": "2023-09-11T17:56:42.639Z"
   },
   {
    "duration": 24,
    "start_time": "2023-09-11T17:56:42.884Z"
   },
   {
    "duration": 1836,
    "start_time": "2023-09-11T17:56:42.909Z"
   },
   {
    "duration": 17,
    "start_time": "2023-09-11T17:56:44.747Z"
   },
   {
    "duration": 12,
    "start_time": "2023-09-11T17:56:44.766Z"
   },
   {
    "duration": 1997,
    "start_time": "2023-09-11T17:56:44.780Z"
   },
   {
    "duration": 20,
    "start_time": "2023-09-11T17:56:46.780Z"
   },
   {
    "duration": 9,
    "start_time": "2023-09-11T17:56:46.803Z"
   },
   {
    "duration": 1837,
    "start_time": "2023-09-11T17:56:46.814Z"
   },
   {
    "duration": 11,
    "start_time": "2023-09-11T17:56:48.657Z"
   },
   {
    "duration": 837,
    "start_time": "2023-09-11T17:56:48.671Z"
   },
   {
    "duration": 6,
    "start_time": "2023-09-11T17:56:49.510Z"
   },
   {
    "duration": 15,
    "start_time": "2023-09-11T17:56:49.518Z"
   },
   {
    "duration": 2059,
    "start_time": "2023-09-11T17:56:49.535Z"
   },
   {
    "duration": 5,
    "start_time": "2023-09-11T17:56:51.596Z"
   },
   {
    "duration": 14,
    "start_time": "2023-09-11T17:56:51.602Z"
   },
   {
    "duration": 24,
    "start_time": "2023-09-11T17:56:51.618Z"
   },
   {
    "duration": 31,
    "start_time": "2023-09-11T17:56:51.643Z"
   },
   {
    "duration": 8,
    "start_time": "2023-09-11T17:56:51.677Z"
   },
   {
    "duration": 12,
    "start_time": "2023-09-11T17:56:51.687Z"
   },
   {
    "duration": 13,
    "start_time": "2023-09-11T17:56:51.701Z"
   },
   {
    "duration": 330805,
    "start_time": "2023-09-11T17:56:51.716Z"
   },
   {
    "duration": 316,
    "start_time": "2023-09-11T18:02:22.523Z"
   },
   {
    "duration": 0,
    "start_time": "2023-09-11T18:02:22.842Z"
   },
   {
    "duration": 5,
    "start_time": "2023-09-11T18:05:04.512Z"
   },
   {
    "duration": 181,
    "start_time": "2023-09-11T18:05:08.177Z"
   },
   {
    "duration": 4,
    "start_time": "2023-09-11T18:05:26.053Z"
   },
   {
    "duration": 104,
    "start_time": "2023-09-11T18:05:36.870Z"
   },
   {
    "duration": 4,
    "start_time": "2023-09-11T18:06:56.003Z"
   },
   {
    "duration": 78,
    "start_time": "2023-09-11T18:08:30.210Z"
   },
   {
    "duration": 23,
    "start_time": "2023-09-11T18:09:00.315Z"
   },
   {
    "duration": 27,
    "start_time": "2023-09-11T18:09:46.740Z"
   },
   {
    "duration": 25,
    "start_time": "2023-09-11T18:10:13.101Z"
   },
   {
    "duration": 1460,
    "start_time": "2023-09-11T18:10:57.306Z"
   },
   {
    "duration": 109,
    "start_time": "2023-09-11T18:11:17.556Z"
   },
   {
    "duration": 1430,
    "start_time": "2023-09-11T18:11:45.696Z"
   },
   {
    "duration": 1568,
    "start_time": "2023-09-11T18:12:01.021Z"
   },
   {
    "duration": 146,
    "start_time": "2023-09-11T18:12:19.516Z"
   },
   {
    "duration": 104,
    "start_time": "2023-09-11T18:12:38.757Z"
   },
   {
    "duration": 9,
    "start_time": "2023-09-12T13:29:39.353Z"
   },
   {
    "duration": 256,
    "start_time": "2023-09-12T13:29:48.323Z"
   },
   {
    "duration": 6202,
    "start_time": "2023-09-12T13:34:47.401Z"
   },
   {
    "duration": 3484,
    "start_time": "2023-09-12T13:34:53.605Z"
   },
   {
    "duration": 19,
    "start_time": "2023-09-12T13:34:57.091Z"
   },
   {
    "duration": 13,
    "start_time": "2023-09-12T13:34:57.111Z"
   },
   {
    "duration": 20,
    "start_time": "2023-09-12T13:34:57.125Z"
   },
   {
    "duration": 7,
    "start_time": "2023-09-12T13:34:57.147Z"
   },
   {
    "duration": 12,
    "start_time": "2023-09-12T13:34:57.155Z"
   },
   {
    "duration": 365,
    "start_time": "2023-09-12T13:34:57.168Z"
   },
   {
    "duration": 25,
    "start_time": "2023-09-12T13:34:57.534Z"
   },
   {
    "duration": 162,
    "start_time": "2023-09-12T13:34:57.561Z"
   },
   {
    "duration": 11,
    "start_time": "2023-09-12T13:34:57.725Z"
   },
   {
    "duration": 339,
    "start_time": "2023-09-12T13:34:57.745Z"
   },
   {
    "duration": 16,
    "start_time": "2023-09-12T13:34:58.086Z"
   },
   {
    "duration": 139,
    "start_time": "2023-09-12T13:34:58.104Z"
   },
   {
    "duration": 185,
    "start_time": "2023-09-12T13:34:58.244Z"
   },
   {
    "duration": 24,
    "start_time": "2023-09-12T13:34:58.431Z"
   },
   {
    "duration": 241,
    "start_time": "2023-09-12T13:34:58.456Z"
   },
   {
    "duration": 178,
    "start_time": "2023-09-12T13:34:58.699Z"
   },
   {
    "duration": 14,
    "start_time": "2023-09-12T13:34:58.879Z"
   },
   {
    "duration": 1646,
    "start_time": "2023-09-12T13:34:58.894Z"
   },
   {
    "duration": 103,
    "start_time": "2023-09-12T13:35:00.543Z"
   },
   {
    "duration": 16,
    "start_time": "2023-09-12T13:35:00.648Z"
   },
   {
    "duration": 36,
    "start_time": "2023-09-12T13:35:00.665Z"
   },
   {
    "duration": 116,
    "start_time": "2023-09-12T13:35:00.702Z"
   },
   {
    "duration": 1773,
    "start_time": "2023-09-12T13:35:00.820Z"
   },
   {
    "duration": 17,
    "start_time": "2023-09-12T13:35:02.595Z"
   },
   {
    "duration": 7,
    "start_time": "2023-09-12T13:35:02.614Z"
   },
   {
    "duration": 1666,
    "start_time": "2023-09-12T13:35:02.624Z"
   },
   {
    "duration": 8,
    "start_time": "2023-09-12T13:35:04.291Z"
   },
   {
    "duration": 649,
    "start_time": "2023-09-12T13:35:04.301Z"
   },
   {
    "duration": 4,
    "start_time": "2023-09-12T13:35:04.952Z"
   },
   {
    "duration": 7,
    "start_time": "2023-09-12T13:35:04.957Z"
   },
   {
    "duration": 22,
    "start_time": "2023-09-12T13:35:04.965Z"
   },
   {
    "duration": 15,
    "start_time": "2023-09-12T13:35:04.989Z"
   },
   {
    "duration": 1753,
    "start_time": "2023-09-12T13:35:05.005Z"
   },
   {
    "duration": 5,
    "start_time": "2023-09-12T13:35:06.759Z"
   },
   {
    "duration": 24,
    "start_time": "2023-09-12T13:35:06.765Z"
   },
   {
    "duration": 8,
    "start_time": "2023-09-12T13:35:06.791Z"
   },
   {
    "duration": 6,
    "start_time": "2023-09-12T13:35:06.800Z"
   },
   {
    "duration": 6,
    "start_time": "2023-09-12T13:35:06.807Z"
   },
   {
    "duration": 16,
    "start_time": "2023-09-12T13:35:06.814Z"
   },
   {
    "duration": 7,
    "start_time": "2023-09-12T13:35:06.832Z"
   },
   {
    "duration": 8,
    "start_time": "2023-09-12T13:35:06.841Z"
   },
   {
    "duration": 103,
    "start_time": "2023-09-12T13:35:06.851Z"
   },
   {
    "duration": 48,
    "start_time": "2023-09-12T15:51:27.612Z"
   },
   {
    "duration": 1567,
    "start_time": "2023-09-12T15:51:36.438Z"
   },
   {
    "duration": 2221,
    "start_time": "2023-09-12T15:51:38.008Z"
   },
   {
    "duration": 20,
    "start_time": "2023-09-12T15:51:40.231Z"
   },
   {
    "duration": 13,
    "start_time": "2023-09-12T15:51:40.253Z"
   },
   {
    "duration": 17,
    "start_time": "2023-09-12T15:51:40.268Z"
   },
   {
    "duration": 9,
    "start_time": "2023-09-12T15:51:40.287Z"
   },
   {
    "duration": 10,
    "start_time": "2023-09-12T15:51:40.297Z"
   },
   {
    "duration": 367,
    "start_time": "2023-09-12T15:51:40.308Z"
   },
   {
    "duration": 18,
    "start_time": "2023-09-12T15:51:40.676Z"
   },
   {
    "duration": 141,
    "start_time": "2023-09-12T15:51:40.695Z"
   },
   {
    "duration": 16,
    "start_time": "2023-09-12T15:51:40.838Z"
   },
   {
    "duration": 337,
    "start_time": "2023-09-12T15:51:40.855Z"
   },
   {
    "duration": 15,
    "start_time": "2023-09-12T15:51:41.194Z"
   },
   {
    "duration": 146,
    "start_time": "2023-09-12T15:51:41.212Z"
   },
   {
    "duration": 241,
    "start_time": "2023-09-12T15:51:41.360Z"
   },
   {
    "duration": 16,
    "start_time": "2023-09-12T15:51:41.603Z"
   },
   {
    "duration": 240,
    "start_time": "2023-09-12T15:51:41.620Z"
   },
   {
    "duration": 180,
    "start_time": "2023-09-12T15:51:41.862Z"
   },
   {
    "duration": 14,
    "start_time": "2023-09-12T15:51:42.049Z"
   },
   {
    "duration": 1558,
    "start_time": "2023-09-12T15:51:42.064Z"
   },
   {
    "duration": 97,
    "start_time": "2023-09-12T15:51:43.623Z"
   },
   {
    "duration": 17,
    "start_time": "2023-09-12T15:51:43.721Z"
   },
   {
    "duration": 5,
    "start_time": "2023-09-12T15:51:43.750Z"
   },
   {
    "duration": 9,
    "start_time": "2023-09-12T15:51:43.757Z"
   },
   {
    "duration": 1701,
    "start_time": "2023-09-12T15:51:43.767Z"
   },
   {
    "duration": 17,
    "start_time": "2023-09-12T15:51:45.470Z"
   },
   {
    "duration": 21,
    "start_time": "2023-09-12T15:51:45.489Z"
   },
   {
    "duration": 1640,
    "start_time": "2023-09-12T15:51:45.512Z"
   },
   {
    "duration": 9,
    "start_time": "2023-09-12T15:51:47.154Z"
   },
   {
    "duration": 630,
    "start_time": "2023-09-12T15:51:47.165Z"
   },
   {
    "duration": 3,
    "start_time": "2023-09-12T15:51:47.797Z"
   },
   {
    "duration": 5,
    "start_time": "2023-09-12T15:51:47.801Z"
   },
   {
    "duration": 12,
    "start_time": "2023-09-12T15:51:47.808Z"
   },
   {
    "duration": 8,
    "start_time": "2023-09-12T15:51:47.821Z"
   },
   {
    "duration": 1760,
    "start_time": "2023-09-12T15:51:47.830Z"
   },
   {
    "duration": 6,
    "start_time": "2023-09-12T15:51:49.592Z"
   },
   {
    "duration": 13,
    "start_time": "2023-09-12T15:51:49.600Z"
   },
   {
    "duration": 29,
    "start_time": "2023-09-12T15:51:49.614Z"
   },
   {
    "duration": 17,
    "start_time": "2023-09-12T15:51:49.644Z"
   },
   {
    "duration": 20,
    "start_time": "2023-09-12T15:51:49.662Z"
   },
   {
    "duration": 18,
    "start_time": "2023-09-12T15:51:49.686Z"
   },
   {
    "duration": 5,
    "start_time": "2023-09-12T15:51:49.705Z"
   },
   {
    "duration": 8,
    "start_time": "2023-09-12T15:51:49.712Z"
   },
   {
    "duration": 116,
    "start_time": "2023-09-12T15:51:49.721Z"
   },
   {
    "duration": 0,
    "start_time": "2023-09-12T15:51:49.838Z"
   },
   {
    "duration": 0,
    "start_time": "2023-09-12T15:51:49.839Z"
   },
   {
    "duration": 0,
    "start_time": "2023-09-12T15:51:49.850Z"
   },
   {
    "duration": 0,
    "start_time": "2023-09-12T15:51:49.852Z"
   },
   {
    "duration": 0,
    "start_time": "2023-09-12T15:51:49.853Z"
   },
   {
    "duration": 0,
    "start_time": "2023-09-12T15:51:49.854Z"
   },
   {
    "duration": 1187,
    "start_time": "2023-09-12T16:02:54.379Z"
   },
   {
    "duration": 1433,
    "start_time": "2023-09-12T16:03:32.831Z"
   },
   {
    "duration": 1349,
    "start_time": "2023-09-12T16:04:08.210Z"
   },
   {
    "duration": 1318,
    "start_time": "2023-09-12T16:05:07.961Z"
   },
   {
    "duration": 1364,
    "start_time": "2023-09-12T16:07:53.131Z"
   },
   {
    "duration": 1813,
    "start_time": "2023-09-12T16:08:17.700Z"
   },
   {
    "duration": 1885,
    "start_time": "2023-09-12T16:08:35.580Z"
   },
   {
    "duration": 1644,
    "start_time": "2023-09-12T16:13:37.361Z"
   },
   {
    "duration": 1778,
    "start_time": "2023-09-12T16:14:45.290Z"
   },
   {
    "duration": 15,
    "start_time": "2023-09-12T16:15:36.715Z"
   },
   {
    "duration": 1606,
    "start_time": "2023-09-12T16:15:40.068Z"
   },
   {
    "duration": 1835,
    "start_time": "2023-09-12T16:16:12.936Z"
   },
   {
    "duration": 700,
    "start_time": "2023-09-12T16:16:49.614Z"
   },
   {
    "duration": 152,
    "start_time": "2023-09-12T16:17:02.715Z"
   },
   {
    "duration": 1556,
    "start_time": "2023-09-12T16:17:08.918Z"
   },
   {
    "duration": 1198,
    "start_time": "2023-09-12T16:17:10.476Z"
   },
   {
    "duration": 18,
    "start_time": "2023-09-12T16:17:11.676Z"
   },
   {
    "duration": 72,
    "start_time": "2023-09-12T16:17:11.696Z"
   },
   {
    "duration": 15,
    "start_time": "2023-09-12T16:17:11.770Z"
   },
   {
    "duration": 16,
    "start_time": "2023-09-12T16:17:11.787Z"
   },
   {
    "duration": 9,
    "start_time": "2023-09-12T16:17:11.852Z"
   },
   {
    "duration": 831,
    "start_time": "2023-09-12T16:17:11.865Z"
   },
   {
    "duration": 25,
    "start_time": "2023-09-12T16:17:12.749Z"
   },
   {
    "duration": 400,
    "start_time": "2023-09-12T16:17:12.777Z"
   },
   {
    "duration": 13,
    "start_time": "2023-09-12T16:17:13.179Z"
   },
   {
    "duration": 417,
    "start_time": "2023-09-12T16:17:13.250Z"
   },
   {
    "duration": 16,
    "start_time": "2023-09-12T16:17:13.668Z"
   },
   {
    "duration": 136,
    "start_time": "2023-09-12T16:17:13.686Z"
   },
   {
    "duration": 177,
    "start_time": "2023-09-12T16:17:13.823Z"
   },
   {
    "duration": 17,
    "start_time": "2023-09-12T16:17:14.001Z"
   },
   {
    "duration": 245,
    "start_time": "2023-09-12T16:17:14.020Z"
   },
   {
    "duration": 161,
    "start_time": "2023-09-12T16:17:14.267Z"
   },
   {
    "duration": 31,
    "start_time": "2023-09-12T16:17:14.429Z"
   },
   {
    "duration": 1635,
    "start_time": "2023-09-12T16:17:14.461Z"
   },
   {
    "duration": 16,
    "start_time": "2023-09-12T16:17:16.098Z"
   },
   {
    "duration": 15,
    "start_time": "2023-09-12T16:17:16.116Z"
   },
   {
    "duration": 12,
    "start_time": "2023-09-12T16:17:16.132Z"
   },
   {
    "duration": 1771,
    "start_time": "2023-09-12T16:17:16.145Z"
   },
   {
    "duration": 17,
    "start_time": "2023-09-12T16:17:17.918Z"
   },
   {
    "duration": 32,
    "start_time": "2023-09-12T16:17:17.936Z"
   },
   {
    "duration": 1581,
    "start_time": "2023-09-12T16:17:17.970Z"
   },
   {
    "duration": 12,
    "start_time": "2023-09-12T16:17:19.557Z"
   },
   {
    "duration": 629,
    "start_time": "2023-09-12T16:17:19.570Z"
   },
   {
    "duration": 4,
    "start_time": "2023-09-12T16:17:20.201Z"
   },
   {
    "duration": 10,
    "start_time": "2023-09-12T16:17:20.206Z"
   },
   {
    "duration": 6,
    "start_time": "2023-09-12T16:17:20.217Z"
   },
   {
    "duration": 6,
    "start_time": "2023-09-12T16:17:20.224Z"
   },
   {
    "duration": 1757,
    "start_time": "2023-09-12T16:17:20.232Z"
   },
   {
    "duration": 5,
    "start_time": "2023-09-12T16:17:21.990Z"
   },
   {
    "duration": 29,
    "start_time": "2023-09-12T16:17:21.997Z"
   },
   {
    "duration": 28,
    "start_time": "2023-09-12T16:17:22.027Z"
   },
   {
    "duration": 14,
    "start_time": "2023-09-12T16:17:22.056Z"
   },
   {
    "duration": 26,
    "start_time": "2023-09-12T16:17:22.072Z"
   },
   {
    "duration": 37,
    "start_time": "2023-09-12T16:17:22.099Z"
   },
   {
    "duration": 24,
    "start_time": "2023-09-12T16:17:22.137Z"
   },
   {
    "duration": 34,
    "start_time": "2023-09-12T16:17:22.163Z"
   },
   {
    "duration": 136,
    "start_time": "2023-09-12T16:17:22.198Z"
   },
   {
    "duration": 0,
    "start_time": "2023-09-12T16:17:22.335Z"
   },
   {
    "duration": 0,
    "start_time": "2023-09-12T16:17:22.336Z"
   },
   {
    "duration": 0,
    "start_time": "2023-09-12T16:17:22.337Z"
   },
   {
    "duration": 0,
    "start_time": "2023-09-12T16:17:22.338Z"
   },
   {
    "duration": 0,
    "start_time": "2023-09-12T16:17:22.339Z"
   },
   {
    "duration": 0,
    "start_time": "2023-09-12T16:17:22.340Z"
   },
   {
    "duration": 15,
    "start_time": "2023-09-12T16:18:48.474Z"
   },
   {
    "duration": 1440,
    "start_time": "2023-09-12T16:21:21.180Z"
   },
   {
    "duration": 870,
    "start_time": "2023-09-12T16:21:22.623Z"
   },
   {
    "duration": 22,
    "start_time": "2023-09-12T16:21:23.495Z"
   },
   {
    "duration": 27,
    "start_time": "2023-09-12T16:21:23.520Z"
   },
   {
    "duration": 31,
    "start_time": "2023-09-12T16:21:23.548Z"
   },
   {
    "duration": 12,
    "start_time": "2023-09-12T16:21:23.581Z"
   },
   {
    "duration": 18,
    "start_time": "2023-09-12T16:21:23.595Z"
   },
   {
    "duration": 672,
    "start_time": "2023-09-12T16:21:23.614Z"
   },
   {
    "duration": 72,
    "start_time": "2023-09-12T16:21:24.287Z"
   },
   {
    "duration": 311,
    "start_time": "2023-09-12T16:21:24.361Z"
   },
   {
    "duration": 9,
    "start_time": "2023-09-12T16:21:24.674Z"
   },
   {
    "duration": 702,
    "start_time": "2023-09-12T16:21:24.685Z"
   },
   {
    "duration": 72,
    "start_time": "2023-09-12T16:21:25.389Z"
   },
   {
    "duration": 131,
    "start_time": "2023-09-12T16:21:25.462Z"
   },
   {
    "duration": 182,
    "start_time": "2023-09-12T16:21:25.594Z"
   },
   {
    "duration": 17,
    "start_time": "2023-09-12T16:21:25.777Z"
   },
   {
    "duration": 278,
    "start_time": "2023-09-12T16:21:25.796Z"
   },
   {
    "duration": 211,
    "start_time": "2023-09-12T16:21:26.076Z"
   },
   {
    "duration": 16,
    "start_time": "2023-09-12T16:21:26.289Z"
   },
   {
    "duration": 1805,
    "start_time": "2023-09-12T16:21:26.307Z"
   },
   {
    "duration": 15,
    "start_time": "2023-09-12T16:21:28.114Z"
   },
   {
    "duration": 1819,
    "start_time": "2023-09-12T16:21:28.130Z"
   },
   {
    "duration": 20,
    "start_time": "2023-09-12T16:21:29.951Z"
   },
   {
    "duration": 8,
    "start_time": "2023-09-12T16:21:29.972Z"
   },
   {
    "duration": 1702,
    "start_time": "2023-09-12T16:21:29.982Z"
   },
   {
    "duration": 7,
    "start_time": "2023-09-12T16:21:31.686Z"
   },
   {
    "duration": 703,
    "start_time": "2023-09-12T16:21:31.694Z"
   },
   {
    "duration": 4,
    "start_time": "2023-09-12T16:21:32.400Z"
   },
   {
    "duration": 10,
    "start_time": "2023-09-12T16:21:32.405Z"
   },
   {
    "duration": 23,
    "start_time": "2023-09-12T16:21:32.417Z"
   },
   {
    "duration": 20,
    "start_time": "2023-09-12T16:21:32.442Z"
   },
   {
    "duration": 1685,
    "start_time": "2023-09-12T16:21:32.464Z"
   },
   {
    "duration": 6,
    "start_time": "2023-09-12T16:21:34.150Z"
   },
   {
    "duration": 16,
    "start_time": "2023-09-12T16:21:34.158Z"
   },
   {
    "duration": 12,
    "start_time": "2023-09-12T16:21:34.176Z"
   },
   {
    "duration": 7,
    "start_time": "2023-09-12T16:21:34.189Z"
   },
   {
    "duration": 21,
    "start_time": "2023-09-12T16:21:34.197Z"
   },
   {
    "duration": 10,
    "start_time": "2023-09-12T16:21:34.219Z"
   },
   {
    "duration": 4,
    "start_time": "2023-09-12T16:21:34.231Z"
   },
   {
    "duration": 11,
    "start_time": "2023-09-12T16:21:34.237Z"
   },
   {
    "duration": 113,
    "start_time": "2023-09-12T16:21:34.249Z"
   },
   {
    "duration": 0,
    "start_time": "2023-09-12T16:21:34.364Z"
   },
   {
    "duration": 0,
    "start_time": "2023-09-12T16:21:34.365Z"
   },
   {
    "duration": 0,
    "start_time": "2023-09-12T16:21:34.365Z"
   },
   {
    "duration": 0,
    "start_time": "2023-09-12T16:21:34.366Z"
   },
   {
    "duration": 0,
    "start_time": "2023-09-12T16:21:34.367Z"
   },
   {
    "duration": 0,
    "start_time": "2023-09-12T16:21:34.368Z"
   },
   {
    "duration": 1204,
    "start_time": "2023-09-12T16:27:50.180Z"
   },
   {
    "duration": 1546,
    "start_time": "2023-09-12T16:30:06.048Z"
   },
   {
    "duration": 1282,
    "start_time": "2023-09-12T16:30:36.313Z"
   },
   {
    "duration": 1411,
    "start_time": "2023-09-12T16:36:10.719Z"
   },
   {
    "duration": 1446,
    "start_time": "2023-09-12T16:36:12.132Z"
   },
   {
    "duration": 72,
    "start_time": "2023-09-12T16:36:13.580Z"
   },
   {
    "duration": 17,
    "start_time": "2023-09-12T16:36:13.654Z"
   },
   {
    "duration": 24,
    "start_time": "2023-09-12T16:36:13.674Z"
   },
   {
    "duration": 19,
    "start_time": "2023-09-12T16:36:13.750Z"
   },
   {
    "duration": 6,
    "start_time": "2023-09-12T16:36:13.771Z"
   },
   {
    "duration": 715,
    "start_time": "2023-09-12T16:36:13.779Z"
   },
   {
    "duration": 16,
    "start_time": "2023-09-12T16:36:14.496Z"
   },
   {
    "duration": 157,
    "start_time": "2023-09-12T16:36:14.514Z"
   },
   {
    "duration": 14,
    "start_time": "2023-09-12T16:36:14.673Z"
   },
   {
    "duration": 340,
    "start_time": "2023-09-12T16:36:14.689Z"
   },
   {
    "duration": 25,
    "start_time": "2023-09-12T16:36:15.031Z"
   },
   {
    "duration": 139,
    "start_time": "2023-09-12T16:36:15.059Z"
   },
   {
    "duration": 184,
    "start_time": "2023-09-12T16:36:15.200Z"
   },
   {
    "duration": 16,
    "start_time": "2023-09-12T16:36:15.386Z"
   },
   {
    "duration": 236,
    "start_time": "2023-09-12T16:36:15.404Z"
   },
   {
    "duration": 175,
    "start_time": "2023-09-12T16:36:15.642Z"
   },
   {
    "duration": 15,
    "start_time": "2023-09-12T16:36:15.819Z"
   },
   {
    "duration": 1359,
    "start_time": "2023-09-12T16:36:15.835Z"
   },
   {
    "duration": 15,
    "start_time": "2023-09-12T16:36:17.196Z"
   },
   {
    "duration": 1304,
    "start_time": "2023-09-12T16:36:17.212Z"
   },
   {
    "duration": 17,
    "start_time": "2023-09-12T16:36:18.518Z"
   },
   {
    "duration": 1364,
    "start_time": "2023-09-12T16:36:18.536Z"
   },
   {
    "duration": 724,
    "start_time": "2023-09-12T16:36:19.902Z"
   },
   {
    "duration": 5,
    "start_time": "2023-09-12T16:36:20.628Z"
   },
   {
    "duration": 24,
    "start_time": "2023-09-12T16:36:20.635Z"
   },
   {
    "duration": 9,
    "start_time": "2023-09-12T16:36:20.668Z"
   },
   {
    "duration": 10,
    "start_time": "2023-09-12T16:36:20.679Z"
   },
   {
    "duration": 1672,
    "start_time": "2023-09-12T16:36:20.691Z"
   },
   {
    "duration": 5,
    "start_time": "2023-09-12T16:36:22.365Z"
   },
   {
    "duration": 16,
    "start_time": "2023-09-12T16:36:22.371Z"
   },
   {
    "duration": 7,
    "start_time": "2023-09-12T16:36:22.388Z"
   },
   {
    "duration": 8,
    "start_time": "2023-09-12T16:36:22.397Z"
   },
   {
    "duration": 15,
    "start_time": "2023-09-12T16:36:22.407Z"
   },
   {
    "duration": 23,
    "start_time": "2023-09-12T16:36:22.424Z"
   },
   {
    "duration": 10,
    "start_time": "2023-09-12T16:36:22.449Z"
   },
   {
    "duration": 20,
    "start_time": "2023-09-12T16:36:22.461Z"
   },
   {
    "duration": 132,
    "start_time": "2023-09-12T16:36:22.484Z"
   },
   {
    "duration": 0,
    "start_time": "2023-09-12T16:36:22.619Z"
   },
   {
    "duration": 0,
    "start_time": "2023-09-12T16:36:22.620Z"
   },
   {
    "duration": 0,
    "start_time": "2023-09-12T16:36:22.621Z"
   },
   {
    "duration": 0,
    "start_time": "2023-09-12T16:36:22.622Z"
   },
   {
    "duration": 0,
    "start_time": "2023-09-12T16:36:22.623Z"
   },
   {
    "duration": 0,
    "start_time": "2023-09-12T16:36:22.737Z"
   },
   {
    "duration": 1223,
    "start_time": "2023-09-12T16:38:03.870Z"
   },
   {
    "duration": 1179,
    "start_time": "2023-09-12T16:40:22.713Z"
   },
   {
    "duration": 1493,
    "start_time": "2023-09-12T16:41:04.987Z"
   },
   {
    "duration": 873,
    "start_time": "2023-09-12T16:41:06.482Z"
   },
   {
    "duration": 20,
    "start_time": "2023-09-12T16:41:07.361Z"
   },
   {
    "duration": 12,
    "start_time": "2023-09-12T16:41:07.383Z"
   },
   {
    "duration": 16,
    "start_time": "2023-09-12T16:41:07.396Z"
   },
   {
    "duration": 8,
    "start_time": "2023-09-12T16:41:07.414Z"
   },
   {
    "duration": 29,
    "start_time": "2023-09-12T16:41:07.423Z"
   },
   {
    "duration": 740,
    "start_time": "2023-09-12T16:41:07.454Z"
   },
   {
    "duration": 74,
    "start_time": "2023-09-12T16:41:08.196Z"
   },
   {
    "duration": 313,
    "start_time": "2023-09-12T16:41:08.272Z"
   },
   {
    "duration": 10,
    "start_time": "2023-09-12T16:41:08.586Z"
   },
   {
    "duration": 882,
    "start_time": "2023-09-12T16:41:08.598Z"
   },
   {
    "duration": 71,
    "start_time": "2023-09-12T16:41:09.482Z"
   },
   {
    "duration": 236,
    "start_time": "2023-09-12T16:41:09.555Z"
   },
   {
    "duration": 228,
    "start_time": "2023-09-12T16:41:09.793Z"
   },
   {
    "duration": 18,
    "start_time": "2023-09-12T16:41:10.023Z"
   },
   {
    "duration": 253,
    "start_time": "2023-09-12T16:41:10.053Z"
   },
   {
    "duration": 190,
    "start_time": "2023-09-12T16:41:10.308Z"
   },
   {
    "duration": 16,
    "start_time": "2023-09-12T16:41:10.500Z"
   },
   {
    "duration": 1281,
    "start_time": "2023-09-12T16:41:10.518Z"
   },
   {
    "duration": 15,
    "start_time": "2023-09-12T16:41:11.801Z"
   },
   {
    "duration": 1319,
    "start_time": "2023-09-12T16:41:11.817Z"
   },
   {
    "duration": 26,
    "start_time": "2023-09-12T16:41:13.138Z"
   },
   {
    "duration": 1471,
    "start_time": "2023-09-12T16:41:13.166Z"
   },
   {
    "duration": 653,
    "start_time": "2023-09-12T16:41:14.639Z"
   },
   {
    "duration": 4,
    "start_time": "2023-09-12T16:41:15.293Z"
   },
   {
    "duration": 11,
    "start_time": "2023-09-12T16:41:15.299Z"
   },
   {
    "duration": 16,
    "start_time": "2023-09-12T16:41:15.313Z"
   },
   {
    "duration": 11,
    "start_time": "2023-09-12T16:41:15.331Z"
   },
   {
    "duration": 1894,
    "start_time": "2023-09-12T16:41:15.344Z"
   },
   {
    "duration": 17,
    "start_time": "2023-09-12T16:41:17.239Z"
   },
   {
    "duration": 110,
    "start_time": "2023-09-12T16:41:17.257Z"
   },
   {
    "duration": 6,
    "start_time": "2023-09-12T16:41:17.368Z"
   },
   {
    "duration": 10,
    "start_time": "2023-09-12T16:41:17.375Z"
   },
   {
    "duration": 13,
    "start_time": "2023-09-12T16:41:17.386Z"
   },
   {
    "duration": 15,
    "start_time": "2023-09-12T16:41:17.401Z"
   },
   {
    "duration": 20,
    "start_time": "2023-09-12T16:41:17.418Z"
   },
   {
    "duration": 20,
    "start_time": "2023-09-12T16:41:17.439Z"
   },
   {
    "duration": 109,
    "start_time": "2023-09-12T16:41:17.461Z"
   },
   {
    "duration": 0,
    "start_time": "2023-09-12T16:41:17.572Z"
   },
   {
    "duration": 0,
    "start_time": "2023-09-12T16:41:17.573Z"
   },
   {
    "duration": 0,
    "start_time": "2023-09-12T16:41:17.574Z"
   },
   {
    "duration": 0,
    "start_time": "2023-09-12T16:41:17.575Z"
   },
   {
    "duration": 0,
    "start_time": "2023-09-12T16:41:17.577Z"
   },
   {
    "duration": 0,
    "start_time": "2023-09-12T16:41:17.577Z"
   },
   {
    "duration": 14,
    "start_time": "2023-09-12T16:42:05.724Z"
   },
   {
    "duration": 15,
    "start_time": "2023-09-12T16:44:08.968Z"
   },
   {
    "duration": 737,
    "start_time": "2023-09-12T16:47:50.568Z"
   },
   {
    "duration": 725,
    "start_time": "2023-09-12T16:48:11.961Z"
   },
   {
    "duration": 4,
    "start_time": "2023-09-12T16:51:41.996Z"
   },
   {
    "duration": 1324,
    "start_time": "2023-09-12T16:57:36.594Z"
   },
   {
    "duration": 1262,
    "start_time": "2023-09-12T16:57:37.920Z"
   },
   {
    "duration": 72,
    "start_time": "2023-09-12T16:57:39.184Z"
   },
   {
    "duration": 16,
    "start_time": "2023-09-12T16:57:39.263Z"
   },
   {
    "duration": 17,
    "start_time": "2023-09-12T16:57:39.280Z"
   },
   {
    "duration": 70,
    "start_time": "2023-09-12T16:57:39.298Z"
   },
   {
    "duration": 12,
    "start_time": "2023-09-12T16:57:39.369Z"
   },
   {
    "duration": 703,
    "start_time": "2023-09-12T16:57:39.383Z"
   },
   {
    "duration": 75,
    "start_time": "2023-09-12T16:57:40.088Z"
   },
   {
    "duration": 245,
    "start_time": "2023-09-12T16:57:40.165Z"
   },
   {
    "duration": 9,
    "start_time": "2023-09-12T16:57:40.412Z"
   },
   {
    "duration": 388,
    "start_time": "2023-09-12T16:57:40.423Z"
   },
   {
    "duration": 17,
    "start_time": "2023-09-12T16:57:40.813Z"
   },
   {
    "duration": 153,
    "start_time": "2023-09-12T16:57:40.832Z"
   },
   {
    "duration": 185,
    "start_time": "2023-09-12T16:57:40.987Z"
   },
   {
    "duration": 21,
    "start_time": "2023-09-12T16:57:41.173Z"
   },
   {
    "duration": 263,
    "start_time": "2023-09-12T16:57:41.196Z"
   },
   {
    "duration": 181,
    "start_time": "2023-09-12T16:57:41.460Z"
   },
   {
    "duration": 22,
    "start_time": "2023-09-12T16:57:41.643Z"
   },
   {
    "duration": 1224,
    "start_time": "2023-09-12T16:57:41.667Z"
   },
   {
    "duration": 15,
    "start_time": "2023-09-12T16:57:42.893Z"
   },
   {
    "duration": 1291,
    "start_time": "2023-09-12T16:57:42.909Z"
   },
   {
    "duration": 16,
    "start_time": "2023-09-12T16:57:44.201Z"
   },
   {
    "duration": 1367,
    "start_time": "2023-09-12T16:57:44.218Z"
   },
   {
    "duration": 12,
    "start_time": "2023-09-12T16:57:45.587Z"
   },
   {
    "duration": 773,
    "start_time": "2023-09-12T16:57:45.601Z"
   },
   {
    "duration": 8,
    "start_time": "2023-09-12T16:57:46.376Z"
   },
   {
    "duration": 6,
    "start_time": "2023-09-12T16:57:46.385Z"
   },
   {
    "duration": 9,
    "start_time": "2023-09-12T16:57:46.393Z"
   },
   {
    "duration": 1669,
    "start_time": "2023-09-12T16:57:46.404Z"
   },
   {
    "duration": 5,
    "start_time": "2023-09-12T16:57:48.075Z"
   },
   {
    "duration": 17,
    "start_time": "2023-09-12T16:57:48.082Z"
   },
   {
    "duration": 9,
    "start_time": "2023-09-12T16:57:48.100Z"
   },
   {
    "duration": 15,
    "start_time": "2023-09-12T16:57:48.111Z"
   },
   {
    "duration": 20,
    "start_time": "2023-09-12T16:57:48.128Z"
   },
   {
    "duration": 13,
    "start_time": "2023-09-12T16:57:48.149Z"
   },
   {
    "duration": 21,
    "start_time": "2023-09-12T16:57:48.164Z"
   },
   {
    "duration": 20,
    "start_time": "2023-09-12T16:57:48.186Z"
   },
   {
    "duration": 108,
    "start_time": "2023-09-12T16:57:48.207Z"
   },
   {
    "duration": 0,
    "start_time": "2023-09-12T16:57:48.317Z"
   },
   {
    "duration": 0,
    "start_time": "2023-09-12T16:57:48.318Z"
   },
   {
    "duration": 0,
    "start_time": "2023-09-12T16:57:48.319Z"
   },
   {
    "duration": 0,
    "start_time": "2023-09-12T16:57:48.320Z"
   },
   {
    "duration": 0,
    "start_time": "2023-09-12T16:57:48.427Z"
   },
   {
    "duration": 0,
    "start_time": "2023-09-12T16:57:48.428Z"
   },
   {
    "duration": 12,
    "start_time": "2023-09-12T17:14:53.883Z"
   },
   {
    "duration": 11,
    "start_time": "2023-09-12T17:18:54.414Z"
   },
   {
    "duration": 20,
    "start_time": "2023-09-12T17:28:06.539Z"
   },
   {
    "duration": 16,
    "start_time": "2023-09-12T17:28:39.227Z"
   },
   {
    "duration": 26,
    "start_time": "2023-09-12T17:28:53.936Z"
   },
   {
    "duration": 32,
    "start_time": "2023-09-12T17:30:14.227Z"
   },
   {
    "duration": 9,
    "start_time": "2023-09-12T17:30:16.801Z"
   },
   {
    "duration": 9,
    "start_time": "2023-09-12T17:31:37.012Z"
   },
   {
    "duration": 9,
    "start_time": "2023-09-12T17:32:59.598Z"
   },
   {
    "duration": 12,
    "start_time": "2023-09-12T17:34:05.232Z"
   },
   {
    "duration": 1371,
    "start_time": "2023-09-12T17:37:10.628Z"
   },
   {
    "duration": 915,
    "start_time": "2023-09-12T17:37:12.001Z"
   },
   {
    "duration": 18,
    "start_time": "2023-09-12T17:37:12.918Z"
   },
   {
    "duration": 27,
    "start_time": "2023-09-12T17:37:12.938Z"
   },
   {
    "duration": 16,
    "start_time": "2023-09-12T17:37:12.966Z"
   },
   {
    "duration": 8,
    "start_time": "2023-09-12T17:37:12.984Z"
   },
   {
    "duration": 19,
    "start_time": "2023-09-12T17:37:12.993Z"
   },
   {
    "duration": 550,
    "start_time": "2023-09-12T17:37:13.014Z"
   },
   {
    "duration": 17,
    "start_time": "2023-09-12T17:37:13.565Z"
   },
   {
    "duration": 286,
    "start_time": "2023-09-12T17:37:13.584Z"
   },
   {
    "duration": 9,
    "start_time": "2023-09-12T17:37:13.872Z"
   },
   {
    "duration": 710,
    "start_time": "2023-09-12T17:37:13.882Z"
   },
   {
    "duration": 69,
    "start_time": "2023-09-12T17:37:14.593Z"
   },
   {
    "duration": 226,
    "start_time": "2023-09-12T17:37:14.666Z"
   },
   {
    "duration": 296,
    "start_time": "2023-09-12T17:37:14.893Z"
   },
   {
    "duration": 16,
    "start_time": "2023-09-12T17:37:15.191Z"
   },
   {
    "duration": 247,
    "start_time": "2023-09-12T17:37:15.209Z"
   },
   {
    "duration": 159,
    "start_time": "2023-09-12T17:37:15.460Z"
   },
   {
    "duration": 14,
    "start_time": "2023-09-12T17:37:15.620Z"
   },
   {
    "duration": 1239,
    "start_time": "2023-09-12T17:37:15.636Z"
   },
   {
    "duration": 14,
    "start_time": "2023-09-12T17:37:16.876Z"
   },
   {
    "duration": 1321,
    "start_time": "2023-09-12T17:37:16.891Z"
   },
   {
    "duration": 17,
    "start_time": "2023-09-12T17:37:18.214Z"
   },
   {
    "duration": 1304,
    "start_time": "2023-09-12T17:37:18.233Z"
   },
   {
    "duration": 22,
    "start_time": "2023-09-12T17:37:19.539Z"
   },
   {
    "duration": 639,
    "start_time": "2023-09-12T17:37:19.563Z"
   },
   {
    "duration": 4,
    "start_time": "2023-09-12T17:37:20.203Z"
   },
   {
    "duration": 22,
    "start_time": "2023-09-12T17:37:20.208Z"
   },
   {
    "duration": 29,
    "start_time": "2023-09-12T17:37:20.231Z"
   },
   {
    "duration": 1611,
    "start_time": "2023-09-12T17:37:20.261Z"
   },
   {
    "duration": 5,
    "start_time": "2023-09-12T17:37:21.873Z"
   },
   {
    "duration": 29,
    "start_time": "2023-09-12T17:37:21.879Z"
   },
   {
    "duration": 16,
    "start_time": "2023-09-12T17:37:21.909Z"
   },
   {
    "duration": 23,
    "start_time": "2023-09-12T17:37:21.926Z"
   },
   {
    "duration": 18,
    "start_time": "2023-09-12T17:37:21.951Z"
   },
   {
    "duration": 122,
    "start_time": "2023-09-12T17:37:21.971Z"
   },
   {
    "duration": 0,
    "start_time": "2023-09-12T17:37:22.095Z"
   },
   {
    "duration": 0,
    "start_time": "2023-09-12T17:37:22.096Z"
   },
   {
    "duration": 0,
    "start_time": "2023-09-12T17:37:22.098Z"
   },
   {
    "duration": 0,
    "start_time": "2023-09-12T17:37:22.100Z"
   },
   {
    "duration": 0,
    "start_time": "2023-09-12T17:37:22.101Z"
   },
   {
    "duration": 0,
    "start_time": "2023-09-12T17:37:22.102Z"
   },
   {
    "duration": 0,
    "start_time": "2023-09-12T17:37:22.104Z"
   },
   {
    "duration": 0,
    "start_time": "2023-09-12T17:37:22.105Z"
   },
   {
    "duration": 36,
    "start_time": "2023-09-12T17:37:25.225Z"
   },
   {
    "duration": 34,
    "start_time": "2023-09-12T17:37:45.665Z"
   },
   {
    "duration": 30,
    "start_time": "2023-09-12T17:38:16.666Z"
   },
   {
    "duration": 1405,
    "start_time": "2023-09-12T17:38:22.728Z"
   },
   {
    "duration": 862,
    "start_time": "2023-09-12T17:38:24.135Z"
   },
   {
    "duration": 67,
    "start_time": "2023-09-12T17:38:24.998Z"
   },
   {
    "duration": 11,
    "start_time": "2023-09-12T17:38:25.068Z"
   },
   {
    "duration": 74,
    "start_time": "2023-09-12T17:38:25.081Z"
   },
   {
    "duration": 12,
    "start_time": "2023-09-12T17:38:25.157Z"
   },
   {
    "duration": 83,
    "start_time": "2023-09-12T17:38:25.170Z"
   },
   {
    "duration": 739,
    "start_time": "2023-09-12T17:38:25.256Z"
   },
   {
    "duration": 23,
    "start_time": "2023-09-12T17:38:26.050Z"
   },
   {
    "duration": 399,
    "start_time": "2023-09-12T17:38:26.075Z"
   },
   {
    "duration": 11,
    "start_time": "2023-09-12T17:38:26.476Z"
   },
   {
    "duration": 711,
    "start_time": "2023-09-12T17:38:26.488Z"
   },
   {
    "duration": 17,
    "start_time": "2023-09-12T17:38:27.200Z"
   },
   {
    "duration": 147,
    "start_time": "2023-09-12T17:38:27.219Z"
   },
   {
    "duration": 177,
    "start_time": "2023-09-12T17:38:27.367Z"
   },
   {
    "duration": 28,
    "start_time": "2023-09-12T17:38:27.546Z"
   },
   {
    "duration": 245,
    "start_time": "2023-09-12T17:38:27.576Z"
   },
   {
    "duration": 183,
    "start_time": "2023-09-12T17:38:27.822Z"
   },
   {
    "duration": 16,
    "start_time": "2023-09-12T17:38:28.007Z"
   },
   {
    "duration": 1290,
    "start_time": "2023-09-12T17:38:28.024Z"
   },
   {
    "duration": 14,
    "start_time": "2023-09-12T17:38:29.315Z"
   },
   {
    "duration": 1305,
    "start_time": "2023-09-12T17:38:29.331Z"
   },
   {
    "duration": 21,
    "start_time": "2023-09-12T17:38:30.638Z"
   },
   {
    "duration": 1426,
    "start_time": "2023-09-12T17:38:30.665Z"
   },
   {
    "duration": 13,
    "start_time": "2023-09-12T17:38:32.092Z"
   },
   {
    "duration": 713,
    "start_time": "2023-09-12T17:38:32.107Z"
   },
   {
    "duration": 4,
    "start_time": "2023-09-12T17:38:32.821Z"
   },
   {
    "duration": 8,
    "start_time": "2023-09-12T17:38:32.828Z"
   },
   {
    "duration": 13,
    "start_time": "2023-09-12T17:38:32.837Z"
   },
   {
    "duration": 1617,
    "start_time": "2023-09-12T17:38:32.851Z"
   },
   {
    "duration": 5,
    "start_time": "2023-09-12T17:38:34.469Z"
   },
   {
    "duration": 24,
    "start_time": "2023-09-12T17:38:34.475Z"
   },
   {
    "duration": 18,
    "start_time": "2023-09-12T17:38:34.500Z"
   },
   {
    "duration": 12,
    "start_time": "2023-09-12T17:38:34.519Z"
   },
   {
    "duration": 32,
    "start_time": "2023-09-12T17:38:34.533Z"
   },
   {
    "duration": 241,
    "start_time": "2023-09-12T17:38:34.566Z"
   },
   {
    "duration": 0,
    "start_time": "2023-09-12T17:38:34.809Z"
   },
   {
    "duration": 0,
    "start_time": "2023-09-12T17:38:34.810Z"
   },
   {
    "duration": 0,
    "start_time": "2023-09-12T17:38:34.811Z"
   },
   {
    "duration": 0,
    "start_time": "2023-09-12T17:38:34.812Z"
   },
   {
    "duration": 0,
    "start_time": "2023-09-12T17:38:34.813Z"
   },
   {
    "duration": 0,
    "start_time": "2023-09-12T17:38:34.814Z"
   },
   {
    "duration": 0,
    "start_time": "2023-09-12T17:38:34.815Z"
   },
   {
    "duration": 30,
    "start_time": "2023-09-12T17:41:23.707Z"
   },
   {
    "duration": 0,
    "start_time": "2023-09-12T17:41:58.985Z"
   },
   {
    "duration": 0,
    "start_time": "2023-09-12T17:41:58.986Z"
   },
   {
    "duration": 0,
    "start_time": "2023-09-12T17:41:58.988Z"
   },
   {
    "duration": 0,
    "start_time": "2023-09-12T17:41:58.989Z"
   },
   {
    "duration": 0,
    "start_time": "2023-09-12T17:41:58.991Z"
   },
   {
    "duration": 0,
    "start_time": "2023-09-12T17:41:58.992Z"
   },
   {
    "duration": 0,
    "start_time": "2023-09-12T17:41:58.994Z"
   },
   {
    "duration": 0,
    "start_time": "2023-09-12T17:41:58.995Z"
   },
   {
    "duration": 0,
    "start_time": "2023-09-12T17:41:58.996Z"
   },
   {
    "duration": 1,
    "start_time": "2023-09-12T17:41:58.997Z"
   },
   {
    "duration": 0,
    "start_time": "2023-09-12T17:41:58.999Z"
   },
   {
    "duration": 0,
    "start_time": "2023-09-12T17:41:59.000Z"
   },
   {
    "duration": 0,
    "start_time": "2023-09-12T17:41:59.002Z"
   },
   {
    "duration": 0,
    "start_time": "2023-09-12T17:41:59.003Z"
   },
   {
    "duration": 0,
    "start_time": "2023-09-12T17:41:59.050Z"
   },
   {
    "duration": 0,
    "start_time": "2023-09-12T17:41:59.051Z"
   },
   {
    "duration": 0,
    "start_time": "2023-09-12T17:41:59.052Z"
   },
   {
    "duration": 0,
    "start_time": "2023-09-12T17:41:59.053Z"
   },
   {
    "duration": 0,
    "start_time": "2023-09-12T17:41:59.054Z"
   },
   {
    "duration": 0,
    "start_time": "2023-09-12T17:41:59.055Z"
   },
   {
    "duration": 0,
    "start_time": "2023-09-12T17:41:59.055Z"
   },
   {
    "duration": 0,
    "start_time": "2023-09-12T17:41:59.056Z"
   },
   {
    "duration": 0,
    "start_time": "2023-09-12T17:41:59.057Z"
   },
   {
    "duration": 0,
    "start_time": "2023-09-12T17:41:59.058Z"
   },
   {
    "duration": 0,
    "start_time": "2023-09-12T17:41:59.059Z"
   },
   {
    "duration": 0,
    "start_time": "2023-09-12T17:41:59.060Z"
   },
   {
    "duration": 0,
    "start_time": "2023-09-12T17:41:59.061Z"
   },
   {
    "duration": 0,
    "start_time": "2023-09-12T17:41:59.062Z"
   },
   {
    "duration": 0,
    "start_time": "2023-09-12T17:41:59.062Z"
   },
   {
    "duration": 0,
    "start_time": "2023-09-12T17:41:59.063Z"
   },
   {
    "duration": 0,
    "start_time": "2023-09-12T17:41:59.064Z"
   },
   {
    "duration": 0,
    "start_time": "2023-09-12T17:41:59.065Z"
   },
   {
    "duration": 0,
    "start_time": "2023-09-12T17:41:59.066Z"
   },
   {
    "duration": 0,
    "start_time": "2023-09-12T17:41:59.068Z"
   },
   {
    "duration": 0,
    "start_time": "2023-09-12T17:41:59.069Z"
   },
   {
    "duration": 0,
    "start_time": "2023-09-12T17:41:59.071Z"
   },
   {
    "duration": 0,
    "start_time": "2023-09-12T17:41:59.073Z"
   },
   {
    "duration": 0,
    "start_time": "2023-09-12T17:41:59.074Z"
   },
   {
    "duration": 0,
    "start_time": "2023-09-12T17:41:59.075Z"
   },
   {
    "duration": 0,
    "start_time": "2023-09-12T17:41:59.076Z"
   },
   {
    "duration": 0,
    "start_time": "2023-09-12T17:41:59.077Z"
   },
   {
    "duration": 0,
    "start_time": "2023-09-12T17:41:59.078Z"
   },
   {
    "duration": 0,
    "start_time": "2023-09-12T17:41:59.079Z"
   },
   {
    "duration": 33,
    "start_time": "2023-09-12T17:42:39.461Z"
   },
   {
    "duration": 3,
    "start_time": "2023-09-12T17:42:42.675Z"
   },
   {
    "duration": 4,
    "start_time": "2023-09-12T17:42:45.900Z"
   },
   {
    "duration": 1338,
    "start_time": "2023-09-12T17:42:51.300Z"
   },
   {
    "duration": 851,
    "start_time": "2023-09-12T17:42:52.640Z"
   },
   {
    "duration": 19,
    "start_time": "2023-09-12T17:42:53.493Z"
   },
   {
    "duration": 13,
    "start_time": "2023-09-12T17:42:53.513Z"
   },
   {
    "duration": 37,
    "start_time": "2023-09-12T17:42:53.528Z"
   },
   {
    "duration": 7,
    "start_time": "2023-09-12T17:42:53.567Z"
   },
   {
    "duration": 10,
    "start_time": "2023-09-12T17:42:53.576Z"
   },
   {
    "duration": 337,
    "start_time": "2023-09-12T17:42:53.587Z"
   },
   {
    "duration": 33,
    "start_time": "2023-09-12T17:42:53.925Z"
   },
   {
    "duration": 128,
    "start_time": "2023-09-12T17:42:53.961Z"
   },
   {
    "duration": 9,
    "start_time": "2023-09-12T17:42:54.091Z"
   },
   {
    "duration": 337,
    "start_time": "2023-09-12T17:42:54.101Z"
   },
   {
    "duration": 24,
    "start_time": "2023-09-12T17:42:54.440Z"
   },
   {
    "duration": 133,
    "start_time": "2023-09-12T17:42:54.467Z"
   },
   {
    "duration": 182,
    "start_time": "2023-09-12T17:42:54.601Z"
   },
   {
    "duration": 15,
    "start_time": "2023-09-12T17:42:54.785Z"
   },
   {
    "duration": 241,
    "start_time": "2023-09-12T17:42:54.802Z"
   },
   {
    "duration": 172,
    "start_time": "2023-09-12T17:42:55.044Z"
   },
   {
    "duration": 15,
    "start_time": "2023-09-12T17:42:55.217Z"
   },
   {
    "duration": 1346,
    "start_time": "2023-09-12T17:42:55.234Z"
   },
   {
    "duration": 13,
    "start_time": "2023-09-12T17:42:56.582Z"
   },
   {
    "duration": 1404,
    "start_time": "2023-09-12T17:42:56.596Z"
   },
   {
    "duration": 16,
    "start_time": "2023-09-12T17:42:58.001Z"
   },
   {
    "duration": 1549,
    "start_time": "2023-09-12T17:42:58.018Z"
   },
   {
    "duration": 17,
    "start_time": "2023-09-12T17:42:59.569Z"
   },
   {
    "duration": 1463,
    "start_time": "2023-09-12T17:42:59.587Z"
   },
   {
    "duration": 8,
    "start_time": "2023-09-12T17:43:01.052Z"
   },
   {
    "duration": 293,
    "start_time": "2023-09-12T17:43:01.066Z"
   },
   {
    "duration": 82,
    "start_time": "2023-09-12T17:43:01.361Z"
   },
   {
    "duration": 1645,
    "start_time": "2023-09-12T17:43:01.445Z"
   },
   {
    "duration": 4,
    "start_time": "2023-09-12T17:43:03.092Z"
   },
   {
    "duration": 22,
    "start_time": "2023-09-12T17:43:03.098Z"
   },
   {
    "duration": 20,
    "start_time": "2023-09-12T17:43:03.122Z"
   },
   {
    "duration": 18,
    "start_time": "2023-09-12T17:43:03.143Z"
   },
   {
    "duration": 19,
    "start_time": "2023-09-12T17:43:03.162Z"
   },
   {
    "duration": 252,
    "start_time": "2023-09-12T17:43:03.183Z"
   },
   {
    "duration": 0,
    "start_time": "2023-09-12T17:43:03.437Z"
   },
   {
    "duration": 0,
    "start_time": "2023-09-12T17:43:03.438Z"
   },
   {
    "duration": 0,
    "start_time": "2023-09-12T17:43:03.455Z"
   },
   {
    "duration": 0,
    "start_time": "2023-09-12T17:43:03.456Z"
   },
   {
    "duration": 0,
    "start_time": "2023-09-12T17:43:03.457Z"
   },
   {
    "duration": 0,
    "start_time": "2023-09-12T17:43:03.458Z"
   },
   {
    "duration": 0,
    "start_time": "2023-09-12T17:43:03.461Z"
   },
   {
    "duration": 30,
    "start_time": "2023-09-12T17:43:29.863Z"
   },
   {
    "duration": 25,
    "start_time": "2023-09-12T17:43:46.939Z"
   },
   {
    "duration": 11,
    "start_time": "2023-09-12T17:43:49.388Z"
   },
   {
    "duration": 4,
    "start_time": "2023-09-12T17:43:53.023Z"
   },
   {
    "duration": 12,
    "start_time": "2023-09-12T17:47:22.547Z"
   },
   {
    "duration": 13,
    "start_time": "2023-09-12T17:47:54.108Z"
   },
   {
    "duration": 1388,
    "start_time": "2023-09-12T17:50:25.320Z"
   },
   {
    "duration": 851,
    "start_time": "2023-09-12T17:50:26.710Z"
   },
   {
    "duration": 19,
    "start_time": "2023-09-12T17:50:27.562Z"
   },
   {
    "duration": 13,
    "start_time": "2023-09-12T17:50:27.583Z"
   },
   {
    "duration": 21,
    "start_time": "2023-09-12T17:50:27.598Z"
   },
   {
    "duration": 10,
    "start_time": "2023-09-12T17:50:27.621Z"
   },
   {
    "duration": 36,
    "start_time": "2023-09-12T17:50:27.632Z"
   },
   {
    "duration": 337,
    "start_time": "2023-09-12T17:50:27.670Z"
   },
   {
    "duration": 16,
    "start_time": "2023-09-12T17:50:28.008Z"
   },
   {
    "duration": 154,
    "start_time": "2023-09-12T17:50:28.026Z"
   },
   {
    "duration": 11,
    "start_time": "2023-09-12T17:50:28.182Z"
   },
   {
    "duration": 339,
    "start_time": "2023-09-12T17:50:28.195Z"
   },
   {
    "duration": 25,
    "start_time": "2023-09-12T17:50:28.535Z"
   },
   {
    "duration": 135,
    "start_time": "2023-09-12T17:50:28.564Z"
   },
   {
    "duration": 178,
    "start_time": "2023-09-12T17:50:28.700Z"
   },
   {
    "duration": 17,
    "start_time": "2023-09-12T17:50:28.880Z"
   },
   {
    "duration": 263,
    "start_time": "2023-09-12T17:50:28.898Z"
   },
   {
    "duration": 165,
    "start_time": "2023-09-12T17:50:29.163Z"
   },
   {
    "duration": 33,
    "start_time": "2023-09-12T17:50:29.329Z"
   },
   {
    "duration": 1230,
    "start_time": "2023-09-12T17:50:29.364Z"
   },
   {
    "duration": 15,
    "start_time": "2023-09-12T17:50:30.596Z"
   },
   {
    "duration": 1319,
    "start_time": "2023-09-12T17:50:30.613Z"
   },
   {
    "duration": 20,
    "start_time": "2023-09-12T17:50:31.934Z"
   },
   {
    "duration": 1355,
    "start_time": "2023-09-12T17:50:31.956Z"
   },
   {
    "duration": 13,
    "start_time": "2023-09-12T17:50:33.313Z"
   },
   {
    "duration": 1324,
    "start_time": "2023-09-12T17:50:33.327Z"
   },
   {
    "duration": 9,
    "start_time": "2023-09-12T17:50:34.658Z"
   },
   {
    "duration": 5,
    "start_time": "2023-09-12T17:50:34.668Z"
   },
   {
    "duration": 7,
    "start_time": "2023-09-12T17:50:34.674Z"
   },
   {
    "duration": 1958,
    "start_time": "2023-09-12T17:50:34.683Z"
   },
   {
    "duration": 7,
    "start_time": "2023-09-12T17:50:36.643Z"
   },
   {
    "duration": 11,
    "start_time": "2023-09-12T17:50:36.651Z"
   },
   {
    "duration": 5,
    "start_time": "2023-09-12T17:50:36.663Z"
   },
   {
    "duration": 9,
    "start_time": "2023-09-12T17:50:36.669Z"
   },
   {
    "duration": 13,
    "start_time": "2023-09-12T17:50:36.679Z"
   },
   {
    "duration": 135,
    "start_time": "2023-09-12T17:50:36.693Z"
   },
   {
    "duration": 26,
    "start_time": "2023-09-12T17:50:36.829Z"
   },
   {
    "duration": 5,
    "start_time": "2023-09-12T17:50:36.861Z"
   },
   {
    "duration": 7,
    "start_time": "2023-09-12T17:50:36.867Z"
   },
   {
    "duration": 117,
    "start_time": "2023-09-12T17:50:36.875Z"
   },
   {
    "duration": 0,
    "start_time": "2023-09-12T17:50:36.994Z"
   },
   {
    "duration": 0,
    "start_time": "2023-09-12T17:50:36.996Z"
   },
   {
    "duration": 0,
    "start_time": "2023-09-12T17:50:36.997Z"
   },
   {
    "duration": 11,
    "start_time": "2023-09-12T17:52:04.194Z"
   },
   {
    "duration": 11,
    "start_time": "2023-09-12T17:52:28.593Z"
   },
   {
    "duration": 592,
    "start_time": "2023-09-12T17:52:43.772Z"
   },
   {
    "duration": 508,
    "start_time": "2023-09-12T17:57:25.060Z"
   },
   {
    "duration": 484,
    "start_time": "2023-09-12T18:02:43.088Z"
   },
   {
    "duration": 1467,
    "start_time": "2023-09-12T18:04:31.980Z"
   },
   {
    "duration": 859,
    "start_time": "2023-09-12T18:04:33.451Z"
   },
   {
    "duration": 18,
    "start_time": "2023-09-12T18:04:34.312Z"
   },
   {
    "duration": 31,
    "start_time": "2023-09-12T18:04:34.332Z"
   },
   {
    "duration": 16,
    "start_time": "2023-09-12T18:04:34.365Z"
   },
   {
    "duration": 7,
    "start_time": "2023-09-12T18:04:34.382Z"
   },
   {
    "duration": 25,
    "start_time": "2023-09-12T18:04:34.391Z"
   },
   {
    "duration": 364,
    "start_time": "2023-09-12T18:04:34.417Z"
   },
   {
    "duration": 18,
    "start_time": "2023-09-12T18:04:34.782Z"
   },
   {
    "duration": 140,
    "start_time": "2023-09-12T18:04:34.803Z"
   },
   {
    "duration": 18,
    "start_time": "2023-09-12T18:04:34.953Z"
   },
   {
    "duration": 334,
    "start_time": "2023-09-12T18:04:34.972Z"
   },
   {
    "duration": 15,
    "start_time": "2023-09-12T18:04:35.308Z"
   },
   {
    "duration": 143,
    "start_time": "2023-09-12T18:04:35.324Z"
   },
   {
    "duration": 190,
    "start_time": "2023-09-12T18:04:35.469Z"
   },
   {
    "duration": 17,
    "start_time": "2023-09-12T18:04:35.660Z"
   },
   {
    "duration": 258,
    "start_time": "2023-09-12T18:04:35.679Z"
   },
   {
    "duration": 236,
    "start_time": "2023-09-12T18:04:35.938Z"
   },
   {
    "duration": 19,
    "start_time": "2023-09-12T18:04:36.176Z"
   },
   {
    "duration": 1324,
    "start_time": "2023-09-12T18:04:36.196Z"
   },
   {
    "duration": 17,
    "start_time": "2023-09-12T18:04:37.521Z"
   },
   {
    "duration": 1291,
    "start_time": "2023-09-12T18:04:37.549Z"
   },
   {
    "duration": 19,
    "start_time": "2023-09-12T18:04:38.842Z"
   },
   {
    "duration": 1402,
    "start_time": "2023-09-12T18:04:38.862Z"
   },
   {
    "duration": 14,
    "start_time": "2023-09-12T18:04:40.265Z"
   },
   {
    "duration": 648,
    "start_time": "2023-09-12T18:04:40.280Z"
   },
   {
    "duration": 4,
    "start_time": "2023-09-12T18:04:40.930Z"
   },
   {
    "duration": 44,
    "start_time": "2023-09-12T18:04:40.936Z"
   },
   {
    "duration": 20,
    "start_time": "2023-09-12T18:04:40.981Z"
   },
   {
    "duration": 1691,
    "start_time": "2023-09-12T18:04:41.003Z"
   },
   {
    "duration": 5,
    "start_time": "2023-09-12T18:04:42.695Z"
   },
   {
    "duration": 6,
    "start_time": "2023-09-12T18:04:42.701Z"
   },
   {
    "duration": 7,
    "start_time": "2023-09-12T18:04:42.708Z"
   },
   {
    "duration": 22,
    "start_time": "2023-09-12T18:04:42.716Z"
   },
   {
    "duration": 5,
    "start_time": "2023-09-12T18:04:42.740Z"
   },
   {
    "duration": 36,
    "start_time": "2023-09-12T18:04:42.746Z"
   },
   {
    "duration": 12,
    "start_time": "2023-09-12T18:04:42.783Z"
   },
   {
    "duration": 107,
    "start_time": "2023-09-12T18:04:42.797Z"
   },
   {
    "duration": 11,
    "start_time": "2023-09-12T18:04:42.906Z"
   },
   {
    "duration": 754,
    "start_time": "2023-09-12T18:04:42.919Z"
   },
   {
    "duration": 0,
    "start_time": "2023-09-12T18:04:43.675Z"
   },
   {
    "duration": 0,
    "start_time": "2023-09-12T18:04:43.676Z"
   },
   {
    "duration": 0,
    "start_time": "2023-09-12T18:04:43.678Z"
   },
   {
    "duration": 507,
    "start_time": "2023-09-12T18:07:13.264Z"
   },
   {
    "duration": 1438,
    "start_time": "2023-09-12T18:07:30.761Z"
   },
   {
    "duration": 885,
    "start_time": "2023-09-12T18:07:32.201Z"
   },
   {
    "duration": 17,
    "start_time": "2023-09-12T18:07:33.087Z"
   },
   {
    "duration": 12,
    "start_time": "2023-09-12T18:07:33.106Z"
   },
   {
    "duration": 45,
    "start_time": "2023-09-12T18:07:33.120Z"
   },
   {
    "duration": 8,
    "start_time": "2023-09-12T18:07:33.167Z"
   },
   {
    "duration": 6,
    "start_time": "2023-09-12T18:07:33.176Z"
   },
   {
    "duration": 343,
    "start_time": "2023-09-12T18:07:33.183Z"
   },
   {
    "duration": 32,
    "start_time": "2023-09-12T18:07:33.528Z"
   },
   {
    "duration": 133,
    "start_time": "2023-09-12T18:07:33.564Z"
   },
   {
    "duration": 11,
    "start_time": "2023-09-12T18:07:33.698Z"
   },
   {
    "duration": 355,
    "start_time": "2023-09-12T18:07:33.710Z"
   },
   {
    "duration": 16,
    "start_time": "2023-09-12T18:07:34.067Z"
   },
   {
    "duration": 292,
    "start_time": "2023-09-12T18:07:34.086Z"
   },
   {
    "duration": 416,
    "start_time": "2023-09-12T18:07:34.380Z"
   },
   {
    "duration": 81,
    "start_time": "2023-09-12T18:07:34.798Z"
   },
   {
    "duration": 516,
    "start_time": "2023-09-12T18:07:34.880Z"
   },
   {
    "duration": 388,
    "start_time": "2023-09-12T18:07:35.397Z"
   },
   {
    "duration": 76,
    "start_time": "2023-09-12T18:07:35.787Z"
   },
   {
    "duration": 1438,
    "start_time": "2023-09-12T18:07:35.865Z"
   },
   {
    "duration": 16,
    "start_time": "2023-09-12T18:07:37.305Z"
   },
   {
    "duration": 1314,
    "start_time": "2023-09-12T18:07:37.322Z"
   },
   {
    "duration": 18,
    "start_time": "2023-09-12T18:07:38.638Z"
   },
   {
    "duration": 1532,
    "start_time": "2023-09-12T18:07:38.658Z"
   },
   {
    "duration": 15,
    "start_time": "2023-09-12T18:07:40.192Z"
   },
   {
    "duration": 717,
    "start_time": "2023-09-12T18:07:40.209Z"
   },
   {
    "duration": 4,
    "start_time": "2023-09-12T18:07:40.928Z"
   },
   {
    "duration": 29,
    "start_time": "2023-09-12T18:07:40.934Z"
   },
   {
    "duration": 9,
    "start_time": "2023-09-12T18:07:40.965Z"
   },
   {
    "duration": 1731,
    "start_time": "2023-09-12T18:07:40.976Z"
   },
   {
    "duration": 5,
    "start_time": "2023-09-12T18:07:42.708Z"
   },
   {
    "duration": 11,
    "start_time": "2023-09-12T18:07:42.714Z"
   },
   {
    "duration": 5,
    "start_time": "2023-09-12T18:07:42.726Z"
   },
   {
    "duration": 5,
    "start_time": "2023-09-12T18:07:42.732Z"
   },
   {
    "duration": 10,
    "start_time": "2023-09-12T18:07:42.755Z"
   },
   {
    "duration": 131,
    "start_time": "2023-09-12T18:07:42.766Z"
   },
   {
    "duration": 12,
    "start_time": "2023-09-12T18:07:42.899Z"
   },
   {
    "duration": 27,
    "start_time": "2023-09-12T18:07:42.912Z"
   },
   {
    "duration": 8,
    "start_time": "2023-09-12T18:07:42.940Z"
   },
   {
    "duration": 716,
    "start_time": "2023-09-12T18:07:42.949Z"
   },
   {
    "duration": 0,
    "start_time": "2023-09-12T18:07:43.668Z"
   },
   {
    "duration": 0,
    "start_time": "2023-09-12T18:07:43.669Z"
   },
   {
    "duration": 0,
    "start_time": "2023-09-12T18:07:43.671Z"
   },
   {
    "duration": 229,
    "start_time": "2023-09-12T18:09:15.708Z"
   },
   {
    "duration": 613,
    "start_time": "2023-09-12T18:09:23.051Z"
   },
   {
    "duration": 485,
    "start_time": "2023-09-12T18:10:14.373Z"
   },
   {
    "duration": 1481,
    "start_time": "2023-09-12T18:12:17.132Z"
   },
   {
    "duration": 861,
    "start_time": "2023-09-12T18:12:18.615Z"
   },
   {
    "duration": 18,
    "start_time": "2023-09-12T18:12:19.478Z"
   },
   {
    "duration": 12,
    "start_time": "2023-09-12T18:12:19.497Z"
   },
   {
    "duration": 15,
    "start_time": "2023-09-12T18:12:19.510Z"
   },
   {
    "duration": 36,
    "start_time": "2023-09-12T18:12:19.527Z"
   },
   {
    "duration": 7,
    "start_time": "2023-09-12T18:12:19.566Z"
   },
   {
    "duration": 352,
    "start_time": "2023-09-12T18:12:19.574Z"
   },
   {
    "duration": 36,
    "start_time": "2023-09-12T18:12:19.927Z"
   },
   {
    "duration": 126,
    "start_time": "2023-09-12T18:12:19.965Z"
   },
   {
    "duration": 10,
    "start_time": "2023-09-12T18:12:20.092Z"
   },
   {
    "duration": 321,
    "start_time": "2023-09-12T18:12:20.103Z"
   },
   {
    "duration": 28,
    "start_time": "2023-09-12T18:12:20.425Z"
   },
   {
    "duration": 129,
    "start_time": "2023-09-12T18:12:20.454Z"
   },
   {
    "duration": 182,
    "start_time": "2023-09-12T18:12:20.584Z"
   },
   {
    "duration": 17,
    "start_time": "2023-09-12T18:12:20.767Z"
   },
   {
    "duration": 241,
    "start_time": "2023-09-12T18:12:20.786Z"
   },
   {
    "duration": 164,
    "start_time": "2023-09-12T18:12:21.029Z"
   },
   {
    "duration": 14,
    "start_time": "2023-09-12T18:12:21.194Z"
   },
   {
    "duration": 1672,
    "start_time": "2023-09-12T18:12:21.210Z"
   },
   {
    "duration": 71,
    "start_time": "2023-09-12T18:12:22.883Z"
   },
   {
    "duration": 1608,
    "start_time": "2023-09-12T18:12:22.956Z"
   },
   {
    "duration": 20,
    "start_time": "2023-09-12T18:12:24.566Z"
   },
   {
    "duration": 1278,
    "start_time": "2023-09-12T18:12:24.588Z"
   },
   {
    "duration": 13,
    "start_time": "2023-09-12T18:12:25.867Z"
   },
   {
    "duration": 766,
    "start_time": "2023-09-12T18:12:25.882Z"
   },
   {
    "duration": 5,
    "start_time": "2023-09-12T18:12:26.659Z"
   },
   {
    "duration": 18,
    "start_time": "2023-09-12T18:12:26.668Z"
   },
   {
    "duration": 16,
    "start_time": "2023-09-12T18:12:26.687Z"
   },
   {
    "duration": 1639,
    "start_time": "2023-09-12T18:12:26.704Z"
   },
   {
    "duration": 6,
    "start_time": "2023-09-12T18:12:28.344Z"
   },
   {
    "duration": 5,
    "start_time": "2023-09-12T18:12:28.364Z"
   },
   {
    "duration": 14,
    "start_time": "2023-09-12T18:12:28.370Z"
   },
   {
    "duration": 10,
    "start_time": "2023-09-12T18:12:28.386Z"
   },
   {
    "duration": 9,
    "start_time": "2023-09-12T18:12:28.397Z"
   },
   {
    "duration": 54,
    "start_time": "2023-09-12T18:12:28.408Z"
   },
   {
    "duration": 16,
    "start_time": "2023-09-12T18:12:28.464Z"
   },
   {
    "duration": 103,
    "start_time": "2023-09-12T18:12:28.482Z"
   },
   {
    "duration": 22,
    "start_time": "2023-09-12T18:12:28.587Z"
   },
   {
    "duration": 31934,
    "start_time": "2023-09-12T18:12:28.610Z"
   },
   {
    "duration": 0,
    "start_time": "2023-09-12T18:13:00.552Z"
   },
   {
    "duration": 1,
    "start_time": "2023-09-12T18:13:00.552Z"
   },
   {
    "duration": 0,
    "start_time": "2023-09-12T18:13:00.553Z"
   },
   {
    "duration": 1373,
    "start_time": "2023-09-12T18:16:52.692Z"
   },
   {
    "duration": 858,
    "start_time": "2023-09-12T18:16:54.067Z"
   },
   {
    "duration": 23,
    "start_time": "2023-09-12T18:16:54.926Z"
   },
   {
    "duration": 18,
    "start_time": "2023-09-12T18:16:54.951Z"
   },
   {
    "duration": 23,
    "start_time": "2023-09-12T18:16:54.972Z"
   },
   {
    "duration": 8,
    "start_time": "2023-09-12T18:16:54.997Z"
   },
   {
    "duration": 25,
    "start_time": "2023-09-12T18:16:55.007Z"
   },
   {
    "duration": 349,
    "start_time": "2023-09-12T18:16:55.034Z"
   },
   {
    "duration": 18,
    "start_time": "2023-09-12T18:16:55.384Z"
   },
   {
    "duration": 146,
    "start_time": "2023-09-12T18:16:55.404Z"
   },
   {
    "duration": 18,
    "start_time": "2023-09-12T18:16:55.552Z"
   },
   {
    "duration": 342,
    "start_time": "2023-09-12T18:16:55.572Z"
   },
   {
    "duration": 16,
    "start_time": "2023-09-12T18:16:55.916Z"
   },
   {
    "duration": 172,
    "start_time": "2023-09-12T18:16:55.935Z"
   },
   {
    "duration": 290,
    "start_time": "2023-09-12T18:16:56.109Z"
   },
   {
    "duration": 77,
    "start_time": "2023-09-12T18:16:56.401Z"
   },
   {
    "duration": 511,
    "start_time": "2023-09-12T18:16:56.480Z"
   },
   {
    "duration": 475,
    "start_time": "2023-09-12T18:16:56.993Z"
   },
   {
    "duration": 15,
    "start_time": "2023-09-12T18:16:57.470Z"
   },
   {
    "duration": 1587,
    "start_time": "2023-09-12T18:16:57.487Z"
   },
   {
    "duration": 17,
    "start_time": "2023-09-12T18:16:59.076Z"
   },
   {
    "duration": 1337,
    "start_time": "2023-09-12T18:16:59.095Z"
   },
   {
    "duration": 29,
    "start_time": "2023-09-12T18:17:00.434Z"
   },
   {
    "duration": 1446,
    "start_time": "2023-09-12T18:17:00.465Z"
   },
   {
    "duration": 13,
    "start_time": "2023-09-12T18:17:01.913Z"
   },
   {
    "duration": 754,
    "start_time": "2023-09-12T18:17:01.928Z"
   },
   {
    "duration": 5,
    "start_time": "2023-09-12T18:17:02.684Z"
   },
   {
    "duration": 29,
    "start_time": "2023-09-12T18:17:02.690Z"
   },
   {
    "duration": 19,
    "start_time": "2023-09-12T18:17:02.721Z"
   },
   {
    "duration": 1640,
    "start_time": "2023-09-12T18:17:02.742Z"
   },
   {
    "duration": 5,
    "start_time": "2023-09-12T18:17:04.384Z"
   },
   {
    "duration": 14,
    "start_time": "2023-09-12T18:17:04.391Z"
   },
   {
    "duration": 13,
    "start_time": "2023-09-12T18:17:04.407Z"
   },
   {
    "duration": 10,
    "start_time": "2023-09-12T18:17:04.422Z"
   },
   {
    "duration": 26,
    "start_time": "2023-09-12T18:17:04.434Z"
   },
   {
    "duration": 139,
    "start_time": "2023-09-12T18:17:04.461Z"
   },
   {
    "duration": 12,
    "start_time": "2023-09-12T18:17:04.602Z"
   },
   {
    "duration": 5,
    "start_time": "2023-09-12T18:17:04.616Z"
   },
   {
    "duration": 5,
    "start_time": "2023-09-12T18:17:04.622Z"
   },
   {
    "duration": 725,
    "start_time": "2023-09-12T18:17:04.628Z"
   },
   {
    "duration": 0,
    "start_time": "2023-09-12T18:17:05.357Z"
   },
   {
    "duration": 0,
    "start_time": "2023-09-12T18:17:05.358Z"
   },
   {
    "duration": 0,
    "start_time": "2023-09-12T18:17:05.360Z"
   },
   {
    "duration": 27922,
    "start_time": "2023-09-12T18:18:12.441Z"
   },
   {
    "duration": 3,
    "start_time": "2023-09-12T18:21:32.266Z"
   },
   {
    "duration": 1623,
    "start_time": "2023-09-12T18:21:40.401Z"
   },
   {
    "duration": 858,
    "start_time": "2023-09-12T18:21:42.026Z"
   },
   {
    "duration": 18,
    "start_time": "2023-09-12T18:21:42.885Z"
   },
   {
    "duration": 11,
    "start_time": "2023-09-12T18:21:42.905Z"
   },
   {
    "duration": 42,
    "start_time": "2023-09-12T18:21:42.918Z"
   },
   {
    "duration": 9,
    "start_time": "2023-09-12T18:21:42.962Z"
   },
   {
    "duration": 21,
    "start_time": "2023-09-12T18:21:42.973Z"
   },
   {
    "duration": 568,
    "start_time": "2023-09-12T18:21:42.995Z"
   },
   {
    "duration": 22,
    "start_time": "2023-09-12T18:21:43.568Z"
   },
   {
    "duration": 362,
    "start_time": "2023-09-12T18:21:43.592Z"
   },
   {
    "duration": 14,
    "start_time": "2023-09-12T18:21:43.956Z"
   },
   {
    "duration": 783,
    "start_time": "2023-09-12T18:21:43.972Z"
   },
   {
    "duration": 19,
    "start_time": "2023-09-12T18:21:44.757Z"
   },
   {
    "duration": 294,
    "start_time": "2023-09-12T18:21:44.779Z"
   },
   {
    "duration": 318,
    "start_time": "2023-09-12T18:21:45.074Z"
   },
   {
    "duration": 17,
    "start_time": "2023-09-12T18:21:45.394Z"
   },
   {
    "duration": 259,
    "start_time": "2023-09-12T18:21:45.413Z"
   },
   {
    "duration": 189,
    "start_time": "2023-09-12T18:21:45.674Z"
   },
   {
    "duration": 18,
    "start_time": "2023-09-12T18:21:45.864Z"
   },
   {
    "duration": 1401,
    "start_time": "2023-09-12T18:21:45.884Z"
   },
   {
    "duration": 18,
    "start_time": "2023-09-12T18:21:47.288Z"
   },
   {
    "duration": 1360,
    "start_time": "2023-09-12T18:21:47.308Z"
   },
   {
    "duration": 16,
    "start_time": "2023-09-12T18:21:48.670Z"
   },
   {
    "duration": 1501,
    "start_time": "2023-09-12T18:21:48.688Z"
   },
   {
    "duration": 17,
    "start_time": "2023-09-12T18:21:50.191Z"
   },
   {
    "duration": 757,
    "start_time": "2023-09-12T18:21:50.210Z"
   },
   {
    "duration": 4,
    "start_time": "2023-09-12T18:21:50.969Z"
   },
   {
    "duration": 12,
    "start_time": "2023-09-12T18:21:50.975Z"
   },
   {
    "duration": 13,
    "start_time": "2023-09-12T18:21:50.989Z"
   },
   {
    "duration": 1670,
    "start_time": "2023-09-12T18:21:51.004Z"
   },
   {
    "duration": 6,
    "start_time": "2023-09-12T18:21:52.676Z"
   },
   {
    "duration": 13,
    "start_time": "2023-09-12T18:21:52.684Z"
   },
   {
    "duration": 12,
    "start_time": "2023-09-12T18:21:52.698Z"
   },
   {
    "duration": 5,
    "start_time": "2023-09-12T18:21:52.712Z"
   },
   {
    "duration": 4,
    "start_time": "2023-09-12T18:21:52.718Z"
   },
   {
    "duration": 142,
    "start_time": "2023-09-12T18:21:52.724Z"
   },
   {
    "duration": 12,
    "start_time": "2023-09-12T18:21:52.868Z"
   },
   {
    "duration": 6,
    "start_time": "2023-09-12T18:21:52.881Z"
   },
   {
    "duration": 12,
    "start_time": "2023-09-12T18:21:52.888Z"
   },
   {
    "duration": 661,
    "start_time": "2023-09-12T18:21:52.902Z"
   },
   {
    "duration": 0,
    "start_time": "2023-09-12T18:21:53.565Z"
   },
   {
    "duration": 0,
    "start_time": "2023-09-12T18:21:53.566Z"
   },
   {
    "duration": 0,
    "start_time": "2023-09-12T18:21:53.567Z"
   },
   {
    "duration": 3,
    "start_time": "2023-09-12T18:23:07.074Z"
   },
   {
    "duration": 1429,
    "start_time": "2023-09-12T18:23:13.132Z"
   },
   {
    "duration": 1197,
    "start_time": "2023-09-12T18:23:14.563Z"
   },
   {
    "duration": 26,
    "start_time": "2023-09-12T18:23:15.762Z"
   },
   {
    "duration": 73,
    "start_time": "2023-09-12T18:23:15.790Z"
   },
   {
    "duration": 17,
    "start_time": "2023-09-12T18:23:15.865Z"
   },
   {
    "duration": 75,
    "start_time": "2023-09-12T18:23:15.884Z"
   },
   {
    "duration": 7,
    "start_time": "2023-09-12T18:23:15.962Z"
   },
   {
    "duration": 784,
    "start_time": "2023-09-12T18:23:15.971Z"
   },
   {
    "duration": 19,
    "start_time": "2023-09-12T18:23:16.756Z"
   },
   {
    "duration": 241,
    "start_time": "2023-09-12T18:23:16.776Z"
   },
   {
    "duration": 45,
    "start_time": "2023-09-12T18:23:17.018Z"
   },
   {
    "duration": 318,
    "start_time": "2023-09-12T18:23:17.065Z"
   },
   {
    "duration": 15,
    "start_time": "2023-09-12T18:23:17.384Z"
   },
   {
    "duration": 192,
    "start_time": "2023-09-12T18:23:17.402Z"
   },
   {
    "duration": 363,
    "start_time": "2023-09-12T18:23:17.596Z"
   },
   {
    "duration": 21,
    "start_time": "2023-09-12T18:23:17.960Z"
   },
   {
    "duration": 503,
    "start_time": "2023-09-12T18:23:17.982Z"
   },
   {
    "duration": 382,
    "start_time": "2023-09-12T18:23:18.486Z"
   },
   {
    "duration": 15,
    "start_time": "2023-09-12T18:23:18.869Z"
   },
   {
    "duration": 1614,
    "start_time": "2023-09-12T18:23:18.885Z"
   },
   {
    "duration": 14,
    "start_time": "2023-09-12T18:23:20.501Z"
   },
   {
    "duration": 1291,
    "start_time": "2023-09-12T18:23:20.517Z"
   },
   {
    "duration": 16,
    "start_time": "2023-09-12T18:23:21.809Z"
   },
   {
    "duration": 1355,
    "start_time": "2023-09-12T18:23:21.826Z"
   },
   {
    "duration": 13,
    "start_time": "2023-09-12T18:23:23.183Z"
   },
   {
    "duration": 739,
    "start_time": "2023-09-12T18:23:23.198Z"
   },
   {
    "duration": 3,
    "start_time": "2023-09-12T18:23:23.939Z"
   },
   {
    "duration": 18,
    "start_time": "2023-09-12T18:23:23.943Z"
   },
   {
    "duration": 22,
    "start_time": "2023-09-12T18:23:23.963Z"
   },
   {
    "duration": 1588,
    "start_time": "2023-09-12T18:23:23.986Z"
   },
   {
    "duration": 4,
    "start_time": "2023-09-12T18:23:25.576Z"
   },
   {
    "duration": 16,
    "start_time": "2023-09-12T18:23:25.582Z"
   },
   {
    "duration": 7,
    "start_time": "2023-09-12T18:23:25.600Z"
   },
   {
    "duration": 5,
    "start_time": "2023-09-12T18:23:25.609Z"
   },
   {
    "duration": 6,
    "start_time": "2023-09-12T18:23:25.615Z"
   },
   {
    "duration": 140,
    "start_time": "2023-09-12T18:23:25.622Z"
   },
   {
    "duration": 12,
    "start_time": "2023-09-12T18:23:25.764Z"
   },
   {
    "duration": 4,
    "start_time": "2023-09-12T18:23:25.778Z"
   },
   {
    "duration": 7,
    "start_time": "2023-09-12T18:23:25.783Z"
   },
   {
    "duration": 682,
    "start_time": "2023-09-12T18:23:25.791Z"
   },
   {
    "duration": 0,
    "start_time": "2023-09-12T18:23:26.474Z"
   },
   {
    "duration": 0,
    "start_time": "2023-09-12T18:23:26.476Z"
   },
   {
    "duration": 0,
    "start_time": "2023-09-12T18:23:26.477Z"
   },
   {
    "duration": 485,
    "start_time": "2023-09-12T18:25:09.488Z"
   },
   {
    "duration": 455,
    "start_time": "2023-09-12T18:25:20.914Z"
   },
   {
    "duration": 1292,
    "start_time": "2023-09-12T18:25:42.597Z"
   },
   {
    "duration": 890,
    "start_time": "2023-09-12T18:25:43.891Z"
   },
   {
    "duration": 18,
    "start_time": "2023-09-12T18:25:44.783Z"
   },
   {
    "duration": 22,
    "start_time": "2023-09-12T18:25:44.803Z"
   },
   {
    "duration": 42,
    "start_time": "2023-09-12T18:25:44.827Z"
   },
   {
    "duration": 27,
    "start_time": "2023-09-12T18:25:44.871Z"
   },
   {
    "duration": 30,
    "start_time": "2023-09-12T18:25:44.899Z"
   },
   {
    "duration": 356,
    "start_time": "2023-09-12T18:25:44.930Z"
   },
   {
    "duration": 15,
    "start_time": "2023-09-12T18:25:45.288Z"
   },
   {
    "duration": 155,
    "start_time": "2023-09-12T18:25:45.304Z"
   },
   {
    "duration": 11,
    "start_time": "2023-09-12T18:25:45.460Z"
   },
   {
    "duration": 325,
    "start_time": "2023-09-12T18:25:45.473Z"
   },
   {
    "duration": 14,
    "start_time": "2023-09-12T18:25:45.800Z"
   },
   {
    "duration": 144,
    "start_time": "2023-09-12T18:25:45.817Z"
   },
   {
    "duration": 173,
    "start_time": "2023-09-12T18:25:45.963Z"
   },
   {
    "duration": 27,
    "start_time": "2023-09-12T18:25:46.138Z"
   },
   {
    "duration": 277,
    "start_time": "2023-09-12T18:25:46.166Z"
   },
   {
    "duration": 197,
    "start_time": "2023-09-12T18:25:46.445Z"
   },
   {
    "duration": 22,
    "start_time": "2023-09-12T18:25:46.644Z"
   },
   {
    "duration": 1904,
    "start_time": "2023-09-12T18:25:46.668Z"
   },
   {
    "duration": 14,
    "start_time": "2023-09-12T18:25:48.574Z"
   },
   {
    "duration": 2103,
    "start_time": "2023-09-12T18:25:48.589Z"
   },
   {
    "duration": 69,
    "start_time": "2023-09-12T18:25:50.694Z"
   },
   {
    "duration": 2110,
    "start_time": "2023-09-12T18:25:50.765Z"
   },
   {
    "duration": 14,
    "start_time": "2023-09-12T18:25:52.877Z"
   },
   {
    "duration": 1136,
    "start_time": "2023-09-12T18:25:52.893Z"
   },
   {
    "duration": 4,
    "start_time": "2023-09-12T18:25:54.030Z"
   },
   {
    "duration": 28,
    "start_time": "2023-09-12T18:25:54.036Z"
   },
   {
    "duration": 6,
    "start_time": "2023-09-12T18:25:54.066Z"
   },
   {
    "duration": 1575,
    "start_time": "2023-09-12T18:25:54.074Z"
   },
   {
    "duration": 4,
    "start_time": "2023-09-12T18:25:55.651Z"
   },
   {
    "duration": 18,
    "start_time": "2023-09-12T18:25:55.657Z"
   },
   {
    "duration": 20,
    "start_time": "2023-09-12T18:25:55.676Z"
   },
   {
    "duration": 7,
    "start_time": "2023-09-12T18:25:55.697Z"
   },
   {
    "duration": 13,
    "start_time": "2023-09-12T18:25:55.706Z"
   },
   {
    "duration": 131,
    "start_time": "2023-09-12T18:25:55.721Z"
   },
   {
    "duration": 12,
    "start_time": "2023-09-12T18:25:55.864Z"
   },
   {
    "duration": 4,
    "start_time": "2023-09-12T18:25:55.877Z"
   },
   {
    "duration": 17,
    "start_time": "2023-09-12T18:25:55.882Z"
   },
   {
    "duration": 674,
    "start_time": "2023-09-12T18:25:55.900Z"
   },
   {
    "duration": 0,
    "start_time": "2023-09-12T18:25:56.576Z"
   },
   {
    "duration": 0,
    "start_time": "2023-09-12T18:25:56.577Z"
   },
   {
    "duration": 0,
    "start_time": "2023-09-12T18:25:56.578Z"
   },
   {
    "duration": 475,
    "start_time": "2023-09-12T18:27:20.492Z"
   },
   {
    "duration": 3,
    "start_time": "2023-09-12T18:32:10.981Z"
   },
   {
    "duration": 1544,
    "start_time": "2023-09-12T18:32:15.696Z"
   },
   {
    "duration": 864,
    "start_time": "2023-09-12T18:32:17.242Z"
   },
   {
    "duration": 42,
    "start_time": "2023-09-12T18:32:18.108Z"
   },
   {
    "duration": 19,
    "start_time": "2023-09-12T18:32:18.152Z"
   },
   {
    "duration": 16,
    "start_time": "2023-09-12T18:32:18.173Z"
   },
   {
    "duration": 62,
    "start_time": "2023-09-12T18:32:18.190Z"
   },
   {
    "duration": 11,
    "start_time": "2023-09-12T18:32:18.253Z"
   },
   {
    "duration": 708,
    "start_time": "2023-09-12T18:32:18.267Z"
   },
   {
    "duration": 21,
    "start_time": "2023-09-12T18:32:18.977Z"
   },
   {
    "duration": 309,
    "start_time": "2023-09-12T18:32:19.049Z"
   },
   {
    "duration": 12,
    "start_time": "2023-09-12T18:32:19.360Z"
   },
   {
    "duration": 705,
    "start_time": "2023-09-12T18:32:19.374Z"
   },
   {
    "duration": 69,
    "start_time": "2023-09-12T18:32:20.081Z"
   },
   {
    "duration": 242,
    "start_time": "2023-09-12T18:32:20.154Z"
   },
   {
    "duration": 274,
    "start_time": "2023-09-12T18:32:20.397Z"
   },
   {
    "duration": 18,
    "start_time": "2023-09-12T18:32:20.673Z"
   },
   {
    "duration": 680,
    "start_time": "2023-09-12T18:32:20.692Z"
   },
   {
    "duration": 500,
    "start_time": "2023-09-12T18:32:21.374Z"
   },
   {
    "duration": 86,
    "start_time": "2023-09-12T18:32:21.876Z"
   },
   {
    "duration": 1467,
    "start_time": "2023-09-12T18:32:21.968Z"
   },
   {
    "duration": 28,
    "start_time": "2023-09-12T18:32:23.437Z"
   },
   {
    "duration": 1277,
    "start_time": "2023-09-12T18:32:23.467Z"
   },
   {
    "duration": 20,
    "start_time": "2023-09-12T18:32:24.746Z"
   },
   {
    "duration": 1331,
    "start_time": "2023-09-12T18:32:24.768Z"
   },
   {
    "duration": 14,
    "start_time": "2023-09-12T18:32:26.100Z"
   },
   {
    "duration": 850,
    "start_time": "2023-09-12T18:32:26.115Z"
   },
   {
    "duration": 5,
    "start_time": "2023-09-12T18:32:26.968Z"
   },
   {
    "duration": 36,
    "start_time": "2023-09-12T18:32:26.975Z"
   },
   {
    "duration": 38,
    "start_time": "2023-09-12T18:32:27.012Z"
   },
   {
    "duration": 1655,
    "start_time": "2023-09-12T18:32:27.055Z"
   },
   {
    "duration": 5,
    "start_time": "2023-09-12T18:32:28.711Z"
   },
   {
    "duration": 60,
    "start_time": "2023-09-12T18:32:28.718Z"
   },
   {
    "duration": 40,
    "start_time": "2023-09-12T18:32:28.780Z"
   },
   {
    "duration": 44,
    "start_time": "2023-09-12T18:32:28.821Z"
   },
   {
    "duration": 34,
    "start_time": "2023-09-12T18:32:28.867Z"
   },
   {
    "duration": 79,
    "start_time": "2023-09-12T18:32:28.903Z"
   },
   {
    "duration": 171,
    "start_time": "2023-09-12T18:32:28.984Z"
   },
   {
    "duration": 7,
    "start_time": "2023-09-12T18:32:29.163Z"
   },
   {
    "duration": 17,
    "start_time": "2023-09-12T18:32:29.172Z"
   },
   {
    "duration": 23252,
    "start_time": "2023-09-12T18:32:29.190Z"
   },
   {
    "duration": 0,
    "start_time": "2023-09-12T18:32:52.450Z"
   },
   {
    "duration": 0,
    "start_time": "2023-09-12T18:32:52.451Z"
   },
   {
    "duration": 0,
    "start_time": "2023-09-12T18:32:52.461Z"
   },
   {
    "duration": 3,
    "start_time": "2023-09-12T18:33:09.504Z"
   },
   {
    "duration": 1421,
    "start_time": "2023-09-12T18:33:16.377Z"
   },
   {
    "duration": 868,
    "start_time": "2023-09-12T18:33:17.800Z"
   },
   {
    "duration": 18,
    "start_time": "2023-09-12T18:33:18.670Z"
   },
   {
    "duration": 24,
    "start_time": "2023-09-12T18:33:18.690Z"
   },
   {
    "duration": 16,
    "start_time": "2023-09-12T18:33:18.716Z"
   },
   {
    "duration": 26,
    "start_time": "2023-09-12T18:33:18.734Z"
   },
   {
    "duration": 7,
    "start_time": "2023-09-12T18:33:18.761Z"
   },
   {
    "duration": 350,
    "start_time": "2023-09-12T18:33:18.769Z"
   },
   {
    "duration": 18,
    "start_time": "2023-09-12T18:33:19.121Z"
   },
   {
    "duration": 138,
    "start_time": "2023-09-12T18:33:19.149Z"
   },
   {
    "duration": 10,
    "start_time": "2023-09-12T18:33:19.288Z"
   },
   {
    "duration": 330,
    "start_time": "2023-09-12T18:33:19.299Z"
   },
   {
    "duration": 26,
    "start_time": "2023-09-12T18:33:19.630Z"
   },
   {
    "duration": 122,
    "start_time": "2023-09-12T18:33:19.666Z"
   },
   {
    "duration": 173,
    "start_time": "2023-09-12T18:33:19.789Z"
   },
   {
    "duration": 23,
    "start_time": "2023-09-12T18:33:19.964Z"
   },
   {
    "duration": 285,
    "start_time": "2023-09-12T18:33:19.989Z"
   },
   {
    "duration": 189,
    "start_time": "2023-09-12T18:33:20.275Z"
   },
   {
    "duration": 17,
    "start_time": "2023-09-12T18:33:20.472Z"
   },
   {
    "duration": 1340,
    "start_time": "2023-09-12T18:33:20.491Z"
   },
   {
    "duration": 14,
    "start_time": "2023-09-12T18:33:21.832Z"
   },
   {
    "duration": 1245,
    "start_time": "2023-09-12T18:33:21.855Z"
   },
   {
    "duration": 15,
    "start_time": "2023-09-12T18:33:23.102Z"
   },
   {
    "duration": 1390,
    "start_time": "2023-09-12T18:33:23.118Z"
   },
   {
    "duration": 14,
    "start_time": "2023-09-12T18:33:24.510Z"
   },
   {
    "duration": 708,
    "start_time": "2023-09-12T18:33:24.525Z"
   },
   {
    "duration": 4,
    "start_time": "2023-09-12T18:33:25.235Z"
   },
   {
    "duration": 8,
    "start_time": "2023-09-12T18:33:25.241Z"
   },
   {
    "duration": 15,
    "start_time": "2023-09-12T18:33:25.251Z"
   },
   {
    "duration": 1647,
    "start_time": "2023-09-12T18:33:25.273Z"
   },
   {
    "duration": 5,
    "start_time": "2023-09-12T18:33:26.922Z"
   },
   {
    "duration": 34,
    "start_time": "2023-09-12T18:33:26.929Z"
   },
   {
    "duration": 10,
    "start_time": "2023-09-12T18:33:26.969Z"
   },
   {
    "duration": 14,
    "start_time": "2023-09-12T18:33:26.980Z"
   },
   {
    "duration": 22,
    "start_time": "2023-09-12T18:33:26.995Z"
   },
   {
    "duration": 44,
    "start_time": "2023-09-12T18:33:27.019Z"
   },
   {
    "duration": 116,
    "start_time": "2023-09-12T18:33:27.070Z"
   },
   {
    "duration": 4,
    "start_time": "2023-09-12T18:33:27.187Z"
   },
   {
    "duration": 23,
    "start_time": "2023-09-12T18:33:27.193Z"
   },
   {
    "duration": 760,
    "start_time": "2023-09-12T18:33:27.218Z"
   },
   {
    "duration": 1,
    "start_time": "2023-09-12T18:33:27.980Z"
   },
   {
    "duration": 0,
    "start_time": "2023-09-12T18:33:27.982Z"
   },
   {
    "duration": 0,
    "start_time": "2023-09-12T18:33:27.983Z"
   },
   {
    "duration": 1397,
    "start_time": "2023-09-12T18:34:19.225Z"
   },
   {
    "duration": 1968,
    "start_time": "2023-09-12T18:34:20.624Z"
   },
   {
    "duration": 80,
    "start_time": "2023-09-12T18:34:22.594Z"
   },
   {
    "duration": 22,
    "start_time": "2023-09-12T18:34:22.677Z"
   },
   {
    "duration": 30,
    "start_time": "2023-09-12T18:34:22.749Z"
   },
   {
    "duration": 8,
    "start_time": "2023-09-12T18:34:22.784Z"
   },
   {
    "duration": 12,
    "start_time": "2023-09-12T18:34:22.794Z"
   },
   {
    "duration": 390,
    "start_time": "2023-09-12T18:34:22.807Z"
   },
   {
    "duration": 18,
    "start_time": "2023-09-12T18:34:23.199Z"
   },
   {
    "duration": 148,
    "start_time": "2023-09-12T18:34:23.220Z"
   },
   {
    "duration": 14,
    "start_time": "2023-09-12T18:34:23.369Z"
   },
   {
    "duration": 328,
    "start_time": "2023-09-12T18:34:23.385Z"
   },
   {
    "duration": 16,
    "start_time": "2023-09-12T18:34:23.714Z"
   },
   {
    "duration": 148,
    "start_time": "2023-09-12T18:34:23.731Z"
   },
   {
    "duration": 181,
    "start_time": "2023-09-12T18:34:23.881Z"
   },
   {
    "duration": 19,
    "start_time": "2023-09-12T18:34:24.063Z"
   },
   {
    "duration": 240,
    "start_time": "2023-09-12T18:34:24.084Z"
   },
   {
    "duration": 188,
    "start_time": "2023-09-12T18:34:24.326Z"
   },
   {
    "duration": 15,
    "start_time": "2023-09-12T18:34:24.516Z"
   },
   {
    "duration": 1316,
    "start_time": "2023-09-12T18:34:24.533Z"
   },
   {
    "duration": 19,
    "start_time": "2023-09-12T18:34:25.853Z"
   },
   {
    "duration": 1314,
    "start_time": "2023-09-12T18:34:25.874Z"
   },
   {
    "duration": 16,
    "start_time": "2023-09-12T18:34:27.190Z"
   },
   {
    "duration": 1420,
    "start_time": "2023-09-12T18:34:27.207Z"
   },
   {
    "duration": 23,
    "start_time": "2023-09-12T18:34:28.629Z"
   },
   {
    "duration": 689,
    "start_time": "2023-09-12T18:34:28.654Z"
   },
   {
    "duration": 5,
    "start_time": "2023-09-12T18:34:29.345Z"
   },
   {
    "duration": 11,
    "start_time": "2023-09-12T18:34:29.360Z"
   },
   {
    "duration": 6,
    "start_time": "2023-09-12T18:34:29.376Z"
   },
   {
    "duration": 1733,
    "start_time": "2023-09-12T18:34:29.384Z"
   },
   {
    "duration": 5,
    "start_time": "2023-09-12T18:34:31.119Z"
   },
   {
    "duration": 52,
    "start_time": "2023-09-12T18:34:31.125Z"
   },
   {
    "duration": 18,
    "start_time": "2023-09-12T18:34:31.178Z"
   },
   {
    "duration": 32,
    "start_time": "2023-09-12T18:34:31.197Z"
   },
   {
    "duration": 63,
    "start_time": "2023-09-12T18:34:31.230Z"
   },
   {
    "duration": 180,
    "start_time": "2023-09-12T18:34:31.295Z"
   },
   {
    "duration": 19,
    "start_time": "2023-09-12T18:34:31.479Z"
   },
   {
    "duration": 28,
    "start_time": "2023-09-12T18:34:31.500Z"
   },
   {
    "duration": 53,
    "start_time": "2023-09-12T18:34:31.530Z"
   },
   {
    "duration": 1466,
    "start_time": "2023-09-12T18:36:58.657Z"
   },
   {
    "duration": 1567,
    "start_time": "2023-09-12T18:37:00.125Z"
   },
   {
    "duration": 74,
    "start_time": "2023-09-12T18:37:01.694Z"
   },
   {
    "duration": 12,
    "start_time": "2023-09-12T18:37:01.770Z"
   },
   {
    "duration": 86,
    "start_time": "2023-09-12T18:37:01.784Z"
   },
   {
    "duration": 8,
    "start_time": "2023-09-12T18:37:01.871Z"
   },
   {
    "duration": 74,
    "start_time": "2023-09-12T18:37:01.880Z"
   },
   {
    "duration": 617,
    "start_time": "2023-09-12T18:37:01.960Z"
   },
   {
    "duration": 79,
    "start_time": "2023-09-12T18:37:02.579Z"
   },
   {
    "duration": 297,
    "start_time": "2023-09-12T18:37:02.665Z"
   },
   {
    "duration": 12,
    "start_time": "2023-09-12T18:37:02.964Z"
   },
   {
    "duration": 802,
    "start_time": "2023-09-12T18:37:02.978Z"
   },
   {
    "duration": 69,
    "start_time": "2023-09-12T18:37:03.782Z"
   },
   {
    "duration": 298,
    "start_time": "2023-09-12T18:37:03.856Z"
   },
   {
    "duration": 325,
    "start_time": "2023-09-12T18:37:04.155Z"
   },
   {
    "duration": 18,
    "start_time": "2023-09-12T18:37:04.482Z"
   },
   {
    "duration": 263,
    "start_time": "2023-09-12T18:37:04.501Z"
   },
   {
    "duration": 169,
    "start_time": "2023-09-12T18:37:04.765Z"
   },
   {
    "duration": 28,
    "start_time": "2023-09-12T18:37:04.935Z"
   },
   {
    "duration": 1315,
    "start_time": "2023-09-12T18:37:04.964Z"
   },
   {
    "duration": 19,
    "start_time": "2023-09-12T18:37:06.281Z"
   },
   {
    "duration": 1310,
    "start_time": "2023-09-12T18:37:06.302Z"
   },
   {
    "duration": 20,
    "start_time": "2023-09-12T18:37:07.615Z"
   },
   {
    "duration": 1504,
    "start_time": "2023-09-12T18:37:07.638Z"
   },
   {
    "duration": 18,
    "start_time": "2023-09-12T18:37:09.149Z"
   },
   {
    "duration": 701,
    "start_time": "2023-09-12T18:37:09.176Z"
   },
   {
    "duration": 5,
    "start_time": "2023-09-12T18:37:09.879Z"
   },
   {
    "duration": 24,
    "start_time": "2023-09-12T18:37:09.886Z"
   },
   {
    "duration": 16,
    "start_time": "2023-09-12T18:37:09.912Z"
   },
   {
    "duration": 1858,
    "start_time": "2023-09-12T18:37:09.930Z"
   },
   {
    "duration": 6,
    "start_time": "2023-09-12T18:37:11.790Z"
   },
   {
    "duration": 7,
    "start_time": "2023-09-12T18:37:11.797Z"
   },
   {
    "duration": 7,
    "start_time": "2023-09-12T18:37:11.805Z"
   },
   {
    "duration": 65,
    "start_time": "2023-09-12T18:37:11.813Z"
   },
   {
    "duration": 9,
    "start_time": "2023-09-12T18:37:11.880Z"
   },
   {
    "duration": 31,
    "start_time": "2023-09-12T18:37:11.891Z"
   },
   {
    "duration": 127,
    "start_time": "2023-09-12T18:37:11.924Z"
   },
   {
    "duration": 13,
    "start_time": "2023-09-12T18:37:12.054Z"
   },
   {
    "duration": 21,
    "start_time": "2023-09-12T18:37:12.069Z"
   },
   {
    "duration": 674,
    "start_time": "2023-09-12T18:37:12.092Z"
   },
   {
    "duration": 0,
    "start_time": "2023-09-12T18:37:12.768Z"
   },
   {
    "duration": 0,
    "start_time": "2023-09-12T18:37:12.770Z"
   },
   {
    "duration": 0,
    "start_time": "2023-09-12T18:37:12.771Z"
   },
   {
    "duration": 1392,
    "start_time": "2023-09-12T18:39:37.882Z"
   },
   {
    "duration": 1314,
    "start_time": "2023-09-12T18:39:39.278Z"
   },
   {
    "duration": 71,
    "start_time": "2023-09-12T18:39:40.593Z"
   },
   {
    "duration": 19,
    "start_time": "2023-09-12T18:39:40.667Z"
   },
   {
    "duration": 83,
    "start_time": "2023-09-12T18:39:40.688Z"
   },
   {
    "duration": 10,
    "start_time": "2023-09-12T18:39:40.773Z"
   },
   {
    "duration": 9,
    "start_time": "2023-09-12T18:39:40.785Z"
   },
   {
    "duration": 863,
    "start_time": "2023-09-12T18:39:40.796Z"
   },
   {
    "duration": 21,
    "start_time": "2023-09-12T18:39:41.660Z"
   },
   {
    "duration": 311,
    "start_time": "2023-09-12T18:39:41.684Z"
   },
   {
    "duration": 16,
    "start_time": "2023-09-12T18:39:42.049Z"
   },
   {
    "duration": 407,
    "start_time": "2023-09-12T18:39:42.072Z"
   },
   {
    "duration": 17,
    "start_time": "2023-09-12T18:39:42.481Z"
   },
   {
    "duration": 140,
    "start_time": "2023-09-12T18:39:42.501Z"
   },
   {
    "duration": 191,
    "start_time": "2023-09-12T18:39:42.642Z"
   },
   {
    "duration": 40,
    "start_time": "2023-09-12T18:39:42.835Z"
   },
   {
    "duration": 246,
    "start_time": "2023-09-12T18:39:42.877Z"
   },
   {
    "duration": 187,
    "start_time": "2023-09-12T18:39:43.124Z"
   },
   {
    "duration": 14,
    "start_time": "2023-09-12T18:39:43.312Z"
   },
   {
    "duration": 1307,
    "start_time": "2023-09-12T18:39:43.328Z"
   },
   {
    "duration": 31,
    "start_time": "2023-09-12T18:39:44.637Z"
   },
   {
    "duration": 1296,
    "start_time": "2023-09-12T18:39:44.673Z"
   },
   {
    "duration": 17,
    "start_time": "2023-09-12T18:39:45.971Z"
   },
   {
    "duration": 1419,
    "start_time": "2023-09-12T18:39:45.989Z"
   },
   {
    "duration": 13,
    "start_time": "2023-09-12T18:39:47.410Z"
   },
   {
    "duration": 701,
    "start_time": "2023-09-12T18:39:47.425Z"
   },
   {
    "duration": 4,
    "start_time": "2023-09-12T18:39:48.127Z"
   },
   {
    "duration": 72,
    "start_time": "2023-09-12T18:39:48.132Z"
   },
   {
    "duration": 28,
    "start_time": "2023-09-12T18:39:48.206Z"
   },
   {
    "duration": 1664,
    "start_time": "2023-09-12T18:39:48.235Z"
   },
   {
    "duration": 5,
    "start_time": "2023-09-12T18:39:49.901Z"
   },
   {
    "duration": 7,
    "start_time": "2023-09-12T18:39:49.907Z"
   },
   {
    "duration": 6,
    "start_time": "2023-09-12T18:39:49.916Z"
   },
   {
    "duration": 4,
    "start_time": "2023-09-12T18:39:49.924Z"
   },
   {
    "duration": 26,
    "start_time": "2023-09-12T18:39:49.929Z"
   },
   {
    "duration": 141,
    "start_time": "2023-09-12T18:39:49.956Z"
   },
   {
    "duration": 11,
    "start_time": "2023-09-12T18:39:50.099Z"
   },
   {
    "duration": 9,
    "start_time": "2023-09-12T18:39:50.112Z"
   },
   {
    "duration": 10,
    "start_time": "2023-09-12T18:39:50.122Z"
   },
   {
    "duration": 735,
    "start_time": "2023-09-12T18:39:50.133Z"
   },
   {
    "duration": 0,
    "start_time": "2023-09-12T18:39:50.870Z"
   },
   {
    "duration": 0,
    "start_time": "2023-09-12T18:39:50.873Z"
   },
   {
    "duration": 0,
    "start_time": "2023-09-12T18:39:50.874Z"
   },
   {
    "duration": 1407,
    "start_time": "2023-09-12T18:42:21.407Z"
   },
   {
    "duration": 875,
    "start_time": "2023-09-12T18:42:22.816Z"
   },
   {
    "duration": 17,
    "start_time": "2023-09-12T18:42:23.693Z"
   },
   {
    "duration": 10,
    "start_time": "2023-09-12T18:42:23.712Z"
   },
   {
    "duration": 39,
    "start_time": "2023-09-12T18:42:23.724Z"
   },
   {
    "duration": 15,
    "start_time": "2023-09-12T18:42:23.764Z"
   },
   {
    "duration": 13,
    "start_time": "2023-09-12T18:42:23.780Z"
   },
   {
    "duration": 323,
    "start_time": "2023-09-12T18:42:23.795Z"
   },
   {
    "duration": 16,
    "start_time": "2023-09-12T18:42:24.120Z"
   },
   {
    "duration": 222,
    "start_time": "2023-09-12T18:42:24.138Z"
   },
   {
    "duration": 19,
    "start_time": "2023-09-12T18:42:24.363Z"
   },
   {
    "duration": 871,
    "start_time": "2023-09-12T18:42:24.384Z"
   },
   {
    "duration": 21,
    "start_time": "2023-09-12T18:42:25.260Z"
   },
   {
    "duration": 296,
    "start_time": "2023-09-12T18:42:25.283Z"
   },
   {
    "duration": 409,
    "start_time": "2023-09-12T18:42:25.584Z"
   },
   {
    "duration": 75,
    "start_time": "2023-09-12T18:42:25.994Z"
   },
   {
    "duration": 440,
    "start_time": "2023-09-12T18:42:26.071Z"
   },
   {
    "duration": 200,
    "start_time": "2023-09-12T18:42:26.513Z"
   },
   {
    "duration": 13,
    "start_time": "2023-09-12T18:42:26.715Z"
   },
   {
    "duration": 1295,
    "start_time": "2023-09-12T18:42:26.729Z"
   },
   {
    "duration": 13,
    "start_time": "2023-09-12T18:42:28.025Z"
   },
   {
    "duration": 1332,
    "start_time": "2023-09-12T18:42:28.040Z"
   },
   {
    "duration": 17,
    "start_time": "2023-09-12T18:42:29.373Z"
   },
   {
    "duration": 1334,
    "start_time": "2023-09-12T18:42:29.391Z"
   },
   {
    "duration": 25,
    "start_time": "2023-09-12T18:42:30.727Z"
   },
   {
    "duration": 715,
    "start_time": "2023-09-12T18:42:30.754Z"
   },
   {
    "duration": 4,
    "start_time": "2023-09-12T18:42:31.475Z"
   },
   {
    "duration": 15,
    "start_time": "2023-09-12T18:42:31.482Z"
   },
   {
    "duration": 18,
    "start_time": "2023-09-12T18:42:31.498Z"
   },
   {
    "duration": 1682,
    "start_time": "2023-09-12T18:42:31.517Z"
   },
   {
    "duration": 5,
    "start_time": "2023-09-12T18:42:33.200Z"
   },
   {
    "duration": 30,
    "start_time": "2023-09-12T18:42:33.206Z"
   },
   {
    "duration": 9,
    "start_time": "2023-09-12T18:42:33.237Z"
   },
   {
    "duration": 11,
    "start_time": "2023-09-12T18:42:33.248Z"
   },
   {
    "duration": 13,
    "start_time": "2023-09-12T18:42:33.261Z"
   },
   {
    "duration": 44,
    "start_time": "2023-09-12T18:42:33.277Z"
   },
   {
    "duration": 142,
    "start_time": "2023-09-12T18:42:33.322Z"
   },
   {
    "duration": 7,
    "start_time": "2023-09-12T18:42:33.466Z"
   },
   {
    "duration": 17,
    "start_time": "2023-09-12T18:42:33.475Z"
   },
   {
    "duration": 176044,
    "start_time": "2023-09-12T18:42:33.494Z"
   },
   {
    "duration": 0,
    "start_time": "2023-09-12T18:45:29.539Z"
   },
   {
    "duration": 0,
    "start_time": "2023-09-12T18:45:29.540Z"
   },
   {
    "duration": 0,
    "start_time": "2023-09-12T18:45:29.541Z"
   },
   {
    "duration": 2,
    "start_time": "2023-09-12T18:48:12.314Z"
   },
   {
    "duration": 54398,
    "start_time": "2023-09-12T18:48:26.576Z"
   },
   {
    "duration": 1432,
    "start_time": "2023-09-12T18:51:06.897Z"
   },
   {
    "duration": 896,
    "start_time": "2023-09-12T18:51:08.331Z"
   },
   {
    "duration": 31,
    "start_time": "2023-09-12T18:51:09.229Z"
   },
   {
    "duration": 18,
    "start_time": "2023-09-12T18:51:09.268Z"
   },
   {
    "duration": 33,
    "start_time": "2023-09-12T18:51:09.288Z"
   },
   {
    "duration": 7,
    "start_time": "2023-09-12T18:51:09.323Z"
   },
   {
    "duration": 15,
    "start_time": "2023-09-12T18:51:09.331Z"
   },
   {
    "duration": 373,
    "start_time": "2023-09-12T18:51:09.348Z"
   },
   {
    "duration": 16,
    "start_time": "2023-09-12T18:51:09.722Z"
   },
   {
    "duration": 326,
    "start_time": "2023-09-12T18:51:09.740Z"
   },
   {
    "duration": 14,
    "start_time": "2023-09-12T18:51:10.070Z"
   },
   {
    "duration": 782,
    "start_time": "2023-09-12T18:51:10.086Z"
   },
   {
    "duration": 18,
    "start_time": "2023-09-12T18:51:10.870Z"
   },
   {
    "duration": 296,
    "start_time": "2023-09-12T18:51:10.891Z"
   },
   {
    "duration": 399,
    "start_time": "2023-09-12T18:51:11.188Z"
   },
   {
    "duration": 84,
    "start_time": "2023-09-12T18:51:11.588Z"
   },
   {
    "duration": 287,
    "start_time": "2023-09-12T18:51:11.676Z"
   },
   {
    "duration": 308,
    "start_time": "2023-09-12T18:51:11.965Z"
   },
   {
    "duration": 27,
    "start_time": "2023-09-12T18:51:12.275Z"
   },
   {
    "duration": 2394,
    "start_time": "2023-09-12T18:51:12.303Z"
   },
   {
    "duration": 71,
    "start_time": "2023-09-12T18:51:14.698Z"
   },
   {
    "duration": 1297,
    "start_time": "2023-09-12T18:51:14.772Z"
   },
   {
    "duration": 16,
    "start_time": "2023-09-12T18:51:16.076Z"
   },
   {
    "duration": 1517,
    "start_time": "2023-09-12T18:51:16.094Z"
   },
   {
    "duration": 13,
    "start_time": "2023-09-12T18:51:17.613Z"
   },
   {
    "duration": 717,
    "start_time": "2023-09-12T18:51:17.628Z"
   },
   {
    "duration": 18,
    "start_time": "2023-09-12T18:51:18.347Z"
   },
   {
    "duration": 22,
    "start_time": "2023-09-12T18:51:18.367Z"
   },
   {
    "duration": 24,
    "start_time": "2023-09-12T18:51:18.391Z"
   },
   {
    "duration": 1667,
    "start_time": "2023-09-12T18:51:18.417Z"
   },
   {
    "duration": 5,
    "start_time": "2023-09-12T18:51:20.087Z"
   },
   {
    "duration": 6,
    "start_time": "2023-09-12T18:51:20.094Z"
   },
   {
    "duration": 6,
    "start_time": "2023-09-12T18:51:20.101Z"
   },
   {
    "duration": 5,
    "start_time": "2023-09-12T18:51:20.108Z"
   },
   {
    "duration": 4,
    "start_time": "2023-09-12T18:51:20.114Z"
   },
   {
    "duration": 176,
    "start_time": "2023-09-12T18:51:20.119Z"
   },
   {
    "duration": 11,
    "start_time": "2023-09-12T18:51:20.297Z"
   },
   {
    "duration": 4,
    "start_time": "2023-09-12T18:51:20.309Z"
   },
   {
    "duration": 5,
    "start_time": "2023-09-12T18:51:20.314Z"
   },
   {
    "duration": 97255,
    "start_time": "2023-09-12T18:51:20.320Z"
   },
   {
    "duration": 0,
    "start_time": "2023-09-12T18:52:57.578Z"
   },
   {
    "duration": 0,
    "start_time": "2023-09-12T18:52:57.579Z"
   },
   {
    "duration": 0,
    "start_time": "2023-09-12T18:52:57.580Z"
   },
   {
    "duration": 1408,
    "start_time": "2023-09-12T18:55:49.699Z"
   },
   {
    "duration": 882,
    "start_time": "2023-09-12T18:55:51.109Z"
   },
   {
    "duration": 17,
    "start_time": "2023-09-12T18:55:51.993Z"
   },
   {
    "duration": 10,
    "start_time": "2023-09-12T18:55:52.012Z"
   },
   {
    "duration": 44,
    "start_time": "2023-09-12T18:55:52.024Z"
   },
   {
    "duration": 12,
    "start_time": "2023-09-12T18:55:52.069Z"
   },
   {
    "duration": 12,
    "start_time": "2023-09-12T18:55:52.082Z"
   },
   {
    "duration": 374,
    "start_time": "2023-09-12T18:55:52.096Z"
   },
   {
    "duration": 20,
    "start_time": "2023-09-12T18:55:52.473Z"
   },
   {
    "duration": 128,
    "start_time": "2023-09-12T18:55:52.495Z"
   },
   {
    "duration": 9,
    "start_time": "2023-09-12T18:55:52.624Z"
   },
   {
    "duration": 447,
    "start_time": "2023-09-12T18:55:52.635Z"
   },
   {
    "duration": 16,
    "start_time": "2023-09-12T18:55:53.084Z"
   },
   {
    "duration": 187,
    "start_time": "2023-09-12T18:55:53.103Z"
   },
   {
    "duration": 200,
    "start_time": "2023-09-12T18:55:53.292Z"
   },
   {
    "duration": 17,
    "start_time": "2023-09-12T18:55:53.494Z"
   },
   {
    "duration": 262,
    "start_time": "2023-09-12T18:55:53.512Z"
   },
   {
    "duration": 384,
    "start_time": "2023-09-12T18:55:53.775Z"
   },
   {
    "duration": 23,
    "start_time": "2023-09-12T18:55:54.162Z"
   },
   {
    "duration": 2039,
    "start_time": "2023-09-12T18:55:54.187Z"
   },
   {
    "duration": 33,
    "start_time": "2023-09-12T18:55:56.229Z"
   },
   {
    "duration": 1275,
    "start_time": "2023-09-12T18:55:56.265Z"
   },
   {
    "duration": 23,
    "start_time": "2023-09-12T18:55:57.542Z"
   },
   {
    "duration": 1336,
    "start_time": "2023-09-12T18:55:57.569Z"
   },
   {
    "duration": 13,
    "start_time": "2023-09-12T18:55:58.907Z"
   },
   {
    "duration": 695,
    "start_time": "2023-09-12T18:55:58.922Z"
   },
   {
    "duration": 4,
    "start_time": "2023-09-12T18:55:59.620Z"
   },
   {
    "duration": 19,
    "start_time": "2023-09-12T18:55:59.625Z"
   },
   {
    "duration": 20,
    "start_time": "2023-09-12T18:55:59.646Z"
   },
   {
    "duration": 1660,
    "start_time": "2023-09-12T18:55:59.674Z"
   },
   {
    "duration": 5,
    "start_time": "2023-09-12T18:56:01.336Z"
   },
   {
    "duration": 36,
    "start_time": "2023-09-12T18:56:01.350Z"
   },
   {
    "duration": 38,
    "start_time": "2023-09-12T18:56:01.387Z"
   },
   {
    "duration": 42,
    "start_time": "2023-09-12T18:56:01.426Z"
   },
   {
    "duration": 34,
    "start_time": "2023-09-12T18:56:01.470Z"
   },
   {
    "duration": 171,
    "start_time": "2023-09-12T18:56:01.506Z"
   },
   {
    "duration": 13,
    "start_time": "2023-09-12T18:56:01.678Z"
   },
   {
    "duration": 22,
    "start_time": "2023-09-12T18:56:01.693Z"
   },
   {
    "duration": 43,
    "start_time": "2023-09-12T18:56:01.716Z"
   },
   {
    "duration": 21283,
    "start_time": "2023-09-12T18:56:01.760Z"
   },
   {
    "duration": 0,
    "start_time": "2023-09-12T18:56:23.046Z"
   },
   {
    "duration": 0,
    "start_time": "2023-09-12T18:56:23.053Z"
   },
   {
    "duration": 0,
    "start_time": "2023-09-12T18:56:23.054Z"
   },
   {
    "duration": 1412,
    "start_time": "2023-09-12T18:56:26.681Z"
   },
   {
    "duration": 1492,
    "start_time": "2023-09-12T18:56:28.096Z"
   },
   {
    "duration": 76,
    "start_time": "2023-09-12T18:56:29.589Z"
   },
   {
    "duration": 22,
    "start_time": "2023-09-12T18:56:29.669Z"
   },
   {
    "duration": 69,
    "start_time": "2023-09-12T18:56:29.693Z"
   },
   {
    "duration": 17,
    "start_time": "2023-09-12T18:56:29.763Z"
   },
   {
    "duration": 9,
    "start_time": "2023-09-12T18:56:29.781Z"
   },
   {
    "duration": 813,
    "start_time": "2023-09-12T18:56:29.792Z"
   },
   {
    "duration": 21,
    "start_time": "2023-09-12T18:56:30.607Z"
   },
   {
    "duration": 246,
    "start_time": "2023-09-12T18:56:30.630Z"
   },
   {
    "duration": 16,
    "start_time": "2023-09-12T18:56:30.879Z"
   },
   {
    "duration": 797,
    "start_time": "2023-09-12T18:56:30.897Z"
   },
   {
    "duration": 75,
    "start_time": "2023-09-12T18:56:31.695Z"
   },
   {
    "duration": 376,
    "start_time": "2023-09-12T18:56:31.774Z"
   },
   {
    "duration": 419,
    "start_time": "2023-09-12T18:56:32.152Z"
   },
   {
    "duration": 18,
    "start_time": "2023-09-12T18:56:32.572Z"
   },
   {
    "duration": 434,
    "start_time": "2023-09-12T18:56:32.592Z"
   },
   {
    "duration": 193,
    "start_time": "2023-09-12T18:56:33.027Z"
   },
   {
    "duration": 14,
    "start_time": "2023-09-12T18:56:33.222Z"
   },
   {
    "duration": 1256,
    "start_time": "2023-09-12T18:56:33.249Z"
   },
   {
    "duration": 13,
    "start_time": "2023-09-12T18:56:34.506Z"
   },
   {
    "duration": 1199,
    "start_time": "2023-09-12T18:56:34.521Z"
   },
   {
    "duration": 16,
    "start_time": "2023-09-12T18:56:35.721Z"
   },
   {
    "duration": 1366,
    "start_time": "2023-09-12T18:56:35.738Z"
   },
   {
    "duration": 13,
    "start_time": "2023-09-12T18:56:37.106Z"
   },
   {
    "duration": 690,
    "start_time": "2023-09-12T18:56:37.120Z"
   },
   {
    "duration": 4,
    "start_time": "2023-09-12T18:56:37.812Z"
   },
   {
    "duration": 14,
    "start_time": "2023-09-12T18:56:37.817Z"
   },
   {
    "duration": 25,
    "start_time": "2023-09-12T18:56:37.832Z"
   },
   {
    "duration": 1660,
    "start_time": "2023-09-12T18:56:37.858Z"
   },
   {
    "duration": 4,
    "start_time": "2023-09-12T18:56:39.520Z"
   },
   {
    "duration": 5,
    "start_time": "2023-09-12T18:56:39.525Z"
   },
   {
    "duration": 9,
    "start_time": "2023-09-12T18:56:39.532Z"
   },
   {
    "duration": 16,
    "start_time": "2023-09-12T18:56:39.559Z"
   },
   {
    "duration": 110,
    "start_time": "2023-09-12T18:56:39.576Z"
   },
   {
    "duration": 0,
    "start_time": "2023-09-12T18:56:39.687Z"
   },
   {
    "duration": 0,
    "start_time": "2023-09-12T18:56:39.689Z"
   },
   {
    "duration": 0,
    "start_time": "2023-09-12T18:56:39.690Z"
   },
   {
    "duration": 0,
    "start_time": "2023-09-12T18:56:39.691Z"
   },
   {
    "duration": 0,
    "start_time": "2023-09-12T18:56:39.692Z"
   },
   {
    "duration": 0,
    "start_time": "2023-09-12T18:56:39.693Z"
   },
   {
    "duration": 0,
    "start_time": "2023-09-12T18:56:39.694Z"
   },
   {
    "duration": 0,
    "start_time": "2023-09-12T18:56:39.695Z"
   },
   {
    "duration": 1364,
    "start_time": "2023-09-12T18:57:23.139Z"
   },
   {
    "duration": 1789,
    "start_time": "2023-09-12T18:57:24.504Z"
   },
   {
    "duration": 80,
    "start_time": "2023-09-12T18:57:26.295Z"
   },
   {
    "duration": 17,
    "start_time": "2023-09-12T18:57:26.378Z"
   },
   {
    "duration": 77,
    "start_time": "2023-09-12T18:57:26.397Z"
   },
   {
    "duration": 11,
    "start_time": "2023-09-12T18:57:26.477Z"
   },
   {
    "duration": 7,
    "start_time": "2023-09-12T18:57:26.490Z"
   },
   {
    "duration": 475,
    "start_time": "2023-09-12T18:57:26.499Z"
   },
   {
    "duration": 18,
    "start_time": "2023-09-12T18:57:26.976Z"
   },
   {
    "duration": 144,
    "start_time": "2023-09-12T18:57:26.996Z"
   },
   {
    "duration": 28,
    "start_time": "2023-09-12T18:57:27.142Z"
   },
   {
    "duration": 330,
    "start_time": "2023-09-12T18:57:27.172Z"
   },
   {
    "duration": 16,
    "start_time": "2023-09-12T18:57:27.503Z"
   },
   {
    "duration": 147,
    "start_time": "2023-09-12T18:57:27.522Z"
   },
   {
    "duration": 177,
    "start_time": "2023-09-12T18:57:27.670Z"
   },
   {
    "duration": 34,
    "start_time": "2023-09-12T18:57:27.848Z"
   },
   {
    "duration": 238,
    "start_time": "2023-09-12T18:57:27.883Z"
   },
   {
    "duration": 186,
    "start_time": "2023-09-12T18:57:28.122Z"
   },
   {
    "duration": 14,
    "start_time": "2023-09-12T18:57:28.310Z"
   },
   {
    "duration": 1291,
    "start_time": "2023-09-12T18:57:28.325Z"
   },
   {
    "duration": 14,
    "start_time": "2023-09-12T18:57:29.617Z"
   },
   {
    "duration": 1379,
    "start_time": "2023-09-12T18:57:29.633Z"
   },
   {
    "duration": 18,
    "start_time": "2023-09-12T18:57:31.014Z"
   },
   {
    "duration": 1520,
    "start_time": "2023-09-12T18:57:31.034Z"
   },
   {
    "duration": 24,
    "start_time": "2023-09-12T18:57:32.555Z"
   },
   {
    "duration": 677,
    "start_time": "2023-09-12T18:57:32.581Z"
   },
   {
    "duration": 9,
    "start_time": "2023-09-12T18:57:33.271Z"
   },
   {
    "duration": 8,
    "start_time": "2023-09-12T18:57:33.281Z"
   },
   {
    "duration": 12,
    "start_time": "2023-09-12T18:57:33.291Z"
   },
   {
    "duration": 1638,
    "start_time": "2023-09-12T18:57:33.305Z"
   },
   {
    "duration": 15,
    "start_time": "2023-09-12T18:57:34.945Z"
   },
   {
    "duration": 7,
    "start_time": "2023-09-12T18:57:34.968Z"
   },
   {
    "duration": 5,
    "start_time": "2023-09-12T18:57:34.977Z"
   },
   {
    "duration": 4,
    "start_time": "2023-09-12T18:57:34.985Z"
   },
   {
    "duration": 120,
    "start_time": "2023-09-12T18:57:34.991Z"
   },
   {
    "duration": 0,
    "start_time": "2023-09-12T18:57:35.113Z"
   },
   {
    "duration": 0,
    "start_time": "2023-09-12T18:57:35.114Z"
   },
   {
    "duration": 0,
    "start_time": "2023-09-12T18:57:35.115Z"
   },
   {
    "duration": 0,
    "start_time": "2023-09-12T18:57:35.116Z"
   },
   {
    "duration": 0,
    "start_time": "2023-09-12T18:57:35.117Z"
   },
   {
    "duration": 0,
    "start_time": "2023-09-12T18:57:35.119Z"
   },
   {
    "duration": 0,
    "start_time": "2023-09-12T18:57:35.120Z"
   },
   {
    "duration": 0,
    "start_time": "2023-09-12T18:57:35.120Z"
   },
   {
    "duration": 3,
    "start_time": "2023-09-12T18:57:39.529Z"
   },
   {
    "duration": 26,
    "start_time": "2023-09-12T18:57:41.673Z"
   },
   {
    "duration": 18,
    "start_time": "2023-09-12T18:57:43.744Z"
   },
   {
    "duration": 4,
    "start_time": "2023-09-12T18:57:53.686Z"
   },
   {
    "duration": 4,
    "start_time": "2023-09-12T18:57:59.505Z"
   },
   {
    "duration": 705,
    "start_time": "2023-09-12T18:58:01.450Z"
   },
   {
    "duration": 1565,
    "start_time": "2023-09-12T19:02:29.448Z"
   },
   {
    "duration": 983,
    "start_time": "2023-09-12T19:02:31.015Z"
   },
   {
    "duration": 25,
    "start_time": "2023-09-12T19:02:32.000Z"
   },
   {
    "duration": 29,
    "start_time": "2023-09-12T19:02:32.028Z"
   },
   {
    "duration": 24,
    "start_time": "2023-09-12T19:02:32.060Z"
   },
   {
    "duration": 14,
    "start_time": "2023-09-12T19:02:32.086Z"
   },
   {
    "duration": 14,
    "start_time": "2023-09-12T19:02:32.103Z"
   },
   {
    "duration": 446,
    "start_time": "2023-09-12T19:02:32.119Z"
   },
   {
    "duration": 21,
    "start_time": "2023-09-12T19:02:32.567Z"
   },
   {
    "duration": 385,
    "start_time": "2023-09-12T19:02:32.590Z"
   },
   {
    "duration": 21,
    "start_time": "2023-09-12T19:02:32.977Z"
   },
   {
    "duration": 952,
    "start_time": "2023-09-12T19:02:33.049Z"
   },
   {
    "duration": 48,
    "start_time": "2023-09-12T19:02:34.003Z"
   },
   {
    "duration": 335,
    "start_time": "2023-09-12T19:02:34.055Z"
   },
   {
    "duration": 498,
    "start_time": "2023-09-12T19:02:34.392Z"
   },
   {
    "duration": 84,
    "start_time": "2023-09-12T19:02:34.891Z"
   },
   {
    "duration": 477,
    "start_time": "2023-09-12T19:02:34.977Z"
   },
   {
    "duration": 230,
    "start_time": "2023-09-12T19:02:35.456Z"
   },
   {
    "duration": 81,
    "start_time": "2023-09-12T19:02:35.690Z"
   },
   {
    "duration": 2385,
    "start_time": "2023-09-12T19:02:35.773Z"
   },
   {
    "duration": 19,
    "start_time": "2023-09-12T19:02:38.162Z"
   },
   {
    "duration": 2222,
    "start_time": "2023-09-12T19:02:38.182Z"
   },
   {
    "duration": 48,
    "start_time": "2023-09-12T19:02:40.406Z"
   },
   {
    "duration": 1568,
    "start_time": "2023-09-12T19:02:40.455Z"
   },
   {
    "duration": 14,
    "start_time": "2023-09-12T19:02:42.024Z"
   },
   {
    "duration": 711,
    "start_time": "2023-09-12T19:02:42.054Z"
   },
   {
    "duration": 9,
    "start_time": "2023-09-12T19:02:42.769Z"
   },
   {
    "duration": 5,
    "start_time": "2023-09-12T19:02:42.780Z"
   },
   {
    "duration": 7,
    "start_time": "2023-09-12T19:02:42.787Z"
   },
   {
    "duration": 1733,
    "start_time": "2023-09-12T19:02:42.795Z"
   },
   {
    "duration": 4,
    "start_time": "2023-09-12T19:02:44.530Z"
   },
   {
    "duration": 11,
    "start_time": "2023-09-12T19:02:44.553Z"
   },
   {
    "duration": 12,
    "start_time": "2023-09-12T19:02:44.566Z"
   },
   {
    "duration": 12,
    "start_time": "2023-09-12T19:02:44.580Z"
   },
   {
    "duration": 9,
    "start_time": "2023-09-12T19:02:44.594Z"
   },
   {
    "duration": 30,
    "start_time": "2023-09-12T19:02:44.604Z"
   },
   {
    "duration": 131,
    "start_time": "2023-09-12T19:02:44.636Z"
   },
   {
    "duration": 7,
    "start_time": "2023-09-12T19:02:44.771Z"
   },
   {
    "duration": 8,
    "start_time": "2023-09-12T19:02:44.780Z"
   },
   {
    "duration": 22603,
    "start_time": "2023-09-12T19:02:44.790Z"
   },
   {
    "duration": 0,
    "start_time": "2023-09-12T19:03:07.395Z"
   },
   {
    "duration": 0,
    "start_time": "2023-09-12T19:03:07.396Z"
   },
   {
    "duration": 0,
    "start_time": "2023-09-12T19:03:07.397Z"
   },
   {
    "duration": 1472,
    "start_time": "2023-09-12T19:06:59.116Z"
   },
   {
    "duration": 999,
    "start_time": "2023-09-12T19:07:00.590Z"
   },
   {
    "duration": 77,
    "start_time": "2023-09-12T19:07:01.591Z"
   },
   {
    "duration": 18,
    "start_time": "2023-09-12T19:07:01.670Z"
   },
   {
    "duration": 75,
    "start_time": "2023-09-12T19:07:01.690Z"
   },
   {
    "duration": 10,
    "start_time": "2023-09-12T19:07:01.769Z"
   },
   {
    "duration": 77,
    "start_time": "2023-09-12T19:07:01.781Z"
   },
   {
    "duration": 827,
    "start_time": "2023-09-12T19:07:01.861Z"
   },
   {
    "duration": 73,
    "start_time": "2023-09-12T19:07:02.690Z"
   },
   {
    "duration": 325,
    "start_time": "2023-09-12T19:07:02.771Z"
   },
   {
    "duration": 62,
    "start_time": "2023-09-12T19:07:03.098Z"
   },
   {
    "duration": 593,
    "start_time": "2023-09-12T19:07:03.162Z"
   },
   {
    "duration": 22,
    "start_time": "2023-09-12T19:07:03.759Z"
   },
   {
    "duration": 377,
    "start_time": "2023-09-12T19:07:03.786Z"
   },
   {
    "duration": 497,
    "start_time": "2023-09-12T19:07:04.170Z"
   },
   {
    "duration": 23,
    "start_time": "2023-09-12T19:07:04.669Z"
   },
   {
    "duration": 671,
    "start_time": "2023-09-12T19:07:04.693Z"
   },
   {
    "duration": 413,
    "start_time": "2023-09-12T19:07:05.366Z"
   },
   {
    "duration": 15,
    "start_time": "2023-09-12T19:07:05.781Z"
   },
   {
    "duration": 1520,
    "start_time": "2023-09-12T19:07:05.797Z"
   },
   {
    "duration": 14,
    "start_time": "2023-09-12T19:07:07.319Z"
   },
   {
    "duration": 1382,
    "start_time": "2023-09-12T19:07:07.334Z"
   },
   {
    "duration": 16,
    "start_time": "2023-09-12T19:07:08.718Z"
   },
   {
    "duration": 1440,
    "start_time": "2023-09-12T19:07:08.736Z"
   },
   {
    "duration": 15,
    "start_time": "2023-09-12T19:07:10.178Z"
   },
   {
    "duration": 744,
    "start_time": "2023-09-12T19:07:10.195Z"
   },
   {
    "duration": 13,
    "start_time": "2023-09-12T19:07:10.940Z"
   },
   {
    "duration": 9,
    "start_time": "2023-09-12T19:07:10.954Z"
   },
   {
    "duration": 10,
    "start_time": "2023-09-12T19:07:10.968Z"
   },
   {
    "duration": 1825,
    "start_time": "2023-09-12T19:07:10.980Z"
   },
   {
    "duration": 5,
    "start_time": "2023-09-12T19:07:12.807Z"
   },
   {
    "duration": 13,
    "start_time": "2023-09-12T19:07:12.813Z"
   },
   {
    "duration": 7,
    "start_time": "2023-09-12T19:07:12.827Z"
   },
   {
    "duration": 28,
    "start_time": "2023-09-12T19:07:12.835Z"
   },
   {
    "duration": 122,
    "start_time": "2023-09-12T19:07:12.871Z"
   },
   {
    "duration": 0,
    "start_time": "2023-09-12T19:07:12.995Z"
   },
   {
    "duration": 0,
    "start_time": "2023-09-12T19:07:12.996Z"
   },
   {
    "duration": 0,
    "start_time": "2023-09-12T19:07:12.997Z"
   },
   {
    "duration": 0,
    "start_time": "2023-09-12T19:07:12.998Z"
   },
   {
    "duration": 0,
    "start_time": "2023-09-12T19:07:12.999Z"
   },
   {
    "duration": 0,
    "start_time": "2023-09-12T19:07:13.000Z"
   },
   {
    "duration": 0,
    "start_time": "2023-09-12T19:07:13.001Z"
   },
   {
    "duration": 0,
    "start_time": "2023-09-12T19:07:13.002Z"
   },
   {
    "duration": 6,
    "start_time": "2023-09-12T19:08:05.167Z"
   },
   {
    "duration": 23,
    "start_time": "2023-09-12T19:08:06.802Z"
   },
   {
    "duration": 12,
    "start_time": "2023-09-12T19:08:07.315Z"
   },
   {
    "duration": 4,
    "start_time": "2023-09-12T19:08:10.522Z"
   },
   {
    "duration": 4,
    "start_time": "2023-09-12T19:08:11.295Z"
   },
   {
    "duration": 597,
    "start_time": "2023-09-12T19:08:12.374Z"
   },
   {
    "duration": 1319,
    "start_time": "2023-09-12T19:11:34.498Z"
   },
   {
    "duration": 931,
    "start_time": "2023-09-12T19:11:35.819Z"
   },
   {
    "duration": 29,
    "start_time": "2023-09-12T19:11:36.751Z"
   },
   {
    "duration": 62,
    "start_time": "2023-09-12T19:11:36.781Z"
   },
   {
    "duration": 55,
    "start_time": "2023-09-12T19:11:36.845Z"
   },
   {
    "duration": 21,
    "start_time": "2023-09-12T19:11:36.901Z"
   },
   {
    "duration": 72,
    "start_time": "2023-09-12T19:11:36.924Z"
   },
   {
    "duration": 660,
    "start_time": "2023-09-12T19:11:36.997Z"
   },
   {
    "duration": 25,
    "start_time": "2023-09-12T19:11:37.662Z"
   },
   {
    "duration": 384,
    "start_time": "2023-09-12T19:11:37.691Z"
   },
   {
    "duration": 13,
    "start_time": "2023-09-12T19:11:38.078Z"
   },
   {
    "duration": 873,
    "start_time": "2023-09-12T19:11:38.093Z"
   },
   {
    "duration": 24,
    "start_time": "2023-09-12T19:11:38.968Z"
   },
   {
    "duration": 367,
    "start_time": "2023-09-12T19:11:38.994Z"
   },
   {
    "duration": 228,
    "start_time": "2023-09-12T19:11:39.362Z"
   },
   {
    "duration": 17,
    "start_time": "2023-09-12T19:11:39.592Z"
   },
   {
    "duration": 260,
    "start_time": "2023-09-12T19:11:39.611Z"
   },
   {
    "duration": 203,
    "start_time": "2023-09-12T19:11:39.876Z"
   },
   {
    "duration": 17,
    "start_time": "2023-09-12T19:11:40.080Z"
   },
   {
    "duration": 1399,
    "start_time": "2023-09-12T19:11:40.099Z"
   },
   {
    "duration": 13,
    "start_time": "2023-09-12T19:11:41.499Z"
   },
   {
    "duration": 1259,
    "start_time": "2023-09-12T19:11:41.514Z"
   },
   {
    "duration": 17,
    "start_time": "2023-09-12T19:11:42.776Z"
   },
   {
    "duration": 1316,
    "start_time": "2023-09-12T19:11:42.795Z"
   },
   {
    "duration": 13,
    "start_time": "2023-09-12T19:11:44.113Z"
   },
   {
    "duration": 703,
    "start_time": "2023-09-12T19:11:44.128Z"
   },
   {
    "duration": 3,
    "start_time": "2023-09-12T19:11:44.833Z"
   },
   {
    "duration": 17,
    "start_time": "2023-09-12T19:11:44.839Z"
   },
   {
    "duration": 9,
    "start_time": "2023-09-12T19:11:44.863Z"
   },
   {
    "duration": 1695,
    "start_time": "2023-09-12T19:11:44.874Z"
   },
   {
    "duration": 9,
    "start_time": "2023-09-12T19:11:46.571Z"
   },
   {
    "duration": 12,
    "start_time": "2023-09-12T19:11:46.581Z"
   },
   {
    "duration": 14,
    "start_time": "2023-09-12T19:11:46.594Z"
   },
   {
    "duration": 13,
    "start_time": "2023-09-12T19:11:46.609Z"
   },
   {
    "duration": 25,
    "start_time": "2023-09-12T19:11:46.624Z"
   },
   {
    "duration": 148,
    "start_time": "2023-09-12T19:11:46.653Z"
   },
   {
    "duration": 12,
    "start_time": "2023-09-12T19:11:46.803Z"
   },
   {
    "duration": 13,
    "start_time": "2023-09-12T19:11:46.816Z"
   },
   {
    "duration": 12,
    "start_time": "2023-09-12T19:11:46.831Z"
   },
   {
    "duration": 50993,
    "start_time": "2023-09-12T19:11:46.844Z"
   },
   {
    "duration": 0,
    "start_time": "2023-09-12T19:12:37.839Z"
   },
   {
    "duration": 0,
    "start_time": "2023-09-12T19:12:37.840Z"
   },
   {
    "duration": 0,
    "start_time": "2023-09-12T19:12:37.849Z"
   },
   {
    "duration": 1423,
    "start_time": "2023-09-12T19:13:00.094Z"
   },
   {
    "duration": 944,
    "start_time": "2023-09-12T19:13:01.519Z"
   },
   {
    "duration": 24,
    "start_time": "2023-09-12T19:13:02.469Z"
   },
   {
    "duration": 29,
    "start_time": "2023-09-12T19:13:02.496Z"
   },
   {
    "duration": 18,
    "start_time": "2023-09-12T19:13:02.528Z"
   },
   {
    "duration": 21,
    "start_time": "2023-09-12T19:13:02.548Z"
   },
   {
    "duration": 28,
    "start_time": "2023-09-12T19:13:02.571Z"
   },
   {
    "duration": 664,
    "start_time": "2023-09-12T19:13:02.601Z"
   },
   {
    "duration": 19,
    "start_time": "2023-09-12T19:13:03.268Z"
   },
   {
    "duration": 305,
    "start_time": "2023-09-12T19:13:03.288Z"
   },
   {
    "duration": 67,
    "start_time": "2023-09-12T19:13:03.594Z"
   },
   {
    "duration": 825,
    "start_time": "2023-09-12T19:13:03.662Z"
   },
   {
    "duration": 72,
    "start_time": "2023-09-12T19:13:04.489Z"
   },
   {
    "duration": 324,
    "start_time": "2023-09-12T19:13:04.565Z"
   },
   {
    "duration": 217,
    "start_time": "2023-09-12T19:13:04.891Z"
   },
   {
    "duration": 18,
    "start_time": "2023-09-12T19:13:05.109Z"
   },
   {
    "duration": 267,
    "start_time": "2023-09-12T19:13:05.128Z"
   },
   {
    "duration": 187,
    "start_time": "2023-09-12T19:13:05.396Z"
   },
   {
    "duration": 14,
    "start_time": "2023-09-12T19:13:05.585Z"
   },
   {
    "duration": 1316,
    "start_time": "2023-09-12T19:13:05.600Z"
   },
   {
    "duration": 13,
    "start_time": "2023-09-12T19:13:06.918Z"
   },
   {
    "duration": 1445,
    "start_time": "2023-09-12T19:13:06.933Z"
   },
   {
    "duration": 20,
    "start_time": "2023-09-12T19:13:08.381Z"
   },
   {
    "duration": 1436,
    "start_time": "2023-09-12T19:13:08.403Z"
   },
   {
    "duration": 19,
    "start_time": "2023-09-12T19:13:09.840Z"
   },
   {
    "duration": 709,
    "start_time": "2023-09-12T19:13:09.864Z"
   },
   {
    "duration": 8,
    "start_time": "2023-09-12T19:13:10.575Z"
   },
   {
    "duration": 5,
    "start_time": "2023-09-12T19:13:10.584Z"
   },
   {
    "duration": 15,
    "start_time": "2023-09-12T19:13:10.590Z"
   },
   {
    "duration": 1724,
    "start_time": "2023-09-12T19:13:10.607Z"
   },
   {
    "duration": 4,
    "start_time": "2023-09-12T19:13:12.333Z"
   },
   {
    "duration": 5,
    "start_time": "2023-09-12T19:13:12.339Z"
   },
   {
    "duration": 8,
    "start_time": "2023-09-12T19:13:12.353Z"
   },
   {
    "duration": 17,
    "start_time": "2023-09-12T19:13:12.362Z"
   },
   {
    "duration": 3,
    "start_time": "2023-09-12T19:13:12.384Z"
   },
   {
    "duration": 135,
    "start_time": "2023-09-12T19:13:12.389Z"
   },
   {
    "duration": 13,
    "start_time": "2023-09-12T19:13:12.525Z"
   },
   {
    "duration": 7,
    "start_time": "2023-09-12T19:13:12.555Z"
   },
   {
    "duration": 13,
    "start_time": "2023-09-12T19:13:12.564Z"
   },
   {
    "duration": 1063659,
    "start_time": "2023-09-12T19:13:12.580Z"
   },
   {
    "duration": 0,
    "start_time": "2023-09-12T19:30:56.241Z"
   },
   {
    "duration": 0,
    "start_time": "2023-09-12T19:30:56.242Z"
   },
   {
    "duration": 0,
    "start_time": "2023-09-12T19:30:56.249Z"
   },
   {
    "duration": 10,
    "start_time": "2023-09-12T19:32:12.848Z"
   },
   {
    "duration": 1451,
    "start_time": "2023-09-12T19:33:40.132Z"
   },
   {
    "duration": 903,
    "start_time": "2023-09-12T19:33:41.585Z"
   },
   {
    "duration": 17,
    "start_time": "2023-09-12T19:33:42.489Z"
   },
   {
    "duration": 11,
    "start_time": "2023-09-12T19:33:42.508Z"
   },
   {
    "duration": 37,
    "start_time": "2023-09-12T19:33:42.521Z"
   },
   {
    "duration": 14,
    "start_time": "2023-09-12T19:33:42.564Z"
   },
   {
    "duration": 15,
    "start_time": "2023-09-12T19:33:42.579Z"
   },
   {
    "duration": 345,
    "start_time": "2023-09-12T19:33:42.595Z"
   },
   {
    "duration": 32,
    "start_time": "2023-09-12T19:33:42.942Z"
   },
   {
    "duration": 136,
    "start_time": "2023-09-12T19:33:42.976Z"
   },
   {
    "duration": 10,
    "start_time": "2023-09-12T19:33:43.114Z"
   },
   {
    "duration": 339,
    "start_time": "2023-09-12T19:33:43.125Z"
   },
   {
    "duration": 18,
    "start_time": "2023-09-12T19:33:43.471Z"
   },
   {
    "duration": 128,
    "start_time": "2023-09-12T19:33:43.492Z"
   },
   {
    "duration": 185,
    "start_time": "2023-09-12T19:33:43.622Z"
   },
   {
    "duration": 16,
    "start_time": "2023-09-12T19:33:43.809Z"
   },
   {
    "duration": 526,
    "start_time": "2023-09-12T19:33:43.827Z"
   },
   {
    "duration": 404,
    "start_time": "2023-09-12T19:33:44.361Z"
   },
   {
    "duration": 17,
    "start_time": "2023-09-12T19:33:44.767Z"
   },
   {
    "duration": 2130,
    "start_time": "2023-09-12T19:33:44.785Z"
   },
   {
    "duration": 14,
    "start_time": "2023-09-12T19:33:46.916Z"
   },
   {
    "duration": 1337,
    "start_time": "2023-09-12T19:33:46.932Z"
   },
   {
    "duration": 19,
    "start_time": "2023-09-12T19:33:48.273Z"
   },
   {
    "duration": 1449,
    "start_time": "2023-09-12T19:33:48.293Z"
   },
   {
    "duration": 17,
    "start_time": "2023-09-12T19:33:49.749Z"
   },
   {
    "duration": 665,
    "start_time": "2023-09-12T19:33:49.768Z"
   },
   {
    "duration": 5,
    "start_time": "2023-09-12T19:33:50.435Z"
   },
   {
    "duration": 5,
    "start_time": "2023-09-12T19:33:50.449Z"
   },
   {
    "duration": 12,
    "start_time": "2023-09-12T19:33:50.456Z"
   },
   {
    "duration": 1624,
    "start_time": "2023-09-12T19:33:50.478Z"
   },
   {
    "duration": 5,
    "start_time": "2023-09-12T19:33:52.104Z"
   },
   {
    "duration": 17,
    "start_time": "2023-09-12T19:33:52.110Z"
   },
   {
    "duration": 17,
    "start_time": "2023-09-12T19:33:52.128Z"
   },
   {
    "duration": 31,
    "start_time": "2023-09-12T19:33:52.146Z"
   },
   {
    "duration": 28,
    "start_time": "2023-09-12T19:33:52.179Z"
   },
   {
    "duration": 187,
    "start_time": "2023-09-12T19:33:52.208Z"
   },
   {
    "duration": 11,
    "start_time": "2023-09-12T19:33:52.397Z"
   },
   {
    "duration": 9,
    "start_time": "2023-09-12T19:33:52.410Z"
   },
   {
    "duration": 25,
    "start_time": "2023-09-12T19:33:52.420Z"
   },
   {
    "duration": 1853,
    "start_time": "2023-09-12T19:41:49.820Z"
   },
   {
    "duration": 1310,
    "start_time": "2023-09-12T19:41:51.676Z"
   },
   {
    "duration": 17,
    "start_time": "2023-09-12T19:41:52.988Z"
   },
   {
    "duration": 10,
    "start_time": "2023-09-12T19:41:53.007Z"
   },
   {
    "duration": 36,
    "start_time": "2023-09-12T19:41:53.019Z"
   },
   {
    "duration": 14,
    "start_time": "2023-09-12T19:41:53.056Z"
   },
   {
    "duration": 7,
    "start_time": "2023-09-12T19:41:53.072Z"
   },
   {
    "duration": 334,
    "start_time": "2023-09-12T19:41:53.081Z"
   },
   {
    "duration": 15,
    "start_time": "2023-09-12T19:41:53.417Z"
   },
   {
    "duration": 153,
    "start_time": "2023-09-12T19:41:53.434Z"
   },
   {
    "duration": 9,
    "start_time": "2023-09-12T19:41:53.589Z"
   },
   {
    "duration": 385,
    "start_time": "2023-09-12T19:41:53.600Z"
   },
   {
    "duration": 15,
    "start_time": "2023-09-12T19:41:53.987Z"
   },
   {
    "duration": 137,
    "start_time": "2023-09-12T19:41:54.004Z"
   },
   {
    "duration": 179,
    "start_time": "2023-09-12T19:41:54.142Z"
   },
   {
    "duration": 17,
    "start_time": "2023-09-12T19:41:54.323Z"
   },
   {
    "duration": 256,
    "start_time": "2023-09-12T19:41:54.341Z"
   },
   {
    "duration": 184,
    "start_time": "2023-09-12T19:41:54.598Z"
   },
   {
    "duration": 14,
    "start_time": "2023-09-12T19:41:54.783Z"
   },
   {
    "duration": 1317,
    "start_time": "2023-09-12T19:41:54.798Z"
   },
   {
    "duration": 18,
    "start_time": "2023-09-12T19:41:56.117Z"
   },
   {
    "duration": 1264,
    "start_time": "2023-09-12T19:41:56.152Z"
   },
   {
    "duration": 16,
    "start_time": "2023-09-12T19:41:57.418Z"
   },
   {
    "duration": 1375,
    "start_time": "2023-09-12T19:41:57.436Z"
   },
   {
    "duration": 13,
    "start_time": "2023-09-12T19:41:58.813Z"
   },
   {
    "duration": 678,
    "start_time": "2023-09-12T19:41:58.828Z"
   },
   {
    "duration": 4,
    "start_time": "2023-09-12T19:41:59.507Z"
   },
   {
    "duration": 10,
    "start_time": "2023-09-12T19:41:59.513Z"
   },
   {
    "duration": 34,
    "start_time": "2023-09-12T19:41:59.525Z"
   },
   {
    "duration": 1621,
    "start_time": "2023-09-12T19:41:59.563Z"
   },
   {
    "duration": 5,
    "start_time": "2023-09-12T19:42:01.186Z"
   },
   {
    "duration": 22,
    "start_time": "2023-09-12T19:42:01.192Z"
   },
   {
    "duration": 30,
    "start_time": "2023-09-12T19:42:01.216Z"
   },
   {
    "duration": 26,
    "start_time": "2023-09-12T19:42:01.248Z"
   },
   {
    "duration": 38,
    "start_time": "2023-09-12T19:42:01.275Z"
   },
   {
    "duration": 191,
    "start_time": "2023-09-12T19:42:01.314Z"
   },
   {
    "duration": 10,
    "start_time": "2023-09-12T19:42:01.507Z"
   },
   {
    "duration": 44,
    "start_time": "2023-09-12T19:42:01.519Z"
   },
   {
    "duration": 18,
    "start_time": "2023-09-12T19:42:01.565Z"
   },
   {
    "duration": 779289,
    "start_time": "2023-09-12T19:42:01.586Z"
   },
   {
    "duration": 119,
    "start_time": "2023-09-12T19:55:00.877Z"
   },
   {
    "duration": 0,
    "start_time": "2023-09-12T19:55:00.998Z"
   },
   {
    "duration": 0,
    "start_time": "2023-09-12T19:55:00.999Z"
   },
   {
    "duration": 9,
    "start_time": "2023-09-12T19:55:40.578Z"
   },
   {
    "duration": 8,
    "start_time": "2023-09-12T19:55:43.476Z"
   },
   {
    "duration": 13,
    "start_time": "2023-09-12T19:58:58.771Z"
   },
   {
    "duration": 14,
    "start_time": "2023-09-12T20:01:36.329Z"
   },
   {
    "duration": 7,
    "start_time": "2023-09-12T20:02:23.802Z"
   },
   {
    "duration": 8,
    "start_time": "2023-09-12T20:11:34.709Z"
   },
   {
    "duration": 2919,
    "start_time": "2023-09-13T19:42:11.057Z"
   },
   {
    "duration": 2212,
    "start_time": "2023-09-13T19:42:13.978Z"
   },
   {
    "duration": 18,
    "start_time": "2023-09-13T19:42:16.192Z"
   },
   {
    "duration": 103,
    "start_time": "2023-09-13T19:42:16.212Z"
   },
   {
    "duration": 184,
    "start_time": "2023-09-13T19:42:16.317Z"
   },
   {
    "duration": 73,
    "start_time": "2023-09-13T19:42:16.502Z"
   },
   {
    "duration": 140,
    "start_time": "2023-09-13T19:42:16.577Z"
   },
   {
    "duration": 493,
    "start_time": "2023-09-13T19:42:16.718Z"
   },
   {
    "duration": 23,
    "start_time": "2023-09-13T19:42:17.212Z"
   },
   {
    "duration": 246,
    "start_time": "2023-09-13T19:42:17.237Z"
   },
   {
    "duration": 10,
    "start_time": "2023-09-13T19:42:17.485Z"
   },
   {
    "duration": 376,
    "start_time": "2023-09-13T19:42:17.496Z"
   },
   {
    "duration": 16,
    "start_time": "2023-09-13T19:42:17.874Z"
   },
   {
    "duration": 269,
    "start_time": "2023-09-13T19:42:17.891Z"
   },
   {
    "duration": 186,
    "start_time": "2023-09-13T19:42:18.162Z"
   },
   {
    "duration": 17,
    "start_time": "2023-09-13T19:42:18.350Z"
   },
   {
    "duration": 497,
    "start_time": "2023-09-13T19:42:18.369Z"
   },
   {
    "duration": 191,
    "start_time": "2023-09-13T19:42:18.868Z"
   },
   {
    "duration": 15,
    "start_time": "2023-09-13T19:42:19.061Z"
   },
   {
    "duration": 1311,
    "start_time": "2023-09-13T19:42:19.077Z"
   },
   {
    "duration": 25,
    "start_time": "2023-09-13T19:42:20.390Z"
   },
   {
    "duration": 1380,
    "start_time": "2023-09-13T19:42:20.417Z"
   },
   {
    "duration": 27,
    "start_time": "2023-09-13T19:42:21.798Z"
   },
   {
    "duration": 1660,
    "start_time": "2023-09-13T19:42:21.826Z"
   },
   {
    "duration": 16,
    "start_time": "2023-09-13T19:42:23.487Z"
   },
   {
    "duration": 690,
    "start_time": "2023-09-13T19:42:23.504Z"
   },
   {
    "duration": 5,
    "start_time": "2023-09-13T19:42:24.196Z"
   },
   {
    "duration": 21,
    "start_time": "2023-09-13T19:42:24.203Z"
   },
   {
    "duration": 10,
    "start_time": "2023-09-13T19:42:24.225Z"
   },
   {
    "duration": 1642,
    "start_time": "2023-09-13T19:42:24.236Z"
   },
   {
    "duration": 5,
    "start_time": "2023-09-13T19:42:25.880Z"
   },
   {
    "duration": 14,
    "start_time": "2023-09-13T19:42:25.887Z"
   },
   {
    "duration": 12,
    "start_time": "2023-09-13T19:42:25.903Z"
   },
   {
    "duration": 9,
    "start_time": "2023-09-13T19:42:25.924Z"
   },
   {
    "duration": 34,
    "start_time": "2023-09-13T19:42:25.935Z"
   },
   {
    "duration": 118,
    "start_time": "2023-09-13T19:42:35.712Z"
   },
   {
    "duration": 29,
    "start_time": "2023-09-13T19:42:40.889Z"
   },
   {
    "duration": 1932,
    "start_time": "2023-09-14T03:31:09.870Z"
   },
   {
    "duration": 2254,
    "start_time": "2023-09-14T03:31:11.804Z"
   },
   {
    "duration": 19,
    "start_time": "2023-09-14T03:31:14.060Z"
   },
   {
    "duration": 14,
    "start_time": "2023-09-14T03:31:14.081Z"
   },
   {
    "duration": 21,
    "start_time": "2023-09-14T03:31:14.098Z"
   },
   {
    "duration": 8,
    "start_time": "2023-09-14T03:31:14.120Z"
   },
   {
    "duration": 23,
    "start_time": "2023-09-14T03:31:14.130Z"
   },
   {
    "duration": 382,
    "start_time": "2023-09-14T03:31:14.155Z"
   },
   {
    "duration": 19,
    "start_time": "2023-09-14T03:31:14.539Z"
   },
   {
    "duration": 153,
    "start_time": "2023-09-14T03:31:14.560Z"
   },
   {
    "duration": 11,
    "start_time": "2023-09-14T03:31:14.714Z"
   },
   {
    "duration": 363,
    "start_time": "2023-09-14T03:31:14.727Z"
   },
   {
    "duration": 17,
    "start_time": "2023-09-14T03:31:15.091Z"
   },
   {
    "duration": 264,
    "start_time": "2023-09-14T03:31:15.111Z"
   },
   {
    "duration": 270,
    "start_time": "2023-09-14T03:31:15.377Z"
   },
   {
    "duration": 18,
    "start_time": "2023-09-14T03:31:15.648Z"
   },
   {
    "duration": 218,
    "start_time": "2023-09-14T03:31:15.668Z"
   },
   {
    "duration": 208,
    "start_time": "2023-09-14T03:31:15.888Z"
   },
   {
    "duration": 18,
    "start_time": "2023-09-14T03:31:16.098Z"
   },
   {
    "duration": 2487,
    "start_time": "2023-09-14T03:31:16.118Z"
   },
   {
    "duration": 17,
    "start_time": "2023-09-14T03:31:18.647Z"
   },
   {
    "duration": 1914,
    "start_time": "2023-09-14T03:31:18.666Z"
   },
   {
    "duration": 14,
    "start_time": "2023-09-14T03:31:20.582Z"
   },
   {
    "duration": 1749,
    "start_time": "2023-09-14T03:31:20.598Z"
   },
   {
    "duration": 15,
    "start_time": "2023-09-14T03:31:22.349Z"
   },
   {
    "duration": 796,
    "start_time": "2023-09-14T03:31:22.366Z"
   },
   {
    "duration": 4,
    "start_time": "2023-09-14T03:31:23.164Z"
   },
   {
    "duration": 27,
    "start_time": "2023-09-14T03:31:23.170Z"
   },
   {
    "duration": 18,
    "start_time": "2023-09-14T03:31:23.199Z"
   },
   {
    "duration": 1822,
    "start_time": "2023-09-14T03:31:23.219Z"
   },
   {
    "duration": 7,
    "start_time": "2023-09-14T03:31:25.042Z"
   },
   {
    "duration": 6,
    "start_time": "2023-09-14T03:31:25.051Z"
   },
   {
    "duration": 6,
    "start_time": "2023-09-14T03:31:25.059Z"
   },
   {
    "duration": 9,
    "start_time": "2023-09-14T03:31:25.067Z"
   },
   {
    "duration": 6,
    "start_time": "2023-09-14T03:31:25.078Z"
   },
   {
    "duration": 33,
    "start_time": "2023-09-14T03:31:25.086Z"
   },
   {
    "duration": 32,
    "start_time": "2023-09-14T03:31:25.121Z"
   },
   {
    "duration": 10,
    "start_time": "2023-09-14T03:31:25.155Z"
   },
   {
    "duration": 10,
    "start_time": "2023-09-14T03:31:25.167Z"
   },
   {
    "duration": 1461,
    "start_time": "2023-09-14T03:37:52.186Z"
   },
   {
    "duration": 904,
    "start_time": "2023-09-14T03:37:53.649Z"
   },
   {
    "duration": 21,
    "start_time": "2023-09-14T03:37:54.554Z"
   },
   {
    "duration": 21,
    "start_time": "2023-09-14T03:37:54.578Z"
   },
   {
    "duration": 19,
    "start_time": "2023-09-14T03:37:54.601Z"
   },
   {
    "duration": 29,
    "start_time": "2023-09-14T03:37:54.622Z"
   },
   {
    "duration": 13,
    "start_time": "2023-09-14T03:37:54.653Z"
   },
   {
    "duration": 388,
    "start_time": "2023-09-14T03:37:54.668Z"
   },
   {
    "duration": 18,
    "start_time": "2023-09-14T03:37:55.057Z"
   },
   {
    "duration": 159,
    "start_time": "2023-09-14T03:37:55.078Z"
   },
   {
    "duration": 20,
    "start_time": "2023-09-14T03:37:55.239Z"
   },
   {
    "duration": 723,
    "start_time": "2023-09-14T03:37:55.262Z"
   },
   {
    "duration": 74,
    "start_time": "2023-09-14T03:37:55.987Z"
   },
   {
    "duration": 295,
    "start_time": "2023-09-14T03:37:56.063Z"
   },
   {
    "duration": 401,
    "start_time": "2023-09-14T03:37:56.360Z"
   },
   {
    "duration": 19,
    "start_time": "2023-09-14T03:37:56.763Z"
   },
   {
    "duration": 569,
    "start_time": "2023-09-14T03:37:56.784Z"
   },
   {
    "duration": 231,
    "start_time": "2023-09-14T03:37:57.355Z"
   },
   {
    "duration": 15,
    "start_time": "2023-09-14T03:37:57.588Z"
   },
   {
    "duration": 1750,
    "start_time": "2023-09-14T03:37:57.604Z"
   },
   {
    "duration": 18,
    "start_time": "2023-09-14T03:37:59.355Z"
   },
   {
    "duration": 1886,
    "start_time": "2023-09-14T03:37:59.375Z"
   },
   {
    "duration": 18,
    "start_time": "2023-09-14T03:38:01.263Z"
   },
   {
    "duration": 1750,
    "start_time": "2023-09-14T03:38:01.283Z"
   },
   {
    "duration": 28,
    "start_time": "2023-09-14T03:38:03.035Z"
   },
   {
    "duration": 682,
    "start_time": "2023-09-14T03:38:03.065Z"
   },
   {
    "duration": 5,
    "start_time": "2023-09-14T03:38:03.749Z"
   },
   {
    "duration": 4,
    "start_time": "2023-09-14T03:38:03.759Z"
   },
   {
    "duration": 8,
    "start_time": "2023-09-14T03:38:03.765Z"
   },
   {
    "duration": 1903,
    "start_time": "2023-09-14T03:38:03.774Z"
   },
   {
    "duration": 5,
    "start_time": "2023-09-14T03:38:05.679Z"
   },
   {
    "duration": 7,
    "start_time": "2023-09-14T03:38:05.685Z"
   },
   {
    "duration": 7,
    "start_time": "2023-09-14T03:38:05.694Z"
   },
   {
    "duration": 5,
    "start_time": "2023-09-14T03:38:05.702Z"
   },
   {
    "duration": 8,
    "start_time": "2023-09-14T03:38:05.709Z"
   },
   {
    "duration": 50,
    "start_time": "2023-09-14T03:38:05.718Z"
   },
   {
    "duration": 12,
    "start_time": "2023-09-14T03:38:05.770Z"
   },
   {
    "duration": 5,
    "start_time": "2023-09-14T03:38:05.784Z"
   },
   {
    "duration": 28,
    "start_time": "2023-09-14T03:38:05.790Z"
   },
   {
    "duration": 1492,
    "start_time": "2023-09-14T03:47:49.848Z"
   },
   {
    "duration": 893,
    "start_time": "2023-09-14T03:47:51.342Z"
   },
   {
    "duration": 22,
    "start_time": "2023-09-14T03:47:52.237Z"
   },
   {
    "duration": 19,
    "start_time": "2023-09-14T03:47:52.261Z"
   },
   {
    "duration": 17,
    "start_time": "2023-09-14T03:47:52.282Z"
   },
   {
    "duration": 8,
    "start_time": "2023-09-14T03:47:52.301Z"
   },
   {
    "duration": 10,
    "start_time": "2023-09-14T03:47:52.310Z"
   },
   {
    "duration": 374,
    "start_time": "2023-09-14T03:47:52.346Z"
   },
   {
    "duration": 26,
    "start_time": "2023-09-14T03:47:52.721Z"
   },
   {
    "duration": 151,
    "start_time": "2023-09-14T03:47:52.749Z"
   },
   {
    "duration": 11,
    "start_time": "2023-09-14T03:47:52.901Z"
   },
   {
    "duration": 391,
    "start_time": "2023-09-14T03:47:52.914Z"
   },
   {
    "duration": 17,
    "start_time": "2023-09-14T03:47:53.306Z"
   },
   {
    "duration": 154,
    "start_time": "2023-09-14T03:47:53.326Z"
   },
   {
    "duration": 203,
    "start_time": "2023-09-14T03:47:53.481Z"
   },
   {
    "duration": 18,
    "start_time": "2023-09-14T03:47:53.686Z"
   },
   {
    "duration": 278,
    "start_time": "2023-09-14T03:47:53.706Z"
   },
   {
    "duration": 204,
    "start_time": "2023-09-14T03:47:53.985Z"
   },
   {
    "duration": 17,
    "start_time": "2023-09-14T03:47:54.191Z"
   },
   {
    "duration": 1752,
    "start_time": "2023-09-14T03:47:54.210Z"
   },
   {
    "duration": 20,
    "start_time": "2023-09-14T03:47:55.963Z"
   },
   {
    "duration": 1864,
    "start_time": "2023-09-14T03:47:55.984Z"
   },
   {
    "duration": 19,
    "start_time": "2023-09-14T03:47:57.850Z"
   },
   {
    "duration": 1667,
    "start_time": "2023-09-14T03:47:57.870Z"
   },
   {
    "duration": 24,
    "start_time": "2023-09-14T03:47:59.539Z"
   },
   {
    "duration": 701,
    "start_time": "2023-09-14T03:47:59.564Z"
   },
   {
    "duration": 5,
    "start_time": "2023-09-14T03:48:00.267Z"
   },
   {
    "duration": 50,
    "start_time": "2023-09-14T03:48:00.273Z"
   },
   {
    "duration": 34,
    "start_time": "2023-09-14T03:48:00.325Z"
   },
   {
    "duration": 1892,
    "start_time": "2023-09-14T03:48:00.361Z"
   },
   {
    "duration": 5,
    "start_time": "2023-09-14T03:48:02.255Z"
   },
   {
    "duration": 25,
    "start_time": "2023-09-14T03:48:02.262Z"
   },
   {
    "duration": 19,
    "start_time": "2023-09-14T03:48:02.289Z"
   },
   {
    "duration": 16,
    "start_time": "2023-09-14T03:48:02.310Z"
   },
   {
    "duration": 8,
    "start_time": "2023-09-14T03:48:02.328Z"
   },
   {
    "duration": 158,
    "start_time": "2023-09-14T03:48:02.338Z"
   },
   {
    "duration": 0,
    "start_time": "2023-09-14T03:48:02.498Z"
   },
   {
    "duration": 0,
    "start_time": "2023-09-14T03:48:02.499Z"
   },
   {
    "duration": 0,
    "start_time": "2023-09-14T03:48:02.500Z"
   },
   {
    "duration": 0,
    "start_time": "2023-09-14T03:48:02.501Z"
   },
   {
    "duration": 0,
    "start_time": "2023-09-14T03:48:02.503Z"
   },
   {
    "duration": 0,
    "start_time": "2023-09-14T03:48:02.504Z"
   },
   {
    "duration": 20,
    "start_time": "2023-09-14T03:48:30.379Z"
   },
   {
    "duration": 43,
    "start_time": "2023-09-14T03:48:50.038Z"
   },
   {
    "duration": 51,
    "start_time": "2023-09-14T03:49:00.794Z"
   },
   {
    "duration": 41,
    "start_time": "2023-09-14T03:49:59.425Z"
   },
   {
    "duration": 33,
    "start_time": "2023-09-14T03:51:06.505Z"
   },
   {
    "duration": 12,
    "start_time": "2023-09-14T03:51:12.932Z"
   },
   {
    "duration": 4,
    "start_time": "2023-09-14T03:51:18.409Z"
   },
   {
    "duration": 1562,
    "start_time": "2023-09-14T03:52:45.720Z"
   },
   {
    "duration": 1292,
    "start_time": "2023-09-14T03:52:47.284Z"
   },
   {
    "duration": 71,
    "start_time": "2023-09-14T03:52:48.577Z"
   },
   {
    "duration": 15,
    "start_time": "2023-09-14T03:52:48.650Z"
   },
   {
    "duration": 23,
    "start_time": "2023-09-14T03:52:48.667Z"
   },
   {
    "duration": 11,
    "start_time": "2023-09-14T03:52:48.746Z"
   },
   {
    "duration": 9,
    "start_time": "2023-09-14T03:52:48.759Z"
   },
   {
    "duration": 806,
    "start_time": "2023-09-14T03:52:48.770Z"
   },
   {
    "duration": 76,
    "start_time": "2023-09-14T03:52:49.577Z"
   },
   {
    "duration": 266,
    "start_time": "2023-09-14T03:52:49.655Z"
   },
   {
    "duration": 32,
    "start_time": "2023-09-14T03:52:49.922Z"
   },
   {
    "duration": 372,
    "start_time": "2023-09-14T03:52:49.956Z"
   },
   {
    "duration": 23,
    "start_time": "2023-09-14T03:52:50.330Z"
   },
   {
    "duration": 163,
    "start_time": "2023-09-14T03:52:50.357Z"
   },
   {
    "duration": 199,
    "start_time": "2023-09-14T03:52:50.522Z"
   },
   {
    "duration": 29,
    "start_time": "2023-09-14T03:52:50.723Z"
   },
   {
    "duration": 266,
    "start_time": "2023-09-14T03:52:50.754Z"
   },
   {
    "duration": 197,
    "start_time": "2023-09-14T03:52:51.022Z"
   },
   {
    "duration": 26,
    "start_time": "2023-09-14T03:52:51.221Z"
   },
   {
    "duration": 1745,
    "start_time": "2023-09-14T03:52:51.249Z"
   },
   {
    "duration": 19,
    "start_time": "2023-09-14T03:52:52.995Z"
   },
   {
    "duration": 1824,
    "start_time": "2023-09-14T03:52:53.015Z"
   },
   {
    "duration": 18,
    "start_time": "2023-09-14T03:52:54.846Z"
   },
   {
    "duration": 1784,
    "start_time": "2023-09-14T03:52:54.866Z"
   },
   {
    "duration": 18,
    "start_time": "2023-09-14T03:52:56.652Z"
   },
   {
    "duration": 794,
    "start_time": "2023-09-14T03:52:56.672Z"
   },
   {
    "duration": 5,
    "start_time": "2023-09-14T03:52:57.467Z"
   },
   {
    "duration": 24,
    "start_time": "2023-09-14T03:52:57.473Z"
   },
   {
    "duration": 13,
    "start_time": "2023-09-14T03:52:57.498Z"
   },
   {
    "duration": 1853,
    "start_time": "2023-09-14T03:52:57.512Z"
   },
   {
    "duration": 6,
    "start_time": "2023-09-14T03:52:59.367Z"
   },
   {
    "duration": 6,
    "start_time": "2023-09-14T03:52:59.375Z"
   },
   {
    "duration": 13,
    "start_time": "2023-09-14T03:52:59.383Z"
   },
   {
    "duration": 13,
    "start_time": "2023-09-14T03:52:59.397Z"
   },
   {
    "duration": 10,
    "start_time": "2023-09-14T03:52:59.412Z"
   },
   {
    "duration": 55,
    "start_time": "2023-09-14T03:52:59.423Z"
   },
   {
    "duration": 13,
    "start_time": "2023-09-14T03:52:59.480Z"
   },
   {
    "duration": 4,
    "start_time": "2023-09-14T03:52:59.495Z"
   },
   {
    "duration": 6,
    "start_time": "2023-09-14T03:52:59.501Z"
   },
   {
    "duration": 867647,
    "start_time": "2023-09-14T03:52:59.508Z"
   },
   {
    "duration": 87,
    "start_time": "2023-09-14T04:07:27.159Z"
   },
   {
    "duration": 99,
    "start_time": "2023-09-14T04:07:27.249Z"
   },
   {
    "duration": 1532,
    "start_time": "2023-09-14T05:22:59.141Z"
   },
   {
    "duration": 907,
    "start_time": "2023-09-14T05:23:00.676Z"
   },
   {
    "duration": 20,
    "start_time": "2023-09-14T05:23:01.585Z"
   },
   {
    "duration": 46,
    "start_time": "2023-09-14T05:23:01.607Z"
   },
   {
    "duration": 85,
    "start_time": "2023-09-14T05:23:01.656Z"
   },
   {
    "duration": 33,
    "start_time": "2023-09-14T05:23:01.742Z"
   },
   {
    "duration": 34,
    "start_time": "2023-09-14T05:23:01.777Z"
   },
   {
    "duration": 404,
    "start_time": "2023-09-14T05:23:01.813Z"
   },
   {
    "duration": 28,
    "start_time": "2023-09-14T05:23:02.219Z"
   },
   {
    "duration": 183,
    "start_time": "2023-09-14T05:23:02.250Z"
   },
   {
    "duration": 22,
    "start_time": "2023-09-14T05:23:02.434Z"
   },
   {
    "duration": 379,
    "start_time": "2023-09-14T05:23:02.458Z"
   },
   {
    "duration": 19,
    "start_time": "2023-09-14T05:23:02.840Z"
   },
   {
    "duration": 158,
    "start_time": "2023-09-14T05:23:02.862Z"
   },
   {
    "duration": 210,
    "start_time": "2023-09-14T05:23:03.022Z"
   },
   {
    "duration": 25,
    "start_time": "2023-09-14T05:23:03.234Z"
   },
   {
    "duration": 271,
    "start_time": "2023-09-14T05:23:03.261Z"
   },
   {
    "duration": 204,
    "start_time": "2023-09-14T05:23:03.534Z"
   },
   {
    "duration": 21,
    "start_time": "2023-09-14T05:23:03.740Z"
   },
   {
    "duration": 1814,
    "start_time": "2023-09-14T05:23:03.763Z"
   },
   {
    "duration": 19,
    "start_time": "2023-09-14T05:23:05.579Z"
   },
   {
    "duration": 1864,
    "start_time": "2023-09-14T05:23:05.599Z"
   },
   {
    "duration": 18,
    "start_time": "2023-09-14T05:23:07.464Z"
   },
   {
    "duration": 1785,
    "start_time": "2023-09-14T05:23:07.484Z"
   },
   {
    "duration": 21,
    "start_time": "2023-09-14T05:23:09.271Z"
   },
   {
    "duration": 791,
    "start_time": "2023-09-14T05:23:09.294Z"
   },
   {
    "duration": 5,
    "start_time": "2023-09-14T05:23:10.088Z"
   },
   {
    "duration": 22,
    "start_time": "2023-09-14T05:23:10.095Z"
   },
   {
    "duration": 26,
    "start_time": "2023-09-14T05:23:10.119Z"
   },
   {
    "duration": 1804,
    "start_time": "2023-09-14T05:23:10.147Z"
   },
   {
    "duration": 5,
    "start_time": "2023-09-14T05:23:11.953Z"
   },
   {
    "duration": 35,
    "start_time": "2023-09-14T05:23:11.961Z"
   },
   {
    "duration": 13,
    "start_time": "2023-09-14T05:23:11.997Z"
   },
   {
    "duration": 11,
    "start_time": "2023-09-14T05:23:12.011Z"
   },
   {
    "duration": 16,
    "start_time": "2023-09-14T05:23:12.024Z"
   },
   {
    "duration": 57,
    "start_time": "2023-09-14T05:23:12.041Z"
   },
   {
    "duration": 14,
    "start_time": "2023-09-14T05:23:12.100Z"
   },
   {
    "duration": 5,
    "start_time": "2023-09-14T05:23:12.115Z"
   },
   {
    "duration": 5,
    "start_time": "2023-09-14T05:23:12.122Z"
   },
   {
    "duration": 869580,
    "start_time": "2023-09-14T05:23:12.128Z"
   },
   {
    "duration": 36,
    "start_time": "2023-09-14T05:37:41.712Z"
   },
   {
    "duration": 109,
    "start_time": "2023-09-14T05:37:41.751Z"
   }
  ],
  "kernelspec": {
   "display_name": "Python 3 (ipykernel)",
   "language": "python",
   "name": "python3"
  },
  "language_info": {
   "codemirror_mode": {
    "name": "ipython",
    "version": 3
   },
   "file_extension": ".py",
   "mimetype": "text/x-python",
   "name": "python",
   "nbconvert_exporter": "python",
   "pygments_lexer": "ipython3",
   "version": "3.11.3"
  },
  "toc": {
   "base_numbering": 1,
   "nav_menu": {},
   "number_sections": true,
   "sideBar": true,
   "skip_h1_title": true,
   "title_cell": "Содержание",
   "title_sidebar": "Contents",
   "toc_cell": true,
   "toc_position": {
    "height": "calc(100% - 180px)",
    "left": "10px",
    "top": "150px",
    "width": "214.162px"
   },
   "toc_section_display": true,
   "toc_window_display": true
  }
 },
 "nbformat": 4,
 "nbformat_minor": 2
}
